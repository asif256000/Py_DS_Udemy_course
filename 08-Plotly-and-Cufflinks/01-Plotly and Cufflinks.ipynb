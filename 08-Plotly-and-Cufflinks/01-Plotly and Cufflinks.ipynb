{
 "cells": [
  {
   "cell_type": "markdown",
   "metadata": {},
   "source": [
    "___\n",
    "\n",
    "<a href='http://www.pieriandata.com'> <img src='../Pierian_Data_Logo.png' /></a>\n",
    "___\n",
    "# Plotly and Cufflinks"
   ]
  },
  {
   "cell_type": "markdown",
   "metadata": {},
   "source": [
    "Plotly is a library that allows you to create interactive plots that you can use in dashboards or websites (you can save them as html files or static images).\n",
    "\n",
    "## Installation\n",
    "\n",
    "In order for this all to work, you'll need to install plotly and cufflinks to call plots directly off of a pandas dataframe. These libraries are not currently available through **conda** but are available through **pip**. Install the libraries at your command line/terminal using:\n",
    "\n",
    "    pip install plotly\n",
    "    pip install cufflinks\n",
    "\n",
    "** NOTE: Make sure you only have one installation of Python on your computer when you do this, otherwise the installation may not work. **\n",
    "\n",
    "## Imports and Set-up"
   ]
  },
  {
   "cell_type": "code",
   "execution_count": 1,
   "metadata": {},
   "outputs": [],
   "source": [
    "import pandas as pd\n",
    "import numpy as np\n",
    "%matplotlib inline"
   ]
  },
  {
   "cell_type": "code",
   "execution_count": 2,
   "metadata": {},
   "outputs": [
    {
     "name": "stdout",
     "output_type": "stream",
     "text": [
      "4.9.0\n"
     ]
    }
   ],
   "source": [
    "from plotly import __version__\n",
    "from plotly.offline import download_plotlyjs, init_notebook_mode, plot, iplot\n",
    "\n",
    "print(__version__) # requires version >= 1.9.0"
   ]
  },
  {
   "cell_type": "code",
   "execution_count": 3,
   "metadata": {},
   "outputs": [],
   "source": [
    "import cufflinks as cf"
   ]
  },
  {
   "cell_type": "code",
   "execution_count": 4,
   "metadata": {},
   "outputs": [
    {
     "data": {
      "text/html": [
       "        <script type=\"text/javascript\">\n",
       "        window.PlotlyConfig = {MathJaxConfig: 'local'};\n",
       "        if (window.MathJax) {MathJax.Hub.Config({SVG: {font: \"STIX-Web\"}});}\n",
       "        if (typeof require !== 'undefined') {\n",
       "        require.undef(\"plotly\");\n",
       "        requirejs.config({\n",
       "            paths: {\n",
       "                'plotly': ['https://cdn.plot.ly/plotly-latest.min']\n",
       "            }\n",
       "        });\n",
       "        require(['plotly'], function(Plotly) {\n",
       "            window._Plotly = Plotly;\n",
       "        });\n",
       "        }\n",
       "        </script>\n",
       "        "
      ]
     },
     "metadata": {},
     "output_type": "display_data"
    }
   ],
   "source": [
    "# For Notebooks\n",
    "init_notebook_mode(connected=True)"
   ]
  },
  {
   "cell_type": "code",
   "execution_count": 5,
   "metadata": {},
   "outputs": [
    {
     "data": {
      "text/html": [
       "        <script type=\"text/javascript\">\n",
       "        window.PlotlyConfig = {MathJaxConfig: 'local'};\n",
       "        if (window.MathJax) {MathJax.Hub.Config({SVG: {font: \"STIX-Web\"}});}\n",
       "        if (typeof require !== 'undefined') {\n",
       "        require.undef(\"plotly\");\n",
       "        requirejs.config({\n",
       "            paths: {\n",
       "                'plotly': ['https://cdn.plot.ly/plotly-latest.min']\n",
       "            }\n",
       "        });\n",
       "        require(['plotly'], function(Plotly) {\n",
       "            window._Plotly = Plotly;\n",
       "        });\n",
       "        }\n",
       "        </script>\n",
       "        "
      ]
     },
     "metadata": {},
     "output_type": "display_data"
    }
   ],
   "source": [
    "# For offline use\n",
    "cf.go_offline()"
   ]
  },
  {
   "cell_type": "markdown",
   "metadata": {},
   "source": [
    "### Fake Data"
   ]
  },
  {
   "cell_type": "code",
   "execution_count": 6,
   "metadata": {},
   "outputs": [],
   "source": [
    "df = pd.DataFrame(np.random.randn(100,4),columns='A B C D'.split())"
   ]
  },
  {
   "cell_type": "code",
   "execution_count": 7,
   "metadata": {},
   "outputs": [
    {
     "data": {
      "text/html": [
       "<div>\n",
       "<style scoped>\n",
       "    .dataframe tbody tr th:only-of-type {\n",
       "        vertical-align: middle;\n",
       "    }\n",
       "\n",
       "    .dataframe tbody tr th {\n",
       "        vertical-align: top;\n",
       "    }\n",
       "\n",
       "    .dataframe thead th {\n",
       "        text-align: right;\n",
       "    }\n",
       "</style>\n",
       "<table border=\"1\" class=\"dataframe\">\n",
       "  <thead>\n",
       "    <tr style=\"text-align: right;\">\n",
       "      <th></th>\n",
       "      <th>A</th>\n",
       "      <th>B</th>\n",
       "      <th>C</th>\n",
       "      <th>D</th>\n",
       "    </tr>\n",
       "  </thead>\n",
       "  <tbody>\n",
       "    <tr>\n",
       "      <th>0</th>\n",
       "      <td>1.975852</td>\n",
       "      <td>0.566538</td>\n",
       "      <td>0.923948</td>\n",
       "      <td>0.139839</td>\n",
       "    </tr>\n",
       "    <tr>\n",
       "      <th>1</th>\n",
       "      <td>-0.514322</td>\n",
       "      <td>-0.556506</td>\n",
       "      <td>0.375114</td>\n",
       "      <td>0.468221</td>\n",
       "    </tr>\n",
       "    <tr>\n",
       "      <th>2</th>\n",
       "      <td>-0.158203</td>\n",
       "      <td>-0.871868</td>\n",
       "      <td>0.321392</td>\n",
       "      <td>-0.365591</td>\n",
       "    </tr>\n",
       "    <tr>\n",
       "      <th>3</th>\n",
       "      <td>-0.511439</td>\n",
       "      <td>-1.398908</td>\n",
       "      <td>-0.200273</td>\n",
       "      <td>0.002843</td>\n",
       "    </tr>\n",
       "    <tr>\n",
       "      <th>4</th>\n",
       "      <td>0.515812</td>\n",
       "      <td>1.421950</td>\n",
       "      <td>-0.937952</td>\n",
       "      <td>-1.286668</td>\n",
       "    </tr>\n",
       "  </tbody>\n",
       "</table>\n",
       "</div>"
      ],
      "text/plain": [
       "          A         B         C         D\n",
       "0  1.975852  0.566538  0.923948  0.139839\n",
       "1 -0.514322 -0.556506  0.375114  0.468221\n",
       "2 -0.158203 -0.871868  0.321392 -0.365591\n",
       "3 -0.511439 -1.398908 -0.200273  0.002843\n",
       "4  0.515812  1.421950 -0.937952 -1.286668"
      ]
     },
     "execution_count": 7,
     "metadata": {},
     "output_type": "execute_result"
    }
   ],
   "source": [
    "df.head()"
   ]
  },
  {
   "cell_type": "code",
   "execution_count": 8,
   "metadata": {},
   "outputs": [],
   "source": [
    "df2 = pd.DataFrame({'Category':['A','B','C'],'Values':[32,43,50]})"
   ]
  },
  {
   "cell_type": "code",
   "execution_count": 9,
   "metadata": {},
   "outputs": [
    {
     "data": {
      "text/html": [
       "<div>\n",
       "<style scoped>\n",
       "    .dataframe tbody tr th:only-of-type {\n",
       "        vertical-align: middle;\n",
       "    }\n",
       "\n",
       "    .dataframe tbody tr th {\n",
       "        vertical-align: top;\n",
       "    }\n",
       "\n",
       "    .dataframe thead th {\n",
       "        text-align: right;\n",
       "    }\n",
       "</style>\n",
       "<table border=\"1\" class=\"dataframe\">\n",
       "  <thead>\n",
       "    <tr style=\"text-align: right;\">\n",
       "      <th></th>\n",
       "      <th>Category</th>\n",
       "      <th>Values</th>\n",
       "    </tr>\n",
       "  </thead>\n",
       "  <tbody>\n",
       "    <tr>\n",
       "      <th>0</th>\n",
       "      <td>A</td>\n",
       "      <td>32</td>\n",
       "    </tr>\n",
       "    <tr>\n",
       "      <th>1</th>\n",
       "      <td>B</td>\n",
       "      <td>43</td>\n",
       "    </tr>\n",
       "    <tr>\n",
       "      <th>2</th>\n",
       "      <td>C</td>\n",
       "      <td>50</td>\n",
       "    </tr>\n",
       "  </tbody>\n",
       "</table>\n",
       "</div>"
      ],
      "text/plain": [
       "  Category  Values\n",
       "0        A      32\n",
       "1        B      43\n",
       "2        C      50"
      ]
     },
     "execution_count": 9,
     "metadata": {},
     "output_type": "execute_result"
    }
   ],
   "source": [
    "df2.head()"
   ]
  },
  {
   "cell_type": "markdown",
   "metadata": {},
   "source": [
    "## Using Cufflinks and iplot()\n",
    "\n",
    "* scatter\n",
    "* bar\n",
    "* box\n",
    "* spread\n",
    "* ratio\n",
    "* heatmap\n",
    "* surface\n",
    "* histogram\n",
    "* bubble"
   ]
  },
  {
   "cell_type": "markdown",
   "metadata": {},
   "source": [
    "## Scatter"
   ]
  },
  {
   "cell_type": "code",
   "execution_count": 10,
   "metadata": {},
   "outputs": [
    {
     "data": {
      "application/vnd.plotly.v1+json": {
       "config": {
        "linkText": "Export to plot.ly",
        "plotlyServerURL": "https://plot.ly",
        "showLink": true
       },
       "data": [
        {
         "line": {
          "color": "rgba(255, 153, 51, 1.0)",
          "dash": "solid",
          "shape": "linear",
          "width": 1.3
         },
         "marker": {
          "size": 10,
          "symbol": "circle"
         },
         "mode": "markers",
         "name": "B",
         "text": "",
         "type": "scatter",
         "x": [
          1.9758519900934104,
          -0.5143221233456489,
          -0.1582030966787379,
          -0.5114390014664738,
          0.515811900694426,
          -0.3617127909781959,
          0.8213800009504084,
          0.9263759553965216,
          0.8463773240249822,
          -1.550823625797956,
          -1.1196680523219449,
          -1.3720152085677328,
          0.993215756870461,
          -0.2947213227426147,
          0.3891428636616671,
          -0.6037512014034268,
          0.2963029032682522,
          1.2997150136493418,
          0.5457748329459221,
          -1.1120549861777493,
          -1.3901568455907765,
          0.5378903545113346,
          -0.021807045234015447,
          1.523230437046832,
          -0.38997725066553474,
          0.2543225692799485,
          0.2795531219081177,
          -1.8873761705874288,
          -0.5358770884120846,
          -0.13041613392353707,
          -0.4846026362616904,
          0.1968461287525519,
          -0.9359976466832249,
          1.15241006171264,
          -0.28811501136423917,
          0.22158451906649376,
          -1.792787390527634,
          -1.1151847185475674,
          0.2999968484132656,
          -0.8410432469367217,
          0.9870416043456087,
          -0.5881425626152607,
          -0.5703765600397165,
          -0.6803726993143193,
          0.3216170210237273,
          0.7556227727364897,
          0.5360754027842475,
          0.613389511563585,
          0.22565749295090093,
          0.08365976731257571,
          0.1033919609885569,
          1.2438889145118528,
          0.8461128057749727,
          -0.23096828694979957,
          -0.12408711033791694,
          -1.1657940200430517,
          -0.2434783345014043,
          -1.199120831961396,
          1.4715404125351348,
          0.2803547207916868,
          -0.26987496653419035,
          -1.752600192059749,
          -0.11232400010667294,
          1.6307595591341888,
          0.7361119323933746,
          1.0046027671180844,
          -1.1061416883584818,
          0.5486042763497647,
          1.0300528549918395,
          -1.1009445751792122,
          1.0237198785638675,
          2.3349677555956436,
          0.7779690393786323,
          -1.123924959679506,
          0.17460525043824449,
          0.22201343894598982,
          -0.2906223833332785,
          0.5558148800636564,
          -0.4697349000963517,
          0.7246304134527143,
          -0.04523217356888744,
          -0.38848741703370726,
          0.5468817495156351,
          -0.9168752710950892,
          0.7994257334532495,
          0.9192035844449936,
          -0.002662870365699749,
          1.3981786261876747,
          -1.510668319049373,
          0.40377071643147383,
          0.1537412737152171,
          0.32491684836283985,
          -2.027833581141001,
          0.5312754157391999,
          -1.5124626744579268,
          0.12768299722942447,
          -1.9988651993974935,
          0.3620998287019383,
          0.6454370926585403,
          1.5131459553856328
         ],
         "y": [
          0.5665382229248324,
          -0.5565063078433714,
          -0.8718681029275993,
          -1.398907936994333,
          1.4219495489932097,
          1.9610132506325109,
          0.2518202894903014,
          -0.13417845181620516,
          -0.7622085723930692,
          0.3919451171772081,
          0.26630550068055336,
          0.5892959076385756,
          -0.793505369555898,
          -0.11360818904203256,
          0.04704884319419822,
          0.711350622598875,
          -0.5045014847624979,
          0.39897063453354453,
          0.8350726088246634,
          -0.6067348615268908,
          0.6018843560171192,
          -0.9750318086357168,
          -0.8111768417278923,
          0.5865123052820451,
          -1.2682046206237232,
          0.30538546233597064,
          0.044060763848661415,
          0.30091219086281756,
          0.6356706795934935,
          -0.9290464938329864,
          0.26665716907365966,
          0.31376967389358773,
          0.5230410509719929,
          -0.47564221228880077,
          -2.3544581053872924,
          1.1631809227657774,
          1.2446836192270323,
          2.453657648153855,
          2.0705079079433575,
          1.1823046883956898,
          0.1982523746639038,
          0.022184968541608917,
          0.5792157662111811,
          1.6925589437987265,
          1.6735491639361957,
          -0.6081796816698564,
          -0.654197528371815,
          1.9948097814472088,
          0.6452083653550553,
          -0.990864295108887,
          -1.3545582273408059,
          0.5282668446491409,
          0.740967616780742,
          -1.418069374141105,
          -0.5966689133434379,
          0.23363166132097435,
          0.8921390421200076,
          -0.7742498466221465,
          -0.31783128917578973,
          -0.04688838580674549,
          0.26217113832692995,
          0.1967788636582987,
          0.08143712402768997,
          -0.8658789516841908,
          -0.08489955130735412,
          1.6181102272592358,
          1.2890470324485164,
          0.7229560931164392,
          0.46226052689936553,
          -0.8542194243135494,
          0.5094739172634204,
          -0.5463175094424851,
          -1.0427681033876963,
          -1.5960614897359906,
          1.2396016427276908,
          2.3843745292528733,
          -0.6218403799730308,
          -1.7536232569773271,
          1.4982683951615485,
          1.541779113521374,
          -0.6370060447827084,
          -0.24446085397023756,
          -1.25169978102884,
          -1.601817214912354,
          -0.1842659662140935,
          -0.6653636755456144,
          1.7050858145432017,
          -0.21035741890677045,
          -0.9178286109980154,
          -1.5767350284883654,
          0.6049863670999431,
          0.5707203254294333,
          -1.0937692620437585,
          1.713111116881167,
          -0.5873802980984976,
          0.44428845973412634,
          -0.05549793997215865,
          1.5926275223590245,
          0.8538677661840695,
          0.21054373693698292
         ]
        }
       ],
       "layout": {
        "legend": {
         "bgcolor": "#F5F6F9",
         "font": {
          "color": "#4D5663"
         }
        },
        "paper_bgcolor": "#F5F6F9",
        "plot_bgcolor": "#F5F6F9",
        "template": {
         "data": {
          "bar": [
           {
            "error_x": {
             "color": "#2a3f5f"
            },
            "error_y": {
             "color": "#2a3f5f"
            },
            "marker": {
             "line": {
              "color": "#E5ECF6",
              "width": 0.5
             }
            },
            "type": "bar"
           }
          ],
          "barpolar": [
           {
            "marker": {
             "line": {
              "color": "#E5ECF6",
              "width": 0.5
             }
            },
            "type": "barpolar"
           }
          ],
          "carpet": [
           {
            "aaxis": {
             "endlinecolor": "#2a3f5f",
             "gridcolor": "white",
             "linecolor": "white",
             "minorgridcolor": "white",
             "startlinecolor": "#2a3f5f"
            },
            "baxis": {
             "endlinecolor": "#2a3f5f",
             "gridcolor": "white",
             "linecolor": "white",
             "minorgridcolor": "white",
             "startlinecolor": "#2a3f5f"
            },
            "type": "carpet"
           }
          ],
          "choropleth": [
           {
            "colorbar": {
             "outlinewidth": 0,
             "ticks": ""
            },
            "type": "choropleth"
           }
          ],
          "contour": [
           {
            "colorbar": {
             "outlinewidth": 0,
             "ticks": ""
            },
            "colorscale": [
             [
              0,
              "#0d0887"
             ],
             [
              0.1111111111111111,
              "#46039f"
             ],
             [
              0.2222222222222222,
              "#7201a8"
             ],
             [
              0.3333333333333333,
              "#9c179e"
             ],
             [
              0.4444444444444444,
              "#bd3786"
             ],
             [
              0.5555555555555556,
              "#d8576b"
             ],
             [
              0.6666666666666666,
              "#ed7953"
             ],
             [
              0.7777777777777778,
              "#fb9f3a"
             ],
             [
              0.8888888888888888,
              "#fdca26"
             ],
             [
              1,
              "#f0f921"
             ]
            ],
            "type": "contour"
           }
          ],
          "contourcarpet": [
           {
            "colorbar": {
             "outlinewidth": 0,
             "ticks": ""
            },
            "type": "contourcarpet"
           }
          ],
          "heatmap": [
           {
            "colorbar": {
             "outlinewidth": 0,
             "ticks": ""
            },
            "colorscale": [
             [
              0,
              "#0d0887"
             ],
             [
              0.1111111111111111,
              "#46039f"
             ],
             [
              0.2222222222222222,
              "#7201a8"
             ],
             [
              0.3333333333333333,
              "#9c179e"
             ],
             [
              0.4444444444444444,
              "#bd3786"
             ],
             [
              0.5555555555555556,
              "#d8576b"
             ],
             [
              0.6666666666666666,
              "#ed7953"
             ],
             [
              0.7777777777777778,
              "#fb9f3a"
             ],
             [
              0.8888888888888888,
              "#fdca26"
             ],
             [
              1,
              "#f0f921"
             ]
            ],
            "type": "heatmap"
           }
          ],
          "heatmapgl": [
           {
            "colorbar": {
             "outlinewidth": 0,
             "ticks": ""
            },
            "colorscale": [
             [
              0,
              "#0d0887"
             ],
             [
              0.1111111111111111,
              "#46039f"
             ],
             [
              0.2222222222222222,
              "#7201a8"
             ],
             [
              0.3333333333333333,
              "#9c179e"
             ],
             [
              0.4444444444444444,
              "#bd3786"
             ],
             [
              0.5555555555555556,
              "#d8576b"
             ],
             [
              0.6666666666666666,
              "#ed7953"
             ],
             [
              0.7777777777777778,
              "#fb9f3a"
             ],
             [
              0.8888888888888888,
              "#fdca26"
             ],
             [
              1,
              "#f0f921"
             ]
            ],
            "type": "heatmapgl"
           }
          ],
          "histogram": [
           {
            "marker": {
             "colorbar": {
              "outlinewidth": 0,
              "ticks": ""
             }
            },
            "type": "histogram"
           }
          ],
          "histogram2d": [
           {
            "colorbar": {
             "outlinewidth": 0,
             "ticks": ""
            },
            "colorscale": [
             [
              0,
              "#0d0887"
             ],
             [
              0.1111111111111111,
              "#46039f"
             ],
             [
              0.2222222222222222,
              "#7201a8"
             ],
             [
              0.3333333333333333,
              "#9c179e"
             ],
             [
              0.4444444444444444,
              "#bd3786"
             ],
             [
              0.5555555555555556,
              "#d8576b"
             ],
             [
              0.6666666666666666,
              "#ed7953"
             ],
             [
              0.7777777777777778,
              "#fb9f3a"
             ],
             [
              0.8888888888888888,
              "#fdca26"
             ],
             [
              1,
              "#f0f921"
             ]
            ],
            "type": "histogram2d"
           }
          ],
          "histogram2dcontour": [
           {
            "colorbar": {
             "outlinewidth": 0,
             "ticks": ""
            },
            "colorscale": [
             [
              0,
              "#0d0887"
             ],
             [
              0.1111111111111111,
              "#46039f"
             ],
             [
              0.2222222222222222,
              "#7201a8"
             ],
             [
              0.3333333333333333,
              "#9c179e"
             ],
             [
              0.4444444444444444,
              "#bd3786"
             ],
             [
              0.5555555555555556,
              "#d8576b"
             ],
             [
              0.6666666666666666,
              "#ed7953"
             ],
             [
              0.7777777777777778,
              "#fb9f3a"
             ],
             [
              0.8888888888888888,
              "#fdca26"
             ],
             [
              1,
              "#f0f921"
             ]
            ],
            "type": "histogram2dcontour"
           }
          ],
          "mesh3d": [
           {
            "colorbar": {
             "outlinewidth": 0,
             "ticks": ""
            },
            "type": "mesh3d"
           }
          ],
          "parcoords": [
           {
            "line": {
             "colorbar": {
              "outlinewidth": 0,
              "ticks": ""
             }
            },
            "type": "parcoords"
           }
          ],
          "pie": [
           {
            "automargin": true,
            "type": "pie"
           }
          ],
          "scatter": [
           {
            "marker": {
             "colorbar": {
              "outlinewidth": 0,
              "ticks": ""
             }
            },
            "type": "scatter"
           }
          ],
          "scatter3d": [
           {
            "line": {
             "colorbar": {
              "outlinewidth": 0,
              "ticks": ""
             }
            },
            "marker": {
             "colorbar": {
              "outlinewidth": 0,
              "ticks": ""
             }
            },
            "type": "scatter3d"
           }
          ],
          "scattercarpet": [
           {
            "marker": {
             "colorbar": {
              "outlinewidth": 0,
              "ticks": ""
             }
            },
            "type": "scattercarpet"
           }
          ],
          "scattergeo": [
           {
            "marker": {
             "colorbar": {
              "outlinewidth": 0,
              "ticks": ""
             }
            },
            "type": "scattergeo"
           }
          ],
          "scattergl": [
           {
            "marker": {
             "colorbar": {
              "outlinewidth": 0,
              "ticks": ""
             }
            },
            "type": "scattergl"
           }
          ],
          "scattermapbox": [
           {
            "marker": {
             "colorbar": {
              "outlinewidth": 0,
              "ticks": ""
             }
            },
            "type": "scattermapbox"
           }
          ],
          "scatterpolar": [
           {
            "marker": {
             "colorbar": {
              "outlinewidth": 0,
              "ticks": ""
             }
            },
            "type": "scatterpolar"
           }
          ],
          "scatterpolargl": [
           {
            "marker": {
             "colorbar": {
              "outlinewidth": 0,
              "ticks": ""
             }
            },
            "type": "scatterpolargl"
           }
          ],
          "scatterternary": [
           {
            "marker": {
             "colorbar": {
              "outlinewidth": 0,
              "ticks": ""
             }
            },
            "type": "scatterternary"
           }
          ],
          "surface": [
           {
            "colorbar": {
             "outlinewidth": 0,
             "ticks": ""
            },
            "colorscale": [
             [
              0,
              "#0d0887"
             ],
             [
              0.1111111111111111,
              "#46039f"
             ],
             [
              0.2222222222222222,
              "#7201a8"
             ],
             [
              0.3333333333333333,
              "#9c179e"
             ],
             [
              0.4444444444444444,
              "#bd3786"
             ],
             [
              0.5555555555555556,
              "#d8576b"
             ],
             [
              0.6666666666666666,
              "#ed7953"
             ],
             [
              0.7777777777777778,
              "#fb9f3a"
             ],
             [
              0.8888888888888888,
              "#fdca26"
             ],
             [
              1,
              "#f0f921"
             ]
            ],
            "type": "surface"
           }
          ],
          "table": [
           {
            "cells": {
             "fill": {
              "color": "#EBF0F8"
             },
             "line": {
              "color": "white"
             }
            },
            "header": {
             "fill": {
              "color": "#C8D4E3"
             },
             "line": {
              "color": "white"
             }
            },
            "type": "table"
           }
          ]
         },
         "layout": {
          "annotationdefaults": {
           "arrowcolor": "#2a3f5f",
           "arrowhead": 0,
           "arrowwidth": 1
          },
          "coloraxis": {
           "colorbar": {
            "outlinewidth": 0,
            "ticks": ""
           }
          },
          "colorscale": {
           "diverging": [
            [
             0,
             "#8e0152"
            ],
            [
             0.1,
             "#c51b7d"
            ],
            [
             0.2,
             "#de77ae"
            ],
            [
             0.3,
             "#f1b6da"
            ],
            [
             0.4,
             "#fde0ef"
            ],
            [
             0.5,
             "#f7f7f7"
            ],
            [
             0.6,
             "#e6f5d0"
            ],
            [
             0.7,
             "#b8e186"
            ],
            [
             0.8,
             "#7fbc41"
            ],
            [
             0.9,
             "#4d9221"
            ],
            [
             1,
             "#276419"
            ]
           ],
           "sequential": [
            [
             0,
             "#0d0887"
            ],
            [
             0.1111111111111111,
             "#46039f"
            ],
            [
             0.2222222222222222,
             "#7201a8"
            ],
            [
             0.3333333333333333,
             "#9c179e"
            ],
            [
             0.4444444444444444,
             "#bd3786"
            ],
            [
             0.5555555555555556,
             "#d8576b"
            ],
            [
             0.6666666666666666,
             "#ed7953"
            ],
            [
             0.7777777777777778,
             "#fb9f3a"
            ],
            [
             0.8888888888888888,
             "#fdca26"
            ],
            [
             1,
             "#f0f921"
            ]
           ],
           "sequentialminus": [
            [
             0,
             "#0d0887"
            ],
            [
             0.1111111111111111,
             "#46039f"
            ],
            [
             0.2222222222222222,
             "#7201a8"
            ],
            [
             0.3333333333333333,
             "#9c179e"
            ],
            [
             0.4444444444444444,
             "#bd3786"
            ],
            [
             0.5555555555555556,
             "#d8576b"
            ],
            [
             0.6666666666666666,
             "#ed7953"
            ],
            [
             0.7777777777777778,
             "#fb9f3a"
            ],
            [
             0.8888888888888888,
             "#fdca26"
            ],
            [
             1,
             "#f0f921"
            ]
           ]
          },
          "colorway": [
           "#636efa",
           "#EF553B",
           "#00cc96",
           "#ab63fa",
           "#FFA15A",
           "#19d3f3",
           "#FF6692",
           "#B6E880",
           "#FF97FF",
           "#FECB52"
          ],
          "font": {
           "color": "#2a3f5f"
          },
          "geo": {
           "bgcolor": "white",
           "lakecolor": "white",
           "landcolor": "#E5ECF6",
           "showlakes": true,
           "showland": true,
           "subunitcolor": "white"
          },
          "hoverlabel": {
           "align": "left"
          },
          "hovermode": "closest",
          "mapbox": {
           "style": "light"
          },
          "paper_bgcolor": "white",
          "plot_bgcolor": "#E5ECF6",
          "polar": {
           "angularaxis": {
            "gridcolor": "white",
            "linecolor": "white",
            "ticks": ""
           },
           "bgcolor": "#E5ECF6",
           "radialaxis": {
            "gridcolor": "white",
            "linecolor": "white",
            "ticks": ""
           }
          },
          "scene": {
           "xaxis": {
            "backgroundcolor": "#E5ECF6",
            "gridcolor": "white",
            "gridwidth": 2,
            "linecolor": "white",
            "showbackground": true,
            "ticks": "",
            "zerolinecolor": "white"
           },
           "yaxis": {
            "backgroundcolor": "#E5ECF6",
            "gridcolor": "white",
            "gridwidth": 2,
            "linecolor": "white",
            "showbackground": true,
            "ticks": "",
            "zerolinecolor": "white"
           },
           "zaxis": {
            "backgroundcolor": "#E5ECF6",
            "gridcolor": "white",
            "gridwidth": 2,
            "linecolor": "white",
            "showbackground": true,
            "ticks": "",
            "zerolinecolor": "white"
           }
          },
          "shapedefaults": {
           "line": {
            "color": "#2a3f5f"
           }
          },
          "ternary": {
           "aaxis": {
            "gridcolor": "white",
            "linecolor": "white",
            "ticks": ""
           },
           "baxis": {
            "gridcolor": "white",
            "linecolor": "white",
            "ticks": ""
           },
           "bgcolor": "#E5ECF6",
           "caxis": {
            "gridcolor": "white",
            "linecolor": "white",
            "ticks": ""
           }
          },
          "title": {
           "x": 0.05
          },
          "xaxis": {
           "automargin": true,
           "gridcolor": "white",
           "linecolor": "white",
           "ticks": "",
           "title": {
            "standoff": 15
           },
           "zerolinecolor": "white",
           "zerolinewidth": 2
          },
          "yaxis": {
           "automargin": true,
           "gridcolor": "white",
           "linecolor": "white",
           "ticks": "",
           "title": {
            "standoff": 15
           },
           "zerolinecolor": "white",
           "zerolinewidth": 2
          }
         }
        },
        "title": {
         "font": {
          "color": "#4D5663"
         }
        },
        "xaxis": {
         "gridcolor": "#E1E5ED",
         "showgrid": true,
         "tickfont": {
          "color": "#4D5663"
         },
         "title": {
          "font": {
           "color": "#4D5663"
          },
          "text": ""
         },
         "zerolinecolor": "#E1E5ED"
        },
        "yaxis": {
         "gridcolor": "#E1E5ED",
         "showgrid": true,
         "tickfont": {
          "color": "#4D5663"
         },
         "title": {
          "font": {
           "color": "#4D5663"
          },
          "text": ""
         },
         "zerolinecolor": "#E1E5ED"
        }
       }
      },
      "text/html": [
       "<div>\n",
       "        \n",
       "        \n",
       "            <div id=\"5a2601a3-3d45-48dc-bdf5-1282c0453664\" class=\"plotly-graph-div\" style=\"height:525px; width:100%;\"></div>\n",
       "            <script type=\"text/javascript\">\n",
       "                require([\"plotly\"], function(Plotly) {\n",
       "                    window.PLOTLYENV=window.PLOTLYENV || {};\n",
       "                    window.PLOTLYENV.BASE_URL='https://plot.ly';\n",
       "                    \n",
       "                if (document.getElementById(\"5a2601a3-3d45-48dc-bdf5-1282c0453664\")) {\n",
       "                    Plotly.newPlot(\n",
       "                        '5a2601a3-3d45-48dc-bdf5-1282c0453664',\n",
       "                        [{\"line\": {\"color\": \"rgba(255, 153, 51, 1.0)\", \"dash\": \"solid\", \"shape\": \"linear\", \"width\": 1.3}, \"marker\": {\"size\": 10, \"symbol\": \"circle\"}, \"mode\": \"markers\", \"name\": \"B\", \"text\": \"\", \"type\": \"scatter\", \"x\": [1.9758519900934104, -0.5143221233456489, -0.1582030966787379, -0.5114390014664738, 0.515811900694426, -0.3617127909781959, 0.8213800009504084, 0.9263759553965216, 0.8463773240249822, -1.550823625797956, -1.1196680523219449, -1.3720152085677328, 0.993215756870461, -0.2947213227426147, 0.3891428636616671, -0.6037512014034268, 0.2963029032682522, 1.2997150136493418, 0.5457748329459221, -1.1120549861777493, -1.3901568455907765, 0.5378903545113346, -0.021807045234015447, 1.523230437046832, -0.38997725066553474, 0.2543225692799485, 0.2795531219081177, -1.8873761705874288, -0.5358770884120846, -0.13041613392353707, -0.4846026362616904, 0.1968461287525519, -0.9359976466832249, 1.15241006171264, -0.28811501136423917, 0.22158451906649376, -1.792787390527634, -1.1151847185475674, 0.2999968484132656, -0.8410432469367217, 0.9870416043456087, -0.5881425626152607, -0.5703765600397165, -0.6803726993143193, 0.3216170210237273, 0.7556227727364897, 0.5360754027842475, 0.613389511563585, 0.22565749295090093, 0.08365976731257571, 0.1033919609885569, 1.2438889145118528, 0.8461128057749727, -0.23096828694979957, -0.12408711033791694, -1.1657940200430517, -0.2434783345014043, -1.199120831961396, 1.4715404125351348, 0.2803547207916868, -0.26987496653419035, -1.752600192059749, -0.11232400010667294, 1.6307595591341888, 0.7361119323933746, 1.0046027671180844, -1.1061416883584818, 0.5486042763497647, 1.0300528549918395, -1.1009445751792122, 1.0237198785638675, 2.3349677555956436, 0.7779690393786323, -1.123924959679506, 0.17460525043824449, 0.22201343894598982, -0.2906223833332785, 0.5558148800636564, -0.4697349000963517, 0.7246304134527143, -0.04523217356888744, -0.38848741703370726, 0.5468817495156351, -0.9168752710950892, 0.7994257334532495, 0.9192035844449936, -0.002662870365699749, 1.3981786261876747, -1.510668319049373, 0.40377071643147383, 0.1537412737152171, 0.32491684836283985, -2.027833581141001, 0.5312754157391999, -1.5124626744579268, 0.12768299722942447, -1.9988651993974935, 0.3620998287019383, 0.6454370926585403, 1.5131459553856328], \"y\": [0.5665382229248324, -0.5565063078433714, -0.8718681029275993, -1.398907936994333, 1.4219495489932097, 1.9610132506325109, 0.2518202894903014, -0.13417845181620516, -0.7622085723930692, 0.3919451171772081, 0.26630550068055336, 0.5892959076385756, -0.793505369555898, -0.11360818904203256, 0.04704884319419822, 0.711350622598875, -0.5045014847624979, 0.39897063453354453, 0.8350726088246634, -0.6067348615268908, 0.6018843560171192, -0.9750318086357168, -0.8111768417278923, 0.5865123052820451, -1.2682046206237232, 0.30538546233597064, 0.044060763848661415, 0.30091219086281756, 0.6356706795934935, -0.9290464938329864, 0.26665716907365966, 0.31376967389358773, 0.5230410509719929, -0.47564221228880077, -2.3544581053872924, 1.1631809227657774, 1.2446836192270323, 2.453657648153855, 2.0705079079433575, 1.1823046883956898, 0.1982523746639038, 0.022184968541608917, 0.5792157662111811, 1.6925589437987265, 1.6735491639361957, -0.6081796816698564, -0.654197528371815, 1.9948097814472088, 0.6452083653550553, -0.990864295108887, -1.3545582273408059, 0.5282668446491409, 0.740967616780742, -1.418069374141105, -0.5966689133434379, 0.23363166132097435, 0.8921390421200076, -0.7742498466221465, -0.31783128917578973, -0.04688838580674549, 0.26217113832692995, 0.1967788636582987, 0.08143712402768997, -0.8658789516841908, -0.08489955130735412, 1.6181102272592358, 1.2890470324485164, 0.7229560931164392, 0.46226052689936553, -0.8542194243135494, 0.5094739172634204, -0.5463175094424851, -1.0427681033876963, -1.5960614897359906, 1.2396016427276908, 2.3843745292528733, -0.6218403799730308, -1.7536232569773271, 1.4982683951615485, 1.541779113521374, -0.6370060447827084, -0.24446085397023756, -1.25169978102884, -1.601817214912354, -0.1842659662140935, -0.6653636755456144, 1.7050858145432017, -0.21035741890677045, -0.9178286109980154, -1.5767350284883654, 0.6049863670999431, 0.5707203254294333, -1.0937692620437585, 1.713111116881167, -0.5873802980984976, 0.44428845973412634, -0.05549793997215865, 1.5926275223590245, 0.8538677661840695, 0.21054373693698292]}],\n",
       "                        {\"legend\": {\"bgcolor\": \"#F5F6F9\", \"font\": {\"color\": \"#4D5663\"}}, \"paper_bgcolor\": \"#F5F6F9\", \"plot_bgcolor\": \"#F5F6F9\", \"template\": {\"data\": {\"bar\": [{\"error_x\": {\"color\": \"#2a3f5f\"}, \"error_y\": {\"color\": \"#2a3f5f\"}, \"marker\": {\"line\": {\"color\": \"#E5ECF6\", \"width\": 0.5}}, \"type\": \"bar\"}], \"barpolar\": [{\"marker\": {\"line\": {\"color\": \"#E5ECF6\", \"width\": 0.5}}, \"type\": \"barpolar\"}], \"carpet\": [{\"aaxis\": {\"endlinecolor\": \"#2a3f5f\", \"gridcolor\": \"white\", \"linecolor\": \"white\", \"minorgridcolor\": \"white\", \"startlinecolor\": \"#2a3f5f\"}, \"baxis\": {\"endlinecolor\": \"#2a3f5f\", \"gridcolor\": \"white\", \"linecolor\": \"white\", \"minorgridcolor\": \"white\", \"startlinecolor\": \"#2a3f5f\"}, \"type\": \"carpet\"}], \"choropleth\": [{\"colorbar\": {\"outlinewidth\": 0, \"ticks\": \"\"}, \"type\": \"choropleth\"}], \"contour\": [{\"colorbar\": {\"outlinewidth\": 0, \"ticks\": \"\"}, \"colorscale\": [[0.0, \"#0d0887\"], [0.1111111111111111, \"#46039f\"], [0.2222222222222222, \"#7201a8\"], [0.3333333333333333, \"#9c179e\"], [0.4444444444444444, \"#bd3786\"], [0.5555555555555556, \"#d8576b\"], [0.6666666666666666, \"#ed7953\"], [0.7777777777777778, \"#fb9f3a\"], [0.8888888888888888, \"#fdca26\"], [1.0, \"#f0f921\"]], \"type\": \"contour\"}], \"contourcarpet\": [{\"colorbar\": {\"outlinewidth\": 0, \"ticks\": \"\"}, \"type\": \"contourcarpet\"}], \"heatmap\": [{\"colorbar\": {\"outlinewidth\": 0, \"ticks\": \"\"}, \"colorscale\": [[0.0, \"#0d0887\"], [0.1111111111111111, \"#46039f\"], [0.2222222222222222, \"#7201a8\"], [0.3333333333333333, \"#9c179e\"], [0.4444444444444444, \"#bd3786\"], [0.5555555555555556, \"#d8576b\"], [0.6666666666666666, \"#ed7953\"], [0.7777777777777778, \"#fb9f3a\"], [0.8888888888888888, \"#fdca26\"], [1.0, \"#f0f921\"]], \"type\": \"heatmap\"}], \"heatmapgl\": [{\"colorbar\": {\"outlinewidth\": 0, \"ticks\": \"\"}, \"colorscale\": [[0.0, \"#0d0887\"], [0.1111111111111111, \"#46039f\"], [0.2222222222222222, \"#7201a8\"], [0.3333333333333333, \"#9c179e\"], [0.4444444444444444, \"#bd3786\"], [0.5555555555555556, \"#d8576b\"], [0.6666666666666666, \"#ed7953\"], [0.7777777777777778, \"#fb9f3a\"], [0.8888888888888888, \"#fdca26\"], [1.0, \"#f0f921\"]], \"type\": \"heatmapgl\"}], \"histogram\": [{\"marker\": {\"colorbar\": {\"outlinewidth\": 0, \"ticks\": \"\"}}, \"type\": \"histogram\"}], \"histogram2d\": [{\"colorbar\": {\"outlinewidth\": 0, \"ticks\": \"\"}, \"colorscale\": [[0.0, \"#0d0887\"], [0.1111111111111111, \"#46039f\"], [0.2222222222222222, \"#7201a8\"], [0.3333333333333333, \"#9c179e\"], [0.4444444444444444, \"#bd3786\"], [0.5555555555555556, \"#d8576b\"], [0.6666666666666666, \"#ed7953\"], [0.7777777777777778, \"#fb9f3a\"], [0.8888888888888888, \"#fdca26\"], [1.0, \"#f0f921\"]], \"type\": \"histogram2d\"}], \"histogram2dcontour\": [{\"colorbar\": {\"outlinewidth\": 0, \"ticks\": \"\"}, \"colorscale\": [[0.0, \"#0d0887\"], [0.1111111111111111, \"#46039f\"], [0.2222222222222222, \"#7201a8\"], [0.3333333333333333, \"#9c179e\"], [0.4444444444444444, \"#bd3786\"], [0.5555555555555556, \"#d8576b\"], [0.6666666666666666, \"#ed7953\"], [0.7777777777777778, \"#fb9f3a\"], [0.8888888888888888, \"#fdca26\"], [1.0, \"#f0f921\"]], \"type\": \"histogram2dcontour\"}], \"mesh3d\": [{\"colorbar\": {\"outlinewidth\": 0, \"ticks\": \"\"}, \"type\": \"mesh3d\"}], \"parcoords\": [{\"line\": {\"colorbar\": {\"outlinewidth\": 0, \"ticks\": \"\"}}, \"type\": \"parcoords\"}], \"pie\": [{\"automargin\": true, \"type\": \"pie\"}], \"scatter\": [{\"marker\": {\"colorbar\": {\"outlinewidth\": 0, \"ticks\": \"\"}}, \"type\": \"scatter\"}], \"scatter3d\": [{\"line\": {\"colorbar\": {\"outlinewidth\": 0, \"ticks\": \"\"}}, \"marker\": {\"colorbar\": {\"outlinewidth\": 0, \"ticks\": \"\"}}, \"type\": \"scatter3d\"}], \"scattercarpet\": [{\"marker\": {\"colorbar\": {\"outlinewidth\": 0, \"ticks\": \"\"}}, \"type\": \"scattercarpet\"}], \"scattergeo\": [{\"marker\": {\"colorbar\": {\"outlinewidth\": 0, \"ticks\": \"\"}}, \"type\": \"scattergeo\"}], \"scattergl\": [{\"marker\": {\"colorbar\": {\"outlinewidth\": 0, \"ticks\": \"\"}}, \"type\": \"scattergl\"}], \"scattermapbox\": [{\"marker\": {\"colorbar\": {\"outlinewidth\": 0, \"ticks\": \"\"}}, \"type\": \"scattermapbox\"}], \"scatterpolar\": [{\"marker\": {\"colorbar\": {\"outlinewidth\": 0, \"ticks\": \"\"}}, \"type\": \"scatterpolar\"}], \"scatterpolargl\": [{\"marker\": {\"colorbar\": {\"outlinewidth\": 0, \"ticks\": \"\"}}, \"type\": \"scatterpolargl\"}], \"scatterternary\": [{\"marker\": {\"colorbar\": {\"outlinewidth\": 0, \"ticks\": \"\"}}, \"type\": \"scatterternary\"}], \"surface\": [{\"colorbar\": {\"outlinewidth\": 0, \"ticks\": \"\"}, \"colorscale\": [[0.0, \"#0d0887\"], [0.1111111111111111, \"#46039f\"], [0.2222222222222222, \"#7201a8\"], [0.3333333333333333, \"#9c179e\"], [0.4444444444444444, \"#bd3786\"], [0.5555555555555556, \"#d8576b\"], [0.6666666666666666, \"#ed7953\"], [0.7777777777777778, \"#fb9f3a\"], [0.8888888888888888, \"#fdca26\"], [1.0, \"#f0f921\"]], \"type\": \"surface\"}], \"table\": [{\"cells\": {\"fill\": {\"color\": \"#EBF0F8\"}, \"line\": {\"color\": \"white\"}}, \"header\": {\"fill\": {\"color\": \"#C8D4E3\"}, \"line\": {\"color\": \"white\"}}, \"type\": \"table\"}]}, \"layout\": {\"annotationdefaults\": {\"arrowcolor\": \"#2a3f5f\", \"arrowhead\": 0, \"arrowwidth\": 1}, \"coloraxis\": {\"colorbar\": {\"outlinewidth\": 0, \"ticks\": \"\"}}, \"colorscale\": {\"diverging\": [[0, \"#8e0152\"], [0.1, \"#c51b7d\"], [0.2, \"#de77ae\"], [0.3, \"#f1b6da\"], [0.4, \"#fde0ef\"], [0.5, \"#f7f7f7\"], [0.6, \"#e6f5d0\"], [0.7, \"#b8e186\"], [0.8, \"#7fbc41\"], [0.9, \"#4d9221\"], [1, \"#276419\"]], \"sequential\": [[0.0, \"#0d0887\"], [0.1111111111111111, \"#46039f\"], [0.2222222222222222, \"#7201a8\"], [0.3333333333333333, \"#9c179e\"], [0.4444444444444444, \"#bd3786\"], [0.5555555555555556, \"#d8576b\"], [0.6666666666666666, \"#ed7953\"], [0.7777777777777778, \"#fb9f3a\"], [0.8888888888888888, \"#fdca26\"], [1.0, \"#f0f921\"]], \"sequentialminus\": [[0.0, \"#0d0887\"], [0.1111111111111111, \"#46039f\"], [0.2222222222222222, \"#7201a8\"], [0.3333333333333333, \"#9c179e\"], [0.4444444444444444, \"#bd3786\"], [0.5555555555555556, \"#d8576b\"], [0.6666666666666666, \"#ed7953\"], [0.7777777777777778, \"#fb9f3a\"], [0.8888888888888888, \"#fdca26\"], [1.0, \"#f0f921\"]]}, \"colorway\": [\"#636efa\", \"#EF553B\", \"#00cc96\", \"#ab63fa\", \"#FFA15A\", \"#19d3f3\", \"#FF6692\", \"#B6E880\", \"#FF97FF\", \"#FECB52\"], \"font\": {\"color\": \"#2a3f5f\"}, \"geo\": {\"bgcolor\": \"white\", \"lakecolor\": \"white\", \"landcolor\": \"#E5ECF6\", \"showlakes\": true, \"showland\": true, \"subunitcolor\": \"white\"}, \"hoverlabel\": {\"align\": \"left\"}, \"hovermode\": \"closest\", \"mapbox\": {\"style\": \"light\"}, \"paper_bgcolor\": \"white\", \"plot_bgcolor\": \"#E5ECF6\", \"polar\": {\"angularaxis\": {\"gridcolor\": \"white\", \"linecolor\": \"white\", \"ticks\": \"\"}, \"bgcolor\": \"#E5ECF6\", \"radialaxis\": {\"gridcolor\": \"white\", \"linecolor\": \"white\", \"ticks\": \"\"}}, \"scene\": {\"xaxis\": {\"backgroundcolor\": \"#E5ECF6\", \"gridcolor\": \"white\", \"gridwidth\": 2, \"linecolor\": \"white\", \"showbackground\": true, \"ticks\": \"\", \"zerolinecolor\": \"white\"}, \"yaxis\": {\"backgroundcolor\": \"#E5ECF6\", \"gridcolor\": \"white\", \"gridwidth\": 2, \"linecolor\": \"white\", \"showbackground\": true, \"ticks\": \"\", \"zerolinecolor\": \"white\"}, \"zaxis\": {\"backgroundcolor\": \"#E5ECF6\", \"gridcolor\": \"white\", \"gridwidth\": 2, \"linecolor\": \"white\", \"showbackground\": true, \"ticks\": \"\", \"zerolinecolor\": \"white\"}}, \"shapedefaults\": {\"line\": {\"color\": \"#2a3f5f\"}}, \"ternary\": {\"aaxis\": {\"gridcolor\": \"white\", \"linecolor\": \"white\", \"ticks\": \"\"}, \"baxis\": {\"gridcolor\": \"white\", \"linecolor\": \"white\", \"ticks\": \"\"}, \"bgcolor\": \"#E5ECF6\", \"caxis\": {\"gridcolor\": \"white\", \"linecolor\": \"white\", \"ticks\": \"\"}}, \"title\": {\"x\": 0.05}, \"xaxis\": {\"automargin\": true, \"gridcolor\": \"white\", \"linecolor\": \"white\", \"ticks\": \"\", \"title\": {\"standoff\": 15}, \"zerolinecolor\": \"white\", \"zerolinewidth\": 2}, \"yaxis\": {\"automargin\": true, \"gridcolor\": \"white\", \"linecolor\": \"white\", \"ticks\": \"\", \"title\": {\"standoff\": 15}, \"zerolinecolor\": \"white\", \"zerolinewidth\": 2}}}, \"title\": {\"font\": {\"color\": \"#4D5663\"}}, \"xaxis\": {\"gridcolor\": \"#E1E5ED\", \"showgrid\": true, \"tickfont\": {\"color\": \"#4D5663\"}, \"title\": {\"font\": {\"color\": \"#4D5663\"}, \"text\": \"\"}, \"zerolinecolor\": \"#E1E5ED\"}, \"yaxis\": {\"gridcolor\": \"#E1E5ED\", \"showgrid\": true, \"tickfont\": {\"color\": \"#4D5663\"}, \"title\": {\"font\": {\"color\": \"#4D5663\"}, \"text\": \"\"}, \"zerolinecolor\": \"#E1E5ED\"}},\n",
       "                        {\"showLink\": true, \"linkText\": \"Export to plot.ly\", \"plotlyServerURL\": \"https://plot.ly\", \"responsive\": true}\n",
       "                    ).then(function(){\n",
       "                            \n",
       "var gd = document.getElementById('5a2601a3-3d45-48dc-bdf5-1282c0453664');\n",
       "var x = new MutationObserver(function (mutations, observer) {{\n",
       "        var display = window.getComputedStyle(gd).display;\n",
       "        if (!display || display === 'none') {{\n",
       "            console.log([gd, 'removed!']);\n",
       "            Plotly.purge(gd);\n",
       "            observer.disconnect();\n",
       "        }}\n",
       "}});\n",
       "\n",
       "// Listen for the removal of the full notebook cells\n",
       "var notebookContainer = gd.closest('#notebook-container');\n",
       "if (notebookContainer) {{\n",
       "    x.observe(notebookContainer, {childList: true});\n",
       "}}\n",
       "\n",
       "// Listen for the clearing of the current output cell\n",
       "var outputEl = gd.closest('.output');\n",
       "if (outputEl) {{\n",
       "    x.observe(outputEl, {childList: true});\n",
       "}}\n",
       "\n",
       "                        })\n",
       "                };\n",
       "                });\n",
       "            </script>\n",
       "        </div>"
      ]
     },
     "metadata": {},
     "output_type": "display_data"
    }
   ],
   "source": [
    "df.iplot(kind='scatter',x='A',y='B',mode='markers',size=10)"
   ]
  },
  {
   "cell_type": "markdown",
   "metadata": {},
   "source": [
    "## Bar Plots"
   ]
  },
  {
   "cell_type": "code",
   "execution_count": 11,
   "metadata": {},
   "outputs": [
    {
     "data": {
      "application/vnd.plotly.v1+json": {
       "config": {
        "linkText": "Export to plot.ly",
        "plotlyServerURL": "https://plot.ly",
        "showLink": true
       },
       "data": [
        {
         "marker": {
          "color": "rgba(255, 153, 51, 0.6)",
          "line": {
           "color": "rgba(255, 153, 51, 1.0)",
           "width": 1
          }
         },
         "name": "Values",
         "orientation": "v",
         "text": "",
         "type": "bar",
         "x": [
          "A",
          "B",
          "C"
         ],
         "y": [
          32,
          43,
          50
         ]
        }
       ],
       "layout": {
        "legend": {
         "bgcolor": "#F5F6F9",
         "font": {
          "color": "#4D5663"
         }
        },
        "paper_bgcolor": "#F5F6F9",
        "plot_bgcolor": "#F5F6F9",
        "template": {
         "data": {
          "bar": [
           {
            "error_x": {
             "color": "#2a3f5f"
            },
            "error_y": {
             "color": "#2a3f5f"
            },
            "marker": {
             "line": {
              "color": "#E5ECF6",
              "width": 0.5
             }
            },
            "type": "bar"
           }
          ],
          "barpolar": [
           {
            "marker": {
             "line": {
              "color": "#E5ECF6",
              "width": 0.5
             }
            },
            "type": "barpolar"
           }
          ],
          "carpet": [
           {
            "aaxis": {
             "endlinecolor": "#2a3f5f",
             "gridcolor": "white",
             "linecolor": "white",
             "minorgridcolor": "white",
             "startlinecolor": "#2a3f5f"
            },
            "baxis": {
             "endlinecolor": "#2a3f5f",
             "gridcolor": "white",
             "linecolor": "white",
             "minorgridcolor": "white",
             "startlinecolor": "#2a3f5f"
            },
            "type": "carpet"
           }
          ],
          "choropleth": [
           {
            "colorbar": {
             "outlinewidth": 0,
             "ticks": ""
            },
            "type": "choropleth"
           }
          ],
          "contour": [
           {
            "colorbar": {
             "outlinewidth": 0,
             "ticks": ""
            },
            "colorscale": [
             [
              0,
              "#0d0887"
             ],
             [
              0.1111111111111111,
              "#46039f"
             ],
             [
              0.2222222222222222,
              "#7201a8"
             ],
             [
              0.3333333333333333,
              "#9c179e"
             ],
             [
              0.4444444444444444,
              "#bd3786"
             ],
             [
              0.5555555555555556,
              "#d8576b"
             ],
             [
              0.6666666666666666,
              "#ed7953"
             ],
             [
              0.7777777777777778,
              "#fb9f3a"
             ],
             [
              0.8888888888888888,
              "#fdca26"
             ],
             [
              1,
              "#f0f921"
             ]
            ],
            "type": "contour"
           }
          ],
          "contourcarpet": [
           {
            "colorbar": {
             "outlinewidth": 0,
             "ticks": ""
            },
            "type": "contourcarpet"
           }
          ],
          "heatmap": [
           {
            "colorbar": {
             "outlinewidth": 0,
             "ticks": ""
            },
            "colorscale": [
             [
              0,
              "#0d0887"
             ],
             [
              0.1111111111111111,
              "#46039f"
             ],
             [
              0.2222222222222222,
              "#7201a8"
             ],
             [
              0.3333333333333333,
              "#9c179e"
             ],
             [
              0.4444444444444444,
              "#bd3786"
             ],
             [
              0.5555555555555556,
              "#d8576b"
             ],
             [
              0.6666666666666666,
              "#ed7953"
             ],
             [
              0.7777777777777778,
              "#fb9f3a"
             ],
             [
              0.8888888888888888,
              "#fdca26"
             ],
             [
              1,
              "#f0f921"
             ]
            ],
            "type": "heatmap"
           }
          ],
          "heatmapgl": [
           {
            "colorbar": {
             "outlinewidth": 0,
             "ticks": ""
            },
            "colorscale": [
             [
              0,
              "#0d0887"
             ],
             [
              0.1111111111111111,
              "#46039f"
             ],
             [
              0.2222222222222222,
              "#7201a8"
             ],
             [
              0.3333333333333333,
              "#9c179e"
             ],
             [
              0.4444444444444444,
              "#bd3786"
             ],
             [
              0.5555555555555556,
              "#d8576b"
             ],
             [
              0.6666666666666666,
              "#ed7953"
             ],
             [
              0.7777777777777778,
              "#fb9f3a"
             ],
             [
              0.8888888888888888,
              "#fdca26"
             ],
             [
              1,
              "#f0f921"
             ]
            ],
            "type": "heatmapgl"
           }
          ],
          "histogram": [
           {
            "marker": {
             "colorbar": {
              "outlinewidth": 0,
              "ticks": ""
             }
            },
            "type": "histogram"
           }
          ],
          "histogram2d": [
           {
            "colorbar": {
             "outlinewidth": 0,
             "ticks": ""
            },
            "colorscale": [
             [
              0,
              "#0d0887"
             ],
             [
              0.1111111111111111,
              "#46039f"
             ],
             [
              0.2222222222222222,
              "#7201a8"
             ],
             [
              0.3333333333333333,
              "#9c179e"
             ],
             [
              0.4444444444444444,
              "#bd3786"
             ],
             [
              0.5555555555555556,
              "#d8576b"
             ],
             [
              0.6666666666666666,
              "#ed7953"
             ],
             [
              0.7777777777777778,
              "#fb9f3a"
             ],
             [
              0.8888888888888888,
              "#fdca26"
             ],
             [
              1,
              "#f0f921"
             ]
            ],
            "type": "histogram2d"
           }
          ],
          "histogram2dcontour": [
           {
            "colorbar": {
             "outlinewidth": 0,
             "ticks": ""
            },
            "colorscale": [
             [
              0,
              "#0d0887"
             ],
             [
              0.1111111111111111,
              "#46039f"
             ],
             [
              0.2222222222222222,
              "#7201a8"
             ],
             [
              0.3333333333333333,
              "#9c179e"
             ],
             [
              0.4444444444444444,
              "#bd3786"
             ],
             [
              0.5555555555555556,
              "#d8576b"
             ],
             [
              0.6666666666666666,
              "#ed7953"
             ],
             [
              0.7777777777777778,
              "#fb9f3a"
             ],
             [
              0.8888888888888888,
              "#fdca26"
             ],
             [
              1,
              "#f0f921"
             ]
            ],
            "type": "histogram2dcontour"
           }
          ],
          "mesh3d": [
           {
            "colorbar": {
             "outlinewidth": 0,
             "ticks": ""
            },
            "type": "mesh3d"
           }
          ],
          "parcoords": [
           {
            "line": {
             "colorbar": {
              "outlinewidth": 0,
              "ticks": ""
             }
            },
            "type": "parcoords"
           }
          ],
          "pie": [
           {
            "automargin": true,
            "type": "pie"
           }
          ],
          "scatter": [
           {
            "marker": {
             "colorbar": {
              "outlinewidth": 0,
              "ticks": ""
             }
            },
            "type": "scatter"
           }
          ],
          "scatter3d": [
           {
            "line": {
             "colorbar": {
              "outlinewidth": 0,
              "ticks": ""
             }
            },
            "marker": {
             "colorbar": {
              "outlinewidth": 0,
              "ticks": ""
             }
            },
            "type": "scatter3d"
           }
          ],
          "scattercarpet": [
           {
            "marker": {
             "colorbar": {
              "outlinewidth": 0,
              "ticks": ""
             }
            },
            "type": "scattercarpet"
           }
          ],
          "scattergeo": [
           {
            "marker": {
             "colorbar": {
              "outlinewidth": 0,
              "ticks": ""
             }
            },
            "type": "scattergeo"
           }
          ],
          "scattergl": [
           {
            "marker": {
             "colorbar": {
              "outlinewidth": 0,
              "ticks": ""
             }
            },
            "type": "scattergl"
           }
          ],
          "scattermapbox": [
           {
            "marker": {
             "colorbar": {
              "outlinewidth": 0,
              "ticks": ""
             }
            },
            "type": "scattermapbox"
           }
          ],
          "scatterpolar": [
           {
            "marker": {
             "colorbar": {
              "outlinewidth": 0,
              "ticks": ""
             }
            },
            "type": "scatterpolar"
           }
          ],
          "scatterpolargl": [
           {
            "marker": {
             "colorbar": {
              "outlinewidth": 0,
              "ticks": ""
             }
            },
            "type": "scatterpolargl"
           }
          ],
          "scatterternary": [
           {
            "marker": {
             "colorbar": {
              "outlinewidth": 0,
              "ticks": ""
             }
            },
            "type": "scatterternary"
           }
          ],
          "surface": [
           {
            "colorbar": {
             "outlinewidth": 0,
             "ticks": ""
            },
            "colorscale": [
             [
              0,
              "#0d0887"
             ],
             [
              0.1111111111111111,
              "#46039f"
             ],
             [
              0.2222222222222222,
              "#7201a8"
             ],
             [
              0.3333333333333333,
              "#9c179e"
             ],
             [
              0.4444444444444444,
              "#bd3786"
             ],
             [
              0.5555555555555556,
              "#d8576b"
             ],
             [
              0.6666666666666666,
              "#ed7953"
             ],
             [
              0.7777777777777778,
              "#fb9f3a"
             ],
             [
              0.8888888888888888,
              "#fdca26"
             ],
             [
              1,
              "#f0f921"
             ]
            ],
            "type": "surface"
           }
          ],
          "table": [
           {
            "cells": {
             "fill": {
              "color": "#EBF0F8"
             },
             "line": {
              "color": "white"
             }
            },
            "header": {
             "fill": {
              "color": "#C8D4E3"
             },
             "line": {
              "color": "white"
             }
            },
            "type": "table"
           }
          ]
         },
         "layout": {
          "annotationdefaults": {
           "arrowcolor": "#2a3f5f",
           "arrowhead": 0,
           "arrowwidth": 1
          },
          "coloraxis": {
           "colorbar": {
            "outlinewidth": 0,
            "ticks": ""
           }
          },
          "colorscale": {
           "diverging": [
            [
             0,
             "#8e0152"
            ],
            [
             0.1,
             "#c51b7d"
            ],
            [
             0.2,
             "#de77ae"
            ],
            [
             0.3,
             "#f1b6da"
            ],
            [
             0.4,
             "#fde0ef"
            ],
            [
             0.5,
             "#f7f7f7"
            ],
            [
             0.6,
             "#e6f5d0"
            ],
            [
             0.7,
             "#b8e186"
            ],
            [
             0.8,
             "#7fbc41"
            ],
            [
             0.9,
             "#4d9221"
            ],
            [
             1,
             "#276419"
            ]
           ],
           "sequential": [
            [
             0,
             "#0d0887"
            ],
            [
             0.1111111111111111,
             "#46039f"
            ],
            [
             0.2222222222222222,
             "#7201a8"
            ],
            [
             0.3333333333333333,
             "#9c179e"
            ],
            [
             0.4444444444444444,
             "#bd3786"
            ],
            [
             0.5555555555555556,
             "#d8576b"
            ],
            [
             0.6666666666666666,
             "#ed7953"
            ],
            [
             0.7777777777777778,
             "#fb9f3a"
            ],
            [
             0.8888888888888888,
             "#fdca26"
            ],
            [
             1,
             "#f0f921"
            ]
           ],
           "sequentialminus": [
            [
             0,
             "#0d0887"
            ],
            [
             0.1111111111111111,
             "#46039f"
            ],
            [
             0.2222222222222222,
             "#7201a8"
            ],
            [
             0.3333333333333333,
             "#9c179e"
            ],
            [
             0.4444444444444444,
             "#bd3786"
            ],
            [
             0.5555555555555556,
             "#d8576b"
            ],
            [
             0.6666666666666666,
             "#ed7953"
            ],
            [
             0.7777777777777778,
             "#fb9f3a"
            ],
            [
             0.8888888888888888,
             "#fdca26"
            ],
            [
             1,
             "#f0f921"
            ]
           ]
          },
          "colorway": [
           "#636efa",
           "#EF553B",
           "#00cc96",
           "#ab63fa",
           "#FFA15A",
           "#19d3f3",
           "#FF6692",
           "#B6E880",
           "#FF97FF",
           "#FECB52"
          ],
          "font": {
           "color": "#2a3f5f"
          },
          "geo": {
           "bgcolor": "white",
           "lakecolor": "white",
           "landcolor": "#E5ECF6",
           "showlakes": true,
           "showland": true,
           "subunitcolor": "white"
          },
          "hoverlabel": {
           "align": "left"
          },
          "hovermode": "closest",
          "mapbox": {
           "style": "light"
          },
          "paper_bgcolor": "white",
          "plot_bgcolor": "#E5ECF6",
          "polar": {
           "angularaxis": {
            "gridcolor": "white",
            "linecolor": "white",
            "ticks": ""
           },
           "bgcolor": "#E5ECF6",
           "radialaxis": {
            "gridcolor": "white",
            "linecolor": "white",
            "ticks": ""
           }
          },
          "scene": {
           "xaxis": {
            "backgroundcolor": "#E5ECF6",
            "gridcolor": "white",
            "gridwidth": 2,
            "linecolor": "white",
            "showbackground": true,
            "ticks": "",
            "zerolinecolor": "white"
           },
           "yaxis": {
            "backgroundcolor": "#E5ECF6",
            "gridcolor": "white",
            "gridwidth": 2,
            "linecolor": "white",
            "showbackground": true,
            "ticks": "",
            "zerolinecolor": "white"
           },
           "zaxis": {
            "backgroundcolor": "#E5ECF6",
            "gridcolor": "white",
            "gridwidth": 2,
            "linecolor": "white",
            "showbackground": true,
            "ticks": "",
            "zerolinecolor": "white"
           }
          },
          "shapedefaults": {
           "line": {
            "color": "#2a3f5f"
           }
          },
          "ternary": {
           "aaxis": {
            "gridcolor": "white",
            "linecolor": "white",
            "ticks": ""
           },
           "baxis": {
            "gridcolor": "white",
            "linecolor": "white",
            "ticks": ""
           },
           "bgcolor": "#E5ECF6",
           "caxis": {
            "gridcolor": "white",
            "linecolor": "white",
            "ticks": ""
           }
          },
          "title": {
           "x": 0.05
          },
          "xaxis": {
           "automargin": true,
           "gridcolor": "white",
           "linecolor": "white",
           "ticks": "",
           "title": {
            "standoff": 15
           },
           "zerolinecolor": "white",
           "zerolinewidth": 2
          },
          "yaxis": {
           "automargin": true,
           "gridcolor": "white",
           "linecolor": "white",
           "ticks": "",
           "title": {
            "standoff": 15
           },
           "zerolinecolor": "white",
           "zerolinewidth": 2
          }
         }
        },
        "title": {
         "font": {
          "color": "#4D5663"
         }
        },
        "xaxis": {
         "gridcolor": "#E1E5ED",
         "showgrid": true,
         "tickfont": {
          "color": "#4D5663"
         },
         "title": {
          "font": {
           "color": "#4D5663"
          },
          "text": ""
         },
         "zerolinecolor": "#E1E5ED"
        },
        "yaxis": {
         "gridcolor": "#E1E5ED",
         "showgrid": true,
         "tickfont": {
          "color": "#4D5663"
         },
         "title": {
          "font": {
           "color": "#4D5663"
          },
          "text": ""
         },
         "zerolinecolor": "#E1E5ED"
        }
       }
      },
      "text/html": [
       "<div>\n",
       "        \n",
       "        \n",
       "            <div id=\"62201079-819f-46e9-8ccf-459b3535228c\" class=\"plotly-graph-div\" style=\"height:525px; width:100%;\"></div>\n",
       "            <script type=\"text/javascript\">\n",
       "                require([\"plotly\"], function(Plotly) {\n",
       "                    window.PLOTLYENV=window.PLOTLYENV || {};\n",
       "                    window.PLOTLYENV.BASE_URL='https://plot.ly';\n",
       "                    \n",
       "                if (document.getElementById(\"62201079-819f-46e9-8ccf-459b3535228c\")) {\n",
       "                    Plotly.newPlot(\n",
       "                        '62201079-819f-46e9-8ccf-459b3535228c',\n",
       "                        [{\"marker\": {\"color\": \"rgba(255, 153, 51, 0.6)\", \"line\": {\"color\": \"rgba(255, 153, 51, 1.0)\", \"width\": 1}}, \"name\": \"Values\", \"orientation\": \"v\", \"text\": \"\", \"type\": \"bar\", \"x\": [\"A\", \"B\", \"C\"], \"y\": [32, 43, 50]}],\n",
       "                        {\"legend\": {\"bgcolor\": \"#F5F6F9\", \"font\": {\"color\": \"#4D5663\"}}, \"paper_bgcolor\": \"#F5F6F9\", \"plot_bgcolor\": \"#F5F6F9\", \"template\": {\"data\": {\"bar\": [{\"error_x\": {\"color\": \"#2a3f5f\"}, \"error_y\": {\"color\": \"#2a3f5f\"}, \"marker\": {\"line\": {\"color\": \"#E5ECF6\", \"width\": 0.5}}, \"type\": \"bar\"}], \"barpolar\": [{\"marker\": {\"line\": {\"color\": \"#E5ECF6\", \"width\": 0.5}}, \"type\": \"barpolar\"}], \"carpet\": [{\"aaxis\": {\"endlinecolor\": \"#2a3f5f\", \"gridcolor\": \"white\", \"linecolor\": \"white\", \"minorgridcolor\": \"white\", \"startlinecolor\": \"#2a3f5f\"}, \"baxis\": {\"endlinecolor\": \"#2a3f5f\", \"gridcolor\": \"white\", \"linecolor\": \"white\", \"minorgridcolor\": \"white\", \"startlinecolor\": \"#2a3f5f\"}, \"type\": \"carpet\"}], \"choropleth\": [{\"colorbar\": {\"outlinewidth\": 0, \"ticks\": \"\"}, \"type\": \"choropleth\"}], \"contour\": [{\"colorbar\": {\"outlinewidth\": 0, \"ticks\": \"\"}, \"colorscale\": [[0.0, \"#0d0887\"], [0.1111111111111111, \"#46039f\"], [0.2222222222222222, \"#7201a8\"], [0.3333333333333333, \"#9c179e\"], [0.4444444444444444, \"#bd3786\"], [0.5555555555555556, \"#d8576b\"], [0.6666666666666666, \"#ed7953\"], [0.7777777777777778, \"#fb9f3a\"], [0.8888888888888888, \"#fdca26\"], [1.0, \"#f0f921\"]], \"type\": \"contour\"}], \"contourcarpet\": [{\"colorbar\": {\"outlinewidth\": 0, \"ticks\": \"\"}, \"type\": \"contourcarpet\"}], \"heatmap\": [{\"colorbar\": {\"outlinewidth\": 0, \"ticks\": \"\"}, \"colorscale\": [[0.0, \"#0d0887\"], [0.1111111111111111, \"#46039f\"], [0.2222222222222222, \"#7201a8\"], [0.3333333333333333, \"#9c179e\"], [0.4444444444444444, \"#bd3786\"], [0.5555555555555556, \"#d8576b\"], [0.6666666666666666, \"#ed7953\"], [0.7777777777777778, \"#fb9f3a\"], [0.8888888888888888, \"#fdca26\"], [1.0, \"#f0f921\"]], \"type\": \"heatmap\"}], \"heatmapgl\": [{\"colorbar\": {\"outlinewidth\": 0, \"ticks\": \"\"}, \"colorscale\": [[0.0, \"#0d0887\"], [0.1111111111111111, \"#46039f\"], [0.2222222222222222, \"#7201a8\"], [0.3333333333333333, \"#9c179e\"], [0.4444444444444444, \"#bd3786\"], [0.5555555555555556, \"#d8576b\"], [0.6666666666666666, \"#ed7953\"], [0.7777777777777778, \"#fb9f3a\"], [0.8888888888888888, \"#fdca26\"], [1.0, \"#f0f921\"]], \"type\": \"heatmapgl\"}], \"histogram\": [{\"marker\": {\"colorbar\": {\"outlinewidth\": 0, \"ticks\": \"\"}}, \"type\": \"histogram\"}], \"histogram2d\": [{\"colorbar\": {\"outlinewidth\": 0, \"ticks\": \"\"}, \"colorscale\": [[0.0, \"#0d0887\"], [0.1111111111111111, \"#46039f\"], [0.2222222222222222, \"#7201a8\"], [0.3333333333333333, \"#9c179e\"], [0.4444444444444444, \"#bd3786\"], [0.5555555555555556, \"#d8576b\"], [0.6666666666666666, \"#ed7953\"], [0.7777777777777778, \"#fb9f3a\"], [0.8888888888888888, \"#fdca26\"], [1.0, \"#f0f921\"]], \"type\": \"histogram2d\"}], \"histogram2dcontour\": [{\"colorbar\": {\"outlinewidth\": 0, \"ticks\": \"\"}, \"colorscale\": [[0.0, \"#0d0887\"], [0.1111111111111111, \"#46039f\"], [0.2222222222222222, \"#7201a8\"], [0.3333333333333333, \"#9c179e\"], [0.4444444444444444, \"#bd3786\"], [0.5555555555555556, \"#d8576b\"], [0.6666666666666666, \"#ed7953\"], [0.7777777777777778, \"#fb9f3a\"], [0.8888888888888888, \"#fdca26\"], [1.0, \"#f0f921\"]], \"type\": \"histogram2dcontour\"}], \"mesh3d\": [{\"colorbar\": {\"outlinewidth\": 0, \"ticks\": \"\"}, \"type\": \"mesh3d\"}], \"parcoords\": [{\"line\": {\"colorbar\": {\"outlinewidth\": 0, \"ticks\": \"\"}}, \"type\": \"parcoords\"}], \"pie\": [{\"automargin\": true, \"type\": \"pie\"}], \"scatter\": [{\"marker\": {\"colorbar\": {\"outlinewidth\": 0, \"ticks\": \"\"}}, \"type\": \"scatter\"}], \"scatter3d\": [{\"line\": {\"colorbar\": {\"outlinewidth\": 0, \"ticks\": \"\"}}, \"marker\": {\"colorbar\": {\"outlinewidth\": 0, \"ticks\": \"\"}}, \"type\": \"scatter3d\"}], \"scattercarpet\": [{\"marker\": {\"colorbar\": {\"outlinewidth\": 0, \"ticks\": \"\"}}, \"type\": \"scattercarpet\"}], \"scattergeo\": [{\"marker\": {\"colorbar\": {\"outlinewidth\": 0, \"ticks\": \"\"}}, \"type\": \"scattergeo\"}], \"scattergl\": [{\"marker\": {\"colorbar\": {\"outlinewidth\": 0, \"ticks\": \"\"}}, \"type\": \"scattergl\"}], \"scattermapbox\": [{\"marker\": {\"colorbar\": {\"outlinewidth\": 0, \"ticks\": \"\"}}, \"type\": \"scattermapbox\"}], \"scatterpolar\": [{\"marker\": {\"colorbar\": {\"outlinewidth\": 0, \"ticks\": \"\"}}, \"type\": \"scatterpolar\"}], \"scatterpolargl\": [{\"marker\": {\"colorbar\": {\"outlinewidth\": 0, \"ticks\": \"\"}}, \"type\": \"scatterpolargl\"}], \"scatterternary\": [{\"marker\": {\"colorbar\": {\"outlinewidth\": 0, \"ticks\": \"\"}}, \"type\": \"scatterternary\"}], \"surface\": [{\"colorbar\": {\"outlinewidth\": 0, \"ticks\": \"\"}, \"colorscale\": [[0.0, \"#0d0887\"], [0.1111111111111111, \"#46039f\"], [0.2222222222222222, \"#7201a8\"], [0.3333333333333333, \"#9c179e\"], [0.4444444444444444, \"#bd3786\"], [0.5555555555555556, \"#d8576b\"], [0.6666666666666666, \"#ed7953\"], [0.7777777777777778, \"#fb9f3a\"], [0.8888888888888888, \"#fdca26\"], [1.0, \"#f0f921\"]], \"type\": \"surface\"}], \"table\": [{\"cells\": {\"fill\": {\"color\": \"#EBF0F8\"}, \"line\": {\"color\": \"white\"}}, \"header\": {\"fill\": {\"color\": \"#C8D4E3\"}, \"line\": {\"color\": \"white\"}}, \"type\": \"table\"}]}, \"layout\": {\"annotationdefaults\": {\"arrowcolor\": \"#2a3f5f\", \"arrowhead\": 0, \"arrowwidth\": 1}, \"coloraxis\": {\"colorbar\": {\"outlinewidth\": 0, \"ticks\": \"\"}}, \"colorscale\": {\"diverging\": [[0, \"#8e0152\"], [0.1, \"#c51b7d\"], [0.2, \"#de77ae\"], [0.3, \"#f1b6da\"], [0.4, \"#fde0ef\"], [0.5, \"#f7f7f7\"], [0.6, \"#e6f5d0\"], [0.7, \"#b8e186\"], [0.8, \"#7fbc41\"], [0.9, \"#4d9221\"], [1, \"#276419\"]], \"sequential\": [[0.0, \"#0d0887\"], [0.1111111111111111, \"#46039f\"], [0.2222222222222222, \"#7201a8\"], [0.3333333333333333, \"#9c179e\"], [0.4444444444444444, \"#bd3786\"], [0.5555555555555556, \"#d8576b\"], [0.6666666666666666, \"#ed7953\"], [0.7777777777777778, \"#fb9f3a\"], [0.8888888888888888, \"#fdca26\"], [1.0, \"#f0f921\"]], \"sequentialminus\": [[0.0, \"#0d0887\"], [0.1111111111111111, \"#46039f\"], [0.2222222222222222, \"#7201a8\"], [0.3333333333333333, \"#9c179e\"], [0.4444444444444444, \"#bd3786\"], [0.5555555555555556, \"#d8576b\"], [0.6666666666666666, \"#ed7953\"], [0.7777777777777778, \"#fb9f3a\"], [0.8888888888888888, \"#fdca26\"], [1.0, \"#f0f921\"]]}, \"colorway\": [\"#636efa\", \"#EF553B\", \"#00cc96\", \"#ab63fa\", \"#FFA15A\", \"#19d3f3\", \"#FF6692\", \"#B6E880\", \"#FF97FF\", \"#FECB52\"], \"font\": {\"color\": \"#2a3f5f\"}, \"geo\": {\"bgcolor\": \"white\", \"lakecolor\": \"white\", \"landcolor\": \"#E5ECF6\", \"showlakes\": true, \"showland\": true, \"subunitcolor\": \"white\"}, \"hoverlabel\": {\"align\": \"left\"}, \"hovermode\": \"closest\", \"mapbox\": {\"style\": \"light\"}, \"paper_bgcolor\": \"white\", \"plot_bgcolor\": \"#E5ECF6\", \"polar\": {\"angularaxis\": {\"gridcolor\": \"white\", \"linecolor\": \"white\", \"ticks\": \"\"}, \"bgcolor\": \"#E5ECF6\", \"radialaxis\": {\"gridcolor\": \"white\", \"linecolor\": \"white\", \"ticks\": \"\"}}, \"scene\": {\"xaxis\": {\"backgroundcolor\": \"#E5ECF6\", \"gridcolor\": \"white\", \"gridwidth\": 2, \"linecolor\": \"white\", \"showbackground\": true, \"ticks\": \"\", \"zerolinecolor\": \"white\"}, \"yaxis\": {\"backgroundcolor\": \"#E5ECF6\", \"gridcolor\": \"white\", \"gridwidth\": 2, \"linecolor\": \"white\", \"showbackground\": true, \"ticks\": \"\", \"zerolinecolor\": \"white\"}, \"zaxis\": {\"backgroundcolor\": \"#E5ECF6\", \"gridcolor\": \"white\", \"gridwidth\": 2, \"linecolor\": \"white\", \"showbackground\": true, \"ticks\": \"\", \"zerolinecolor\": \"white\"}}, \"shapedefaults\": {\"line\": {\"color\": \"#2a3f5f\"}}, \"ternary\": {\"aaxis\": {\"gridcolor\": \"white\", \"linecolor\": \"white\", \"ticks\": \"\"}, \"baxis\": {\"gridcolor\": \"white\", \"linecolor\": \"white\", \"ticks\": \"\"}, \"bgcolor\": \"#E5ECF6\", \"caxis\": {\"gridcolor\": \"white\", \"linecolor\": \"white\", \"ticks\": \"\"}}, \"title\": {\"x\": 0.05}, \"xaxis\": {\"automargin\": true, \"gridcolor\": \"white\", \"linecolor\": \"white\", \"ticks\": \"\", \"title\": {\"standoff\": 15}, \"zerolinecolor\": \"white\", \"zerolinewidth\": 2}, \"yaxis\": {\"automargin\": true, \"gridcolor\": \"white\", \"linecolor\": \"white\", \"ticks\": \"\", \"title\": {\"standoff\": 15}, \"zerolinecolor\": \"white\", \"zerolinewidth\": 2}}}, \"title\": {\"font\": {\"color\": \"#4D5663\"}}, \"xaxis\": {\"gridcolor\": \"#E1E5ED\", \"showgrid\": true, \"tickfont\": {\"color\": \"#4D5663\"}, \"title\": {\"font\": {\"color\": \"#4D5663\"}, \"text\": \"\"}, \"zerolinecolor\": \"#E1E5ED\"}, \"yaxis\": {\"gridcolor\": \"#E1E5ED\", \"showgrid\": true, \"tickfont\": {\"color\": \"#4D5663\"}, \"title\": {\"font\": {\"color\": \"#4D5663\"}, \"text\": \"\"}, \"zerolinecolor\": \"#E1E5ED\"}},\n",
       "                        {\"showLink\": true, \"linkText\": \"Export to plot.ly\", \"plotlyServerURL\": \"https://plot.ly\", \"responsive\": true}\n",
       "                    ).then(function(){\n",
       "                            \n",
       "var gd = document.getElementById('62201079-819f-46e9-8ccf-459b3535228c');\n",
       "var x = new MutationObserver(function (mutations, observer) {{\n",
       "        var display = window.getComputedStyle(gd).display;\n",
       "        if (!display || display === 'none') {{\n",
       "            console.log([gd, 'removed!']);\n",
       "            Plotly.purge(gd);\n",
       "            observer.disconnect();\n",
       "        }}\n",
       "}});\n",
       "\n",
       "// Listen for the removal of the full notebook cells\n",
       "var notebookContainer = gd.closest('#notebook-container');\n",
       "if (notebookContainer) {{\n",
       "    x.observe(notebookContainer, {childList: true});\n",
       "}}\n",
       "\n",
       "// Listen for the clearing of the current output cell\n",
       "var outputEl = gd.closest('.output');\n",
       "if (outputEl) {{\n",
       "    x.observe(outputEl, {childList: true});\n",
       "}}\n",
       "\n",
       "                        })\n",
       "                };\n",
       "                });\n",
       "            </script>\n",
       "        </div>"
      ]
     },
     "metadata": {},
     "output_type": "display_data"
    }
   ],
   "source": [
    "df2.iplot(kind='bar',x='Category',y='Values')"
   ]
  },
  {
   "cell_type": "code",
   "execution_count": 12,
   "metadata": {},
   "outputs": [
    {
     "data": {
      "application/vnd.plotly.v1+json": {
       "config": {
        "linkText": "Export to plot.ly",
        "plotlyServerURL": "https://plot.ly",
        "showLink": true
       },
       "data": [
        {
         "marker": {
          "color": "rgba(255, 153, 51, 0.6)",
          "line": {
           "color": "rgba(255, 153, 51, 1.0)",
           "width": 1
          }
         },
         "name": "None",
         "orientation": "v",
         "text": "",
         "type": "bar",
         "x": [
          "A",
          "B",
          "C",
          "D"
         ],
         "y": [
          100,
          100,
          100,
          100
         ]
        }
       ],
       "layout": {
        "legend": {
         "bgcolor": "#F5F6F9",
         "font": {
          "color": "#4D5663"
         }
        },
        "paper_bgcolor": "#F5F6F9",
        "plot_bgcolor": "#F5F6F9",
        "template": {
         "data": {
          "bar": [
           {
            "error_x": {
             "color": "#2a3f5f"
            },
            "error_y": {
             "color": "#2a3f5f"
            },
            "marker": {
             "line": {
              "color": "#E5ECF6",
              "width": 0.5
             }
            },
            "type": "bar"
           }
          ],
          "barpolar": [
           {
            "marker": {
             "line": {
              "color": "#E5ECF6",
              "width": 0.5
             }
            },
            "type": "barpolar"
           }
          ],
          "carpet": [
           {
            "aaxis": {
             "endlinecolor": "#2a3f5f",
             "gridcolor": "white",
             "linecolor": "white",
             "minorgridcolor": "white",
             "startlinecolor": "#2a3f5f"
            },
            "baxis": {
             "endlinecolor": "#2a3f5f",
             "gridcolor": "white",
             "linecolor": "white",
             "minorgridcolor": "white",
             "startlinecolor": "#2a3f5f"
            },
            "type": "carpet"
           }
          ],
          "choropleth": [
           {
            "colorbar": {
             "outlinewidth": 0,
             "ticks": ""
            },
            "type": "choropleth"
           }
          ],
          "contour": [
           {
            "colorbar": {
             "outlinewidth": 0,
             "ticks": ""
            },
            "colorscale": [
             [
              0,
              "#0d0887"
             ],
             [
              0.1111111111111111,
              "#46039f"
             ],
             [
              0.2222222222222222,
              "#7201a8"
             ],
             [
              0.3333333333333333,
              "#9c179e"
             ],
             [
              0.4444444444444444,
              "#bd3786"
             ],
             [
              0.5555555555555556,
              "#d8576b"
             ],
             [
              0.6666666666666666,
              "#ed7953"
             ],
             [
              0.7777777777777778,
              "#fb9f3a"
             ],
             [
              0.8888888888888888,
              "#fdca26"
             ],
             [
              1,
              "#f0f921"
             ]
            ],
            "type": "contour"
           }
          ],
          "contourcarpet": [
           {
            "colorbar": {
             "outlinewidth": 0,
             "ticks": ""
            },
            "type": "contourcarpet"
           }
          ],
          "heatmap": [
           {
            "colorbar": {
             "outlinewidth": 0,
             "ticks": ""
            },
            "colorscale": [
             [
              0,
              "#0d0887"
             ],
             [
              0.1111111111111111,
              "#46039f"
             ],
             [
              0.2222222222222222,
              "#7201a8"
             ],
             [
              0.3333333333333333,
              "#9c179e"
             ],
             [
              0.4444444444444444,
              "#bd3786"
             ],
             [
              0.5555555555555556,
              "#d8576b"
             ],
             [
              0.6666666666666666,
              "#ed7953"
             ],
             [
              0.7777777777777778,
              "#fb9f3a"
             ],
             [
              0.8888888888888888,
              "#fdca26"
             ],
             [
              1,
              "#f0f921"
             ]
            ],
            "type": "heatmap"
           }
          ],
          "heatmapgl": [
           {
            "colorbar": {
             "outlinewidth": 0,
             "ticks": ""
            },
            "colorscale": [
             [
              0,
              "#0d0887"
             ],
             [
              0.1111111111111111,
              "#46039f"
             ],
             [
              0.2222222222222222,
              "#7201a8"
             ],
             [
              0.3333333333333333,
              "#9c179e"
             ],
             [
              0.4444444444444444,
              "#bd3786"
             ],
             [
              0.5555555555555556,
              "#d8576b"
             ],
             [
              0.6666666666666666,
              "#ed7953"
             ],
             [
              0.7777777777777778,
              "#fb9f3a"
             ],
             [
              0.8888888888888888,
              "#fdca26"
             ],
             [
              1,
              "#f0f921"
             ]
            ],
            "type": "heatmapgl"
           }
          ],
          "histogram": [
           {
            "marker": {
             "colorbar": {
              "outlinewidth": 0,
              "ticks": ""
             }
            },
            "type": "histogram"
           }
          ],
          "histogram2d": [
           {
            "colorbar": {
             "outlinewidth": 0,
             "ticks": ""
            },
            "colorscale": [
             [
              0,
              "#0d0887"
             ],
             [
              0.1111111111111111,
              "#46039f"
             ],
             [
              0.2222222222222222,
              "#7201a8"
             ],
             [
              0.3333333333333333,
              "#9c179e"
             ],
             [
              0.4444444444444444,
              "#bd3786"
             ],
             [
              0.5555555555555556,
              "#d8576b"
             ],
             [
              0.6666666666666666,
              "#ed7953"
             ],
             [
              0.7777777777777778,
              "#fb9f3a"
             ],
             [
              0.8888888888888888,
              "#fdca26"
             ],
             [
              1,
              "#f0f921"
             ]
            ],
            "type": "histogram2d"
           }
          ],
          "histogram2dcontour": [
           {
            "colorbar": {
             "outlinewidth": 0,
             "ticks": ""
            },
            "colorscale": [
             [
              0,
              "#0d0887"
             ],
             [
              0.1111111111111111,
              "#46039f"
             ],
             [
              0.2222222222222222,
              "#7201a8"
             ],
             [
              0.3333333333333333,
              "#9c179e"
             ],
             [
              0.4444444444444444,
              "#bd3786"
             ],
             [
              0.5555555555555556,
              "#d8576b"
             ],
             [
              0.6666666666666666,
              "#ed7953"
             ],
             [
              0.7777777777777778,
              "#fb9f3a"
             ],
             [
              0.8888888888888888,
              "#fdca26"
             ],
             [
              1,
              "#f0f921"
             ]
            ],
            "type": "histogram2dcontour"
           }
          ],
          "mesh3d": [
           {
            "colorbar": {
             "outlinewidth": 0,
             "ticks": ""
            },
            "type": "mesh3d"
           }
          ],
          "parcoords": [
           {
            "line": {
             "colorbar": {
              "outlinewidth": 0,
              "ticks": ""
             }
            },
            "type": "parcoords"
           }
          ],
          "pie": [
           {
            "automargin": true,
            "type": "pie"
           }
          ],
          "scatter": [
           {
            "marker": {
             "colorbar": {
              "outlinewidth": 0,
              "ticks": ""
             }
            },
            "type": "scatter"
           }
          ],
          "scatter3d": [
           {
            "line": {
             "colorbar": {
              "outlinewidth": 0,
              "ticks": ""
             }
            },
            "marker": {
             "colorbar": {
              "outlinewidth": 0,
              "ticks": ""
             }
            },
            "type": "scatter3d"
           }
          ],
          "scattercarpet": [
           {
            "marker": {
             "colorbar": {
              "outlinewidth": 0,
              "ticks": ""
             }
            },
            "type": "scattercarpet"
           }
          ],
          "scattergeo": [
           {
            "marker": {
             "colorbar": {
              "outlinewidth": 0,
              "ticks": ""
             }
            },
            "type": "scattergeo"
           }
          ],
          "scattergl": [
           {
            "marker": {
             "colorbar": {
              "outlinewidth": 0,
              "ticks": ""
             }
            },
            "type": "scattergl"
           }
          ],
          "scattermapbox": [
           {
            "marker": {
             "colorbar": {
              "outlinewidth": 0,
              "ticks": ""
             }
            },
            "type": "scattermapbox"
           }
          ],
          "scatterpolar": [
           {
            "marker": {
             "colorbar": {
              "outlinewidth": 0,
              "ticks": ""
             }
            },
            "type": "scatterpolar"
           }
          ],
          "scatterpolargl": [
           {
            "marker": {
             "colorbar": {
              "outlinewidth": 0,
              "ticks": ""
             }
            },
            "type": "scatterpolargl"
           }
          ],
          "scatterternary": [
           {
            "marker": {
             "colorbar": {
              "outlinewidth": 0,
              "ticks": ""
             }
            },
            "type": "scatterternary"
           }
          ],
          "surface": [
           {
            "colorbar": {
             "outlinewidth": 0,
             "ticks": ""
            },
            "colorscale": [
             [
              0,
              "#0d0887"
             ],
             [
              0.1111111111111111,
              "#46039f"
             ],
             [
              0.2222222222222222,
              "#7201a8"
             ],
             [
              0.3333333333333333,
              "#9c179e"
             ],
             [
              0.4444444444444444,
              "#bd3786"
             ],
             [
              0.5555555555555556,
              "#d8576b"
             ],
             [
              0.6666666666666666,
              "#ed7953"
             ],
             [
              0.7777777777777778,
              "#fb9f3a"
             ],
             [
              0.8888888888888888,
              "#fdca26"
             ],
             [
              1,
              "#f0f921"
             ]
            ],
            "type": "surface"
           }
          ],
          "table": [
           {
            "cells": {
             "fill": {
              "color": "#EBF0F8"
             },
             "line": {
              "color": "white"
             }
            },
            "header": {
             "fill": {
              "color": "#C8D4E3"
             },
             "line": {
              "color": "white"
             }
            },
            "type": "table"
           }
          ]
         },
         "layout": {
          "annotationdefaults": {
           "arrowcolor": "#2a3f5f",
           "arrowhead": 0,
           "arrowwidth": 1
          },
          "coloraxis": {
           "colorbar": {
            "outlinewidth": 0,
            "ticks": ""
           }
          },
          "colorscale": {
           "diverging": [
            [
             0,
             "#8e0152"
            ],
            [
             0.1,
             "#c51b7d"
            ],
            [
             0.2,
             "#de77ae"
            ],
            [
             0.3,
             "#f1b6da"
            ],
            [
             0.4,
             "#fde0ef"
            ],
            [
             0.5,
             "#f7f7f7"
            ],
            [
             0.6,
             "#e6f5d0"
            ],
            [
             0.7,
             "#b8e186"
            ],
            [
             0.8,
             "#7fbc41"
            ],
            [
             0.9,
             "#4d9221"
            ],
            [
             1,
             "#276419"
            ]
           ],
           "sequential": [
            [
             0,
             "#0d0887"
            ],
            [
             0.1111111111111111,
             "#46039f"
            ],
            [
             0.2222222222222222,
             "#7201a8"
            ],
            [
             0.3333333333333333,
             "#9c179e"
            ],
            [
             0.4444444444444444,
             "#bd3786"
            ],
            [
             0.5555555555555556,
             "#d8576b"
            ],
            [
             0.6666666666666666,
             "#ed7953"
            ],
            [
             0.7777777777777778,
             "#fb9f3a"
            ],
            [
             0.8888888888888888,
             "#fdca26"
            ],
            [
             1,
             "#f0f921"
            ]
           ],
           "sequentialminus": [
            [
             0,
             "#0d0887"
            ],
            [
             0.1111111111111111,
             "#46039f"
            ],
            [
             0.2222222222222222,
             "#7201a8"
            ],
            [
             0.3333333333333333,
             "#9c179e"
            ],
            [
             0.4444444444444444,
             "#bd3786"
            ],
            [
             0.5555555555555556,
             "#d8576b"
            ],
            [
             0.6666666666666666,
             "#ed7953"
            ],
            [
             0.7777777777777778,
             "#fb9f3a"
            ],
            [
             0.8888888888888888,
             "#fdca26"
            ],
            [
             1,
             "#f0f921"
            ]
           ]
          },
          "colorway": [
           "#636efa",
           "#EF553B",
           "#00cc96",
           "#ab63fa",
           "#FFA15A",
           "#19d3f3",
           "#FF6692",
           "#B6E880",
           "#FF97FF",
           "#FECB52"
          ],
          "font": {
           "color": "#2a3f5f"
          },
          "geo": {
           "bgcolor": "white",
           "lakecolor": "white",
           "landcolor": "#E5ECF6",
           "showlakes": true,
           "showland": true,
           "subunitcolor": "white"
          },
          "hoverlabel": {
           "align": "left"
          },
          "hovermode": "closest",
          "mapbox": {
           "style": "light"
          },
          "paper_bgcolor": "white",
          "plot_bgcolor": "#E5ECF6",
          "polar": {
           "angularaxis": {
            "gridcolor": "white",
            "linecolor": "white",
            "ticks": ""
           },
           "bgcolor": "#E5ECF6",
           "radialaxis": {
            "gridcolor": "white",
            "linecolor": "white",
            "ticks": ""
           }
          },
          "scene": {
           "xaxis": {
            "backgroundcolor": "#E5ECF6",
            "gridcolor": "white",
            "gridwidth": 2,
            "linecolor": "white",
            "showbackground": true,
            "ticks": "",
            "zerolinecolor": "white"
           },
           "yaxis": {
            "backgroundcolor": "#E5ECF6",
            "gridcolor": "white",
            "gridwidth": 2,
            "linecolor": "white",
            "showbackground": true,
            "ticks": "",
            "zerolinecolor": "white"
           },
           "zaxis": {
            "backgroundcolor": "#E5ECF6",
            "gridcolor": "white",
            "gridwidth": 2,
            "linecolor": "white",
            "showbackground": true,
            "ticks": "",
            "zerolinecolor": "white"
           }
          },
          "shapedefaults": {
           "line": {
            "color": "#2a3f5f"
           }
          },
          "ternary": {
           "aaxis": {
            "gridcolor": "white",
            "linecolor": "white",
            "ticks": ""
           },
           "baxis": {
            "gridcolor": "white",
            "linecolor": "white",
            "ticks": ""
           },
           "bgcolor": "#E5ECF6",
           "caxis": {
            "gridcolor": "white",
            "linecolor": "white",
            "ticks": ""
           }
          },
          "title": {
           "x": 0.05
          },
          "xaxis": {
           "automargin": true,
           "gridcolor": "white",
           "linecolor": "white",
           "ticks": "",
           "title": {
            "standoff": 15
           },
           "zerolinecolor": "white",
           "zerolinewidth": 2
          },
          "yaxis": {
           "automargin": true,
           "gridcolor": "white",
           "linecolor": "white",
           "ticks": "",
           "title": {
            "standoff": 15
           },
           "zerolinecolor": "white",
           "zerolinewidth": 2
          }
         }
        },
        "title": {
         "font": {
          "color": "#4D5663"
         }
        },
        "xaxis": {
         "gridcolor": "#E1E5ED",
         "showgrid": true,
         "tickfont": {
          "color": "#4D5663"
         },
         "title": {
          "font": {
           "color": "#4D5663"
          },
          "text": ""
         },
         "zerolinecolor": "#E1E5ED"
        },
        "yaxis": {
         "gridcolor": "#E1E5ED",
         "showgrid": true,
         "tickfont": {
          "color": "#4D5663"
         },
         "title": {
          "font": {
           "color": "#4D5663"
          },
          "text": ""
         },
         "zerolinecolor": "#E1E5ED"
        }
       }
      },
      "text/html": [
       "<div>\n",
       "        \n",
       "        \n",
       "            <div id=\"e2e6bf0e-b788-4cd8-998b-efeaee06dc28\" class=\"plotly-graph-div\" style=\"height:525px; width:100%;\"></div>\n",
       "            <script type=\"text/javascript\">\n",
       "                require([\"plotly\"], function(Plotly) {\n",
       "                    window.PLOTLYENV=window.PLOTLYENV || {};\n",
       "                    window.PLOTLYENV.BASE_URL='https://plot.ly';\n",
       "                    \n",
       "                if (document.getElementById(\"e2e6bf0e-b788-4cd8-998b-efeaee06dc28\")) {\n",
       "                    Plotly.newPlot(\n",
       "                        'e2e6bf0e-b788-4cd8-998b-efeaee06dc28',\n",
       "                        [{\"marker\": {\"color\": \"rgba(255, 153, 51, 0.6)\", \"line\": {\"color\": \"rgba(255, 153, 51, 1.0)\", \"width\": 1}}, \"name\": \"None\", \"orientation\": \"v\", \"text\": \"\", \"type\": \"bar\", \"x\": [\"A\", \"B\", \"C\", \"D\"], \"y\": [100, 100, 100, 100]}],\n",
       "                        {\"legend\": {\"bgcolor\": \"#F5F6F9\", \"font\": {\"color\": \"#4D5663\"}}, \"paper_bgcolor\": \"#F5F6F9\", \"plot_bgcolor\": \"#F5F6F9\", \"template\": {\"data\": {\"bar\": [{\"error_x\": {\"color\": \"#2a3f5f\"}, \"error_y\": {\"color\": \"#2a3f5f\"}, \"marker\": {\"line\": {\"color\": \"#E5ECF6\", \"width\": 0.5}}, \"type\": \"bar\"}], \"barpolar\": [{\"marker\": {\"line\": {\"color\": \"#E5ECF6\", \"width\": 0.5}}, \"type\": \"barpolar\"}], \"carpet\": [{\"aaxis\": {\"endlinecolor\": \"#2a3f5f\", \"gridcolor\": \"white\", \"linecolor\": \"white\", \"minorgridcolor\": \"white\", \"startlinecolor\": \"#2a3f5f\"}, \"baxis\": {\"endlinecolor\": \"#2a3f5f\", \"gridcolor\": \"white\", \"linecolor\": \"white\", \"minorgridcolor\": \"white\", \"startlinecolor\": \"#2a3f5f\"}, \"type\": \"carpet\"}], \"choropleth\": [{\"colorbar\": {\"outlinewidth\": 0, \"ticks\": \"\"}, \"type\": \"choropleth\"}], \"contour\": [{\"colorbar\": {\"outlinewidth\": 0, \"ticks\": \"\"}, \"colorscale\": [[0.0, \"#0d0887\"], [0.1111111111111111, \"#46039f\"], [0.2222222222222222, \"#7201a8\"], [0.3333333333333333, \"#9c179e\"], [0.4444444444444444, \"#bd3786\"], [0.5555555555555556, \"#d8576b\"], [0.6666666666666666, \"#ed7953\"], [0.7777777777777778, \"#fb9f3a\"], [0.8888888888888888, \"#fdca26\"], [1.0, \"#f0f921\"]], \"type\": \"contour\"}], \"contourcarpet\": [{\"colorbar\": {\"outlinewidth\": 0, \"ticks\": \"\"}, \"type\": \"contourcarpet\"}], \"heatmap\": [{\"colorbar\": {\"outlinewidth\": 0, \"ticks\": \"\"}, \"colorscale\": [[0.0, \"#0d0887\"], [0.1111111111111111, \"#46039f\"], [0.2222222222222222, \"#7201a8\"], [0.3333333333333333, \"#9c179e\"], [0.4444444444444444, \"#bd3786\"], [0.5555555555555556, \"#d8576b\"], [0.6666666666666666, \"#ed7953\"], [0.7777777777777778, \"#fb9f3a\"], [0.8888888888888888, \"#fdca26\"], [1.0, \"#f0f921\"]], \"type\": \"heatmap\"}], \"heatmapgl\": [{\"colorbar\": {\"outlinewidth\": 0, \"ticks\": \"\"}, \"colorscale\": [[0.0, \"#0d0887\"], [0.1111111111111111, \"#46039f\"], [0.2222222222222222, \"#7201a8\"], [0.3333333333333333, \"#9c179e\"], [0.4444444444444444, \"#bd3786\"], [0.5555555555555556, \"#d8576b\"], [0.6666666666666666, \"#ed7953\"], [0.7777777777777778, \"#fb9f3a\"], [0.8888888888888888, \"#fdca26\"], [1.0, \"#f0f921\"]], \"type\": \"heatmapgl\"}], \"histogram\": [{\"marker\": {\"colorbar\": {\"outlinewidth\": 0, \"ticks\": \"\"}}, \"type\": \"histogram\"}], \"histogram2d\": [{\"colorbar\": {\"outlinewidth\": 0, \"ticks\": \"\"}, \"colorscale\": [[0.0, \"#0d0887\"], [0.1111111111111111, \"#46039f\"], [0.2222222222222222, \"#7201a8\"], [0.3333333333333333, \"#9c179e\"], [0.4444444444444444, \"#bd3786\"], [0.5555555555555556, \"#d8576b\"], [0.6666666666666666, \"#ed7953\"], [0.7777777777777778, \"#fb9f3a\"], [0.8888888888888888, \"#fdca26\"], [1.0, \"#f0f921\"]], \"type\": \"histogram2d\"}], \"histogram2dcontour\": [{\"colorbar\": {\"outlinewidth\": 0, \"ticks\": \"\"}, \"colorscale\": [[0.0, \"#0d0887\"], [0.1111111111111111, \"#46039f\"], [0.2222222222222222, \"#7201a8\"], [0.3333333333333333, \"#9c179e\"], [0.4444444444444444, \"#bd3786\"], [0.5555555555555556, \"#d8576b\"], [0.6666666666666666, \"#ed7953\"], [0.7777777777777778, \"#fb9f3a\"], [0.8888888888888888, \"#fdca26\"], [1.0, \"#f0f921\"]], \"type\": \"histogram2dcontour\"}], \"mesh3d\": [{\"colorbar\": {\"outlinewidth\": 0, \"ticks\": \"\"}, \"type\": \"mesh3d\"}], \"parcoords\": [{\"line\": {\"colorbar\": {\"outlinewidth\": 0, \"ticks\": \"\"}}, \"type\": \"parcoords\"}], \"pie\": [{\"automargin\": true, \"type\": \"pie\"}], \"scatter\": [{\"marker\": {\"colorbar\": {\"outlinewidth\": 0, \"ticks\": \"\"}}, \"type\": \"scatter\"}], \"scatter3d\": [{\"line\": {\"colorbar\": {\"outlinewidth\": 0, \"ticks\": \"\"}}, \"marker\": {\"colorbar\": {\"outlinewidth\": 0, \"ticks\": \"\"}}, \"type\": \"scatter3d\"}], \"scattercarpet\": [{\"marker\": {\"colorbar\": {\"outlinewidth\": 0, \"ticks\": \"\"}}, \"type\": \"scattercarpet\"}], \"scattergeo\": [{\"marker\": {\"colorbar\": {\"outlinewidth\": 0, \"ticks\": \"\"}}, \"type\": \"scattergeo\"}], \"scattergl\": [{\"marker\": {\"colorbar\": {\"outlinewidth\": 0, \"ticks\": \"\"}}, \"type\": \"scattergl\"}], \"scattermapbox\": [{\"marker\": {\"colorbar\": {\"outlinewidth\": 0, \"ticks\": \"\"}}, \"type\": \"scattermapbox\"}], \"scatterpolar\": [{\"marker\": {\"colorbar\": {\"outlinewidth\": 0, \"ticks\": \"\"}}, \"type\": \"scatterpolar\"}], \"scatterpolargl\": [{\"marker\": {\"colorbar\": {\"outlinewidth\": 0, \"ticks\": \"\"}}, \"type\": \"scatterpolargl\"}], \"scatterternary\": [{\"marker\": {\"colorbar\": {\"outlinewidth\": 0, \"ticks\": \"\"}}, \"type\": \"scatterternary\"}], \"surface\": [{\"colorbar\": {\"outlinewidth\": 0, \"ticks\": \"\"}, \"colorscale\": [[0.0, \"#0d0887\"], [0.1111111111111111, \"#46039f\"], [0.2222222222222222, \"#7201a8\"], [0.3333333333333333, \"#9c179e\"], [0.4444444444444444, \"#bd3786\"], [0.5555555555555556, \"#d8576b\"], [0.6666666666666666, \"#ed7953\"], [0.7777777777777778, \"#fb9f3a\"], [0.8888888888888888, \"#fdca26\"], [1.0, \"#f0f921\"]], \"type\": \"surface\"}], \"table\": [{\"cells\": {\"fill\": {\"color\": \"#EBF0F8\"}, \"line\": {\"color\": \"white\"}}, \"header\": {\"fill\": {\"color\": \"#C8D4E3\"}, \"line\": {\"color\": \"white\"}}, \"type\": \"table\"}]}, \"layout\": {\"annotationdefaults\": {\"arrowcolor\": \"#2a3f5f\", \"arrowhead\": 0, \"arrowwidth\": 1}, \"coloraxis\": {\"colorbar\": {\"outlinewidth\": 0, \"ticks\": \"\"}}, \"colorscale\": {\"diverging\": [[0, \"#8e0152\"], [0.1, \"#c51b7d\"], [0.2, \"#de77ae\"], [0.3, \"#f1b6da\"], [0.4, \"#fde0ef\"], [0.5, \"#f7f7f7\"], [0.6, \"#e6f5d0\"], [0.7, \"#b8e186\"], [0.8, \"#7fbc41\"], [0.9, \"#4d9221\"], [1, \"#276419\"]], \"sequential\": [[0.0, \"#0d0887\"], [0.1111111111111111, \"#46039f\"], [0.2222222222222222, \"#7201a8\"], [0.3333333333333333, \"#9c179e\"], [0.4444444444444444, \"#bd3786\"], [0.5555555555555556, \"#d8576b\"], [0.6666666666666666, \"#ed7953\"], [0.7777777777777778, \"#fb9f3a\"], [0.8888888888888888, \"#fdca26\"], [1.0, \"#f0f921\"]], \"sequentialminus\": [[0.0, \"#0d0887\"], [0.1111111111111111, \"#46039f\"], [0.2222222222222222, \"#7201a8\"], [0.3333333333333333, \"#9c179e\"], [0.4444444444444444, \"#bd3786\"], [0.5555555555555556, \"#d8576b\"], [0.6666666666666666, \"#ed7953\"], [0.7777777777777778, \"#fb9f3a\"], [0.8888888888888888, \"#fdca26\"], [1.0, \"#f0f921\"]]}, \"colorway\": [\"#636efa\", \"#EF553B\", \"#00cc96\", \"#ab63fa\", \"#FFA15A\", \"#19d3f3\", \"#FF6692\", \"#B6E880\", \"#FF97FF\", \"#FECB52\"], \"font\": {\"color\": \"#2a3f5f\"}, \"geo\": {\"bgcolor\": \"white\", \"lakecolor\": \"white\", \"landcolor\": \"#E5ECF6\", \"showlakes\": true, \"showland\": true, \"subunitcolor\": \"white\"}, \"hoverlabel\": {\"align\": \"left\"}, \"hovermode\": \"closest\", \"mapbox\": {\"style\": \"light\"}, \"paper_bgcolor\": \"white\", \"plot_bgcolor\": \"#E5ECF6\", \"polar\": {\"angularaxis\": {\"gridcolor\": \"white\", \"linecolor\": \"white\", \"ticks\": \"\"}, \"bgcolor\": \"#E5ECF6\", \"radialaxis\": {\"gridcolor\": \"white\", \"linecolor\": \"white\", \"ticks\": \"\"}}, \"scene\": {\"xaxis\": {\"backgroundcolor\": \"#E5ECF6\", \"gridcolor\": \"white\", \"gridwidth\": 2, \"linecolor\": \"white\", \"showbackground\": true, \"ticks\": \"\", \"zerolinecolor\": \"white\"}, \"yaxis\": {\"backgroundcolor\": \"#E5ECF6\", \"gridcolor\": \"white\", \"gridwidth\": 2, \"linecolor\": \"white\", \"showbackground\": true, \"ticks\": \"\", \"zerolinecolor\": \"white\"}, \"zaxis\": {\"backgroundcolor\": \"#E5ECF6\", \"gridcolor\": \"white\", \"gridwidth\": 2, \"linecolor\": \"white\", \"showbackground\": true, \"ticks\": \"\", \"zerolinecolor\": \"white\"}}, \"shapedefaults\": {\"line\": {\"color\": \"#2a3f5f\"}}, \"ternary\": {\"aaxis\": {\"gridcolor\": \"white\", \"linecolor\": \"white\", \"ticks\": \"\"}, \"baxis\": {\"gridcolor\": \"white\", \"linecolor\": \"white\", \"ticks\": \"\"}, \"bgcolor\": \"#E5ECF6\", \"caxis\": {\"gridcolor\": \"white\", \"linecolor\": \"white\", \"ticks\": \"\"}}, \"title\": {\"x\": 0.05}, \"xaxis\": {\"automargin\": true, \"gridcolor\": \"white\", \"linecolor\": \"white\", \"ticks\": \"\", \"title\": {\"standoff\": 15}, \"zerolinecolor\": \"white\", \"zerolinewidth\": 2}, \"yaxis\": {\"automargin\": true, \"gridcolor\": \"white\", \"linecolor\": \"white\", \"ticks\": \"\", \"title\": {\"standoff\": 15}, \"zerolinecolor\": \"white\", \"zerolinewidth\": 2}}}, \"title\": {\"font\": {\"color\": \"#4D5663\"}}, \"xaxis\": {\"gridcolor\": \"#E1E5ED\", \"showgrid\": true, \"tickfont\": {\"color\": \"#4D5663\"}, \"title\": {\"font\": {\"color\": \"#4D5663\"}, \"text\": \"\"}, \"zerolinecolor\": \"#E1E5ED\"}, \"yaxis\": {\"gridcolor\": \"#E1E5ED\", \"showgrid\": true, \"tickfont\": {\"color\": \"#4D5663\"}, \"title\": {\"font\": {\"color\": \"#4D5663\"}, \"text\": \"\"}, \"zerolinecolor\": \"#E1E5ED\"}},\n",
       "                        {\"showLink\": true, \"linkText\": \"Export to plot.ly\", \"plotlyServerURL\": \"https://plot.ly\", \"responsive\": true}\n",
       "                    ).then(function(){\n",
       "                            \n",
       "var gd = document.getElementById('e2e6bf0e-b788-4cd8-998b-efeaee06dc28');\n",
       "var x = new MutationObserver(function (mutations, observer) {{\n",
       "        var display = window.getComputedStyle(gd).display;\n",
       "        if (!display || display === 'none') {{\n",
       "            console.log([gd, 'removed!']);\n",
       "            Plotly.purge(gd);\n",
       "            observer.disconnect();\n",
       "        }}\n",
       "}});\n",
       "\n",
       "// Listen for the removal of the full notebook cells\n",
       "var notebookContainer = gd.closest('#notebook-container');\n",
       "if (notebookContainer) {{\n",
       "    x.observe(notebookContainer, {childList: true});\n",
       "}}\n",
       "\n",
       "// Listen for the clearing of the current output cell\n",
       "var outputEl = gd.closest('.output');\n",
       "if (outputEl) {{\n",
       "    x.observe(outputEl, {childList: true});\n",
       "}}\n",
       "\n",
       "                        })\n",
       "                };\n",
       "                });\n",
       "            </script>\n",
       "        </div>"
      ]
     },
     "metadata": {},
     "output_type": "display_data"
    }
   ],
   "source": [
    "df.count().iplot(kind='bar')"
   ]
  },
  {
   "cell_type": "markdown",
   "metadata": {},
   "source": [
    "## Boxplots"
   ]
  },
  {
   "cell_type": "code",
   "execution_count": 13,
   "metadata": {},
   "outputs": [
    {
     "data": {
      "application/vnd.plotly.v1+json": {
       "config": {
        "linkText": "Export to plot.ly",
        "plotlyServerURL": "https://plot.ly",
        "showLink": true
       },
       "data": [
        {
         "boxpoints": false,
         "line": {
          "width": 1.3
         },
         "marker": {
          "color": "rgba(255, 153, 51, 1.0)"
         },
         "name": "A",
         "orientation": "v",
         "type": "box",
         "y": [
          1.9758519900934104,
          -0.5143221233456489,
          -0.1582030966787379,
          -0.5114390014664738,
          0.515811900694426,
          -0.3617127909781959,
          0.8213800009504084,
          0.9263759553965216,
          0.8463773240249822,
          -1.550823625797956,
          -1.1196680523219449,
          -1.3720152085677328,
          0.993215756870461,
          -0.2947213227426147,
          0.3891428636616671,
          -0.6037512014034268,
          0.2963029032682522,
          1.2997150136493418,
          0.5457748329459221,
          -1.1120549861777493,
          -1.3901568455907765,
          0.5378903545113346,
          -0.021807045234015447,
          1.523230437046832,
          -0.38997725066553474,
          0.2543225692799485,
          0.2795531219081177,
          -1.8873761705874288,
          -0.5358770884120846,
          -0.13041613392353707,
          -0.4846026362616904,
          0.1968461287525519,
          -0.9359976466832249,
          1.15241006171264,
          -0.28811501136423917,
          0.22158451906649376,
          -1.792787390527634,
          -1.1151847185475674,
          0.2999968484132656,
          -0.8410432469367217,
          0.9870416043456087,
          -0.5881425626152607,
          -0.5703765600397165,
          -0.6803726993143193,
          0.3216170210237273,
          0.7556227727364897,
          0.5360754027842475,
          0.613389511563585,
          0.22565749295090093,
          0.08365976731257571,
          0.1033919609885569,
          1.2438889145118528,
          0.8461128057749727,
          -0.23096828694979957,
          -0.12408711033791694,
          -1.1657940200430517,
          -0.2434783345014043,
          -1.199120831961396,
          1.4715404125351348,
          0.2803547207916868,
          -0.26987496653419035,
          -1.752600192059749,
          -0.11232400010667294,
          1.6307595591341888,
          0.7361119323933746,
          1.0046027671180844,
          -1.1061416883584818,
          0.5486042763497647,
          1.0300528549918395,
          -1.1009445751792122,
          1.0237198785638675,
          2.3349677555956436,
          0.7779690393786323,
          -1.123924959679506,
          0.17460525043824449,
          0.22201343894598982,
          -0.2906223833332785,
          0.5558148800636564,
          -0.4697349000963517,
          0.7246304134527143,
          -0.04523217356888744,
          -0.38848741703370726,
          0.5468817495156351,
          -0.9168752710950892,
          0.7994257334532495,
          0.9192035844449936,
          -0.002662870365699749,
          1.3981786261876747,
          -1.510668319049373,
          0.40377071643147383,
          0.1537412737152171,
          0.32491684836283985,
          -2.027833581141001,
          0.5312754157391999,
          -1.5124626744579268,
          0.12768299722942447,
          -1.9988651993974935,
          0.3620998287019383,
          0.6454370926585403,
          1.5131459553856328
         ]
        },
        {
         "boxpoints": false,
         "line": {
          "width": 1.3
         },
         "marker": {
          "color": "rgba(55, 128, 191, 1.0)"
         },
         "name": "B",
         "orientation": "v",
         "type": "box",
         "y": [
          0.5665382229248324,
          -0.5565063078433714,
          -0.8718681029275993,
          -1.398907936994333,
          1.4219495489932097,
          1.9610132506325109,
          0.2518202894903014,
          -0.13417845181620516,
          -0.7622085723930692,
          0.3919451171772081,
          0.26630550068055336,
          0.5892959076385756,
          -0.793505369555898,
          -0.11360818904203256,
          0.04704884319419822,
          0.711350622598875,
          -0.5045014847624979,
          0.39897063453354453,
          0.8350726088246634,
          -0.6067348615268908,
          0.6018843560171192,
          -0.9750318086357168,
          -0.8111768417278923,
          0.5865123052820451,
          -1.2682046206237232,
          0.30538546233597064,
          0.044060763848661415,
          0.30091219086281756,
          0.6356706795934935,
          -0.9290464938329864,
          0.26665716907365966,
          0.31376967389358773,
          0.5230410509719929,
          -0.47564221228880077,
          -2.3544581053872924,
          1.1631809227657774,
          1.2446836192270323,
          2.453657648153855,
          2.0705079079433575,
          1.1823046883956898,
          0.1982523746639038,
          0.022184968541608917,
          0.5792157662111811,
          1.6925589437987265,
          1.6735491639361957,
          -0.6081796816698564,
          -0.654197528371815,
          1.9948097814472088,
          0.6452083653550553,
          -0.990864295108887,
          -1.3545582273408059,
          0.5282668446491409,
          0.740967616780742,
          -1.418069374141105,
          -0.5966689133434379,
          0.23363166132097435,
          0.8921390421200076,
          -0.7742498466221465,
          -0.31783128917578973,
          -0.04688838580674549,
          0.26217113832692995,
          0.1967788636582987,
          0.08143712402768997,
          -0.8658789516841908,
          -0.08489955130735412,
          1.6181102272592358,
          1.2890470324485164,
          0.7229560931164392,
          0.46226052689936553,
          -0.8542194243135494,
          0.5094739172634204,
          -0.5463175094424851,
          -1.0427681033876963,
          -1.5960614897359906,
          1.2396016427276908,
          2.3843745292528733,
          -0.6218403799730308,
          -1.7536232569773271,
          1.4982683951615485,
          1.541779113521374,
          -0.6370060447827084,
          -0.24446085397023756,
          -1.25169978102884,
          -1.601817214912354,
          -0.1842659662140935,
          -0.6653636755456144,
          1.7050858145432017,
          -0.21035741890677045,
          -0.9178286109980154,
          -1.5767350284883654,
          0.6049863670999431,
          0.5707203254294333,
          -1.0937692620437585,
          1.713111116881167,
          -0.5873802980984976,
          0.44428845973412634,
          -0.05549793997215865,
          1.5926275223590245,
          0.8538677661840695,
          0.21054373693698292
         ]
        },
        {
         "boxpoints": false,
         "line": {
          "width": 1.3
         },
         "marker": {
          "color": "rgba(50, 171, 96, 1.0)"
         },
         "name": "C",
         "orientation": "v",
         "type": "box",
         "y": [
          0.9239475002560446,
          0.3751137231718408,
          0.3213921789877636,
          -0.2002731294404255,
          -0.9379523078809692,
          -2.1522008734306044,
          -1.7310940948390918,
          -0.7690761647133307,
          0.004234155681897507,
          -0.11260128869010097,
          1.9181462902658097,
          -0.9401663428780545,
          -1.3363608215513756,
          -0.22639256087185294,
          0.7155052908004416,
          -1.1338296413529032,
          -0.20841361761860744,
          -0.07286227172045914,
          -2.176211386756295,
          -0.1331872306911424,
          -0.9621866079529249,
          -0.7728293504234989,
          1.1385009996291466,
          0.2303239773391668,
          0.6862223372577602,
          1.2344283937191503,
          0.1827535990904871,
          0.7466936520861805,
          -1.0113861106730668,
          0.32537269389538903,
          -0.28578783920125933,
          -0.2771908139363303,
          -0.8426007184312503,
          -1.0136604444862443,
          -1.0926502428164986,
          -1.394012537051209,
          0.9562305045130977,
          1.6498602888552416,
          -0.19818376543622393,
          -0.773295121549228,
          -0.6767509387608813,
          0.8707980460326364,
          1.1639042320491528,
          2.0957413891452807,
          0.9916228249165744,
          2.400768134822709,
          -2.276667491178643,
          -1.362397745087905,
          -0.7391063426887257,
          -0.9492832291230988,
          0.019286027803951923,
          -0.28058552398171427,
          -0.7973643592189733,
          1.4716940291363256,
          0.4726451283358121,
          -0.7051955600320536,
          -0.9440260816754585,
          -0.10268855991288471,
          0.36328307262861687,
          -0.24816233188176445,
          -0.3914077639390221,
          -0.48032188714765445,
          0.34907300266111085,
          -0.5263309922419579,
          0.3451183917992562,
          1.0013016690120522,
          0.08437513595097418,
          -0.08473777899015635,
          -0.9323953122796237,
          0.8202701216036823,
          -0.4578073639707513,
          -0.6382506735827904,
          1.6413403887559652,
          1.1406964008874994,
          0.8281331373368289,
          -0.9501903284973356,
          -0.9043844858355756,
          1.6905305998964446,
          0.39251270554655227,
          -0.45842216078687764,
          -0.5287645291442242,
          0.16658554453340715,
          0.33028663295232485,
          0.0806777046955102,
          -1.8144761645876817,
          0.569150440390842,
          -0.25901109428391583,
          -1.7715535579309254,
          1.093822426256376,
          0.5404693935559389,
          -0.16210350511084323,
          0.01952070876786433,
          -1.9389851864227314,
          0.16068054996825953,
          -0.6290895779679284,
          1.049212658753759,
          0.18240196622299806,
          -0.38049619934715684,
          -0.24130247827164875,
          -0.5949027629607959
         ]
        },
        {
         "boxpoints": false,
         "line": {
          "width": 1.3
         },
         "marker": {
          "color": "rgba(128, 0, 128, 1.0)"
         },
         "name": "D",
         "orientation": "v",
         "type": "box",
         "y": [
          0.13983859548612287,
          0.468221344934841,
          -0.3655912385179084,
          0.0028426141639563965,
          -1.2866675810136463,
          1.8251802474502172,
          1.3537927735151978,
          0.030589539867225405,
          -0.41232369430866234,
          0.1970748195818725,
          0.25626148422482997,
          1.6549151625359948,
          -1.4690654383966493,
          1.0998415279033387,
          1.4356475730359877,
          2.089679085361465,
          1.6311950137708888,
          0.4907685997784432,
          1.4070566610133248,
          -2.182971526682894,
          -0.33824460128366046,
          0.6580983026884394,
          1.690988198782726,
          0.6804878081457141,
          1.2838188100511365,
          -0.13754087996797532,
          0.9029559561300816,
          -0.4314996403974591,
          -0.3684568099711757,
          0.9126970404174501,
          -0.1921020240627544,
          -0.9366340343699328,
          0.5430735446145215,
          -0.323485474841826,
          -0.45142608544148116,
          1.2924944145509039,
          1.154452495993761,
          -0.9932101913276365,
          -0.77926610057691,
          -0.2569662294035719,
          0.9846860672528351,
          -0.6485632595117224,
          1.7503239067403413,
          -0.45804018258783064,
          -0.3874030044656593,
          1.2284148597403435,
          -1.5366620373899695,
          0.07841497834603257,
          -1.1593881898153189,
          -0.609599549370757,
          0.36140948822313346,
          -0.20106341353153323,
          -0.34464711667442166,
          1.2041708208317796,
          0.6326372279158136,
          0.27129981128139,
          0.630360944198581,
          0.9110921582927479,
          -0.8250161327320401,
          1.252233116341933,
          0.47992952396365607,
          0.30779893856006946,
          -0.17493309848738572,
          2.2888471477419796,
          -2.3098292148873942,
          1.68115786182939,
          0.058481044581439906,
          -0.9000914909083304,
          -0.0917083416397356,
          1.695902946001967,
          0.4719227463212935,
          -2.1662694755736642,
          0.07719035068792048,
          -0.27267314815742016,
          -0.06497460244050092,
          -0.09462209022908295,
          0.9533127233372166,
          -1.077927505417031,
          -1.0273136240140048,
          -0.06497531551055151,
          -0.3652627094287969,
          -1.5025390382781547,
          -0.6511798689315315,
          -3.3300811422783063,
          -2.8148414055104287,
          0.44538472127828194,
          0.899733094460187,
          1.5990229930275224,
          -0.2755633420552873,
          0.4275679587812028,
          -1.8318752439950237,
          -0.27187603561335877,
          0.4892489515431244,
          1.4102618528205655,
          -1.0952051796329465,
          0.6730615943406543,
          0.2808828278013457,
          0.12804230788245968,
          1.0103653903498466,
          0.48592236490986457
         ]
        }
       ],
       "layout": {
        "legend": {
         "bgcolor": "#F5F6F9",
         "font": {
          "color": "#4D5663"
         }
        },
        "paper_bgcolor": "#F5F6F9",
        "plot_bgcolor": "#F5F6F9",
        "template": {
         "data": {
          "bar": [
           {
            "error_x": {
             "color": "#2a3f5f"
            },
            "error_y": {
             "color": "#2a3f5f"
            },
            "marker": {
             "line": {
              "color": "#E5ECF6",
              "width": 0.5
             }
            },
            "type": "bar"
           }
          ],
          "barpolar": [
           {
            "marker": {
             "line": {
              "color": "#E5ECF6",
              "width": 0.5
             }
            },
            "type": "barpolar"
           }
          ],
          "carpet": [
           {
            "aaxis": {
             "endlinecolor": "#2a3f5f",
             "gridcolor": "white",
             "linecolor": "white",
             "minorgridcolor": "white",
             "startlinecolor": "#2a3f5f"
            },
            "baxis": {
             "endlinecolor": "#2a3f5f",
             "gridcolor": "white",
             "linecolor": "white",
             "minorgridcolor": "white",
             "startlinecolor": "#2a3f5f"
            },
            "type": "carpet"
           }
          ],
          "choropleth": [
           {
            "colorbar": {
             "outlinewidth": 0,
             "ticks": ""
            },
            "type": "choropleth"
           }
          ],
          "contour": [
           {
            "colorbar": {
             "outlinewidth": 0,
             "ticks": ""
            },
            "colorscale": [
             [
              0,
              "#0d0887"
             ],
             [
              0.1111111111111111,
              "#46039f"
             ],
             [
              0.2222222222222222,
              "#7201a8"
             ],
             [
              0.3333333333333333,
              "#9c179e"
             ],
             [
              0.4444444444444444,
              "#bd3786"
             ],
             [
              0.5555555555555556,
              "#d8576b"
             ],
             [
              0.6666666666666666,
              "#ed7953"
             ],
             [
              0.7777777777777778,
              "#fb9f3a"
             ],
             [
              0.8888888888888888,
              "#fdca26"
             ],
             [
              1,
              "#f0f921"
             ]
            ],
            "type": "contour"
           }
          ],
          "contourcarpet": [
           {
            "colorbar": {
             "outlinewidth": 0,
             "ticks": ""
            },
            "type": "contourcarpet"
           }
          ],
          "heatmap": [
           {
            "colorbar": {
             "outlinewidth": 0,
             "ticks": ""
            },
            "colorscale": [
             [
              0,
              "#0d0887"
             ],
             [
              0.1111111111111111,
              "#46039f"
             ],
             [
              0.2222222222222222,
              "#7201a8"
             ],
             [
              0.3333333333333333,
              "#9c179e"
             ],
             [
              0.4444444444444444,
              "#bd3786"
             ],
             [
              0.5555555555555556,
              "#d8576b"
             ],
             [
              0.6666666666666666,
              "#ed7953"
             ],
             [
              0.7777777777777778,
              "#fb9f3a"
             ],
             [
              0.8888888888888888,
              "#fdca26"
             ],
             [
              1,
              "#f0f921"
             ]
            ],
            "type": "heatmap"
           }
          ],
          "heatmapgl": [
           {
            "colorbar": {
             "outlinewidth": 0,
             "ticks": ""
            },
            "colorscale": [
             [
              0,
              "#0d0887"
             ],
             [
              0.1111111111111111,
              "#46039f"
             ],
             [
              0.2222222222222222,
              "#7201a8"
             ],
             [
              0.3333333333333333,
              "#9c179e"
             ],
             [
              0.4444444444444444,
              "#bd3786"
             ],
             [
              0.5555555555555556,
              "#d8576b"
             ],
             [
              0.6666666666666666,
              "#ed7953"
             ],
             [
              0.7777777777777778,
              "#fb9f3a"
             ],
             [
              0.8888888888888888,
              "#fdca26"
             ],
             [
              1,
              "#f0f921"
             ]
            ],
            "type": "heatmapgl"
           }
          ],
          "histogram": [
           {
            "marker": {
             "colorbar": {
              "outlinewidth": 0,
              "ticks": ""
             }
            },
            "type": "histogram"
           }
          ],
          "histogram2d": [
           {
            "colorbar": {
             "outlinewidth": 0,
             "ticks": ""
            },
            "colorscale": [
             [
              0,
              "#0d0887"
             ],
             [
              0.1111111111111111,
              "#46039f"
             ],
             [
              0.2222222222222222,
              "#7201a8"
             ],
             [
              0.3333333333333333,
              "#9c179e"
             ],
             [
              0.4444444444444444,
              "#bd3786"
             ],
             [
              0.5555555555555556,
              "#d8576b"
             ],
             [
              0.6666666666666666,
              "#ed7953"
             ],
             [
              0.7777777777777778,
              "#fb9f3a"
             ],
             [
              0.8888888888888888,
              "#fdca26"
             ],
             [
              1,
              "#f0f921"
             ]
            ],
            "type": "histogram2d"
           }
          ],
          "histogram2dcontour": [
           {
            "colorbar": {
             "outlinewidth": 0,
             "ticks": ""
            },
            "colorscale": [
             [
              0,
              "#0d0887"
             ],
             [
              0.1111111111111111,
              "#46039f"
             ],
             [
              0.2222222222222222,
              "#7201a8"
             ],
             [
              0.3333333333333333,
              "#9c179e"
             ],
             [
              0.4444444444444444,
              "#bd3786"
             ],
             [
              0.5555555555555556,
              "#d8576b"
             ],
             [
              0.6666666666666666,
              "#ed7953"
             ],
             [
              0.7777777777777778,
              "#fb9f3a"
             ],
             [
              0.8888888888888888,
              "#fdca26"
             ],
             [
              1,
              "#f0f921"
             ]
            ],
            "type": "histogram2dcontour"
           }
          ],
          "mesh3d": [
           {
            "colorbar": {
             "outlinewidth": 0,
             "ticks": ""
            },
            "type": "mesh3d"
           }
          ],
          "parcoords": [
           {
            "line": {
             "colorbar": {
              "outlinewidth": 0,
              "ticks": ""
             }
            },
            "type": "parcoords"
           }
          ],
          "pie": [
           {
            "automargin": true,
            "type": "pie"
           }
          ],
          "scatter": [
           {
            "marker": {
             "colorbar": {
              "outlinewidth": 0,
              "ticks": ""
             }
            },
            "type": "scatter"
           }
          ],
          "scatter3d": [
           {
            "line": {
             "colorbar": {
              "outlinewidth": 0,
              "ticks": ""
             }
            },
            "marker": {
             "colorbar": {
              "outlinewidth": 0,
              "ticks": ""
             }
            },
            "type": "scatter3d"
           }
          ],
          "scattercarpet": [
           {
            "marker": {
             "colorbar": {
              "outlinewidth": 0,
              "ticks": ""
             }
            },
            "type": "scattercarpet"
           }
          ],
          "scattergeo": [
           {
            "marker": {
             "colorbar": {
              "outlinewidth": 0,
              "ticks": ""
             }
            },
            "type": "scattergeo"
           }
          ],
          "scattergl": [
           {
            "marker": {
             "colorbar": {
              "outlinewidth": 0,
              "ticks": ""
             }
            },
            "type": "scattergl"
           }
          ],
          "scattermapbox": [
           {
            "marker": {
             "colorbar": {
              "outlinewidth": 0,
              "ticks": ""
             }
            },
            "type": "scattermapbox"
           }
          ],
          "scatterpolar": [
           {
            "marker": {
             "colorbar": {
              "outlinewidth": 0,
              "ticks": ""
             }
            },
            "type": "scatterpolar"
           }
          ],
          "scatterpolargl": [
           {
            "marker": {
             "colorbar": {
              "outlinewidth": 0,
              "ticks": ""
             }
            },
            "type": "scatterpolargl"
           }
          ],
          "scatterternary": [
           {
            "marker": {
             "colorbar": {
              "outlinewidth": 0,
              "ticks": ""
             }
            },
            "type": "scatterternary"
           }
          ],
          "surface": [
           {
            "colorbar": {
             "outlinewidth": 0,
             "ticks": ""
            },
            "colorscale": [
             [
              0,
              "#0d0887"
             ],
             [
              0.1111111111111111,
              "#46039f"
             ],
             [
              0.2222222222222222,
              "#7201a8"
             ],
             [
              0.3333333333333333,
              "#9c179e"
             ],
             [
              0.4444444444444444,
              "#bd3786"
             ],
             [
              0.5555555555555556,
              "#d8576b"
             ],
             [
              0.6666666666666666,
              "#ed7953"
             ],
             [
              0.7777777777777778,
              "#fb9f3a"
             ],
             [
              0.8888888888888888,
              "#fdca26"
             ],
             [
              1,
              "#f0f921"
             ]
            ],
            "type": "surface"
           }
          ],
          "table": [
           {
            "cells": {
             "fill": {
              "color": "#EBF0F8"
             },
             "line": {
              "color": "white"
             }
            },
            "header": {
             "fill": {
              "color": "#C8D4E3"
             },
             "line": {
              "color": "white"
             }
            },
            "type": "table"
           }
          ]
         },
         "layout": {
          "annotationdefaults": {
           "arrowcolor": "#2a3f5f",
           "arrowhead": 0,
           "arrowwidth": 1
          },
          "coloraxis": {
           "colorbar": {
            "outlinewidth": 0,
            "ticks": ""
           }
          },
          "colorscale": {
           "diverging": [
            [
             0,
             "#8e0152"
            ],
            [
             0.1,
             "#c51b7d"
            ],
            [
             0.2,
             "#de77ae"
            ],
            [
             0.3,
             "#f1b6da"
            ],
            [
             0.4,
             "#fde0ef"
            ],
            [
             0.5,
             "#f7f7f7"
            ],
            [
             0.6,
             "#e6f5d0"
            ],
            [
             0.7,
             "#b8e186"
            ],
            [
             0.8,
             "#7fbc41"
            ],
            [
             0.9,
             "#4d9221"
            ],
            [
             1,
             "#276419"
            ]
           ],
           "sequential": [
            [
             0,
             "#0d0887"
            ],
            [
             0.1111111111111111,
             "#46039f"
            ],
            [
             0.2222222222222222,
             "#7201a8"
            ],
            [
             0.3333333333333333,
             "#9c179e"
            ],
            [
             0.4444444444444444,
             "#bd3786"
            ],
            [
             0.5555555555555556,
             "#d8576b"
            ],
            [
             0.6666666666666666,
             "#ed7953"
            ],
            [
             0.7777777777777778,
             "#fb9f3a"
            ],
            [
             0.8888888888888888,
             "#fdca26"
            ],
            [
             1,
             "#f0f921"
            ]
           ],
           "sequentialminus": [
            [
             0,
             "#0d0887"
            ],
            [
             0.1111111111111111,
             "#46039f"
            ],
            [
             0.2222222222222222,
             "#7201a8"
            ],
            [
             0.3333333333333333,
             "#9c179e"
            ],
            [
             0.4444444444444444,
             "#bd3786"
            ],
            [
             0.5555555555555556,
             "#d8576b"
            ],
            [
             0.6666666666666666,
             "#ed7953"
            ],
            [
             0.7777777777777778,
             "#fb9f3a"
            ],
            [
             0.8888888888888888,
             "#fdca26"
            ],
            [
             1,
             "#f0f921"
            ]
           ]
          },
          "colorway": [
           "#636efa",
           "#EF553B",
           "#00cc96",
           "#ab63fa",
           "#FFA15A",
           "#19d3f3",
           "#FF6692",
           "#B6E880",
           "#FF97FF",
           "#FECB52"
          ],
          "font": {
           "color": "#2a3f5f"
          },
          "geo": {
           "bgcolor": "white",
           "lakecolor": "white",
           "landcolor": "#E5ECF6",
           "showlakes": true,
           "showland": true,
           "subunitcolor": "white"
          },
          "hoverlabel": {
           "align": "left"
          },
          "hovermode": "closest",
          "mapbox": {
           "style": "light"
          },
          "paper_bgcolor": "white",
          "plot_bgcolor": "#E5ECF6",
          "polar": {
           "angularaxis": {
            "gridcolor": "white",
            "linecolor": "white",
            "ticks": ""
           },
           "bgcolor": "#E5ECF6",
           "radialaxis": {
            "gridcolor": "white",
            "linecolor": "white",
            "ticks": ""
           }
          },
          "scene": {
           "xaxis": {
            "backgroundcolor": "#E5ECF6",
            "gridcolor": "white",
            "gridwidth": 2,
            "linecolor": "white",
            "showbackground": true,
            "ticks": "",
            "zerolinecolor": "white"
           },
           "yaxis": {
            "backgroundcolor": "#E5ECF6",
            "gridcolor": "white",
            "gridwidth": 2,
            "linecolor": "white",
            "showbackground": true,
            "ticks": "",
            "zerolinecolor": "white"
           },
           "zaxis": {
            "backgroundcolor": "#E5ECF6",
            "gridcolor": "white",
            "gridwidth": 2,
            "linecolor": "white",
            "showbackground": true,
            "ticks": "",
            "zerolinecolor": "white"
           }
          },
          "shapedefaults": {
           "line": {
            "color": "#2a3f5f"
           }
          },
          "ternary": {
           "aaxis": {
            "gridcolor": "white",
            "linecolor": "white",
            "ticks": ""
           },
           "baxis": {
            "gridcolor": "white",
            "linecolor": "white",
            "ticks": ""
           },
           "bgcolor": "#E5ECF6",
           "caxis": {
            "gridcolor": "white",
            "linecolor": "white",
            "ticks": ""
           }
          },
          "title": {
           "x": 0.05
          },
          "xaxis": {
           "automargin": true,
           "gridcolor": "white",
           "linecolor": "white",
           "ticks": "",
           "title": {
            "standoff": 15
           },
           "zerolinecolor": "white",
           "zerolinewidth": 2
          },
          "yaxis": {
           "automargin": true,
           "gridcolor": "white",
           "linecolor": "white",
           "ticks": "",
           "title": {
            "standoff": 15
           },
           "zerolinecolor": "white",
           "zerolinewidth": 2
          }
         }
        },
        "title": {
         "font": {
          "color": "#4D5663"
         }
        },
        "xaxis": {
         "gridcolor": "#E1E5ED",
         "showgrid": true,
         "tickfont": {
          "color": "#4D5663"
         },
         "title": {
          "font": {
           "color": "#4D5663"
          },
          "text": ""
         },
         "zerolinecolor": "#E1E5ED"
        },
        "yaxis": {
         "gridcolor": "#E1E5ED",
         "showgrid": true,
         "tickfont": {
          "color": "#4D5663"
         },
         "title": {
          "font": {
           "color": "#4D5663"
          },
          "text": ""
         },
         "zerolinecolor": "#E1E5ED"
        }
       }
      },
      "text/html": [
       "<div>\n",
       "        \n",
       "        \n",
       "            <div id=\"439e8786-be9c-439e-889c-feeb0ca70a4e\" class=\"plotly-graph-div\" style=\"height:525px; width:100%;\"></div>\n",
       "            <script type=\"text/javascript\">\n",
       "                require([\"plotly\"], function(Plotly) {\n",
       "                    window.PLOTLYENV=window.PLOTLYENV || {};\n",
       "                    window.PLOTLYENV.BASE_URL='https://plot.ly';\n",
       "                    \n",
       "                if (document.getElementById(\"439e8786-be9c-439e-889c-feeb0ca70a4e\")) {\n",
       "                    Plotly.newPlot(\n",
       "                        '439e8786-be9c-439e-889c-feeb0ca70a4e',\n",
       "                        [{\"boxpoints\": false, \"line\": {\"width\": 1.3}, \"marker\": {\"color\": \"rgba(255, 153, 51, 1.0)\"}, \"name\": \"A\", \"orientation\": \"v\", \"type\": \"box\", \"y\": [1.9758519900934104, -0.5143221233456489, -0.1582030966787379, -0.5114390014664738, 0.515811900694426, -0.3617127909781959, 0.8213800009504084, 0.9263759553965216, 0.8463773240249822, -1.550823625797956, -1.1196680523219449, -1.3720152085677328, 0.993215756870461, -0.2947213227426147, 0.3891428636616671, -0.6037512014034268, 0.2963029032682522, 1.2997150136493418, 0.5457748329459221, -1.1120549861777493, -1.3901568455907765, 0.5378903545113346, -0.021807045234015447, 1.523230437046832, -0.38997725066553474, 0.2543225692799485, 0.2795531219081177, -1.8873761705874288, -0.5358770884120846, -0.13041613392353707, -0.4846026362616904, 0.1968461287525519, -0.9359976466832249, 1.15241006171264, -0.28811501136423917, 0.22158451906649376, -1.792787390527634, -1.1151847185475674, 0.2999968484132656, -0.8410432469367217, 0.9870416043456087, -0.5881425626152607, -0.5703765600397165, -0.6803726993143193, 0.3216170210237273, 0.7556227727364897, 0.5360754027842475, 0.613389511563585, 0.22565749295090093, 0.08365976731257571, 0.1033919609885569, 1.2438889145118528, 0.8461128057749727, -0.23096828694979957, -0.12408711033791694, -1.1657940200430517, -0.2434783345014043, -1.199120831961396, 1.4715404125351348, 0.2803547207916868, -0.26987496653419035, -1.752600192059749, -0.11232400010667294, 1.6307595591341888, 0.7361119323933746, 1.0046027671180844, -1.1061416883584818, 0.5486042763497647, 1.0300528549918395, -1.1009445751792122, 1.0237198785638675, 2.3349677555956436, 0.7779690393786323, -1.123924959679506, 0.17460525043824449, 0.22201343894598982, -0.2906223833332785, 0.5558148800636564, -0.4697349000963517, 0.7246304134527143, -0.04523217356888744, -0.38848741703370726, 0.5468817495156351, -0.9168752710950892, 0.7994257334532495, 0.9192035844449936, -0.002662870365699749, 1.3981786261876747, -1.510668319049373, 0.40377071643147383, 0.1537412737152171, 0.32491684836283985, -2.027833581141001, 0.5312754157391999, -1.5124626744579268, 0.12768299722942447, -1.9988651993974935, 0.3620998287019383, 0.6454370926585403, 1.5131459553856328]}, {\"boxpoints\": false, \"line\": {\"width\": 1.3}, \"marker\": {\"color\": \"rgba(55, 128, 191, 1.0)\"}, \"name\": \"B\", \"orientation\": \"v\", \"type\": \"box\", \"y\": [0.5665382229248324, -0.5565063078433714, -0.8718681029275993, -1.398907936994333, 1.4219495489932097, 1.9610132506325109, 0.2518202894903014, -0.13417845181620516, -0.7622085723930692, 0.3919451171772081, 0.26630550068055336, 0.5892959076385756, -0.793505369555898, -0.11360818904203256, 0.04704884319419822, 0.711350622598875, -0.5045014847624979, 0.39897063453354453, 0.8350726088246634, -0.6067348615268908, 0.6018843560171192, -0.9750318086357168, -0.8111768417278923, 0.5865123052820451, -1.2682046206237232, 0.30538546233597064, 0.044060763848661415, 0.30091219086281756, 0.6356706795934935, -0.9290464938329864, 0.26665716907365966, 0.31376967389358773, 0.5230410509719929, -0.47564221228880077, -2.3544581053872924, 1.1631809227657774, 1.2446836192270323, 2.453657648153855, 2.0705079079433575, 1.1823046883956898, 0.1982523746639038, 0.022184968541608917, 0.5792157662111811, 1.6925589437987265, 1.6735491639361957, -0.6081796816698564, -0.654197528371815, 1.9948097814472088, 0.6452083653550553, -0.990864295108887, -1.3545582273408059, 0.5282668446491409, 0.740967616780742, -1.418069374141105, -0.5966689133434379, 0.23363166132097435, 0.8921390421200076, -0.7742498466221465, -0.31783128917578973, -0.04688838580674549, 0.26217113832692995, 0.1967788636582987, 0.08143712402768997, -0.8658789516841908, -0.08489955130735412, 1.6181102272592358, 1.2890470324485164, 0.7229560931164392, 0.46226052689936553, -0.8542194243135494, 0.5094739172634204, -0.5463175094424851, -1.0427681033876963, -1.5960614897359906, 1.2396016427276908, 2.3843745292528733, -0.6218403799730308, -1.7536232569773271, 1.4982683951615485, 1.541779113521374, -0.6370060447827084, -0.24446085397023756, -1.25169978102884, -1.601817214912354, -0.1842659662140935, -0.6653636755456144, 1.7050858145432017, -0.21035741890677045, -0.9178286109980154, -1.5767350284883654, 0.6049863670999431, 0.5707203254294333, -1.0937692620437585, 1.713111116881167, -0.5873802980984976, 0.44428845973412634, -0.05549793997215865, 1.5926275223590245, 0.8538677661840695, 0.21054373693698292]}, {\"boxpoints\": false, \"line\": {\"width\": 1.3}, \"marker\": {\"color\": \"rgba(50, 171, 96, 1.0)\"}, \"name\": \"C\", \"orientation\": \"v\", \"type\": \"box\", \"y\": [0.9239475002560446, 0.3751137231718408, 0.3213921789877636, -0.2002731294404255, -0.9379523078809692, -2.1522008734306044, -1.7310940948390918, -0.7690761647133307, 0.004234155681897507, -0.11260128869010097, 1.9181462902658097, -0.9401663428780545, -1.3363608215513756, -0.22639256087185294, 0.7155052908004416, -1.1338296413529032, -0.20841361761860744, -0.07286227172045914, -2.176211386756295, -0.1331872306911424, -0.9621866079529249, -0.7728293504234989, 1.1385009996291466, 0.2303239773391668, 0.6862223372577602, 1.2344283937191503, 0.1827535990904871, 0.7466936520861805, -1.0113861106730668, 0.32537269389538903, -0.28578783920125933, -0.2771908139363303, -0.8426007184312503, -1.0136604444862443, -1.0926502428164986, -1.394012537051209, 0.9562305045130977, 1.6498602888552416, -0.19818376543622393, -0.773295121549228, -0.6767509387608813, 0.8707980460326364, 1.1639042320491528, 2.0957413891452807, 0.9916228249165744, 2.400768134822709, -2.276667491178643, -1.362397745087905, -0.7391063426887257, -0.9492832291230988, 0.019286027803951923, -0.28058552398171427, -0.7973643592189733, 1.4716940291363256, 0.4726451283358121, -0.7051955600320536, -0.9440260816754585, -0.10268855991288471, 0.36328307262861687, -0.24816233188176445, -0.3914077639390221, -0.48032188714765445, 0.34907300266111085, -0.5263309922419579, 0.3451183917992562, 1.0013016690120522, 0.08437513595097418, -0.08473777899015635, -0.9323953122796237, 0.8202701216036823, -0.4578073639707513, -0.6382506735827904, 1.6413403887559652, 1.1406964008874994, 0.8281331373368289, -0.9501903284973356, -0.9043844858355756, 1.6905305998964446, 0.39251270554655227, -0.45842216078687764, -0.5287645291442242, 0.16658554453340715, 0.33028663295232485, 0.0806777046955102, -1.8144761645876817, 0.569150440390842, -0.25901109428391583, -1.7715535579309254, 1.093822426256376, 0.5404693935559389, -0.16210350511084323, 0.01952070876786433, -1.9389851864227314, 0.16068054996825953, -0.6290895779679284, 1.049212658753759, 0.18240196622299806, -0.38049619934715684, -0.24130247827164875, -0.5949027629607959]}, {\"boxpoints\": false, \"line\": {\"width\": 1.3}, \"marker\": {\"color\": \"rgba(128, 0, 128, 1.0)\"}, \"name\": \"D\", \"orientation\": \"v\", \"type\": \"box\", \"y\": [0.13983859548612287, 0.468221344934841, -0.3655912385179084, 0.0028426141639563965, -1.2866675810136463, 1.8251802474502172, 1.3537927735151978, 0.030589539867225405, -0.41232369430866234, 0.1970748195818725, 0.25626148422482997, 1.6549151625359948, -1.4690654383966493, 1.0998415279033387, 1.4356475730359877, 2.089679085361465, 1.6311950137708888, 0.4907685997784432, 1.4070566610133248, -2.182971526682894, -0.33824460128366046, 0.6580983026884394, 1.690988198782726, 0.6804878081457141, 1.2838188100511365, -0.13754087996797532, 0.9029559561300816, -0.4314996403974591, -0.3684568099711757, 0.9126970404174501, -0.1921020240627544, -0.9366340343699328, 0.5430735446145215, -0.323485474841826, -0.45142608544148116, 1.2924944145509039, 1.154452495993761, -0.9932101913276365, -0.77926610057691, -0.2569662294035719, 0.9846860672528351, -0.6485632595117224, 1.7503239067403413, -0.45804018258783064, -0.3874030044656593, 1.2284148597403435, -1.5366620373899695, 0.07841497834603257, -1.1593881898153189, -0.609599549370757, 0.36140948822313346, -0.20106341353153323, -0.34464711667442166, 1.2041708208317796, 0.6326372279158136, 0.27129981128139, 0.630360944198581, 0.9110921582927479, -0.8250161327320401, 1.252233116341933, 0.47992952396365607, 0.30779893856006946, -0.17493309848738572, 2.2888471477419796, -2.3098292148873942, 1.68115786182939, 0.058481044581439906, -0.9000914909083304, -0.0917083416397356, 1.695902946001967, 0.4719227463212935, -2.1662694755736642, 0.07719035068792048, -0.27267314815742016, -0.06497460244050092, -0.09462209022908295, 0.9533127233372166, -1.077927505417031, -1.0273136240140048, -0.06497531551055151, -0.3652627094287969, -1.5025390382781547, -0.6511798689315315, -3.3300811422783063, -2.8148414055104287, 0.44538472127828194, 0.899733094460187, 1.5990229930275224, -0.2755633420552873, 0.4275679587812028, -1.8318752439950237, -0.27187603561335877, 0.4892489515431244, 1.4102618528205655, -1.0952051796329465, 0.6730615943406543, 0.2808828278013457, 0.12804230788245968, 1.0103653903498466, 0.48592236490986457]}],\n",
       "                        {\"legend\": {\"bgcolor\": \"#F5F6F9\", \"font\": {\"color\": \"#4D5663\"}}, \"paper_bgcolor\": \"#F5F6F9\", \"plot_bgcolor\": \"#F5F6F9\", \"template\": {\"data\": {\"bar\": [{\"error_x\": {\"color\": \"#2a3f5f\"}, \"error_y\": {\"color\": \"#2a3f5f\"}, \"marker\": {\"line\": {\"color\": \"#E5ECF6\", \"width\": 0.5}}, \"type\": \"bar\"}], \"barpolar\": [{\"marker\": {\"line\": {\"color\": \"#E5ECF6\", \"width\": 0.5}}, \"type\": \"barpolar\"}], \"carpet\": [{\"aaxis\": {\"endlinecolor\": \"#2a3f5f\", \"gridcolor\": \"white\", \"linecolor\": \"white\", \"minorgridcolor\": \"white\", \"startlinecolor\": \"#2a3f5f\"}, \"baxis\": {\"endlinecolor\": \"#2a3f5f\", \"gridcolor\": \"white\", \"linecolor\": \"white\", \"minorgridcolor\": \"white\", \"startlinecolor\": \"#2a3f5f\"}, \"type\": \"carpet\"}], \"choropleth\": [{\"colorbar\": {\"outlinewidth\": 0, \"ticks\": \"\"}, \"type\": \"choropleth\"}], \"contour\": [{\"colorbar\": {\"outlinewidth\": 0, \"ticks\": \"\"}, \"colorscale\": [[0.0, \"#0d0887\"], [0.1111111111111111, \"#46039f\"], [0.2222222222222222, \"#7201a8\"], [0.3333333333333333, \"#9c179e\"], [0.4444444444444444, \"#bd3786\"], [0.5555555555555556, \"#d8576b\"], [0.6666666666666666, \"#ed7953\"], [0.7777777777777778, \"#fb9f3a\"], [0.8888888888888888, \"#fdca26\"], [1.0, \"#f0f921\"]], \"type\": \"contour\"}], \"contourcarpet\": [{\"colorbar\": {\"outlinewidth\": 0, \"ticks\": \"\"}, \"type\": \"contourcarpet\"}], \"heatmap\": [{\"colorbar\": {\"outlinewidth\": 0, \"ticks\": \"\"}, \"colorscale\": [[0.0, \"#0d0887\"], [0.1111111111111111, \"#46039f\"], [0.2222222222222222, \"#7201a8\"], [0.3333333333333333, \"#9c179e\"], [0.4444444444444444, \"#bd3786\"], [0.5555555555555556, \"#d8576b\"], [0.6666666666666666, \"#ed7953\"], [0.7777777777777778, \"#fb9f3a\"], [0.8888888888888888, \"#fdca26\"], [1.0, \"#f0f921\"]], \"type\": \"heatmap\"}], \"heatmapgl\": [{\"colorbar\": {\"outlinewidth\": 0, \"ticks\": \"\"}, \"colorscale\": [[0.0, \"#0d0887\"], [0.1111111111111111, \"#46039f\"], [0.2222222222222222, \"#7201a8\"], [0.3333333333333333, \"#9c179e\"], [0.4444444444444444, \"#bd3786\"], [0.5555555555555556, \"#d8576b\"], [0.6666666666666666, \"#ed7953\"], [0.7777777777777778, \"#fb9f3a\"], [0.8888888888888888, \"#fdca26\"], [1.0, \"#f0f921\"]], \"type\": \"heatmapgl\"}], \"histogram\": [{\"marker\": {\"colorbar\": {\"outlinewidth\": 0, \"ticks\": \"\"}}, \"type\": \"histogram\"}], \"histogram2d\": [{\"colorbar\": {\"outlinewidth\": 0, \"ticks\": \"\"}, \"colorscale\": [[0.0, \"#0d0887\"], [0.1111111111111111, \"#46039f\"], [0.2222222222222222, \"#7201a8\"], [0.3333333333333333, \"#9c179e\"], [0.4444444444444444, \"#bd3786\"], [0.5555555555555556, \"#d8576b\"], [0.6666666666666666, \"#ed7953\"], [0.7777777777777778, \"#fb9f3a\"], [0.8888888888888888, \"#fdca26\"], [1.0, \"#f0f921\"]], \"type\": \"histogram2d\"}], \"histogram2dcontour\": [{\"colorbar\": {\"outlinewidth\": 0, \"ticks\": \"\"}, \"colorscale\": [[0.0, \"#0d0887\"], [0.1111111111111111, \"#46039f\"], [0.2222222222222222, \"#7201a8\"], [0.3333333333333333, \"#9c179e\"], [0.4444444444444444, \"#bd3786\"], [0.5555555555555556, \"#d8576b\"], [0.6666666666666666, \"#ed7953\"], [0.7777777777777778, \"#fb9f3a\"], [0.8888888888888888, \"#fdca26\"], [1.0, \"#f0f921\"]], \"type\": \"histogram2dcontour\"}], \"mesh3d\": [{\"colorbar\": {\"outlinewidth\": 0, \"ticks\": \"\"}, \"type\": \"mesh3d\"}], \"parcoords\": [{\"line\": {\"colorbar\": {\"outlinewidth\": 0, \"ticks\": \"\"}}, \"type\": \"parcoords\"}], \"pie\": [{\"automargin\": true, \"type\": \"pie\"}], \"scatter\": [{\"marker\": {\"colorbar\": {\"outlinewidth\": 0, \"ticks\": \"\"}}, \"type\": \"scatter\"}], \"scatter3d\": [{\"line\": {\"colorbar\": {\"outlinewidth\": 0, \"ticks\": \"\"}}, \"marker\": {\"colorbar\": {\"outlinewidth\": 0, \"ticks\": \"\"}}, \"type\": \"scatter3d\"}], \"scattercarpet\": [{\"marker\": {\"colorbar\": {\"outlinewidth\": 0, \"ticks\": \"\"}}, \"type\": \"scattercarpet\"}], \"scattergeo\": [{\"marker\": {\"colorbar\": {\"outlinewidth\": 0, \"ticks\": \"\"}}, \"type\": \"scattergeo\"}], \"scattergl\": [{\"marker\": {\"colorbar\": {\"outlinewidth\": 0, \"ticks\": \"\"}}, \"type\": \"scattergl\"}], \"scattermapbox\": [{\"marker\": {\"colorbar\": {\"outlinewidth\": 0, \"ticks\": \"\"}}, \"type\": \"scattermapbox\"}], \"scatterpolar\": [{\"marker\": {\"colorbar\": {\"outlinewidth\": 0, \"ticks\": \"\"}}, \"type\": \"scatterpolar\"}], \"scatterpolargl\": [{\"marker\": {\"colorbar\": {\"outlinewidth\": 0, \"ticks\": \"\"}}, \"type\": \"scatterpolargl\"}], \"scatterternary\": [{\"marker\": {\"colorbar\": {\"outlinewidth\": 0, \"ticks\": \"\"}}, \"type\": \"scatterternary\"}], \"surface\": [{\"colorbar\": {\"outlinewidth\": 0, \"ticks\": \"\"}, \"colorscale\": [[0.0, \"#0d0887\"], [0.1111111111111111, \"#46039f\"], [0.2222222222222222, \"#7201a8\"], [0.3333333333333333, \"#9c179e\"], [0.4444444444444444, \"#bd3786\"], [0.5555555555555556, \"#d8576b\"], [0.6666666666666666, \"#ed7953\"], [0.7777777777777778, \"#fb9f3a\"], [0.8888888888888888, \"#fdca26\"], [1.0, \"#f0f921\"]], \"type\": \"surface\"}], \"table\": [{\"cells\": {\"fill\": {\"color\": \"#EBF0F8\"}, \"line\": {\"color\": \"white\"}}, \"header\": {\"fill\": {\"color\": \"#C8D4E3\"}, \"line\": {\"color\": \"white\"}}, \"type\": \"table\"}]}, \"layout\": {\"annotationdefaults\": {\"arrowcolor\": \"#2a3f5f\", \"arrowhead\": 0, \"arrowwidth\": 1}, \"coloraxis\": {\"colorbar\": {\"outlinewidth\": 0, \"ticks\": \"\"}}, \"colorscale\": {\"diverging\": [[0, \"#8e0152\"], [0.1, \"#c51b7d\"], [0.2, \"#de77ae\"], [0.3, \"#f1b6da\"], [0.4, \"#fde0ef\"], [0.5, \"#f7f7f7\"], [0.6, \"#e6f5d0\"], [0.7, \"#b8e186\"], [0.8, \"#7fbc41\"], [0.9, \"#4d9221\"], [1, \"#276419\"]], \"sequential\": [[0.0, \"#0d0887\"], [0.1111111111111111, \"#46039f\"], [0.2222222222222222, \"#7201a8\"], [0.3333333333333333, \"#9c179e\"], [0.4444444444444444, \"#bd3786\"], [0.5555555555555556, \"#d8576b\"], [0.6666666666666666, \"#ed7953\"], [0.7777777777777778, \"#fb9f3a\"], [0.8888888888888888, \"#fdca26\"], [1.0, \"#f0f921\"]], \"sequentialminus\": [[0.0, \"#0d0887\"], [0.1111111111111111, \"#46039f\"], [0.2222222222222222, \"#7201a8\"], [0.3333333333333333, \"#9c179e\"], [0.4444444444444444, \"#bd3786\"], [0.5555555555555556, \"#d8576b\"], [0.6666666666666666, \"#ed7953\"], [0.7777777777777778, \"#fb9f3a\"], [0.8888888888888888, \"#fdca26\"], [1.0, \"#f0f921\"]]}, \"colorway\": [\"#636efa\", \"#EF553B\", \"#00cc96\", \"#ab63fa\", \"#FFA15A\", \"#19d3f3\", \"#FF6692\", \"#B6E880\", \"#FF97FF\", \"#FECB52\"], \"font\": {\"color\": \"#2a3f5f\"}, \"geo\": {\"bgcolor\": \"white\", \"lakecolor\": \"white\", \"landcolor\": \"#E5ECF6\", \"showlakes\": true, \"showland\": true, \"subunitcolor\": \"white\"}, \"hoverlabel\": {\"align\": \"left\"}, \"hovermode\": \"closest\", \"mapbox\": {\"style\": \"light\"}, \"paper_bgcolor\": \"white\", \"plot_bgcolor\": \"#E5ECF6\", \"polar\": {\"angularaxis\": {\"gridcolor\": \"white\", \"linecolor\": \"white\", \"ticks\": \"\"}, \"bgcolor\": \"#E5ECF6\", \"radialaxis\": {\"gridcolor\": \"white\", \"linecolor\": \"white\", \"ticks\": \"\"}}, \"scene\": {\"xaxis\": {\"backgroundcolor\": \"#E5ECF6\", \"gridcolor\": \"white\", \"gridwidth\": 2, \"linecolor\": \"white\", \"showbackground\": true, \"ticks\": \"\", \"zerolinecolor\": \"white\"}, \"yaxis\": {\"backgroundcolor\": \"#E5ECF6\", \"gridcolor\": \"white\", \"gridwidth\": 2, \"linecolor\": \"white\", \"showbackground\": true, \"ticks\": \"\", \"zerolinecolor\": \"white\"}, \"zaxis\": {\"backgroundcolor\": \"#E5ECF6\", \"gridcolor\": \"white\", \"gridwidth\": 2, \"linecolor\": \"white\", \"showbackground\": true, \"ticks\": \"\", \"zerolinecolor\": \"white\"}}, \"shapedefaults\": {\"line\": {\"color\": \"#2a3f5f\"}}, \"ternary\": {\"aaxis\": {\"gridcolor\": \"white\", \"linecolor\": \"white\", \"ticks\": \"\"}, \"baxis\": {\"gridcolor\": \"white\", \"linecolor\": \"white\", \"ticks\": \"\"}, \"bgcolor\": \"#E5ECF6\", \"caxis\": {\"gridcolor\": \"white\", \"linecolor\": \"white\", \"ticks\": \"\"}}, \"title\": {\"x\": 0.05}, \"xaxis\": {\"automargin\": true, \"gridcolor\": \"white\", \"linecolor\": \"white\", \"ticks\": \"\", \"title\": {\"standoff\": 15}, \"zerolinecolor\": \"white\", \"zerolinewidth\": 2}, \"yaxis\": {\"automargin\": true, \"gridcolor\": \"white\", \"linecolor\": \"white\", \"ticks\": \"\", \"title\": {\"standoff\": 15}, \"zerolinecolor\": \"white\", \"zerolinewidth\": 2}}}, \"title\": {\"font\": {\"color\": \"#4D5663\"}}, \"xaxis\": {\"gridcolor\": \"#E1E5ED\", \"showgrid\": true, \"tickfont\": {\"color\": \"#4D5663\"}, \"title\": {\"font\": {\"color\": \"#4D5663\"}, \"text\": \"\"}, \"zerolinecolor\": \"#E1E5ED\"}, \"yaxis\": {\"gridcolor\": \"#E1E5ED\", \"showgrid\": true, \"tickfont\": {\"color\": \"#4D5663\"}, \"title\": {\"font\": {\"color\": \"#4D5663\"}, \"text\": \"\"}, \"zerolinecolor\": \"#E1E5ED\"}},\n",
       "                        {\"showLink\": true, \"linkText\": \"Export to plot.ly\", \"plotlyServerURL\": \"https://plot.ly\", \"responsive\": true}\n",
       "                    ).then(function(){\n",
       "                            \n",
       "var gd = document.getElementById('439e8786-be9c-439e-889c-feeb0ca70a4e');\n",
       "var x = new MutationObserver(function (mutations, observer) {{\n",
       "        var display = window.getComputedStyle(gd).display;\n",
       "        if (!display || display === 'none') {{\n",
       "            console.log([gd, 'removed!']);\n",
       "            Plotly.purge(gd);\n",
       "            observer.disconnect();\n",
       "        }}\n",
       "}});\n",
       "\n",
       "// Listen for the removal of the full notebook cells\n",
       "var notebookContainer = gd.closest('#notebook-container');\n",
       "if (notebookContainer) {{\n",
       "    x.observe(notebookContainer, {childList: true});\n",
       "}}\n",
       "\n",
       "// Listen for the clearing of the current output cell\n",
       "var outputEl = gd.closest('.output');\n",
       "if (outputEl) {{\n",
       "    x.observe(outputEl, {childList: true});\n",
       "}}\n",
       "\n",
       "                        })\n",
       "                };\n",
       "                });\n",
       "            </script>\n",
       "        </div>"
      ]
     },
     "metadata": {},
     "output_type": "display_data"
    }
   ],
   "source": [
    "df.iplot(kind='box')"
   ]
  },
  {
   "cell_type": "markdown",
   "metadata": {},
   "source": [
    "## 3d Surface"
   ]
  },
  {
   "cell_type": "code",
   "execution_count": 14,
   "metadata": {},
   "outputs": [
    {
     "data": {
      "application/vnd.plotly.v1+json": {
       "config": {
        "linkText": "Export to plot.ly",
        "plotlyServerURL": "https://plot.ly",
        "showLink": true
       },
       "data": [
        {
         "colorscale": [
          [
           0,
           "rgb(165,0,38)"
          ],
          [
           0.1,
           "rgb(215,48,39)"
          ],
          [
           0.2,
           "rgb(244,109,67)"
          ],
          [
           0.3,
           "rgb(253,174,97)"
          ],
          [
           0.4,
           "rgb(254,224,144)"
          ],
          [
           0.5,
           "rgb(255,255,191)"
          ],
          [
           0.6,
           "rgb(224,243,248)"
          ],
          [
           0.7,
           "rgb(171,217,233)"
          ],
          [
           0.8,
           "rgb(116,173,209)"
          ],
          [
           0.9,
           "rgb(69,117,180)"
          ],
          [
           1,
           "rgb(49,54,149)"
          ]
         ],
         "type": "surface",
         "x": [
          0,
          1,
          2,
          3,
          4
         ],
         "y": [
          "x",
          "y",
          "z"
         ],
         "z": [
          [
           1,
           2,
           3,
           4,
           5
          ],
          [
           10,
           20,
           30,
           20,
           10
          ],
          [
           5,
           4,
           3,
           2,
           1
          ]
         ]
        }
       ],
       "layout": {
        "legend": {
         "bgcolor": "#F5F6F9",
         "font": {
          "color": "#4D5663"
         }
        },
        "paper_bgcolor": "#F5F6F9",
        "plot_bgcolor": "#F5F6F9",
        "template": {
         "data": {
          "bar": [
           {
            "error_x": {
             "color": "#2a3f5f"
            },
            "error_y": {
             "color": "#2a3f5f"
            },
            "marker": {
             "line": {
              "color": "#E5ECF6",
              "width": 0.5
             }
            },
            "type": "bar"
           }
          ],
          "barpolar": [
           {
            "marker": {
             "line": {
              "color": "#E5ECF6",
              "width": 0.5
             }
            },
            "type": "barpolar"
           }
          ],
          "carpet": [
           {
            "aaxis": {
             "endlinecolor": "#2a3f5f",
             "gridcolor": "white",
             "linecolor": "white",
             "minorgridcolor": "white",
             "startlinecolor": "#2a3f5f"
            },
            "baxis": {
             "endlinecolor": "#2a3f5f",
             "gridcolor": "white",
             "linecolor": "white",
             "minorgridcolor": "white",
             "startlinecolor": "#2a3f5f"
            },
            "type": "carpet"
           }
          ],
          "choropleth": [
           {
            "colorbar": {
             "outlinewidth": 0,
             "ticks": ""
            },
            "type": "choropleth"
           }
          ],
          "contour": [
           {
            "colorbar": {
             "outlinewidth": 0,
             "ticks": ""
            },
            "colorscale": [
             [
              0,
              "#0d0887"
             ],
             [
              0.1111111111111111,
              "#46039f"
             ],
             [
              0.2222222222222222,
              "#7201a8"
             ],
             [
              0.3333333333333333,
              "#9c179e"
             ],
             [
              0.4444444444444444,
              "#bd3786"
             ],
             [
              0.5555555555555556,
              "#d8576b"
             ],
             [
              0.6666666666666666,
              "#ed7953"
             ],
             [
              0.7777777777777778,
              "#fb9f3a"
             ],
             [
              0.8888888888888888,
              "#fdca26"
             ],
             [
              1,
              "#f0f921"
             ]
            ],
            "type": "contour"
           }
          ],
          "contourcarpet": [
           {
            "colorbar": {
             "outlinewidth": 0,
             "ticks": ""
            },
            "type": "contourcarpet"
           }
          ],
          "heatmap": [
           {
            "colorbar": {
             "outlinewidth": 0,
             "ticks": ""
            },
            "colorscale": [
             [
              0,
              "#0d0887"
             ],
             [
              0.1111111111111111,
              "#46039f"
             ],
             [
              0.2222222222222222,
              "#7201a8"
             ],
             [
              0.3333333333333333,
              "#9c179e"
             ],
             [
              0.4444444444444444,
              "#bd3786"
             ],
             [
              0.5555555555555556,
              "#d8576b"
             ],
             [
              0.6666666666666666,
              "#ed7953"
             ],
             [
              0.7777777777777778,
              "#fb9f3a"
             ],
             [
              0.8888888888888888,
              "#fdca26"
             ],
             [
              1,
              "#f0f921"
             ]
            ],
            "type": "heatmap"
           }
          ],
          "heatmapgl": [
           {
            "colorbar": {
             "outlinewidth": 0,
             "ticks": ""
            },
            "colorscale": [
             [
              0,
              "#0d0887"
             ],
             [
              0.1111111111111111,
              "#46039f"
             ],
             [
              0.2222222222222222,
              "#7201a8"
             ],
             [
              0.3333333333333333,
              "#9c179e"
             ],
             [
              0.4444444444444444,
              "#bd3786"
             ],
             [
              0.5555555555555556,
              "#d8576b"
             ],
             [
              0.6666666666666666,
              "#ed7953"
             ],
             [
              0.7777777777777778,
              "#fb9f3a"
             ],
             [
              0.8888888888888888,
              "#fdca26"
             ],
             [
              1,
              "#f0f921"
             ]
            ],
            "type": "heatmapgl"
           }
          ],
          "histogram": [
           {
            "marker": {
             "colorbar": {
              "outlinewidth": 0,
              "ticks": ""
             }
            },
            "type": "histogram"
           }
          ],
          "histogram2d": [
           {
            "colorbar": {
             "outlinewidth": 0,
             "ticks": ""
            },
            "colorscale": [
             [
              0,
              "#0d0887"
             ],
             [
              0.1111111111111111,
              "#46039f"
             ],
             [
              0.2222222222222222,
              "#7201a8"
             ],
             [
              0.3333333333333333,
              "#9c179e"
             ],
             [
              0.4444444444444444,
              "#bd3786"
             ],
             [
              0.5555555555555556,
              "#d8576b"
             ],
             [
              0.6666666666666666,
              "#ed7953"
             ],
             [
              0.7777777777777778,
              "#fb9f3a"
             ],
             [
              0.8888888888888888,
              "#fdca26"
             ],
             [
              1,
              "#f0f921"
             ]
            ],
            "type": "histogram2d"
           }
          ],
          "histogram2dcontour": [
           {
            "colorbar": {
             "outlinewidth": 0,
             "ticks": ""
            },
            "colorscale": [
             [
              0,
              "#0d0887"
             ],
             [
              0.1111111111111111,
              "#46039f"
             ],
             [
              0.2222222222222222,
              "#7201a8"
             ],
             [
              0.3333333333333333,
              "#9c179e"
             ],
             [
              0.4444444444444444,
              "#bd3786"
             ],
             [
              0.5555555555555556,
              "#d8576b"
             ],
             [
              0.6666666666666666,
              "#ed7953"
             ],
             [
              0.7777777777777778,
              "#fb9f3a"
             ],
             [
              0.8888888888888888,
              "#fdca26"
             ],
             [
              1,
              "#f0f921"
             ]
            ],
            "type": "histogram2dcontour"
           }
          ],
          "mesh3d": [
           {
            "colorbar": {
             "outlinewidth": 0,
             "ticks": ""
            },
            "type": "mesh3d"
           }
          ],
          "parcoords": [
           {
            "line": {
             "colorbar": {
              "outlinewidth": 0,
              "ticks": ""
             }
            },
            "type": "parcoords"
           }
          ],
          "pie": [
           {
            "automargin": true,
            "type": "pie"
           }
          ],
          "scatter": [
           {
            "marker": {
             "colorbar": {
              "outlinewidth": 0,
              "ticks": ""
             }
            },
            "type": "scatter"
           }
          ],
          "scatter3d": [
           {
            "line": {
             "colorbar": {
              "outlinewidth": 0,
              "ticks": ""
             }
            },
            "marker": {
             "colorbar": {
              "outlinewidth": 0,
              "ticks": ""
             }
            },
            "type": "scatter3d"
           }
          ],
          "scattercarpet": [
           {
            "marker": {
             "colorbar": {
              "outlinewidth": 0,
              "ticks": ""
             }
            },
            "type": "scattercarpet"
           }
          ],
          "scattergeo": [
           {
            "marker": {
             "colorbar": {
              "outlinewidth": 0,
              "ticks": ""
             }
            },
            "type": "scattergeo"
           }
          ],
          "scattergl": [
           {
            "marker": {
             "colorbar": {
              "outlinewidth": 0,
              "ticks": ""
             }
            },
            "type": "scattergl"
           }
          ],
          "scattermapbox": [
           {
            "marker": {
             "colorbar": {
              "outlinewidth": 0,
              "ticks": ""
             }
            },
            "type": "scattermapbox"
           }
          ],
          "scatterpolar": [
           {
            "marker": {
             "colorbar": {
              "outlinewidth": 0,
              "ticks": ""
             }
            },
            "type": "scatterpolar"
           }
          ],
          "scatterpolargl": [
           {
            "marker": {
             "colorbar": {
              "outlinewidth": 0,
              "ticks": ""
             }
            },
            "type": "scatterpolargl"
           }
          ],
          "scatterternary": [
           {
            "marker": {
             "colorbar": {
              "outlinewidth": 0,
              "ticks": ""
             }
            },
            "type": "scatterternary"
           }
          ],
          "surface": [
           {
            "colorbar": {
             "outlinewidth": 0,
             "ticks": ""
            },
            "colorscale": [
             [
              0,
              "#0d0887"
             ],
             [
              0.1111111111111111,
              "#46039f"
             ],
             [
              0.2222222222222222,
              "#7201a8"
             ],
             [
              0.3333333333333333,
              "#9c179e"
             ],
             [
              0.4444444444444444,
              "#bd3786"
             ],
             [
              0.5555555555555556,
              "#d8576b"
             ],
             [
              0.6666666666666666,
              "#ed7953"
             ],
             [
              0.7777777777777778,
              "#fb9f3a"
             ],
             [
              0.8888888888888888,
              "#fdca26"
             ],
             [
              1,
              "#f0f921"
             ]
            ],
            "type": "surface"
           }
          ],
          "table": [
           {
            "cells": {
             "fill": {
              "color": "#EBF0F8"
             },
             "line": {
              "color": "white"
             }
            },
            "header": {
             "fill": {
              "color": "#C8D4E3"
             },
             "line": {
              "color": "white"
             }
            },
            "type": "table"
           }
          ]
         },
         "layout": {
          "annotationdefaults": {
           "arrowcolor": "#2a3f5f",
           "arrowhead": 0,
           "arrowwidth": 1
          },
          "coloraxis": {
           "colorbar": {
            "outlinewidth": 0,
            "ticks": ""
           }
          },
          "colorscale": {
           "diverging": [
            [
             0,
             "#8e0152"
            ],
            [
             0.1,
             "#c51b7d"
            ],
            [
             0.2,
             "#de77ae"
            ],
            [
             0.3,
             "#f1b6da"
            ],
            [
             0.4,
             "#fde0ef"
            ],
            [
             0.5,
             "#f7f7f7"
            ],
            [
             0.6,
             "#e6f5d0"
            ],
            [
             0.7,
             "#b8e186"
            ],
            [
             0.8,
             "#7fbc41"
            ],
            [
             0.9,
             "#4d9221"
            ],
            [
             1,
             "#276419"
            ]
           ],
           "sequential": [
            [
             0,
             "#0d0887"
            ],
            [
             0.1111111111111111,
             "#46039f"
            ],
            [
             0.2222222222222222,
             "#7201a8"
            ],
            [
             0.3333333333333333,
             "#9c179e"
            ],
            [
             0.4444444444444444,
             "#bd3786"
            ],
            [
             0.5555555555555556,
             "#d8576b"
            ],
            [
             0.6666666666666666,
             "#ed7953"
            ],
            [
             0.7777777777777778,
             "#fb9f3a"
            ],
            [
             0.8888888888888888,
             "#fdca26"
            ],
            [
             1,
             "#f0f921"
            ]
           ],
           "sequentialminus": [
            [
             0,
             "#0d0887"
            ],
            [
             0.1111111111111111,
             "#46039f"
            ],
            [
             0.2222222222222222,
             "#7201a8"
            ],
            [
             0.3333333333333333,
             "#9c179e"
            ],
            [
             0.4444444444444444,
             "#bd3786"
            ],
            [
             0.5555555555555556,
             "#d8576b"
            ],
            [
             0.6666666666666666,
             "#ed7953"
            ],
            [
             0.7777777777777778,
             "#fb9f3a"
            ],
            [
             0.8888888888888888,
             "#fdca26"
            ],
            [
             1,
             "#f0f921"
            ]
           ]
          },
          "colorway": [
           "#636efa",
           "#EF553B",
           "#00cc96",
           "#ab63fa",
           "#FFA15A",
           "#19d3f3",
           "#FF6692",
           "#B6E880",
           "#FF97FF",
           "#FECB52"
          ],
          "font": {
           "color": "#2a3f5f"
          },
          "geo": {
           "bgcolor": "white",
           "lakecolor": "white",
           "landcolor": "#E5ECF6",
           "showlakes": true,
           "showland": true,
           "subunitcolor": "white"
          },
          "hoverlabel": {
           "align": "left"
          },
          "hovermode": "closest",
          "mapbox": {
           "style": "light"
          },
          "paper_bgcolor": "white",
          "plot_bgcolor": "#E5ECF6",
          "polar": {
           "angularaxis": {
            "gridcolor": "white",
            "linecolor": "white",
            "ticks": ""
           },
           "bgcolor": "#E5ECF6",
           "radialaxis": {
            "gridcolor": "white",
            "linecolor": "white",
            "ticks": ""
           }
          },
          "scene": {
           "xaxis": {
            "backgroundcolor": "#E5ECF6",
            "gridcolor": "white",
            "gridwidth": 2,
            "linecolor": "white",
            "showbackground": true,
            "ticks": "",
            "zerolinecolor": "white"
           },
           "yaxis": {
            "backgroundcolor": "#E5ECF6",
            "gridcolor": "white",
            "gridwidth": 2,
            "linecolor": "white",
            "showbackground": true,
            "ticks": "",
            "zerolinecolor": "white"
           },
           "zaxis": {
            "backgroundcolor": "#E5ECF6",
            "gridcolor": "white",
            "gridwidth": 2,
            "linecolor": "white",
            "showbackground": true,
            "ticks": "",
            "zerolinecolor": "white"
           }
          },
          "shapedefaults": {
           "line": {
            "color": "#2a3f5f"
           }
          },
          "ternary": {
           "aaxis": {
            "gridcolor": "white",
            "linecolor": "white",
            "ticks": ""
           },
           "baxis": {
            "gridcolor": "white",
            "linecolor": "white",
            "ticks": ""
           },
           "bgcolor": "#E5ECF6",
           "caxis": {
            "gridcolor": "white",
            "linecolor": "white",
            "ticks": ""
           }
          },
          "title": {
           "x": 0.05
          },
          "xaxis": {
           "automargin": true,
           "gridcolor": "white",
           "linecolor": "white",
           "ticks": "",
           "title": {
            "standoff": 15
           },
           "zerolinecolor": "white",
           "zerolinewidth": 2
          },
          "yaxis": {
           "automargin": true,
           "gridcolor": "white",
           "linecolor": "white",
           "ticks": "",
           "title": {
            "standoff": 15
           },
           "zerolinecolor": "white",
           "zerolinewidth": 2
          }
         }
        },
        "title": {
         "font": {
          "color": "#4D5663"
         }
        },
        "xaxis": {
         "gridcolor": "#E1E5ED",
         "showgrid": true,
         "tickfont": {
          "color": "#4D5663"
         },
         "title": {
          "font": {
           "color": "#4D5663"
          },
          "text": ""
         },
         "zerolinecolor": "#E1E5ED"
        },
        "yaxis": {
         "gridcolor": "#E1E5ED",
         "showgrid": true,
         "tickfont": {
          "color": "#4D5663"
         },
         "title": {
          "font": {
           "color": "#4D5663"
          },
          "text": ""
         },
         "zerolinecolor": "#E1E5ED"
        }
       }
      },
      "text/html": [
       "<div>\n",
       "        \n",
       "        \n",
       "            <div id=\"a0399437-4b62-4f0c-b09d-9868157b5b52\" class=\"plotly-graph-div\" style=\"height:525px; width:100%;\"></div>\n",
       "            <script type=\"text/javascript\">\n",
       "                require([\"plotly\"], function(Plotly) {\n",
       "                    window.PLOTLYENV=window.PLOTLYENV || {};\n",
       "                    window.PLOTLYENV.BASE_URL='https://plot.ly';\n",
       "                    \n",
       "                if (document.getElementById(\"a0399437-4b62-4f0c-b09d-9868157b5b52\")) {\n",
       "                    Plotly.newPlot(\n",
       "                        'a0399437-4b62-4f0c-b09d-9868157b5b52',\n",
       "                        [{\"colorscale\": [[0.0, \"rgb(165,0,38)\"], [0.1, \"rgb(215,48,39)\"], [0.2, \"rgb(244,109,67)\"], [0.3, \"rgb(253,174,97)\"], [0.4, \"rgb(254,224,144)\"], [0.5, \"rgb(255,255,191)\"], [0.6, \"rgb(224,243,248)\"], [0.7, \"rgb(171,217,233)\"], [0.8, \"rgb(116,173,209)\"], [0.9, \"rgb(69,117,180)\"], [1.0, \"rgb(49,54,149)\"]], \"type\": \"surface\", \"x\": [0, 1, 2, 3, 4], \"y\": [\"x\", \"y\", \"z\"], \"z\": [[1, 2, 3, 4, 5], [10, 20, 30, 20, 10], [5, 4, 3, 2, 1]]}],\n",
       "                        {\"legend\": {\"bgcolor\": \"#F5F6F9\", \"font\": {\"color\": \"#4D5663\"}}, \"paper_bgcolor\": \"#F5F6F9\", \"plot_bgcolor\": \"#F5F6F9\", \"template\": {\"data\": {\"bar\": [{\"error_x\": {\"color\": \"#2a3f5f\"}, \"error_y\": {\"color\": \"#2a3f5f\"}, \"marker\": {\"line\": {\"color\": \"#E5ECF6\", \"width\": 0.5}}, \"type\": \"bar\"}], \"barpolar\": [{\"marker\": {\"line\": {\"color\": \"#E5ECF6\", \"width\": 0.5}}, \"type\": \"barpolar\"}], \"carpet\": [{\"aaxis\": {\"endlinecolor\": \"#2a3f5f\", \"gridcolor\": \"white\", \"linecolor\": \"white\", \"minorgridcolor\": \"white\", \"startlinecolor\": \"#2a3f5f\"}, \"baxis\": {\"endlinecolor\": \"#2a3f5f\", \"gridcolor\": \"white\", \"linecolor\": \"white\", \"minorgridcolor\": \"white\", \"startlinecolor\": \"#2a3f5f\"}, \"type\": \"carpet\"}], \"choropleth\": [{\"colorbar\": {\"outlinewidth\": 0, \"ticks\": \"\"}, \"type\": \"choropleth\"}], \"contour\": [{\"colorbar\": {\"outlinewidth\": 0, \"ticks\": \"\"}, \"colorscale\": [[0.0, \"#0d0887\"], [0.1111111111111111, \"#46039f\"], [0.2222222222222222, \"#7201a8\"], [0.3333333333333333, \"#9c179e\"], [0.4444444444444444, \"#bd3786\"], [0.5555555555555556, \"#d8576b\"], [0.6666666666666666, \"#ed7953\"], [0.7777777777777778, \"#fb9f3a\"], [0.8888888888888888, \"#fdca26\"], [1.0, \"#f0f921\"]], \"type\": \"contour\"}], \"contourcarpet\": [{\"colorbar\": {\"outlinewidth\": 0, \"ticks\": \"\"}, \"type\": \"contourcarpet\"}], \"heatmap\": [{\"colorbar\": {\"outlinewidth\": 0, \"ticks\": \"\"}, \"colorscale\": [[0.0, \"#0d0887\"], [0.1111111111111111, \"#46039f\"], [0.2222222222222222, \"#7201a8\"], [0.3333333333333333, \"#9c179e\"], [0.4444444444444444, \"#bd3786\"], [0.5555555555555556, \"#d8576b\"], [0.6666666666666666, \"#ed7953\"], [0.7777777777777778, \"#fb9f3a\"], [0.8888888888888888, \"#fdca26\"], [1.0, \"#f0f921\"]], \"type\": \"heatmap\"}], \"heatmapgl\": [{\"colorbar\": {\"outlinewidth\": 0, \"ticks\": \"\"}, \"colorscale\": [[0.0, \"#0d0887\"], [0.1111111111111111, \"#46039f\"], [0.2222222222222222, \"#7201a8\"], [0.3333333333333333, \"#9c179e\"], [0.4444444444444444, \"#bd3786\"], [0.5555555555555556, \"#d8576b\"], [0.6666666666666666, \"#ed7953\"], [0.7777777777777778, \"#fb9f3a\"], [0.8888888888888888, \"#fdca26\"], [1.0, \"#f0f921\"]], \"type\": \"heatmapgl\"}], \"histogram\": [{\"marker\": {\"colorbar\": {\"outlinewidth\": 0, \"ticks\": \"\"}}, \"type\": \"histogram\"}], \"histogram2d\": [{\"colorbar\": {\"outlinewidth\": 0, \"ticks\": \"\"}, \"colorscale\": [[0.0, \"#0d0887\"], [0.1111111111111111, \"#46039f\"], [0.2222222222222222, \"#7201a8\"], [0.3333333333333333, \"#9c179e\"], [0.4444444444444444, \"#bd3786\"], [0.5555555555555556, \"#d8576b\"], [0.6666666666666666, \"#ed7953\"], [0.7777777777777778, \"#fb9f3a\"], [0.8888888888888888, \"#fdca26\"], [1.0, \"#f0f921\"]], \"type\": \"histogram2d\"}], \"histogram2dcontour\": [{\"colorbar\": {\"outlinewidth\": 0, \"ticks\": \"\"}, \"colorscale\": [[0.0, \"#0d0887\"], [0.1111111111111111, \"#46039f\"], [0.2222222222222222, \"#7201a8\"], [0.3333333333333333, \"#9c179e\"], [0.4444444444444444, \"#bd3786\"], [0.5555555555555556, \"#d8576b\"], [0.6666666666666666, \"#ed7953\"], [0.7777777777777778, \"#fb9f3a\"], [0.8888888888888888, \"#fdca26\"], [1.0, \"#f0f921\"]], \"type\": \"histogram2dcontour\"}], \"mesh3d\": [{\"colorbar\": {\"outlinewidth\": 0, \"ticks\": \"\"}, \"type\": \"mesh3d\"}], \"parcoords\": [{\"line\": {\"colorbar\": {\"outlinewidth\": 0, \"ticks\": \"\"}}, \"type\": \"parcoords\"}], \"pie\": [{\"automargin\": true, \"type\": \"pie\"}], \"scatter\": [{\"marker\": {\"colorbar\": {\"outlinewidth\": 0, \"ticks\": \"\"}}, \"type\": \"scatter\"}], \"scatter3d\": [{\"line\": {\"colorbar\": {\"outlinewidth\": 0, \"ticks\": \"\"}}, \"marker\": {\"colorbar\": {\"outlinewidth\": 0, \"ticks\": \"\"}}, \"type\": \"scatter3d\"}], \"scattercarpet\": [{\"marker\": {\"colorbar\": {\"outlinewidth\": 0, \"ticks\": \"\"}}, \"type\": \"scattercarpet\"}], \"scattergeo\": [{\"marker\": {\"colorbar\": {\"outlinewidth\": 0, \"ticks\": \"\"}}, \"type\": \"scattergeo\"}], \"scattergl\": [{\"marker\": {\"colorbar\": {\"outlinewidth\": 0, \"ticks\": \"\"}}, \"type\": \"scattergl\"}], \"scattermapbox\": [{\"marker\": {\"colorbar\": {\"outlinewidth\": 0, \"ticks\": \"\"}}, \"type\": \"scattermapbox\"}], \"scatterpolar\": [{\"marker\": {\"colorbar\": {\"outlinewidth\": 0, \"ticks\": \"\"}}, \"type\": \"scatterpolar\"}], \"scatterpolargl\": [{\"marker\": {\"colorbar\": {\"outlinewidth\": 0, \"ticks\": \"\"}}, \"type\": \"scatterpolargl\"}], \"scatterternary\": [{\"marker\": {\"colorbar\": {\"outlinewidth\": 0, \"ticks\": \"\"}}, \"type\": \"scatterternary\"}], \"surface\": [{\"colorbar\": {\"outlinewidth\": 0, \"ticks\": \"\"}, \"colorscale\": [[0.0, \"#0d0887\"], [0.1111111111111111, \"#46039f\"], [0.2222222222222222, \"#7201a8\"], [0.3333333333333333, \"#9c179e\"], [0.4444444444444444, \"#bd3786\"], [0.5555555555555556, \"#d8576b\"], [0.6666666666666666, \"#ed7953\"], [0.7777777777777778, \"#fb9f3a\"], [0.8888888888888888, \"#fdca26\"], [1.0, \"#f0f921\"]], \"type\": \"surface\"}], \"table\": [{\"cells\": {\"fill\": {\"color\": \"#EBF0F8\"}, \"line\": {\"color\": \"white\"}}, \"header\": {\"fill\": {\"color\": \"#C8D4E3\"}, \"line\": {\"color\": \"white\"}}, \"type\": \"table\"}]}, \"layout\": {\"annotationdefaults\": {\"arrowcolor\": \"#2a3f5f\", \"arrowhead\": 0, \"arrowwidth\": 1}, \"coloraxis\": {\"colorbar\": {\"outlinewidth\": 0, \"ticks\": \"\"}}, \"colorscale\": {\"diverging\": [[0, \"#8e0152\"], [0.1, \"#c51b7d\"], [0.2, \"#de77ae\"], [0.3, \"#f1b6da\"], [0.4, \"#fde0ef\"], [0.5, \"#f7f7f7\"], [0.6, \"#e6f5d0\"], [0.7, \"#b8e186\"], [0.8, \"#7fbc41\"], [0.9, \"#4d9221\"], [1, \"#276419\"]], \"sequential\": [[0.0, \"#0d0887\"], [0.1111111111111111, \"#46039f\"], [0.2222222222222222, \"#7201a8\"], [0.3333333333333333, \"#9c179e\"], [0.4444444444444444, \"#bd3786\"], [0.5555555555555556, \"#d8576b\"], [0.6666666666666666, \"#ed7953\"], [0.7777777777777778, \"#fb9f3a\"], [0.8888888888888888, \"#fdca26\"], [1.0, \"#f0f921\"]], \"sequentialminus\": [[0.0, \"#0d0887\"], [0.1111111111111111, \"#46039f\"], [0.2222222222222222, \"#7201a8\"], [0.3333333333333333, \"#9c179e\"], [0.4444444444444444, \"#bd3786\"], [0.5555555555555556, \"#d8576b\"], [0.6666666666666666, \"#ed7953\"], [0.7777777777777778, \"#fb9f3a\"], [0.8888888888888888, \"#fdca26\"], [1.0, \"#f0f921\"]]}, \"colorway\": [\"#636efa\", \"#EF553B\", \"#00cc96\", \"#ab63fa\", \"#FFA15A\", \"#19d3f3\", \"#FF6692\", \"#B6E880\", \"#FF97FF\", \"#FECB52\"], \"font\": {\"color\": \"#2a3f5f\"}, \"geo\": {\"bgcolor\": \"white\", \"lakecolor\": \"white\", \"landcolor\": \"#E5ECF6\", \"showlakes\": true, \"showland\": true, \"subunitcolor\": \"white\"}, \"hoverlabel\": {\"align\": \"left\"}, \"hovermode\": \"closest\", \"mapbox\": {\"style\": \"light\"}, \"paper_bgcolor\": \"white\", \"plot_bgcolor\": \"#E5ECF6\", \"polar\": {\"angularaxis\": {\"gridcolor\": \"white\", \"linecolor\": \"white\", \"ticks\": \"\"}, \"bgcolor\": \"#E5ECF6\", \"radialaxis\": {\"gridcolor\": \"white\", \"linecolor\": \"white\", \"ticks\": \"\"}}, \"scene\": {\"xaxis\": {\"backgroundcolor\": \"#E5ECF6\", \"gridcolor\": \"white\", \"gridwidth\": 2, \"linecolor\": \"white\", \"showbackground\": true, \"ticks\": \"\", \"zerolinecolor\": \"white\"}, \"yaxis\": {\"backgroundcolor\": \"#E5ECF6\", \"gridcolor\": \"white\", \"gridwidth\": 2, \"linecolor\": \"white\", \"showbackground\": true, \"ticks\": \"\", \"zerolinecolor\": \"white\"}, \"zaxis\": {\"backgroundcolor\": \"#E5ECF6\", \"gridcolor\": \"white\", \"gridwidth\": 2, \"linecolor\": \"white\", \"showbackground\": true, \"ticks\": \"\", \"zerolinecolor\": \"white\"}}, \"shapedefaults\": {\"line\": {\"color\": \"#2a3f5f\"}}, \"ternary\": {\"aaxis\": {\"gridcolor\": \"white\", \"linecolor\": \"white\", \"ticks\": \"\"}, \"baxis\": {\"gridcolor\": \"white\", \"linecolor\": \"white\", \"ticks\": \"\"}, \"bgcolor\": \"#E5ECF6\", \"caxis\": {\"gridcolor\": \"white\", \"linecolor\": \"white\", \"ticks\": \"\"}}, \"title\": {\"x\": 0.05}, \"xaxis\": {\"automargin\": true, \"gridcolor\": \"white\", \"linecolor\": \"white\", \"ticks\": \"\", \"title\": {\"standoff\": 15}, \"zerolinecolor\": \"white\", \"zerolinewidth\": 2}, \"yaxis\": {\"automargin\": true, \"gridcolor\": \"white\", \"linecolor\": \"white\", \"ticks\": \"\", \"title\": {\"standoff\": 15}, \"zerolinecolor\": \"white\", \"zerolinewidth\": 2}}}, \"title\": {\"font\": {\"color\": \"#4D5663\"}}, \"xaxis\": {\"gridcolor\": \"#E1E5ED\", \"showgrid\": true, \"tickfont\": {\"color\": \"#4D5663\"}, \"title\": {\"font\": {\"color\": \"#4D5663\"}, \"text\": \"\"}, \"zerolinecolor\": \"#E1E5ED\"}, \"yaxis\": {\"gridcolor\": \"#E1E5ED\", \"showgrid\": true, \"tickfont\": {\"color\": \"#4D5663\"}, \"title\": {\"font\": {\"color\": \"#4D5663\"}, \"text\": \"\"}, \"zerolinecolor\": \"#E1E5ED\"}},\n",
       "                        {\"showLink\": true, \"linkText\": \"Export to plot.ly\", \"plotlyServerURL\": \"https://plot.ly\", \"responsive\": true}\n",
       "                    ).then(function(){\n",
       "                            \n",
       "var gd = document.getElementById('a0399437-4b62-4f0c-b09d-9868157b5b52');\n",
       "var x = new MutationObserver(function (mutations, observer) {{\n",
       "        var display = window.getComputedStyle(gd).display;\n",
       "        if (!display || display === 'none') {{\n",
       "            console.log([gd, 'removed!']);\n",
       "            Plotly.purge(gd);\n",
       "            observer.disconnect();\n",
       "        }}\n",
       "}});\n",
       "\n",
       "// Listen for the removal of the full notebook cells\n",
       "var notebookContainer = gd.closest('#notebook-container');\n",
       "if (notebookContainer) {{\n",
       "    x.observe(notebookContainer, {childList: true});\n",
       "}}\n",
       "\n",
       "// Listen for the clearing of the current output cell\n",
       "var outputEl = gd.closest('.output');\n",
       "if (outputEl) {{\n",
       "    x.observe(outputEl, {childList: true});\n",
       "}}\n",
       "\n",
       "                        })\n",
       "                };\n",
       "                });\n",
       "            </script>\n",
       "        </div>"
      ]
     },
     "metadata": {},
     "output_type": "display_data"
    }
   ],
   "source": [
    "df3 = pd.DataFrame({'x':[1,2,3,4,5],'y':[10,20,30,20,10],'z':[5,4,3,2,1]})\n",
    "df3.iplot(kind='surface',colorscale='rdylbu')"
   ]
  },
  {
   "cell_type": "markdown",
   "metadata": {},
   "source": [
    "## Spread"
   ]
  },
  {
   "cell_type": "code",
   "execution_count": 15,
   "metadata": {},
   "outputs": [
    {
     "name": "stderr",
     "output_type": "stream",
     "text": [
      "c:\\python37\\lib\\site-packages\\cufflinks\\plotlytools.py:849: FutureWarning:\n",
      "\n",
      "The pandas.np module is deprecated and will be removed from pandas in a future version. Import numpy directly instead\n",
      "\n",
      "c:\\python37\\lib\\site-packages\\cufflinks\\plotlytools.py:850: FutureWarning:\n",
      "\n",
      "The pandas.np module is deprecated and will be removed from pandas in a future version. Import numpy directly instead\n",
      "\n"
     ]
    },
    {
     "data": {
      "application/vnd.plotly.v1+json": {
       "config": {
        "linkText": "Export to plot.ly",
        "plotlyServerURL": "https://plot.ly",
        "showLink": true
       },
       "data": [
        {
         "line": {
          "color": "rgba(255, 153, 51, 1.0)",
          "dash": "solid",
          "shape": "linear",
          "width": 1.3
         },
         "mode": "lines",
         "name": "A",
         "text": "",
         "type": "scatter",
         "x": [
          0,
          1,
          2,
          3,
          4,
          5,
          6,
          7,
          8,
          9,
          10,
          11,
          12,
          13,
          14,
          15,
          16,
          17,
          18,
          19,
          20,
          21,
          22,
          23,
          24,
          25,
          26,
          27,
          28,
          29,
          30,
          31,
          32,
          33,
          34,
          35,
          36,
          37,
          38,
          39,
          40,
          41,
          42,
          43,
          44,
          45,
          46,
          47,
          48,
          49,
          50,
          51,
          52,
          53,
          54,
          55,
          56,
          57,
          58,
          59,
          60,
          61,
          62,
          63,
          64,
          65,
          66,
          67,
          68,
          69,
          70,
          71,
          72,
          73,
          74,
          75,
          76,
          77,
          78,
          79,
          80,
          81,
          82,
          83,
          84,
          85,
          86,
          87,
          88,
          89,
          90,
          91,
          92,
          93,
          94,
          95,
          96,
          97,
          98,
          99
         ],
         "y": [
          1.9758519900934104,
          -0.5143221233456489,
          -0.1582030966787379,
          -0.5114390014664738,
          0.515811900694426,
          -0.3617127909781959,
          0.8213800009504084,
          0.9263759553965216,
          0.8463773240249822,
          -1.550823625797956,
          -1.1196680523219449,
          -1.3720152085677328,
          0.993215756870461,
          -0.2947213227426147,
          0.3891428636616671,
          -0.6037512014034268,
          0.2963029032682522,
          1.2997150136493418,
          0.5457748329459221,
          -1.1120549861777493,
          -1.3901568455907765,
          0.5378903545113346,
          -0.021807045234015447,
          1.523230437046832,
          -0.38997725066553474,
          0.2543225692799485,
          0.2795531219081177,
          -1.8873761705874288,
          -0.5358770884120846,
          -0.13041613392353707,
          -0.4846026362616904,
          0.1968461287525519,
          -0.9359976466832249,
          1.15241006171264,
          -0.28811501136423917,
          0.22158451906649376,
          -1.792787390527634,
          -1.1151847185475674,
          0.2999968484132656,
          -0.8410432469367217,
          0.9870416043456087,
          -0.5881425626152607,
          -0.5703765600397165,
          -0.6803726993143193,
          0.3216170210237273,
          0.7556227727364897,
          0.5360754027842475,
          0.613389511563585,
          0.22565749295090093,
          0.08365976731257571,
          0.1033919609885569,
          1.2438889145118528,
          0.8461128057749727,
          -0.23096828694979957,
          -0.12408711033791694,
          -1.1657940200430517,
          -0.2434783345014043,
          -1.199120831961396,
          1.4715404125351348,
          0.2803547207916868,
          -0.26987496653419035,
          -1.752600192059749,
          -0.11232400010667294,
          1.6307595591341888,
          0.7361119323933746,
          1.0046027671180844,
          -1.1061416883584818,
          0.5486042763497647,
          1.0300528549918395,
          -1.1009445751792122,
          1.0237198785638675,
          2.3349677555956436,
          0.7779690393786323,
          -1.123924959679506,
          0.17460525043824449,
          0.22201343894598982,
          -0.2906223833332785,
          0.5558148800636564,
          -0.4697349000963517,
          0.7246304134527143,
          -0.04523217356888744,
          -0.38848741703370726,
          0.5468817495156351,
          -0.9168752710950892,
          0.7994257334532495,
          0.9192035844449936,
          -0.002662870365699749,
          1.3981786261876747,
          -1.510668319049373,
          0.40377071643147383,
          0.1537412737152171,
          0.32491684836283985,
          -2.027833581141001,
          0.5312754157391999,
          -1.5124626744579268,
          0.12768299722942447,
          -1.9988651993974935,
          0.3620998287019383,
          0.6454370926585403,
          1.5131459553856328
         ]
        },
        {
         "line": {
          "color": "rgba(55, 128, 191, 1.0)",
          "dash": "solid",
          "shape": "linear",
          "width": 1.3
         },
         "mode": "lines",
         "name": "B",
         "text": "",
         "type": "scatter",
         "x": [
          0,
          1,
          2,
          3,
          4,
          5,
          6,
          7,
          8,
          9,
          10,
          11,
          12,
          13,
          14,
          15,
          16,
          17,
          18,
          19,
          20,
          21,
          22,
          23,
          24,
          25,
          26,
          27,
          28,
          29,
          30,
          31,
          32,
          33,
          34,
          35,
          36,
          37,
          38,
          39,
          40,
          41,
          42,
          43,
          44,
          45,
          46,
          47,
          48,
          49,
          50,
          51,
          52,
          53,
          54,
          55,
          56,
          57,
          58,
          59,
          60,
          61,
          62,
          63,
          64,
          65,
          66,
          67,
          68,
          69,
          70,
          71,
          72,
          73,
          74,
          75,
          76,
          77,
          78,
          79,
          80,
          81,
          82,
          83,
          84,
          85,
          86,
          87,
          88,
          89,
          90,
          91,
          92,
          93,
          94,
          95,
          96,
          97,
          98,
          99
         ],
         "y": [
          0.5665382229248324,
          -0.5565063078433714,
          -0.8718681029275993,
          -1.398907936994333,
          1.4219495489932097,
          1.9610132506325109,
          0.2518202894903014,
          -0.13417845181620516,
          -0.7622085723930692,
          0.3919451171772081,
          0.26630550068055336,
          0.5892959076385756,
          -0.793505369555898,
          -0.11360818904203256,
          0.04704884319419822,
          0.711350622598875,
          -0.5045014847624979,
          0.39897063453354453,
          0.8350726088246634,
          -0.6067348615268908,
          0.6018843560171192,
          -0.9750318086357168,
          -0.8111768417278923,
          0.5865123052820451,
          -1.2682046206237232,
          0.30538546233597064,
          0.044060763848661415,
          0.30091219086281756,
          0.6356706795934935,
          -0.9290464938329864,
          0.26665716907365966,
          0.31376967389358773,
          0.5230410509719929,
          -0.47564221228880077,
          -2.3544581053872924,
          1.1631809227657774,
          1.2446836192270323,
          2.453657648153855,
          2.0705079079433575,
          1.1823046883956898,
          0.1982523746639038,
          0.022184968541608917,
          0.5792157662111811,
          1.6925589437987265,
          1.6735491639361957,
          -0.6081796816698564,
          -0.654197528371815,
          1.9948097814472088,
          0.6452083653550553,
          -0.990864295108887,
          -1.3545582273408059,
          0.5282668446491409,
          0.740967616780742,
          -1.418069374141105,
          -0.5966689133434379,
          0.23363166132097435,
          0.8921390421200076,
          -0.7742498466221465,
          -0.31783128917578973,
          -0.04688838580674549,
          0.26217113832692995,
          0.1967788636582987,
          0.08143712402768997,
          -0.8658789516841908,
          -0.08489955130735412,
          1.6181102272592358,
          1.2890470324485164,
          0.7229560931164392,
          0.46226052689936553,
          -0.8542194243135494,
          0.5094739172634204,
          -0.5463175094424851,
          -1.0427681033876963,
          -1.5960614897359906,
          1.2396016427276908,
          2.3843745292528733,
          -0.6218403799730308,
          -1.7536232569773271,
          1.4982683951615485,
          1.541779113521374,
          -0.6370060447827084,
          -0.24446085397023756,
          -1.25169978102884,
          -1.601817214912354,
          -0.1842659662140935,
          -0.6653636755456144,
          1.7050858145432017,
          -0.21035741890677045,
          -0.9178286109980154,
          -1.5767350284883654,
          0.6049863670999431,
          0.5707203254294333,
          -1.0937692620437585,
          1.713111116881167,
          -0.5873802980984976,
          0.44428845973412634,
          -0.05549793997215865,
          1.5926275223590245,
          0.8538677661840695,
          0.21054373693698292
         ]
        },
        {
         "connectgaps": false,
         "fill": "tozeroy",
         "line": {
          "color": "green",
          "dash": "solid",
          "shape": "linear",
          "width": 0.5
         },
         "mode": "lines",
         "name": "Spread",
         "showlegend": false,
         "type": "scatter",
         "x": [
          0,
          1,
          2,
          3,
          4,
          5,
          6,
          7,
          8,
          9,
          10,
          11,
          12,
          13,
          14,
          15,
          16,
          17,
          18,
          19,
          20,
          21,
          22,
          23,
          24,
          25,
          26,
          27,
          28,
          29,
          30,
          31,
          32,
          33,
          34,
          35,
          36,
          37,
          38,
          39,
          40,
          41,
          42,
          43,
          44,
          45,
          46,
          47,
          48,
          49,
          50,
          51,
          52,
          53,
          54,
          55,
          56,
          57,
          58,
          59,
          60,
          61,
          62,
          63,
          64,
          65,
          66,
          67,
          68,
          69,
          70,
          71,
          72,
          73,
          74,
          75,
          76,
          77,
          78,
          79,
          80,
          81,
          82,
          83,
          84,
          85,
          86,
          87,
          88,
          89,
          90,
          91,
          92,
          93,
          94,
          95,
          96,
          97,
          98,
          99
         ],
         "xaxis": "x2",
         "y": [
          1.409313767168578,
          0.04218418449772254,
          0.7136650062488614,
          0.8874689355278591,
          "",
          "",
          0.569559711460107,
          1.0605544072127269,
          1.6085858964180515,
          "",
          "",
          "",
          1.7867211264263592,
          "",
          0.3420940204674689,
          "",
          0.80080438803075,
          0.9007443791157973,
          "",
          "",
          "",
          1.5129221631470515,
          0.7893697964938768,
          0.9367181317647868,
          0.8782273699581884,
          "",
          0.23549235805945629,
          "",
          "",
          0.7986303599094493,
          "",
          "",
          "",
          1.628052274001441,
          2.066343094023053,
          "",
          "",
          "",
          "",
          "",
          0.788789229681705,
          "",
          "",
          "",
          "",
          1.363802454406346,
          1.1902729311560625,
          "",
          "",
          1.0745240624214627,
          1.4579501883293629,
          0.7156220698627119,
          0.10514518899423075,
          1.1871010871913055,
          0.4725818030055209,
          "",
          "",
          "",
          1.7893717017109245,
          0.32724310659843225,
          "",
          "",
          "",
          2.4966385108183795,
          0.8210114837007287,
          "",
          "",
          "",
          0.5677923280924739,
          "",
          0.5142459613004471,
          2.881285265038129,
          1.8207371427663286,
          0.4721365300564846,
          "",
          "",
          0.33121799663975227,
          2.3094381370409836,
          "",
          "",
          0.591773871213821,
          "",
          1.798581530544475,
          0.6849419438172648,
          0.983691699667343,
          1.584567259990608,
          "",
          1.6085360450944453,
          "",
          1.9805057449198393,
          "",
          "",
          "",
          "",
          "",
          "",
          "",
          "",
          "",
          1.3026022184486499
         ],
         "yaxis": "y2"
        },
        {
         "connectgaps": false,
         "fill": "tozeroy",
         "line": {
          "color": "red",
          "dash": "solid",
          "shape": "linear",
          "width": 0.5
         },
         "mode": "lines",
         "name": "Spread",
         "showlegend": false,
         "type": "scatter",
         "x": [
          0,
          1,
          2,
          3,
          4,
          5,
          6,
          7,
          8,
          9,
          10,
          11,
          12,
          13,
          14,
          15,
          16,
          17,
          18,
          19,
          20,
          21,
          22,
          23,
          24,
          25,
          26,
          27,
          28,
          29,
          30,
          31,
          32,
          33,
          34,
          35,
          36,
          37,
          38,
          39,
          40,
          41,
          42,
          43,
          44,
          45,
          46,
          47,
          48,
          49,
          50,
          51,
          52,
          53,
          54,
          55,
          56,
          57,
          58,
          59,
          60,
          61,
          62,
          63,
          64,
          65,
          66,
          67,
          68,
          69,
          70,
          71,
          72,
          73,
          74,
          75,
          76,
          77,
          78,
          79,
          80,
          81,
          82,
          83,
          84,
          85,
          86,
          87,
          88,
          89,
          90,
          91,
          92,
          93,
          94,
          95,
          96,
          97,
          98,
          99
         ],
         "xaxis": "x2",
         "y": [
          "",
          "",
          "",
          "",
          -0.9061376482987837,
          -2.3227260416107067,
          "",
          "",
          "",
          -1.942768742975164,
          -1.3859735530024984,
          -1.9613111162063084,
          "",
          -0.18111313370058213,
          "",
          -1.3151018240023018,
          "",
          "",
          -0.2892977758787413,
          -0.5053201246508585,
          -1.9920412016078957,
          "",
          "",
          "",
          "",
          -0.05106289305602213,
          "",
          -2.188288361450246,
          -1.1715477680055781,
          "",
          -0.7512598053353501,
          -0.11692354514103584,
          -1.4590386976552179,
          "",
          "",
          -0.9415964036992837,
          -3.0374710097546664,
          -3.568842366701422,
          -1.770511059530092,
          -2.0233479353324118,
          "",
          -0.6103275311568696,
          -1.1495923262508976,
          -2.372931643113046,
          -1.3519321429124684,
          "",
          "",
          -1.3814202698836238,
          -0.4195508724041544,
          "",
          "",
          "",
          "",
          "",
          "",
          -1.399425681364026,
          -1.135617376621412,
          -0.4248709853392495,
          "",
          "",
          -0.5320461048611203,
          -1.9493790557180477,
          -0.19376112413436292,
          "",
          "",
          -0.6135074601411514,
          -2.395188720806998,
          -0.17435181676667444,
          "",
          -0.24672515086566282,
          "",
          "",
          "",
          "",
          -1.0649963922894463,
          -2.1623610903068835,
          "",
          "",
          -1.9680032952579003,
          -0.8171487000686598,
          "",
          -0.1440265630634697,
          "",
          "",
          "",
          "",
          -1.7077486849089014,
          "",
          -0.5928397080513577,
          "",
          -0.45124509338472607,
          -0.24580347706659345,
          -0.9340643190972424,
          -1.1818357011419671,
          -0.9250823763594292,
          -0.3166054625047019,
          -1.9433672594253348,
          -1.2305276936570861,
          -0.20843067352552913,
          ""
         ],
         "yaxis": "y2"
        }
       ],
       "layout": {
        "hovermode": "x",
        "legend": {
         "bgcolor": "#F5F6F9",
         "font": {
          "color": "#4D5663"
         }
        },
        "paper_bgcolor": "#F5F6F9",
        "plot_bgcolor": "#F5F6F9",
        "template": {
         "data": {
          "bar": [
           {
            "error_x": {
             "color": "#2a3f5f"
            },
            "error_y": {
             "color": "#2a3f5f"
            },
            "marker": {
             "line": {
              "color": "#E5ECF6",
              "width": 0.5
             }
            },
            "type": "bar"
           }
          ],
          "barpolar": [
           {
            "marker": {
             "line": {
              "color": "#E5ECF6",
              "width": 0.5
             }
            },
            "type": "barpolar"
           }
          ],
          "carpet": [
           {
            "aaxis": {
             "endlinecolor": "#2a3f5f",
             "gridcolor": "white",
             "linecolor": "white",
             "minorgridcolor": "white",
             "startlinecolor": "#2a3f5f"
            },
            "baxis": {
             "endlinecolor": "#2a3f5f",
             "gridcolor": "white",
             "linecolor": "white",
             "minorgridcolor": "white",
             "startlinecolor": "#2a3f5f"
            },
            "type": "carpet"
           }
          ],
          "choropleth": [
           {
            "colorbar": {
             "outlinewidth": 0,
             "ticks": ""
            },
            "type": "choropleth"
           }
          ],
          "contour": [
           {
            "colorbar": {
             "outlinewidth": 0,
             "ticks": ""
            },
            "colorscale": [
             [
              0,
              "#0d0887"
             ],
             [
              0.1111111111111111,
              "#46039f"
             ],
             [
              0.2222222222222222,
              "#7201a8"
             ],
             [
              0.3333333333333333,
              "#9c179e"
             ],
             [
              0.4444444444444444,
              "#bd3786"
             ],
             [
              0.5555555555555556,
              "#d8576b"
             ],
             [
              0.6666666666666666,
              "#ed7953"
             ],
             [
              0.7777777777777778,
              "#fb9f3a"
             ],
             [
              0.8888888888888888,
              "#fdca26"
             ],
             [
              1,
              "#f0f921"
             ]
            ],
            "type": "contour"
           }
          ],
          "contourcarpet": [
           {
            "colorbar": {
             "outlinewidth": 0,
             "ticks": ""
            },
            "type": "contourcarpet"
           }
          ],
          "heatmap": [
           {
            "colorbar": {
             "outlinewidth": 0,
             "ticks": ""
            },
            "colorscale": [
             [
              0,
              "#0d0887"
             ],
             [
              0.1111111111111111,
              "#46039f"
             ],
             [
              0.2222222222222222,
              "#7201a8"
             ],
             [
              0.3333333333333333,
              "#9c179e"
             ],
             [
              0.4444444444444444,
              "#bd3786"
             ],
             [
              0.5555555555555556,
              "#d8576b"
             ],
             [
              0.6666666666666666,
              "#ed7953"
             ],
             [
              0.7777777777777778,
              "#fb9f3a"
             ],
             [
              0.8888888888888888,
              "#fdca26"
             ],
             [
              1,
              "#f0f921"
             ]
            ],
            "type": "heatmap"
           }
          ],
          "heatmapgl": [
           {
            "colorbar": {
             "outlinewidth": 0,
             "ticks": ""
            },
            "colorscale": [
             [
              0,
              "#0d0887"
             ],
             [
              0.1111111111111111,
              "#46039f"
             ],
             [
              0.2222222222222222,
              "#7201a8"
             ],
             [
              0.3333333333333333,
              "#9c179e"
             ],
             [
              0.4444444444444444,
              "#bd3786"
             ],
             [
              0.5555555555555556,
              "#d8576b"
             ],
             [
              0.6666666666666666,
              "#ed7953"
             ],
             [
              0.7777777777777778,
              "#fb9f3a"
             ],
             [
              0.8888888888888888,
              "#fdca26"
             ],
             [
              1,
              "#f0f921"
             ]
            ],
            "type": "heatmapgl"
           }
          ],
          "histogram": [
           {
            "marker": {
             "colorbar": {
              "outlinewidth": 0,
              "ticks": ""
             }
            },
            "type": "histogram"
           }
          ],
          "histogram2d": [
           {
            "colorbar": {
             "outlinewidth": 0,
             "ticks": ""
            },
            "colorscale": [
             [
              0,
              "#0d0887"
             ],
             [
              0.1111111111111111,
              "#46039f"
             ],
             [
              0.2222222222222222,
              "#7201a8"
             ],
             [
              0.3333333333333333,
              "#9c179e"
             ],
             [
              0.4444444444444444,
              "#bd3786"
             ],
             [
              0.5555555555555556,
              "#d8576b"
             ],
             [
              0.6666666666666666,
              "#ed7953"
             ],
             [
              0.7777777777777778,
              "#fb9f3a"
             ],
             [
              0.8888888888888888,
              "#fdca26"
             ],
             [
              1,
              "#f0f921"
             ]
            ],
            "type": "histogram2d"
           }
          ],
          "histogram2dcontour": [
           {
            "colorbar": {
             "outlinewidth": 0,
             "ticks": ""
            },
            "colorscale": [
             [
              0,
              "#0d0887"
             ],
             [
              0.1111111111111111,
              "#46039f"
             ],
             [
              0.2222222222222222,
              "#7201a8"
             ],
             [
              0.3333333333333333,
              "#9c179e"
             ],
             [
              0.4444444444444444,
              "#bd3786"
             ],
             [
              0.5555555555555556,
              "#d8576b"
             ],
             [
              0.6666666666666666,
              "#ed7953"
             ],
             [
              0.7777777777777778,
              "#fb9f3a"
             ],
             [
              0.8888888888888888,
              "#fdca26"
             ],
             [
              1,
              "#f0f921"
             ]
            ],
            "type": "histogram2dcontour"
           }
          ],
          "mesh3d": [
           {
            "colorbar": {
             "outlinewidth": 0,
             "ticks": ""
            },
            "type": "mesh3d"
           }
          ],
          "parcoords": [
           {
            "line": {
             "colorbar": {
              "outlinewidth": 0,
              "ticks": ""
             }
            },
            "type": "parcoords"
           }
          ],
          "pie": [
           {
            "automargin": true,
            "type": "pie"
           }
          ],
          "scatter": [
           {
            "marker": {
             "colorbar": {
              "outlinewidth": 0,
              "ticks": ""
             }
            },
            "type": "scatter"
           }
          ],
          "scatter3d": [
           {
            "line": {
             "colorbar": {
              "outlinewidth": 0,
              "ticks": ""
             }
            },
            "marker": {
             "colorbar": {
              "outlinewidth": 0,
              "ticks": ""
             }
            },
            "type": "scatter3d"
           }
          ],
          "scattercarpet": [
           {
            "marker": {
             "colorbar": {
              "outlinewidth": 0,
              "ticks": ""
             }
            },
            "type": "scattercarpet"
           }
          ],
          "scattergeo": [
           {
            "marker": {
             "colorbar": {
              "outlinewidth": 0,
              "ticks": ""
             }
            },
            "type": "scattergeo"
           }
          ],
          "scattergl": [
           {
            "marker": {
             "colorbar": {
              "outlinewidth": 0,
              "ticks": ""
             }
            },
            "type": "scattergl"
           }
          ],
          "scattermapbox": [
           {
            "marker": {
             "colorbar": {
              "outlinewidth": 0,
              "ticks": ""
             }
            },
            "type": "scattermapbox"
           }
          ],
          "scatterpolar": [
           {
            "marker": {
             "colorbar": {
              "outlinewidth": 0,
              "ticks": ""
             }
            },
            "type": "scatterpolar"
           }
          ],
          "scatterpolargl": [
           {
            "marker": {
             "colorbar": {
              "outlinewidth": 0,
              "ticks": ""
             }
            },
            "type": "scatterpolargl"
           }
          ],
          "scatterternary": [
           {
            "marker": {
             "colorbar": {
              "outlinewidth": 0,
              "ticks": ""
             }
            },
            "type": "scatterternary"
           }
          ],
          "surface": [
           {
            "colorbar": {
             "outlinewidth": 0,
             "ticks": ""
            },
            "colorscale": [
             [
              0,
              "#0d0887"
             ],
             [
              0.1111111111111111,
              "#46039f"
             ],
             [
              0.2222222222222222,
              "#7201a8"
             ],
             [
              0.3333333333333333,
              "#9c179e"
             ],
             [
              0.4444444444444444,
              "#bd3786"
             ],
             [
              0.5555555555555556,
              "#d8576b"
             ],
             [
              0.6666666666666666,
              "#ed7953"
             ],
             [
              0.7777777777777778,
              "#fb9f3a"
             ],
             [
              0.8888888888888888,
              "#fdca26"
             ],
             [
              1,
              "#f0f921"
             ]
            ],
            "type": "surface"
           }
          ],
          "table": [
           {
            "cells": {
             "fill": {
              "color": "#EBF0F8"
             },
             "line": {
              "color": "white"
             }
            },
            "header": {
             "fill": {
              "color": "#C8D4E3"
             },
             "line": {
              "color": "white"
             }
            },
            "type": "table"
           }
          ]
         },
         "layout": {
          "annotationdefaults": {
           "arrowcolor": "#2a3f5f",
           "arrowhead": 0,
           "arrowwidth": 1
          },
          "coloraxis": {
           "colorbar": {
            "outlinewidth": 0,
            "ticks": ""
           }
          },
          "colorscale": {
           "diverging": [
            [
             0,
             "#8e0152"
            ],
            [
             0.1,
             "#c51b7d"
            ],
            [
             0.2,
             "#de77ae"
            ],
            [
             0.3,
             "#f1b6da"
            ],
            [
             0.4,
             "#fde0ef"
            ],
            [
             0.5,
             "#f7f7f7"
            ],
            [
             0.6,
             "#e6f5d0"
            ],
            [
             0.7,
             "#b8e186"
            ],
            [
             0.8,
             "#7fbc41"
            ],
            [
             0.9,
             "#4d9221"
            ],
            [
             1,
             "#276419"
            ]
           ],
           "sequential": [
            [
             0,
             "#0d0887"
            ],
            [
             0.1111111111111111,
             "#46039f"
            ],
            [
             0.2222222222222222,
             "#7201a8"
            ],
            [
             0.3333333333333333,
             "#9c179e"
            ],
            [
             0.4444444444444444,
             "#bd3786"
            ],
            [
             0.5555555555555556,
             "#d8576b"
            ],
            [
             0.6666666666666666,
             "#ed7953"
            ],
            [
             0.7777777777777778,
             "#fb9f3a"
            ],
            [
             0.8888888888888888,
             "#fdca26"
            ],
            [
             1,
             "#f0f921"
            ]
           ],
           "sequentialminus": [
            [
             0,
             "#0d0887"
            ],
            [
             0.1111111111111111,
             "#46039f"
            ],
            [
             0.2222222222222222,
             "#7201a8"
            ],
            [
             0.3333333333333333,
             "#9c179e"
            ],
            [
             0.4444444444444444,
             "#bd3786"
            ],
            [
             0.5555555555555556,
             "#d8576b"
            ],
            [
             0.6666666666666666,
             "#ed7953"
            ],
            [
             0.7777777777777778,
             "#fb9f3a"
            ],
            [
             0.8888888888888888,
             "#fdca26"
            ],
            [
             1,
             "#f0f921"
            ]
           ]
          },
          "colorway": [
           "#636efa",
           "#EF553B",
           "#00cc96",
           "#ab63fa",
           "#FFA15A",
           "#19d3f3",
           "#FF6692",
           "#B6E880",
           "#FF97FF",
           "#FECB52"
          ],
          "font": {
           "color": "#2a3f5f"
          },
          "geo": {
           "bgcolor": "white",
           "lakecolor": "white",
           "landcolor": "#E5ECF6",
           "showlakes": true,
           "showland": true,
           "subunitcolor": "white"
          },
          "hoverlabel": {
           "align": "left"
          },
          "hovermode": "closest",
          "mapbox": {
           "style": "light"
          },
          "paper_bgcolor": "white",
          "plot_bgcolor": "#E5ECF6",
          "polar": {
           "angularaxis": {
            "gridcolor": "white",
            "linecolor": "white",
            "ticks": ""
           },
           "bgcolor": "#E5ECF6",
           "radialaxis": {
            "gridcolor": "white",
            "linecolor": "white",
            "ticks": ""
           }
          },
          "scene": {
           "xaxis": {
            "backgroundcolor": "#E5ECF6",
            "gridcolor": "white",
            "gridwidth": 2,
            "linecolor": "white",
            "showbackground": true,
            "ticks": "",
            "zerolinecolor": "white"
           },
           "yaxis": {
            "backgroundcolor": "#E5ECF6",
            "gridcolor": "white",
            "gridwidth": 2,
            "linecolor": "white",
            "showbackground": true,
            "ticks": "",
            "zerolinecolor": "white"
           },
           "zaxis": {
            "backgroundcolor": "#E5ECF6",
            "gridcolor": "white",
            "gridwidth": 2,
            "linecolor": "white",
            "showbackground": true,
            "ticks": "",
            "zerolinecolor": "white"
           }
          },
          "shapedefaults": {
           "line": {
            "color": "#2a3f5f"
           }
          },
          "ternary": {
           "aaxis": {
            "gridcolor": "white",
            "linecolor": "white",
            "ticks": ""
           },
           "baxis": {
            "gridcolor": "white",
            "linecolor": "white",
            "ticks": ""
           },
           "bgcolor": "#E5ECF6",
           "caxis": {
            "gridcolor": "white",
            "linecolor": "white",
            "ticks": ""
           }
          },
          "title": {
           "x": 0.05
          },
          "xaxis": {
           "automargin": true,
           "gridcolor": "white",
           "linecolor": "white",
           "ticks": "",
           "title": {
            "standoff": 15
           },
           "zerolinecolor": "white",
           "zerolinewidth": 2
          },
          "yaxis": {
           "automargin": true,
           "gridcolor": "white",
           "linecolor": "white",
           "ticks": "",
           "title": {
            "standoff": 15
           },
           "zerolinecolor": "white",
           "zerolinewidth": 2
          }
         }
        },
        "title": {
         "font": {
          "color": "#4D5663"
         }
        },
        "xaxis": {
         "gridcolor": "#E1E5ED",
         "showgrid": true,
         "tickfont": {
          "color": "#4D5663"
         },
         "title": {
          "font": {
           "color": "#4D5663"
          },
          "text": ""
         },
         "zerolinecolor": "#E1E5ED"
        },
        "xaxis2": {
         "anchor": "y2",
         "gridcolor": "#E1E5ED",
         "showgrid": true,
         "showticklabels": false,
         "tickfont": {
          "color": "#4D5663"
         },
         "title": {
          "font": {
           "color": "#4D5663"
          },
          "text": ""
         },
         "zerolinecolor": "#E1E5ED"
        },
        "yaxis": {
         "domain": [
          0.3,
          1
         ],
         "gridcolor": "#E1E5ED",
         "showgrid": true,
         "tickfont": {
          "color": "#4D5663"
         },
         "title": {
          "font": {
           "color": "#4D5663"
          },
          "text": ""
         },
         "zerolinecolor": "#E1E5ED"
        },
        "yaxis2": {
         "domain": [
          0,
          0.25
         ],
         "gridcolor": "#E1E5ED",
         "showgrid": true,
         "tickfont": {
          "color": "#4D5663"
         },
         "title": {
          "font": {
           "color": "#4D5663"
          },
          "text": "Spread"
         },
         "zerolinecolor": "#E1E5ED"
        }
       }
      },
      "text/html": [
       "<div>\n",
       "        \n",
       "        \n",
       "            <div id=\"5e5365b5-4e49-4772-969c-e1ef0fa228cd\" class=\"plotly-graph-div\" style=\"height:525px; width:100%;\"></div>\n",
       "            <script type=\"text/javascript\">\n",
       "                require([\"plotly\"], function(Plotly) {\n",
       "                    window.PLOTLYENV=window.PLOTLYENV || {};\n",
       "                    window.PLOTLYENV.BASE_URL='https://plot.ly';\n",
       "                    \n",
       "                if (document.getElementById(\"5e5365b5-4e49-4772-969c-e1ef0fa228cd\")) {\n",
       "                    Plotly.newPlot(\n",
       "                        '5e5365b5-4e49-4772-969c-e1ef0fa228cd',\n",
       "                        [{\"line\": {\"color\": \"rgba(255, 153, 51, 1.0)\", \"dash\": \"solid\", \"shape\": \"linear\", \"width\": 1.3}, \"mode\": \"lines\", \"name\": \"A\", \"text\": \"\", \"type\": \"scatter\", \"x\": [0, 1, 2, 3, 4, 5, 6, 7, 8, 9, 10, 11, 12, 13, 14, 15, 16, 17, 18, 19, 20, 21, 22, 23, 24, 25, 26, 27, 28, 29, 30, 31, 32, 33, 34, 35, 36, 37, 38, 39, 40, 41, 42, 43, 44, 45, 46, 47, 48, 49, 50, 51, 52, 53, 54, 55, 56, 57, 58, 59, 60, 61, 62, 63, 64, 65, 66, 67, 68, 69, 70, 71, 72, 73, 74, 75, 76, 77, 78, 79, 80, 81, 82, 83, 84, 85, 86, 87, 88, 89, 90, 91, 92, 93, 94, 95, 96, 97, 98, 99], \"y\": [1.9758519900934104, -0.5143221233456489, -0.1582030966787379, -0.5114390014664738, 0.515811900694426, -0.3617127909781959, 0.8213800009504084, 0.9263759553965216, 0.8463773240249822, -1.550823625797956, -1.1196680523219449, -1.3720152085677328, 0.993215756870461, -0.2947213227426147, 0.3891428636616671, -0.6037512014034268, 0.2963029032682522, 1.2997150136493418, 0.5457748329459221, -1.1120549861777493, -1.3901568455907765, 0.5378903545113346, -0.021807045234015447, 1.523230437046832, -0.38997725066553474, 0.2543225692799485, 0.2795531219081177, -1.8873761705874288, -0.5358770884120846, -0.13041613392353707, -0.4846026362616904, 0.1968461287525519, -0.9359976466832249, 1.15241006171264, -0.28811501136423917, 0.22158451906649376, -1.792787390527634, -1.1151847185475674, 0.2999968484132656, -0.8410432469367217, 0.9870416043456087, -0.5881425626152607, -0.5703765600397165, -0.6803726993143193, 0.3216170210237273, 0.7556227727364897, 0.5360754027842475, 0.613389511563585, 0.22565749295090093, 0.08365976731257571, 0.1033919609885569, 1.2438889145118528, 0.8461128057749727, -0.23096828694979957, -0.12408711033791694, -1.1657940200430517, -0.2434783345014043, -1.199120831961396, 1.4715404125351348, 0.2803547207916868, -0.26987496653419035, -1.752600192059749, -0.11232400010667294, 1.6307595591341888, 0.7361119323933746, 1.0046027671180844, -1.1061416883584818, 0.5486042763497647, 1.0300528549918395, -1.1009445751792122, 1.0237198785638675, 2.3349677555956436, 0.7779690393786323, -1.123924959679506, 0.17460525043824449, 0.22201343894598982, -0.2906223833332785, 0.5558148800636564, -0.4697349000963517, 0.7246304134527143, -0.04523217356888744, -0.38848741703370726, 0.5468817495156351, -0.9168752710950892, 0.7994257334532495, 0.9192035844449936, -0.002662870365699749, 1.3981786261876747, -1.510668319049373, 0.40377071643147383, 0.1537412737152171, 0.32491684836283985, -2.027833581141001, 0.5312754157391999, -1.5124626744579268, 0.12768299722942447, -1.9988651993974935, 0.3620998287019383, 0.6454370926585403, 1.5131459553856328]}, {\"line\": {\"color\": \"rgba(55, 128, 191, 1.0)\", \"dash\": \"solid\", \"shape\": \"linear\", \"width\": 1.3}, \"mode\": \"lines\", \"name\": \"B\", \"text\": \"\", \"type\": \"scatter\", \"x\": [0, 1, 2, 3, 4, 5, 6, 7, 8, 9, 10, 11, 12, 13, 14, 15, 16, 17, 18, 19, 20, 21, 22, 23, 24, 25, 26, 27, 28, 29, 30, 31, 32, 33, 34, 35, 36, 37, 38, 39, 40, 41, 42, 43, 44, 45, 46, 47, 48, 49, 50, 51, 52, 53, 54, 55, 56, 57, 58, 59, 60, 61, 62, 63, 64, 65, 66, 67, 68, 69, 70, 71, 72, 73, 74, 75, 76, 77, 78, 79, 80, 81, 82, 83, 84, 85, 86, 87, 88, 89, 90, 91, 92, 93, 94, 95, 96, 97, 98, 99], \"y\": [0.5665382229248324, -0.5565063078433714, -0.8718681029275993, -1.398907936994333, 1.4219495489932097, 1.9610132506325109, 0.2518202894903014, -0.13417845181620516, -0.7622085723930692, 0.3919451171772081, 0.26630550068055336, 0.5892959076385756, -0.793505369555898, -0.11360818904203256, 0.04704884319419822, 0.711350622598875, -0.5045014847624979, 0.39897063453354453, 0.8350726088246634, -0.6067348615268908, 0.6018843560171192, -0.9750318086357168, -0.8111768417278923, 0.5865123052820451, -1.2682046206237232, 0.30538546233597064, 0.044060763848661415, 0.30091219086281756, 0.6356706795934935, -0.9290464938329864, 0.26665716907365966, 0.31376967389358773, 0.5230410509719929, -0.47564221228880077, -2.3544581053872924, 1.1631809227657774, 1.2446836192270323, 2.453657648153855, 2.0705079079433575, 1.1823046883956898, 0.1982523746639038, 0.022184968541608917, 0.5792157662111811, 1.6925589437987265, 1.6735491639361957, -0.6081796816698564, -0.654197528371815, 1.9948097814472088, 0.6452083653550553, -0.990864295108887, -1.3545582273408059, 0.5282668446491409, 0.740967616780742, -1.418069374141105, -0.5966689133434379, 0.23363166132097435, 0.8921390421200076, -0.7742498466221465, -0.31783128917578973, -0.04688838580674549, 0.26217113832692995, 0.1967788636582987, 0.08143712402768997, -0.8658789516841908, -0.08489955130735412, 1.6181102272592358, 1.2890470324485164, 0.7229560931164392, 0.46226052689936553, -0.8542194243135494, 0.5094739172634204, -0.5463175094424851, -1.0427681033876963, -1.5960614897359906, 1.2396016427276908, 2.3843745292528733, -0.6218403799730308, -1.7536232569773271, 1.4982683951615485, 1.541779113521374, -0.6370060447827084, -0.24446085397023756, -1.25169978102884, -1.601817214912354, -0.1842659662140935, -0.6653636755456144, 1.7050858145432017, -0.21035741890677045, -0.9178286109980154, -1.5767350284883654, 0.6049863670999431, 0.5707203254294333, -1.0937692620437585, 1.713111116881167, -0.5873802980984976, 0.44428845973412634, -0.05549793997215865, 1.5926275223590245, 0.8538677661840695, 0.21054373693698292]}, {\"connectgaps\": false, \"fill\": \"tozeroy\", \"line\": {\"color\": \"green\", \"dash\": \"solid\", \"shape\": \"linear\", \"width\": 0.5}, \"mode\": \"lines\", \"name\": \"Spread\", \"showlegend\": false, \"type\": \"scatter\", \"x\": [0, 1, 2, 3, 4, 5, 6, 7, 8, 9, 10, 11, 12, 13, 14, 15, 16, 17, 18, 19, 20, 21, 22, 23, 24, 25, 26, 27, 28, 29, 30, 31, 32, 33, 34, 35, 36, 37, 38, 39, 40, 41, 42, 43, 44, 45, 46, 47, 48, 49, 50, 51, 52, 53, 54, 55, 56, 57, 58, 59, 60, 61, 62, 63, 64, 65, 66, 67, 68, 69, 70, 71, 72, 73, 74, 75, 76, 77, 78, 79, 80, 81, 82, 83, 84, 85, 86, 87, 88, 89, 90, 91, 92, 93, 94, 95, 96, 97, 98, 99], \"xaxis\": \"x2\", \"y\": [1.409313767168578, 0.04218418449772254, 0.7136650062488614, 0.8874689355278591, \"\", \"\", 0.569559711460107, 1.0605544072127269, 1.6085858964180515, \"\", \"\", \"\", 1.7867211264263592, \"\", 0.3420940204674689, \"\", 0.80080438803075, 0.9007443791157973, \"\", \"\", \"\", 1.5129221631470515, 0.7893697964938768, 0.9367181317647868, 0.8782273699581884, \"\", 0.23549235805945629, \"\", \"\", 0.7986303599094493, \"\", \"\", \"\", 1.628052274001441, 2.066343094023053, \"\", \"\", \"\", \"\", \"\", 0.788789229681705, \"\", \"\", \"\", \"\", 1.363802454406346, 1.1902729311560625, \"\", \"\", 1.0745240624214627, 1.4579501883293629, 0.7156220698627119, 0.10514518899423075, 1.1871010871913055, 0.4725818030055209, \"\", \"\", \"\", 1.7893717017109245, 0.32724310659843225, \"\", \"\", \"\", 2.4966385108183795, 0.8210114837007287, \"\", \"\", \"\", 0.5677923280924739, \"\", 0.5142459613004471, 2.881285265038129, 1.8207371427663286, 0.4721365300564846, \"\", \"\", 0.33121799663975227, 2.3094381370409836, \"\", \"\", 0.591773871213821, \"\", 1.798581530544475, 0.6849419438172648, 0.983691699667343, 1.584567259990608, \"\", 1.6085360450944453, \"\", 1.9805057449198393, \"\", \"\", \"\", \"\", \"\", \"\", \"\", \"\", \"\", 1.3026022184486499], \"yaxis\": \"y2\"}, {\"connectgaps\": false, \"fill\": \"tozeroy\", \"line\": {\"color\": \"red\", \"dash\": \"solid\", \"shape\": \"linear\", \"width\": 0.5}, \"mode\": \"lines\", \"name\": \"Spread\", \"showlegend\": false, \"type\": \"scatter\", \"x\": [0, 1, 2, 3, 4, 5, 6, 7, 8, 9, 10, 11, 12, 13, 14, 15, 16, 17, 18, 19, 20, 21, 22, 23, 24, 25, 26, 27, 28, 29, 30, 31, 32, 33, 34, 35, 36, 37, 38, 39, 40, 41, 42, 43, 44, 45, 46, 47, 48, 49, 50, 51, 52, 53, 54, 55, 56, 57, 58, 59, 60, 61, 62, 63, 64, 65, 66, 67, 68, 69, 70, 71, 72, 73, 74, 75, 76, 77, 78, 79, 80, 81, 82, 83, 84, 85, 86, 87, 88, 89, 90, 91, 92, 93, 94, 95, 96, 97, 98, 99], \"xaxis\": \"x2\", \"y\": [\"\", \"\", \"\", \"\", -0.9061376482987837, -2.3227260416107067, \"\", \"\", \"\", -1.942768742975164, -1.3859735530024984, -1.9613111162063084, \"\", -0.18111313370058213, \"\", -1.3151018240023018, \"\", \"\", -0.2892977758787413, -0.5053201246508585, -1.9920412016078957, \"\", \"\", \"\", \"\", -0.05106289305602213, \"\", -2.188288361450246, -1.1715477680055781, \"\", -0.7512598053353501, -0.11692354514103584, -1.4590386976552179, \"\", \"\", -0.9415964036992837, -3.0374710097546664, -3.568842366701422, -1.770511059530092, -2.0233479353324118, \"\", -0.6103275311568696, -1.1495923262508976, -2.372931643113046, -1.3519321429124684, \"\", \"\", -1.3814202698836238, -0.4195508724041544, \"\", \"\", \"\", \"\", \"\", \"\", -1.399425681364026, -1.135617376621412, -0.4248709853392495, \"\", \"\", -0.5320461048611203, -1.9493790557180477, -0.19376112413436292, \"\", \"\", -0.6135074601411514, -2.395188720806998, -0.17435181676667444, \"\", -0.24672515086566282, \"\", \"\", \"\", \"\", -1.0649963922894463, -2.1623610903068835, \"\", \"\", -1.9680032952579003, -0.8171487000686598, \"\", -0.1440265630634697, \"\", \"\", \"\", \"\", -1.7077486849089014, \"\", -0.5928397080513577, \"\", -0.45124509338472607, -0.24580347706659345, -0.9340643190972424, -1.1818357011419671, -0.9250823763594292, -0.3166054625047019, -1.9433672594253348, -1.2305276936570861, -0.20843067352552913, \"\"], \"yaxis\": \"y2\"}],\n",
       "                        {\"hovermode\": \"x\", \"legend\": {\"bgcolor\": \"#F5F6F9\", \"font\": {\"color\": \"#4D5663\"}}, \"paper_bgcolor\": \"#F5F6F9\", \"plot_bgcolor\": \"#F5F6F9\", \"template\": {\"data\": {\"bar\": [{\"error_x\": {\"color\": \"#2a3f5f\"}, \"error_y\": {\"color\": \"#2a3f5f\"}, \"marker\": {\"line\": {\"color\": \"#E5ECF6\", \"width\": 0.5}}, \"type\": \"bar\"}], \"barpolar\": [{\"marker\": {\"line\": {\"color\": \"#E5ECF6\", \"width\": 0.5}}, \"type\": \"barpolar\"}], \"carpet\": [{\"aaxis\": {\"endlinecolor\": \"#2a3f5f\", \"gridcolor\": \"white\", \"linecolor\": \"white\", \"minorgridcolor\": \"white\", \"startlinecolor\": \"#2a3f5f\"}, \"baxis\": {\"endlinecolor\": \"#2a3f5f\", \"gridcolor\": \"white\", \"linecolor\": \"white\", \"minorgridcolor\": \"white\", \"startlinecolor\": \"#2a3f5f\"}, \"type\": \"carpet\"}], \"choropleth\": [{\"colorbar\": {\"outlinewidth\": 0, \"ticks\": \"\"}, \"type\": \"choropleth\"}], \"contour\": [{\"colorbar\": {\"outlinewidth\": 0, \"ticks\": \"\"}, \"colorscale\": [[0.0, \"#0d0887\"], [0.1111111111111111, \"#46039f\"], [0.2222222222222222, \"#7201a8\"], [0.3333333333333333, \"#9c179e\"], [0.4444444444444444, \"#bd3786\"], [0.5555555555555556, \"#d8576b\"], [0.6666666666666666, \"#ed7953\"], [0.7777777777777778, \"#fb9f3a\"], [0.8888888888888888, \"#fdca26\"], [1.0, \"#f0f921\"]], \"type\": \"contour\"}], \"contourcarpet\": [{\"colorbar\": {\"outlinewidth\": 0, \"ticks\": \"\"}, \"type\": \"contourcarpet\"}], \"heatmap\": [{\"colorbar\": {\"outlinewidth\": 0, \"ticks\": \"\"}, \"colorscale\": [[0.0, \"#0d0887\"], [0.1111111111111111, \"#46039f\"], [0.2222222222222222, \"#7201a8\"], [0.3333333333333333, \"#9c179e\"], [0.4444444444444444, \"#bd3786\"], [0.5555555555555556, \"#d8576b\"], [0.6666666666666666, \"#ed7953\"], [0.7777777777777778, \"#fb9f3a\"], [0.8888888888888888, \"#fdca26\"], [1.0, \"#f0f921\"]], \"type\": \"heatmap\"}], \"heatmapgl\": [{\"colorbar\": {\"outlinewidth\": 0, \"ticks\": \"\"}, \"colorscale\": [[0.0, \"#0d0887\"], [0.1111111111111111, \"#46039f\"], [0.2222222222222222, \"#7201a8\"], [0.3333333333333333, \"#9c179e\"], [0.4444444444444444, \"#bd3786\"], [0.5555555555555556, \"#d8576b\"], [0.6666666666666666, \"#ed7953\"], [0.7777777777777778, \"#fb9f3a\"], [0.8888888888888888, \"#fdca26\"], [1.0, \"#f0f921\"]], \"type\": \"heatmapgl\"}], \"histogram\": [{\"marker\": {\"colorbar\": {\"outlinewidth\": 0, \"ticks\": \"\"}}, \"type\": \"histogram\"}], \"histogram2d\": [{\"colorbar\": {\"outlinewidth\": 0, \"ticks\": \"\"}, \"colorscale\": [[0.0, \"#0d0887\"], [0.1111111111111111, \"#46039f\"], [0.2222222222222222, \"#7201a8\"], [0.3333333333333333, \"#9c179e\"], [0.4444444444444444, \"#bd3786\"], [0.5555555555555556, \"#d8576b\"], [0.6666666666666666, \"#ed7953\"], [0.7777777777777778, \"#fb9f3a\"], [0.8888888888888888, \"#fdca26\"], [1.0, \"#f0f921\"]], \"type\": \"histogram2d\"}], \"histogram2dcontour\": [{\"colorbar\": {\"outlinewidth\": 0, \"ticks\": \"\"}, \"colorscale\": [[0.0, \"#0d0887\"], [0.1111111111111111, \"#46039f\"], [0.2222222222222222, \"#7201a8\"], [0.3333333333333333, \"#9c179e\"], [0.4444444444444444, \"#bd3786\"], [0.5555555555555556, \"#d8576b\"], [0.6666666666666666, \"#ed7953\"], [0.7777777777777778, \"#fb9f3a\"], [0.8888888888888888, \"#fdca26\"], [1.0, \"#f0f921\"]], \"type\": \"histogram2dcontour\"}], \"mesh3d\": [{\"colorbar\": {\"outlinewidth\": 0, \"ticks\": \"\"}, \"type\": \"mesh3d\"}], \"parcoords\": [{\"line\": {\"colorbar\": {\"outlinewidth\": 0, \"ticks\": \"\"}}, \"type\": \"parcoords\"}], \"pie\": [{\"automargin\": true, \"type\": \"pie\"}], \"scatter\": [{\"marker\": {\"colorbar\": {\"outlinewidth\": 0, \"ticks\": \"\"}}, \"type\": \"scatter\"}], \"scatter3d\": [{\"line\": {\"colorbar\": {\"outlinewidth\": 0, \"ticks\": \"\"}}, \"marker\": {\"colorbar\": {\"outlinewidth\": 0, \"ticks\": \"\"}}, \"type\": \"scatter3d\"}], \"scattercarpet\": [{\"marker\": {\"colorbar\": {\"outlinewidth\": 0, \"ticks\": \"\"}}, \"type\": \"scattercarpet\"}], \"scattergeo\": [{\"marker\": {\"colorbar\": {\"outlinewidth\": 0, \"ticks\": \"\"}}, \"type\": \"scattergeo\"}], \"scattergl\": [{\"marker\": {\"colorbar\": {\"outlinewidth\": 0, \"ticks\": \"\"}}, \"type\": \"scattergl\"}], \"scattermapbox\": [{\"marker\": {\"colorbar\": {\"outlinewidth\": 0, \"ticks\": \"\"}}, \"type\": \"scattermapbox\"}], \"scatterpolar\": [{\"marker\": {\"colorbar\": {\"outlinewidth\": 0, \"ticks\": \"\"}}, \"type\": \"scatterpolar\"}], \"scatterpolargl\": [{\"marker\": {\"colorbar\": {\"outlinewidth\": 0, \"ticks\": \"\"}}, \"type\": \"scatterpolargl\"}], \"scatterternary\": [{\"marker\": {\"colorbar\": {\"outlinewidth\": 0, \"ticks\": \"\"}}, \"type\": \"scatterternary\"}], \"surface\": [{\"colorbar\": {\"outlinewidth\": 0, \"ticks\": \"\"}, \"colorscale\": [[0.0, \"#0d0887\"], [0.1111111111111111, \"#46039f\"], [0.2222222222222222, \"#7201a8\"], [0.3333333333333333, \"#9c179e\"], [0.4444444444444444, \"#bd3786\"], [0.5555555555555556, \"#d8576b\"], [0.6666666666666666, \"#ed7953\"], [0.7777777777777778, \"#fb9f3a\"], [0.8888888888888888, \"#fdca26\"], [1.0, \"#f0f921\"]], \"type\": \"surface\"}], \"table\": [{\"cells\": {\"fill\": {\"color\": \"#EBF0F8\"}, \"line\": {\"color\": \"white\"}}, \"header\": {\"fill\": {\"color\": \"#C8D4E3\"}, \"line\": {\"color\": \"white\"}}, \"type\": \"table\"}]}, \"layout\": {\"annotationdefaults\": {\"arrowcolor\": \"#2a3f5f\", \"arrowhead\": 0, \"arrowwidth\": 1}, \"coloraxis\": {\"colorbar\": {\"outlinewidth\": 0, \"ticks\": \"\"}}, \"colorscale\": {\"diverging\": [[0, \"#8e0152\"], [0.1, \"#c51b7d\"], [0.2, \"#de77ae\"], [0.3, \"#f1b6da\"], [0.4, \"#fde0ef\"], [0.5, \"#f7f7f7\"], [0.6, \"#e6f5d0\"], [0.7, \"#b8e186\"], [0.8, \"#7fbc41\"], [0.9, \"#4d9221\"], [1, \"#276419\"]], \"sequential\": [[0.0, \"#0d0887\"], [0.1111111111111111, \"#46039f\"], [0.2222222222222222, \"#7201a8\"], [0.3333333333333333, \"#9c179e\"], [0.4444444444444444, \"#bd3786\"], [0.5555555555555556, \"#d8576b\"], [0.6666666666666666, \"#ed7953\"], [0.7777777777777778, \"#fb9f3a\"], [0.8888888888888888, \"#fdca26\"], [1.0, \"#f0f921\"]], \"sequentialminus\": [[0.0, \"#0d0887\"], [0.1111111111111111, \"#46039f\"], [0.2222222222222222, \"#7201a8\"], [0.3333333333333333, \"#9c179e\"], [0.4444444444444444, \"#bd3786\"], [0.5555555555555556, \"#d8576b\"], [0.6666666666666666, \"#ed7953\"], [0.7777777777777778, \"#fb9f3a\"], [0.8888888888888888, \"#fdca26\"], [1.0, \"#f0f921\"]]}, \"colorway\": [\"#636efa\", \"#EF553B\", \"#00cc96\", \"#ab63fa\", \"#FFA15A\", \"#19d3f3\", \"#FF6692\", \"#B6E880\", \"#FF97FF\", \"#FECB52\"], \"font\": {\"color\": \"#2a3f5f\"}, \"geo\": {\"bgcolor\": \"white\", \"lakecolor\": \"white\", \"landcolor\": \"#E5ECF6\", \"showlakes\": true, \"showland\": true, \"subunitcolor\": \"white\"}, \"hoverlabel\": {\"align\": \"left\"}, \"hovermode\": \"closest\", \"mapbox\": {\"style\": \"light\"}, \"paper_bgcolor\": \"white\", \"plot_bgcolor\": \"#E5ECF6\", \"polar\": {\"angularaxis\": {\"gridcolor\": \"white\", \"linecolor\": \"white\", \"ticks\": \"\"}, \"bgcolor\": \"#E5ECF6\", \"radialaxis\": {\"gridcolor\": \"white\", \"linecolor\": \"white\", \"ticks\": \"\"}}, \"scene\": {\"xaxis\": {\"backgroundcolor\": \"#E5ECF6\", \"gridcolor\": \"white\", \"gridwidth\": 2, \"linecolor\": \"white\", \"showbackground\": true, \"ticks\": \"\", \"zerolinecolor\": \"white\"}, \"yaxis\": {\"backgroundcolor\": \"#E5ECF6\", \"gridcolor\": \"white\", \"gridwidth\": 2, \"linecolor\": \"white\", \"showbackground\": true, \"ticks\": \"\", \"zerolinecolor\": \"white\"}, \"zaxis\": {\"backgroundcolor\": \"#E5ECF6\", \"gridcolor\": \"white\", \"gridwidth\": 2, \"linecolor\": \"white\", \"showbackground\": true, \"ticks\": \"\", \"zerolinecolor\": \"white\"}}, \"shapedefaults\": {\"line\": {\"color\": \"#2a3f5f\"}}, \"ternary\": {\"aaxis\": {\"gridcolor\": \"white\", \"linecolor\": \"white\", \"ticks\": \"\"}, \"baxis\": {\"gridcolor\": \"white\", \"linecolor\": \"white\", \"ticks\": \"\"}, \"bgcolor\": \"#E5ECF6\", \"caxis\": {\"gridcolor\": \"white\", \"linecolor\": \"white\", \"ticks\": \"\"}}, \"title\": {\"x\": 0.05}, \"xaxis\": {\"automargin\": true, \"gridcolor\": \"white\", \"linecolor\": \"white\", \"ticks\": \"\", \"title\": {\"standoff\": 15}, \"zerolinecolor\": \"white\", \"zerolinewidth\": 2}, \"yaxis\": {\"automargin\": true, \"gridcolor\": \"white\", \"linecolor\": \"white\", \"ticks\": \"\", \"title\": {\"standoff\": 15}, \"zerolinecolor\": \"white\", \"zerolinewidth\": 2}}}, \"title\": {\"font\": {\"color\": \"#4D5663\"}}, \"xaxis\": {\"gridcolor\": \"#E1E5ED\", \"showgrid\": true, \"tickfont\": {\"color\": \"#4D5663\"}, \"title\": {\"font\": {\"color\": \"#4D5663\"}, \"text\": \"\"}, \"zerolinecolor\": \"#E1E5ED\"}, \"xaxis2\": {\"anchor\": \"y2\", \"gridcolor\": \"#E1E5ED\", \"showgrid\": true, \"showticklabels\": false, \"tickfont\": {\"color\": \"#4D5663\"}, \"title\": {\"font\": {\"color\": \"#4D5663\"}, \"text\": \"\"}, \"zerolinecolor\": \"#E1E5ED\"}, \"yaxis\": {\"domain\": [0.3, 1], \"gridcolor\": \"#E1E5ED\", \"showgrid\": true, \"tickfont\": {\"color\": \"#4D5663\"}, \"title\": {\"font\": {\"color\": \"#4D5663\"}, \"text\": \"\"}, \"zerolinecolor\": \"#E1E5ED\"}, \"yaxis2\": {\"domain\": [0, 0.25], \"gridcolor\": \"#E1E5ED\", \"showgrid\": true, \"tickfont\": {\"color\": \"#4D5663\"}, \"title\": {\"font\": {\"color\": \"#4D5663\"}, \"text\": \"Spread\"}, \"zerolinecolor\": \"#E1E5ED\"}},\n",
       "                        {\"showLink\": true, \"linkText\": \"Export to plot.ly\", \"plotlyServerURL\": \"https://plot.ly\", \"responsive\": true}\n",
       "                    ).then(function(){\n",
       "                            \n",
       "var gd = document.getElementById('5e5365b5-4e49-4772-969c-e1ef0fa228cd');\n",
       "var x = new MutationObserver(function (mutations, observer) {{\n",
       "        var display = window.getComputedStyle(gd).display;\n",
       "        if (!display || display === 'none') {{\n",
       "            console.log([gd, 'removed!']);\n",
       "            Plotly.purge(gd);\n",
       "            observer.disconnect();\n",
       "        }}\n",
       "}});\n",
       "\n",
       "// Listen for the removal of the full notebook cells\n",
       "var notebookContainer = gd.closest('#notebook-container');\n",
       "if (notebookContainer) {{\n",
       "    x.observe(notebookContainer, {childList: true});\n",
       "}}\n",
       "\n",
       "// Listen for the clearing of the current output cell\n",
       "var outputEl = gd.closest('.output');\n",
       "if (outputEl) {{\n",
       "    x.observe(outputEl, {childList: true});\n",
       "}}\n",
       "\n",
       "                        })\n",
       "                };\n",
       "                });\n",
       "            </script>\n",
       "        </div>"
      ]
     },
     "metadata": {},
     "output_type": "display_data"
    }
   ],
   "source": [
    "df[['A','B']].iplot(kind='spread')"
   ]
  },
  {
   "cell_type": "markdown",
   "metadata": {},
   "source": [
    "## histogram"
   ]
  },
  {
   "cell_type": "code",
   "execution_count": 16,
   "metadata": {},
   "outputs": [
    {
     "data": {
      "application/vnd.plotly.v1+json": {
       "config": {
        "linkText": "Export to plot.ly",
        "plotlyServerURL": "https://plot.ly",
        "showLink": true
       },
       "data": [
        {
         "histfunc": "count",
         "histnorm": "",
         "marker": {
          "color": "rgba(255, 153, 51, 1.0)",
          "line": {
           "color": "#4D5663",
           "width": 1.3
          }
         },
         "name": "A",
         "nbinsx": 25,
         "opacity": 0.8,
         "orientation": "v",
         "type": "histogram",
         "x": [
          1.9758519900934104,
          -0.5143221233456489,
          -0.1582030966787379,
          -0.5114390014664738,
          0.515811900694426,
          -0.3617127909781959,
          0.8213800009504084,
          0.9263759553965216,
          0.8463773240249822,
          -1.550823625797956,
          -1.1196680523219449,
          -1.3720152085677328,
          0.993215756870461,
          -0.2947213227426147,
          0.3891428636616671,
          -0.6037512014034268,
          0.2963029032682522,
          1.2997150136493418,
          0.5457748329459221,
          -1.1120549861777493,
          -1.3901568455907765,
          0.5378903545113346,
          -0.021807045234015447,
          1.523230437046832,
          -0.38997725066553474,
          0.2543225692799485,
          0.2795531219081177,
          -1.8873761705874288,
          -0.5358770884120846,
          -0.13041613392353707,
          -0.4846026362616904,
          0.1968461287525519,
          -0.9359976466832249,
          1.15241006171264,
          -0.28811501136423917,
          0.22158451906649376,
          -1.792787390527634,
          -1.1151847185475674,
          0.2999968484132656,
          -0.8410432469367217,
          0.9870416043456087,
          -0.5881425626152607,
          -0.5703765600397165,
          -0.6803726993143193,
          0.3216170210237273,
          0.7556227727364897,
          0.5360754027842475,
          0.613389511563585,
          0.22565749295090093,
          0.08365976731257571,
          0.1033919609885569,
          1.2438889145118528,
          0.8461128057749727,
          -0.23096828694979957,
          -0.12408711033791694,
          -1.1657940200430517,
          -0.2434783345014043,
          -1.199120831961396,
          1.4715404125351348,
          0.2803547207916868,
          -0.26987496653419035,
          -1.752600192059749,
          -0.11232400010667294,
          1.6307595591341888,
          0.7361119323933746,
          1.0046027671180844,
          -1.1061416883584818,
          0.5486042763497647,
          1.0300528549918395,
          -1.1009445751792122,
          1.0237198785638675,
          2.3349677555956436,
          0.7779690393786323,
          -1.123924959679506,
          0.17460525043824449,
          0.22201343894598982,
          -0.2906223833332785,
          0.5558148800636564,
          -0.4697349000963517,
          0.7246304134527143,
          -0.04523217356888744,
          -0.38848741703370726,
          0.5468817495156351,
          -0.9168752710950892,
          0.7994257334532495,
          0.9192035844449936,
          -0.002662870365699749,
          1.3981786261876747,
          -1.510668319049373,
          0.40377071643147383,
          0.1537412737152171,
          0.32491684836283985,
          -2.027833581141001,
          0.5312754157391999,
          -1.5124626744579268,
          0.12768299722942447,
          -1.9988651993974935,
          0.3620998287019383,
          0.6454370926585403,
          1.5131459553856328
         ]
        }
       ],
       "layout": {
        "barmode": "overlay",
        "legend": {
         "bgcolor": "#F5F6F9",
         "font": {
          "color": "#4D5663"
         }
        },
        "paper_bgcolor": "#F5F6F9",
        "plot_bgcolor": "#F5F6F9",
        "template": {
         "data": {
          "bar": [
           {
            "error_x": {
             "color": "#2a3f5f"
            },
            "error_y": {
             "color": "#2a3f5f"
            },
            "marker": {
             "line": {
              "color": "#E5ECF6",
              "width": 0.5
             }
            },
            "type": "bar"
           }
          ],
          "barpolar": [
           {
            "marker": {
             "line": {
              "color": "#E5ECF6",
              "width": 0.5
             }
            },
            "type": "barpolar"
           }
          ],
          "carpet": [
           {
            "aaxis": {
             "endlinecolor": "#2a3f5f",
             "gridcolor": "white",
             "linecolor": "white",
             "minorgridcolor": "white",
             "startlinecolor": "#2a3f5f"
            },
            "baxis": {
             "endlinecolor": "#2a3f5f",
             "gridcolor": "white",
             "linecolor": "white",
             "minorgridcolor": "white",
             "startlinecolor": "#2a3f5f"
            },
            "type": "carpet"
           }
          ],
          "choropleth": [
           {
            "colorbar": {
             "outlinewidth": 0,
             "ticks": ""
            },
            "type": "choropleth"
           }
          ],
          "contour": [
           {
            "colorbar": {
             "outlinewidth": 0,
             "ticks": ""
            },
            "colorscale": [
             [
              0,
              "#0d0887"
             ],
             [
              0.1111111111111111,
              "#46039f"
             ],
             [
              0.2222222222222222,
              "#7201a8"
             ],
             [
              0.3333333333333333,
              "#9c179e"
             ],
             [
              0.4444444444444444,
              "#bd3786"
             ],
             [
              0.5555555555555556,
              "#d8576b"
             ],
             [
              0.6666666666666666,
              "#ed7953"
             ],
             [
              0.7777777777777778,
              "#fb9f3a"
             ],
             [
              0.8888888888888888,
              "#fdca26"
             ],
             [
              1,
              "#f0f921"
             ]
            ],
            "type": "contour"
           }
          ],
          "contourcarpet": [
           {
            "colorbar": {
             "outlinewidth": 0,
             "ticks": ""
            },
            "type": "contourcarpet"
           }
          ],
          "heatmap": [
           {
            "colorbar": {
             "outlinewidth": 0,
             "ticks": ""
            },
            "colorscale": [
             [
              0,
              "#0d0887"
             ],
             [
              0.1111111111111111,
              "#46039f"
             ],
             [
              0.2222222222222222,
              "#7201a8"
             ],
             [
              0.3333333333333333,
              "#9c179e"
             ],
             [
              0.4444444444444444,
              "#bd3786"
             ],
             [
              0.5555555555555556,
              "#d8576b"
             ],
             [
              0.6666666666666666,
              "#ed7953"
             ],
             [
              0.7777777777777778,
              "#fb9f3a"
             ],
             [
              0.8888888888888888,
              "#fdca26"
             ],
             [
              1,
              "#f0f921"
             ]
            ],
            "type": "heatmap"
           }
          ],
          "heatmapgl": [
           {
            "colorbar": {
             "outlinewidth": 0,
             "ticks": ""
            },
            "colorscale": [
             [
              0,
              "#0d0887"
             ],
             [
              0.1111111111111111,
              "#46039f"
             ],
             [
              0.2222222222222222,
              "#7201a8"
             ],
             [
              0.3333333333333333,
              "#9c179e"
             ],
             [
              0.4444444444444444,
              "#bd3786"
             ],
             [
              0.5555555555555556,
              "#d8576b"
             ],
             [
              0.6666666666666666,
              "#ed7953"
             ],
             [
              0.7777777777777778,
              "#fb9f3a"
             ],
             [
              0.8888888888888888,
              "#fdca26"
             ],
             [
              1,
              "#f0f921"
             ]
            ],
            "type": "heatmapgl"
           }
          ],
          "histogram": [
           {
            "marker": {
             "colorbar": {
              "outlinewidth": 0,
              "ticks": ""
             }
            },
            "type": "histogram"
           }
          ],
          "histogram2d": [
           {
            "colorbar": {
             "outlinewidth": 0,
             "ticks": ""
            },
            "colorscale": [
             [
              0,
              "#0d0887"
             ],
             [
              0.1111111111111111,
              "#46039f"
             ],
             [
              0.2222222222222222,
              "#7201a8"
             ],
             [
              0.3333333333333333,
              "#9c179e"
             ],
             [
              0.4444444444444444,
              "#bd3786"
             ],
             [
              0.5555555555555556,
              "#d8576b"
             ],
             [
              0.6666666666666666,
              "#ed7953"
             ],
             [
              0.7777777777777778,
              "#fb9f3a"
             ],
             [
              0.8888888888888888,
              "#fdca26"
             ],
             [
              1,
              "#f0f921"
             ]
            ],
            "type": "histogram2d"
           }
          ],
          "histogram2dcontour": [
           {
            "colorbar": {
             "outlinewidth": 0,
             "ticks": ""
            },
            "colorscale": [
             [
              0,
              "#0d0887"
             ],
             [
              0.1111111111111111,
              "#46039f"
             ],
             [
              0.2222222222222222,
              "#7201a8"
             ],
             [
              0.3333333333333333,
              "#9c179e"
             ],
             [
              0.4444444444444444,
              "#bd3786"
             ],
             [
              0.5555555555555556,
              "#d8576b"
             ],
             [
              0.6666666666666666,
              "#ed7953"
             ],
             [
              0.7777777777777778,
              "#fb9f3a"
             ],
             [
              0.8888888888888888,
              "#fdca26"
             ],
             [
              1,
              "#f0f921"
             ]
            ],
            "type": "histogram2dcontour"
           }
          ],
          "mesh3d": [
           {
            "colorbar": {
             "outlinewidth": 0,
             "ticks": ""
            },
            "type": "mesh3d"
           }
          ],
          "parcoords": [
           {
            "line": {
             "colorbar": {
              "outlinewidth": 0,
              "ticks": ""
             }
            },
            "type": "parcoords"
           }
          ],
          "pie": [
           {
            "automargin": true,
            "type": "pie"
           }
          ],
          "scatter": [
           {
            "marker": {
             "colorbar": {
              "outlinewidth": 0,
              "ticks": ""
             }
            },
            "type": "scatter"
           }
          ],
          "scatter3d": [
           {
            "line": {
             "colorbar": {
              "outlinewidth": 0,
              "ticks": ""
             }
            },
            "marker": {
             "colorbar": {
              "outlinewidth": 0,
              "ticks": ""
             }
            },
            "type": "scatter3d"
           }
          ],
          "scattercarpet": [
           {
            "marker": {
             "colorbar": {
              "outlinewidth": 0,
              "ticks": ""
             }
            },
            "type": "scattercarpet"
           }
          ],
          "scattergeo": [
           {
            "marker": {
             "colorbar": {
              "outlinewidth": 0,
              "ticks": ""
             }
            },
            "type": "scattergeo"
           }
          ],
          "scattergl": [
           {
            "marker": {
             "colorbar": {
              "outlinewidth": 0,
              "ticks": ""
             }
            },
            "type": "scattergl"
           }
          ],
          "scattermapbox": [
           {
            "marker": {
             "colorbar": {
              "outlinewidth": 0,
              "ticks": ""
             }
            },
            "type": "scattermapbox"
           }
          ],
          "scatterpolar": [
           {
            "marker": {
             "colorbar": {
              "outlinewidth": 0,
              "ticks": ""
             }
            },
            "type": "scatterpolar"
           }
          ],
          "scatterpolargl": [
           {
            "marker": {
             "colorbar": {
              "outlinewidth": 0,
              "ticks": ""
             }
            },
            "type": "scatterpolargl"
           }
          ],
          "scatterternary": [
           {
            "marker": {
             "colorbar": {
              "outlinewidth": 0,
              "ticks": ""
             }
            },
            "type": "scatterternary"
           }
          ],
          "surface": [
           {
            "colorbar": {
             "outlinewidth": 0,
             "ticks": ""
            },
            "colorscale": [
             [
              0,
              "#0d0887"
             ],
             [
              0.1111111111111111,
              "#46039f"
             ],
             [
              0.2222222222222222,
              "#7201a8"
             ],
             [
              0.3333333333333333,
              "#9c179e"
             ],
             [
              0.4444444444444444,
              "#bd3786"
             ],
             [
              0.5555555555555556,
              "#d8576b"
             ],
             [
              0.6666666666666666,
              "#ed7953"
             ],
             [
              0.7777777777777778,
              "#fb9f3a"
             ],
             [
              0.8888888888888888,
              "#fdca26"
             ],
             [
              1,
              "#f0f921"
             ]
            ],
            "type": "surface"
           }
          ],
          "table": [
           {
            "cells": {
             "fill": {
              "color": "#EBF0F8"
             },
             "line": {
              "color": "white"
             }
            },
            "header": {
             "fill": {
              "color": "#C8D4E3"
             },
             "line": {
              "color": "white"
             }
            },
            "type": "table"
           }
          ]
         },
         "layout": {
          "annotationdefaults": {
           "arrowcolor": "#2a3f5f",
           "arrowhead": 0,
           "arrowwidth": 1
          },
          "coloraxis": {
           "colorbar": {
            "outlinewidth": 0,
            "ticks": ""
           }
          },
          "colorscale": {
           "diverging": [
            [
             0,
             "#8e0152"
            ],
            [
             0.1,
             "#c51b7d"
            ],
            [
             0.2,
             "#de77ae"
            ],
            [
             0.3,
             "#f1b6da"
            ],
            [
             0.4,
             "#fde0ef"
            ],
            [
             0.5,
             "#f7f7f7"
            ],
            [
             0.6,
             "#e6f5d0"
            ],
            [
             0.7,
             "#b8e186"
            ],
            [
             0.8,
             "#7fbc41"
            ],
            [
             0.9,
             "#4d9221"
            ],
            [
             1,
             "#276419"
            ]
           ],
           "sequential": [
            [
             0,
             "#0d0887"
            ],
            [
             0.1111111111111111,
             "#46039f"
            ],
            [
             0.2222222222222222,
             "#7201a8"
            ],
            [
             0.3333333333333333,
             "#9c179e"
            ],
            [
             0.4444444444444444,
             "#bd3786"
            ],
            [
             0.5555555555555556,
             "#d8576b"
            ],
            [
             0.6666666666666666,
             "#ed7953"
            ],
            [
             0.7777777777777778,
             "#fb9f3a"
            ],
            [
             0.8888888888888888,
             "#fdca26"
            ],
            [
             1,
             "#f0f921"
            ]
           ],
           "sequentialminus": [
            [
             0,
             "#0d0887"
            ],
            [
             0.1111111111111111,
             "#46039f"
            ],
            [
             0.2222222222222222,
             "#7201a8"
            ],
            [
             0.3333333333333333,
             "#9c179e"
            ],
            [
             0.4444444444444444,
             "#bd3786"
            ],
            [
             0.5555555555555556,
             "#d8576b"
            ],
            [
             0.6666666666666666,
             "#ed7953"
            ],
            [
             0.7777777777777778,
             "#fb9f3a"
            ],
            [
             0.8888888888888888,
             "#fdca26"
            ],
            [
             1,
             "#f0f921"
            ]
           ]
          },
          "colorway": [
           "#636efa",
           "#EF553B",
           "#00cc96",
           "#ab63fa",
           "#FFA15A",
           "#19d3f3",
           "#FF6692",
           "#B6E880",
           "#FF97FF",
           "#FECB52"
          ],
          "font": {
           "color": "#2a3f5f"
          },
          "geo": {
           "bgcolor": "white",
           "lakecolor": "white",
           "landcolor": "#E5ECF6",
           "showlakes": true,
           "showland": true,
           "subunitcolor": "white"
          },
          "hoverlabel": {
           "align": "left"
          },
          "hovermode": "closest",
          "mapbox": {
           "style": "light"
          },
          "paper_bgcolor": "white",
          "plot_bgcolor": "#E5ECF6",
          "polar": {
           "angularaxis": {
            "gridcolor": "white",
            "linecolor": "white",
            "ticks": ""
           },
           "bgcolor": "#E5ECF6",
           "radialaxis": {
            "gridcolor": "white",
            "linecolor": "white",
            "ticks": ""
           }
          },
          "scene": {
           "xaxis": {
            "backgroundcolor": "#E5ECF6",
            "gridcolor": "white",
            "gridwidth": 2,
            "linecolor": "white",
            "showbackground": true,
            "ticks": "",
            "zerolinecolor": "white"
           },
           "yaxis": {
            "backgroundcolor": "#E5ECF6",
            "gridcolor": "white",
            "gridwidth": 2,
            "linecolor": "white",
            "showbackground": true,
            "ticks": "",
            "zerolinecolor": "white"
           },
           "zaxis": {
            "backgroundcolor": "#E5ECF6",
            "gridcolor": "white",
            "gridwidth": 2,
            "linecolor": "white",
            "showbackground": true,
            "ticks": "",
            "zerolinecolor": "white"
           }
          },
          "shapedefaults": {
           "line": {
            "color": "#2a3f5f"
           }
          },
          "ternary": {
           "aaxis": {
            "gridcolor": "white",
            "linecolor": "white",
            "ticks": ""
           },
           "baxis": {
            "gridcolor": "white",
            "linecolor": "white",
            "ticks": ""
           },
           "bgcolor": "#E5ECF6",
           "caxis": {
            "gridcolor": "white",
            "linecolor": "white",
            "ticks": ""
           }
          },
          "title": {
           "x": 0.05
          },
          "xaxis": {
           "automargin": true,
           "gridcolor": "white",
           "linecolor": "white",
           "ticks": "",
           "title": {
            "standoff": 15
           },
           "zerolinecolor": "white",
           "zerolinewidth": 2
          },
          "yaxis": {
           "automargin": true,
           "gridcolor": "white",
           "linecolor": "white",
           "ticks": "",
           "title": {
            "standoff": 15
           },
           "zerolinecolor": "white",
           "zerolinewidth": 2
          }
         }
        },
        "title": {
         "font": {
          "color": "#4D5663"
         }
        },
        "xaxis": {
         "gridcolor": "#E1E5ED",
         "showgrid": true,
         "tickfont": {
          "color": "#4D5663"
         },
         "title": {
          "font": {
           "color": "#4D5663"
          },
          "text": ""
         },
         "zerolinecolor": "#E1E5ED"
        },
        "yaxis": {
         "gridcolor": "#E1E5ED",
         "showgrid": true,
         "tickfont": {
          "color": "#4D5663"
         },
         "title": {
          "font": {
           "color": "#4D5663"
          },
          "text": ""
         },
         "zerolinecolor": "#E1E5ED"
        }
       }
      },
      "text/html": [
       "<div>\n",
       "        \n",
       "        \n",
       "            <div id=\"9d22f0f1-cbe9-44a1-b8ef-4849767e89c4\" class=\"plotly-graph-div\" style=\"height:525px; width:100%;\"></div>\n",
       "            <script type=\"text/javascript\">\n",
       "                require([\"plotly\"], function(Plotly) {\n",
       "                    window.PLOTLYENV=window.PLOTLYENV || {};\n",
       "                    window.PLOTLYENV.BASE_URL='https://plot.ly';\n",
       "                    \n",
       "                if (document.getElementById(\"9d22f0f1-cbe9-44a1-b8ef-4849767e89c4\")) {\n",
       "                    Plotly.newPlot(\n",
       "                        '9d22f0f1-cbe9-44a1-b8ef-4849767e89c4',\n",
       "                        [{\"histfunc\": \"count\", \"histnorm\": \"\", \"marker\": {\"color\": \"rgba(255, 153, 51, 1.0)\", \"line\": {\"color\": \"#4D5663\", \"width\": 1.3}}, \"name\": \"A\", \"nbinsx\": 25, \"opacity\": 0.8, \"orientation\": \"v\", \"type\": \"histogram\", \"x\": [1.9758519900934104, -0.5143221233456489, -0.1582030966787379, -0.5114390014664738, 0.515811900694426, -0.3617127909781959, 0.8213800009504084, 0.9263759553965216, 0.8463773240249822, -1.550823625797956, -1.1196680523219449, -1.3720152085677328, 0.993215756870461, -0.2947213227426147, 0.3891428636616671, -0.6037512014034268, 0.2963029032682522, 1.2997150136493418, 0.5457748329459221, -1.1120549861777493, -1.3901568455907765, 0.5378903545113346, -0.021807045234015447, 1.523230437046832, -0.38997725066553474, 0.2543225692799485, 0.2795531219081177, -1.8873761705874288, -0.5358770884120846, -0.13041613392353707, -0.4846026362616904, 0.1968461287525519, -0.9359976466832249, 1.15241006171264, -0.28811501136423917, 0.22158451906649376, -1.792787390527634, -1.1151847185475674, 0.2999968484132656, -0.8410432469367217, 0.9870416043456087, -0.5881425626152607, -0.5703765600397165, -0.6803726993143193, 0.3216170210237273, 0.7556227727364897, 0.5360754027842475, 0.613389511563585, 0.22565749295090093, 0.08365976731257571, 0.1033919609885569, 1.2438889145118528, 0.8461128057749727, -0.23096828694979957, -0.12408711033791694, -1.1657940200430517, -0.2434783345014043, -1.199120831961396, 1.4715404125351348, 0.2803547207916868, -0.26987496653419035, -1.752600192059749, -0.11232400010667294, 1.6307595591341888, 0.7361119323933746, 1.0046027671180844, -1.1061416883584818, 0.5486042763497647, 1.0300528549918395, -1.1009445751792122, 1.0237198785638675, 2.3349677555956436, 0.7779690393786323, -1.123924959679506, 0.17460525043824449, 0.22201343894598982, -0.2906223833332785, 0.5558148800636564, -0.4697349000963517, 0.7246304134527143, -0.04523217356888744, -0.38848741703370726, 0.5468817495156351, -0.9168752710950892, 0.7994257334532495, 0.9192035844449936, -0.002662870365699749, 1.3981786261876747, -1.510668319049373, 0.40377071643147383, 0.1537412737152171, 0.32491684836283985, -2.027833581141001, 0.5312754157391999, -1.5124626744579268, 0.12768299722942447, -1.9988651993974935, 0.3620998287019383, 0.6454370926585403, 1.5131459553856328]}],\n",
       "                        {\"barmode\": \"overlay\", \"legend\": {\"bgcolor\": \"#F5F6F9\", \"font\": {\"color\": \"#4D5663\"}}, \"paper_bgcolor\": \"#F5F6F9\", \"plot_bgcolor\": \"#F5F6F9\", \"template\": {\"data\": {\"bar\": [{\"error_x\": {\"color\": \"#2a3f5f\"}, \"error_y\": {\"color\": \"#2a3f5f\"}, \"marker\": {\"line\": {\"color\": \"#E5ECF6\", \"width\": 0.5}}, \"type\": \"bar\"}], \"barpolar\": [{\"marker\": {\"line\": {\"color\": \"#E5ECF6\", \"width\": 0.5}}, \"type\": \"barpolar\"}], \"carpet\": [{\"aaxis\": {\"endlinecolor\": \"#2a3f5f\", \"gridcolor\": \"white\", \"linecolor\": \"white\", \"minorgridcolor\": \"white\", \"startlinecolor\": \"#2a3f5f\"}, \"baxis\": {\"endlinecolor\": \"#2a3f5f\", \"gridcolor\": \"white\", \"linecolor\": \"white\", \"minorgridcolor\": \"white\", \"startlinecolor\": \"#2a3f5f\"}, \"type\": \"carpet\"}], \"choropleth\": [{\"colorbar\": {\"outlinewidth\": 0, \"ticks\": \"\"}, \"type\": \"choropleth\"}], \"contour\": [{\"colorbar\": {\"outlinewidth\": 0, \"ticks\": \"\"}, \"colorscale\": [[0.0, \"#0d0887\"], [0.1111111111111111, \"#46039f\"], [0.2222222222222222, \"#7201a8\"], [0.3333333333333333, \"#9c179e\"], [0.4444444444444444, \"#bd3786\"], [0.5555555555555556, \"#d8576b\"], [0.6666666666666666, \"#ed7953\"], [0.7777777777777778, \"#fb9f3a\"], [0.8888888888888888, \"#fdca26\"], [1.0, \"#f0f921\"]], \"type\": \"contour\"}], \"contourcarpet\": [{\"colorbar\": {\"outlinewidth\": 0, \"ticks\": \"\"}, \"type\": \"contourcarpet\"}], \"heatmap\": [{\"colorbar\": {\"outlinewidth\": 0, \"ticks\": \"\"}, \"colorscale\": [[0.0, \"#0d0887\"], [0.1111111111111111, \"#46039f\"], [0.2222222222222222, \"#7201a8\"], [0.3333333333333333, \"#9c179e\"], [0.4444444444444444, \"#bd3786\"], [0.5555555555555556, \"#d8576b\"], [0.6666666666666666, \"#ed7953\"], [0.7777777777777778, \"#fb9f3a\"], [0.8888888888888888, \"#fdca26\"], [1.0, \"#f0f921\"]], \"type\": \"heatmap\"}], \"heatmapgl\": [{\"colorbar\": {\"outlinewidth\": 0, \"ticks\": \"\"}, \"colorscale\": [[0.0, \"#0d0887\"], [0.1111111111111111, \"#46039f\"], [0.2222222222222222, \"#7201a8\"], [0.3333333333333333, \"#9c179e\"], [0.4444444444444444, \"#bd3786\"], [0.5555555555555556, \"#d8576b\"], [0.6666666666666666, \"#ed7953\"], [0.7777777777777778, \"#fb9f3a\"], [0.8888888888888888, \"#fdca26\"], [1.0, \"#f0f921\"]], \"type\": \"heatmapgl\"}], \"histogram\": [{\"marker\": {\"colorbar\": {\"outlinewidth\": 0, \"ticks\": \"\"}}, \"type\": \"histogram\"}], \"histogram2d\": [{\"colorbar\": {\"outlinewidth\": 0, \"ticks\": \"\"}, \"colorscale\": [[0.0, \"#0d0887\"], [0.1111111111111111, \"#46039f\"], [0.2222222222222222, \"#7201a8\"], [0.3333333333333333, \"#9c179e\"], [0.4444444444444444, \"#bd3786\"], [0.5555555555555556, \"#d8576b\"], [0.6666666666666666, \"#ed7953\"], [0.7777777777777778, \"#fb9f3a\"], [0.8888888888888888, \"#fdca26\"], [1.0, \"#f0f921\"]], \"type\": \"histogram2d\"}], \"histogram2dcontour\": [{\"colorbar\": {\"outlinewidth\": 0, \"ticks\": \"\"}, \"colorscale\": [[0.0, \"#0d0887\"], [0.1111111111111111, \"#46039f\"], [0.2222222222222222, \"#7201a8\"], [0.3333333333333333, \"#9c179e\"], [0.4444444444444444, \"#bd3786\"], [0.5555555555555556, \"#d8576b\"], [0.6666666666666666, \"#ed7953\"], [0.7777777777777778, \"#fb9f3a\"], [0.8888888888888888, \"#fdca26\"], [1.0, \"#f0f921\"]], \"type\": \"histogram2dcontour\"}], \"mesh3d\": [{\"colorbar\": {\"outlinewidth\": 0, \"ticks\": \"\"}, \"type\": \"mesh3d\"}], \"parcoords\": [{\"line\": {\"colorbar\": {\"outlinewidth\": 0, \"ticks\": \"\"}}, \"type\": \"parcoords\"}], \"pie\": [{\"automargin\": true, \"type\": \"pie\"}], \"scatter\": [{\"marker\": {\"colorbar\": {\"outlinewidth\": 0, \"ticks\": \"\"}}, \"type\": \"scatter\"}], \"scatter3d\": [{\"line\": {\"colorbar\": {\"outlinewidth\": 0, \"ticks\": \"\"}}, \"marker\": {\"colorbar\": {\"outlinewidth\": 0, \"ticks\": \"\"}}, \"type\": \"scatter3d\"}], \"scattercarpet\": [{\"marker\": {\"colorbar\": {\"outlinewidth\": 0, \"ticks\": \"\"}}, \"type\": \"scattercarpet\"}], \"scattergeo\": [{\"marker\": {\"colorbar\": {\"outlinewidth\": 0, \"ticks\": \"\"}}, \"type\": \"scattergeo\"}], \"scattergl\": [{\"marker\": {\"colorbar\": {\"outlinewidth\": 0, \"ticks\": \"\"}}, \"type\": \"scattergl\"}], \"scattermapbox\": [{\"marker\": {\"colorbar\": {\"outlinewidth\": 0, \"ticks\": \"\"}}, \"type\": \"scattermapbox\"}], \"scatterpolar\": [{\"marker\": {\"colorbar\": {\"outlinewidth\": 0, \"ticks\": \"\"}}, \"type\": \"scatterpolar\"}], \"scatterpolargl\": [{\"marker\": {\"colorbar\": {\"outlinewidth\": 0, \"ticks\": \"\"}}, \"type\": \"scatterpolargl\"}], \"scatterternary\": [{\"marker\": {\"colorbar\": {\"outlinewidth\": 0, \"ticks\": \"\"}}, \"type\": \"scatterternary\"}], \"surface\": [{\"colorbar\": {\"outlinewidth\": 0, \"ticks\": \"\"}, \"colorscale\": [[0.0, \"#0d0887\"], [0.1111111111111111, \"#46039f\"], [0.2222222222222222, \"#7201a8\"], [0.3333333333333333, \"#9c179e\"], [0.4444444444444444, \"#bd3786\"], [0.5555555555555556, \"#d8576b\"], [0.6666666666666666, \"#ed7953\"], [0.7777777777777778, \"#fb9f3a\"], [0.8888888888888888, \"#fdca26\"], [1.0, \"#f0f921\"]], \"type\": \"surface\"}], \"table\": [{\"cells\": {\"fill\": {\"color\": \"#EBF0F8\"}, \"line\": {\"color\": \"white\"}}, \"header\": {\"fill\": {\"color\": \"#C8D4E3\"}, \"line\": {\"color\": \"white\"}}, \"type\": \"table\"}]}, \"layout\": {\"annotationdefaults\": {\"arrowcolor\": \"#2a3f5f\", \"arrowhead\": 0, \"arrowwidth\": 1}, \"coloraxis\": {\"colorbar\": {\"outlinewidth\": 0, \"ticks\": \"\"}}, \"colorscale\": {\"diverging\": [[0, \"#8e0152\"], [0.1, \"#c51b7d\"], [0.2, \"#de77ae\"], [0.3, \"#f1b6da\"], [0.4, \"#fde0ef\"], [0.5, \"#f7f7f7\"], [0.6, \"#e6f5d0\"], [0.7, \"#b8e186\"], [0.8, \"#7fbc41\"], [0.9, \"#4d9221\"], [1, \"#276419\"]], \"sequential\": [[0.0, \"#0d0887\"], [0.1111111111111111, \"#46039f\"], [0.2222222222222222, \"#7201a8\"], [0.3333333333333333, \"#9c179e\"], [0.4444444444444444, \"#bd3786\"], [0.5555555555555556, \"#d8576b\"], [0.6666666666666666, \"#ed7953\"], [0.7777777777777778, \"#fb9f3a\"], [0.8888888888888888, \"#fdca26\"], [1.0, \"#f0f921\"]], \"sequentialminus\": [[0.0, \"#0d0887\"], [0.1111111111111111, \"#46039f\"], [0.2222222222222222, \"#7201a8\"], [0.3333333333333333, \"#9c179e\"], [0.4444444444444444, \"#bd3786\"], [0.5555555555555556, \"#d8576b\"], [0.6666666666666666, \"#ed7953\"], [0.7777777777777778, \"#fb9f3a\"], [0.8888888888888888, \"#fdca26\"], [1.0, \"#f0f921\"]]}, \"colorway\": [\"#636efa\", \"#EF553B\", \"#00cc96\", \"#ab63fa\", \"#FFA15A\", \"#19d3f3\", \"#FF6692\", \"#B6E880\", \"#FF97FF\", \"#FECB52\"], \"font\": {\"color\": \"#2a3f5f\"}, \"geo\": {\"bgcolor\": \"white\", \"lakecolor\": \"white\", \"landcolor\": \"#E5ECF6\", \"showlakes\": true, \"showland\": true, \"subunitcolor\": \"white\"}, \"hoverlabel\": {\"align\": \"left\"}, \"hovermode\": \"closest\", \"mapbox\": {\"style\": \"light\"}, \"paper_bgcolor\": \"white\", \"plot_bgcolor\": \"#E5ECF6\", \"polar\": {\"angularaxis\": {\"gridcolor\": \"white\", \"linecolor\": \"white\", \"ticks\": \"\"}, \"bgcolor\": \"#E5ECF6\", \"radialaxis\": {\"gridcolor\": \"white\", \"linecolor\": \"white\", \"ticks\": \"\"}}, \"scene\": {\"xaxis\": {\"backgroundcolor\": \"#E5ECF6\", \"gridcolor\": \"white\", \"gridwidth\": 2, \"linecolor\": \"white\", \"showbackground\": true, \"ticks\": \"\", \"zerolinecolor\": \"white\"}, \"yaxis\": {\"backgroundcolor\": \"#E5ECF6\", \"gridcolor\": \"white\", \"gridwidth\": 2, \"linecolor\": \"white\", \"showbackground\": true, \"ticks\": \"\", \"zerolinecolor\": \"white\"}, \"zaxis\": {\"backgroundcolor\": \"#E5ECF6\", \"gridcolor\": \"white\", \"gridwidth\": 2, \"linecolor\": \"white\", \"showbackground\": true, \"ticks\": \"\", \"zerolinecolor\": \"white\"}}, \"shapedefaults\": {\"line\": {\"color\": \"#2a3f5f\"}}, \"ternary\": {\"aaxis\": {\"gridcolor\": \"white\", \"linecolor\": \"white\", \"ticks\": \"\"}, \"baxis\": {\"gridcolor\": \"white\", \"linecolor\": \"white\", \"ticks\": \"\"}, \"bgcolor\": \"#E5ECF6\", \"caxis\": {\"gridcolor\": \"white\", \"linecolor\": \"white\", \"ticks\": \"\"}}, \"title\": {\"x\": 0.05}, \"xaxis\": {\"automargin\": true, \"gridcolor\": \"white\", \"linecolor\": \"white\", \"ticks\": \"\", \"title\": {\"standoff\": 15}, \"zerolinecolor\": \"white\", \"zerolinewidth\": 2}, \"yaxis\": {\"automargin\": true, \"gridcolor\": \"white\", \"linecolor\": \"white\", \"ticks\": \"\", \"title\": {\"standoff\": 15}, \"zerolinecolor\": \"white\", \"zerolinewidth\": 2}}}, \"title\": {\"font\": {\"color\": \"#4D5663\"}}, \"xaxis\": {\"gridcolor\": \"#E1E5ED\", \"showgrid\": true, \"tickfont\": {\"color\": \"#4D5663\"}, \"title\": {\"font\": {\"color\": \"#4D5663\"}, \"text\": \"\"}, \"zerolinecolor\": \"#E1E5ED\"}, \"yaxis\": {\"gridcolor\": \"#E1E5ED\", \"showgrid\": true, \"tickfont\": {\"color\": \"#4D5663\"}, \"title\": {\"font\": {\"color\": \"#4D5663\"}, \"text\": \"\"}, \"zerolinecolor\": \"#E1E5ED\"}},\n",
       "                        {\"showLink\": true, \"linkText\": \"Export to plot.ly\", \"plotlyServerURL\": \"https://plot.ly\", \"responsive\": true}\n",
       "                    ).then(function(){\n",
       "                            \n",
       "var gd = document.getElementById('9d22f0f1-cbe9-44a1-b8ef-4849767e89c4');\n",
       "var x = new MutationObserver(function (mutations, observer) {{\n",
       "        var display = window.getComputedStyle(gd).display;\n",
       "        if (!display || display === 'none') {{\n",
       "            console.log([gd, 'removed!']);\n",
       "            Plotly.purge(gd);\n",
       "            observer.disconnect();\n",
       "        }}\n",
       "}});\n",
       "\n",
       "// Listen for the removal of the full notebook cells\n",
       "var notebookContainer = gd.closest('#notebook-container');\n",
       "if (notebookContainer) {{\n",
       "    x.observe(notebookContainer, {childList: true});\n",
       "}}\n",
       "\n",
       "// Listen for the clearing of the current output cell\n",
       "var outputEl = gd.closest('.output');\n",
       "if (outputEl) {{\n",
       "    x.observe(outputEl, {childList: true});\n",
       "}}\n",
       "\n",
       "                        })\n",
       "                };\n",
       "                });\n",
       "            </script>\n",
       "        </div>"
      ]
     },
     "metadata": {},
     "output_type": "display_data"
    }
   ],
   "source": [
    "df['A'].iplot(kind='hist',bins=25)"
   ]
  },
  {
   "cell_type": "code",
   "execution_count": 17,
   "metadata": {},
   "outputs": [
    {
     "data": {
      "application/vnd.plotly.v1+json": {
       "config": {
        "linkText": "Export to plot.ly",
        "plotlyServerURL": "https://plot.ly",
        "showLink": true
       },
       "data": [
        {
         "marker": {
          "color": [
           "rgb(255, 153, 51)",
           "rgb(55, 128, 191)",
           "rgb(50, 171, 96)",
           "rgb(128, 0, 128)",
           "rgb(219, 64, 82)",
           "rgb(0, 128, 128)",
           "rgb(255, 255, 51)",
           "rgb(128, 128, 0)",
           "rgb(251, 128, 114)",
           "rgb(128, 177, 211)"
          ],
          "line": {
           "width": 1.3
          },
          "size": [
           80,
           68,
           67,
           56,
           40,
           14,
           23,
           44,
           60,
           58,
           101,
           40,
           32,
           55,
           75,
           36,
           56,
           59,
           14,
           57,
           40,
           44,
           85,
           65,
           75,
           87,
           64,
           76,
           39,
           67,
           54,
           54,
           42,
           39,
           37,
           30,
           81,
           95,
           56,
           44,
           46,
           79,
           85,
           105,
           81,
           112,
           12,
           31,
           44,
           40,
           61,
           54,
           43,
           92,
           70,
           45,
           40,
           58,
           68,
           55,
           52,
           50,
           68,
           49,
           68,
           82,
           62,
           58,
           40,
           78,
           50,
           47,
           95,
           85,
           78,
           40,
           41,
           96,
           69,
           50,
           49,
           64,
           67,
           62,
           21,
           72,
           55,
           22,
           84,
           72,
           57,
           61,
           19,
           64,
           47,
           83,
           64,
           52,
           55,
           47
          ],
          "symbol": "circle"
         },
         "mode": "markers",
         "text": "",
         "type": "scatter",
         "x": [
          1.9758519900934104,
          -0.5143221233456489,
          -0.1582030966787379,
          -0.5114390014664738,
          0.515811900694426,
          -0.3617127909781959,
          0.8213800009504084,
          0.9263759553965216,
          0.8463773240249822,
          -1.550823625797956,
          -1.1196680523219449,
          -1.3720152085677328,
          0.993215756870461,
          -0.2947213227426147,
          0.3891428636616671,
          -0.6037512014034268,
          0.2963029032682522,
          1.2997150136493418,
          0.5457748329459221,
          -1.1120549861777493,
          -1.3901568455907765,
          0.5378903545113346,
          -0.021807045234015447,
          1.523230437046832,
          -0.38997725066553474,
          0.2543225692799485,
          0.2795531219081177,
          -1.8873761705874288,
          -0.5358770884120846,
          -0.13041613392353707,
          -0.4846026362616904,
          0.1968461287525519,
          -0.9359976466832249,
          1.15241006171264,
          -0.28811501136423917,
          0.22158451906649376,
          -1.792787390527634,
          -1.1151847185475674,
          0.2999968484132656,
          -0.8410432469367217,
          0.9870416043456087,
          -0.5881425626152607,
          -0.5703765600397165,
          -0.6803726993143193,
          0.3216170210237273,
          0.7556227727364897,
          0.5360754027842475,
          0.613389511563585,
          0.22565749295090093,
          0.08365976731257571,
          0.1033919609885569,
          1.2438889145118528,
          0.8461128057749727,
          -0.23096828694979957,
          -0.12408711033791694,
          -1.1657940200430517,
          -0.2434783345014043,
          -1.199120831961396,
          1.4715404125351348,
          0.2803547207916868,
          -0.26987496653419035,
          -1.752600192059749,
          -0.11232400010667294,
          1.6307595591341888,
          0.7361119323933746,
          1.0046027671180844,
          -1.1061416883584818,
          0.5486042763497647,
          1.0300528549918395,
          -1.1009445751792122,
          1.0237198785638675,
          2.3349677555956436,
          0.7779690393786323,
          -1.123924959679506,
          0.17460525043824449,
          0.22201343894598982,
          -0.2906223833332785,
          0.5558148800636564,
          -0.4697349000963517,
          0.7246304134527143,
          -0.04523217356888744,
          -0.38848741703370726,
          0.5468817495156351,
          -0.9168752710950892,
          0.7994257334532495,
          0.9192035844449936,
          -0.002662870365699749,
          1.3981786261876747,
          -1.510668319049373,
          0.40377071643147383,
          0.1537412737152171,
          0.32491684836283985,
          -2.027833581141001,
          0.5312754157391999,
          -1.5124626744579268,
          0.12768299722942447,
          -1.9988651993974935,
          0.3620998287019383,
          0.6454370926585403,
          1.5131459553856328
         ],
         "y": [
          0.5665382229248324,
          -0.5565063078433714,
          -0.8718681029275993,
          -1.398907936994333,
          1.4219495489932097,
          1.9610132506325109,
          0.2518202894903014,
          -0.13417845181620516,
          -0.7622085723930692,
          0.3919451171772081,
          0.26630550068055336,
          0.5892959076385756,
          -0.793505369555898,
          -0.11360818904203256,
          0.04704884319419822,
          0.711350622598875,
          -0.5045014847624979,
          0.39897063453354453,
          0.8350726088246634,
          -0.6067348615268908,
          0.6018843560171192,
          -0.9750318086357168,
          -0.8111768417278923,
          0.5865123052820451,
          -1.2682046206237232,
          0.30538546233597064,
          0.044060763848661415,
          0.30091219086281756,
          0.6356706795934935,
          -0.9290464938329864,
          0.26665716907365966,
          0.31376967389358773,
          0.5230410509719929,
          -0.47564221228880077,
          -2.3544581053872924,
          1.1631809227657774,
          1.2446836192270323,
          2.453657648153855,
          2.0705079079433575,
          1.1823046883956898,
          0.1982523746639038,
          0.022184968541608917,
          0.5792157662111811,
          1.6925589437987265,
          1.6735491639361957,
          -0.6081796816698564,
          -0.654197528371815,
          1.9948097814472088,
          0.6452083653550553,
          -0.990864295108887,
          -1.3545582273408059,
          0.5282668446491409,
          0.740967616780742,
          -1.418069374141105,
          -0.5966689133434379,
          0.23363166132097435,
          0.8921390421200076,
          -0.7742498466221465,
          -0.31783128917578973,
          -0.04688838580674549,
          0.26217113832692995,
          0.1967788636582987,
          0.08143712402768997,
          -0.8658789516841908,
          -0.08489955130735412,
          1.6181102272592358,
          1.2890470324485164,
          0.7229560931164392,
          0.46226052689936553,
          -0.8542194243135494,
          0.5094739172634204,
          -0.5463175094424851,
          -1.0427681033876963,
          -1.5960614897359906,
          1.2396016427276908,
          2.3843745292528733,
          -0.6218403799730308,
          -1.7536232569773271,
          1.4982683951615485,
          1.541779113521374,
          -0.6370060447827084,
          -0.24446085397023756,
          -1.25169978102884,
          -1.601817214912354,
          -0.1842659662140935,
          -0.6653636755456144,
          1.7050858145432017,
          -0.21035741890677045,
          -0.9178286109980154,
          -1.5767350284883654,
          0.6049863670999431,
          0.5707203254294333,
          -1.0937692620437585,
          1.713111116881167,
          -0.5873802980984976,
          0.44428845973412634,
          -0.05549793997215865,
          1.5926275223590245,
          0.8538677661840695,
          0.21054373693698292
         ]
        }
       ],
       "layout": {
        "legend": {
         "bgcolor": "#F5F6F9",
         "font": {
          "color": "#4D5663"
         }
        },
        "paper_bgcolor": "#F5F6F9",
        "plot_bgcolor": "#F5F6F9",
        "template": {
         "data": {
          "bar": [
           {
            "error_x": {
             "color": "#2a3f5f"
            },
            "error_y": {
             "color": "#2a3f5f"
            },
            "marker": {
             "line": {
              "color": "#E5ECF6",
              "width": 0.5
             }
            },
            "type": "bar"
           }
          ],
          "barpolar": [
           {
            "marker": {
             "line": {
              "color": "#E5ECF6",
              "width": 0.5
             }
            },
            "type": "barpolar"
           }
          ],
          "carpet": [
           {
            "aaxis": {
             "endlinecolor": "#2a3f5f",
             "gridcolor": "white",
             "linecolor": "white",
             "minorgridcolor": "white",
             "startlinecolor": "#2a3f5f"
            },
            "baxis": {
             "endlinecolor": "#2a3f5f",
             "gridcolor": "white",
             "linecolor": "white",
             "minorgridcolor": "white",
             "startlinecolor": "#2a3f5f"
            },
            "type": "carpet"
           }
          ],
          "choropleth": [
           {
            "colorbar": {
             "outlinewidth": 0,
             "ticks": ""
            },
            "type": "choropleth"
           }
          ],
          "contour": [
           {
            "colorbar": {
             "outlinewidth": 0,
             "ticks": ""
            },
            "colorscale": [
             [
              0,
              "#0d0887"
             ],
             [
              0.1111111111111111,
              "#46039f"
             ],
             [
              0.2222222222222222,
              "#7201a8"
             ],
             [
              0.3333333333333333,
              "#9c179e"
             ],
             [
              0.4444444444444444,
              "#bd3786"
             ],
             [
              0.5555555555555556,
              "#d8576b"
             ],
             [
              0.6666666666666666,
              "#ed7953"
             ],
             [
              0.7777777777777778,
              "#fb9f3a"
             ],
             [
              0.8888888888888888,
              "#fdca26"
             ],
             [
              1,
              "#f0f921"
             ]
            ],
            "type": "contour"
           }
          ],
          "contourcarpet": [
           {
            "colorbar": {
             "outlinewidth": 0,
             "ticks": ""
            },
            "type": "contourcarpet"
           }
          ],
          "heatmap": [
           {
            "colorbar": {
             "outlinewidth": 0,
             "ticks": ""
            },
            "colorscale": [
             [
              0,
              "#0d0887"
             ],
             [
              0.1111111111111111,
              "#46039f"
             ],
             [
              0.2222222222222222,
              "#7201a8"
             ],
             [
              0.3333333333333333,
              "#9c179e"
             ],
             [
              0.4444444444444444,
              "#bd3786"
             ],
             [
              0.5555555555555556,
              "#d8576b"
             ],
             [
              0.6666666666666666,
              "#ed7953"
             ],
             [
              0.7777777777777778,
              "#fb9f3a"
             ],
             [
              0.8888888888888888,
              "#fdca26"
             ],
             [
              1,
              "#f0f921"
             ]
            ],
            "type": "heatmap"
           }
          ],
          "heatmapgl": [
           {
            "colorbar": {
             "outlinewidth": 0,
             "ticks": ""
            },
            "colorscale": [
             [
              0,
              "#0d0887"
             ],
             [
              0.1111111111111111,
              "#46039f"
             ],
             [
              0.2222222222222222,
              "#7201a8"
             ],
             [
              0.3333333333333333,
              "#9c179e"
             ],
             [
              0.4444444444444444,
              "#bd3786"
             ],
             [
              0.5555555555555556,
              "#d8576b"
             ],
             [
              0.6666666666666666,
              "#ed7953"
             ],
             [
              0.7777777777777778,
              "#fb9f3a"
             ],
             [
              0.8888888888888888,
              "#fdca26"
             ],
             [
              1,
              "#f0f921"
             ]
            ],
            "type": "heatmapgl"
           }
          ],
          "histogram": [
           {
            "marker": {
             "colorbar": {
              "outlinewidth": 0,
              "ticks": ""
             }
            },
            "type": "histogram"
           }
          ],
          "histogram2d": [
           {
            "colorbar": {
             "outlinewidth": 0,
             "ticks": ""
            },
            "colorscale": [
             [
              0,
              "#0d0887"
             ],
             [
              0.1111111111111111,
              "#46039f"
             ],
             [
              0.2222222222222222,
              "#7201a8"
             ],
             [
              0.3333333333333333,
              "#9c179e"
             ],
             [
              0.4444444444444444,
              "#bd3786"
             ],
             [
              0.5555555555555556,
              "#d8576b"
             ],
             [
              0.6666666666666666,
              "#ed7953"
             ],
             [
              0.7777777777777778,
              "#fb9f3a"
             ],
             [
              0.8888888888888888,
              "#fdca26"
             ],
             [
              1,
              "#f0f921"
             ]
            ],
            "type": "histogram2d"
           }
          ],
          "histogram2dcontour": [
           {
            "colorbar": {
             "outlinewidth": 0,
             "ticks": ""
            },
            "colorscale": [
             [
              0,
              "#0d0887"
             ],
             [
              0.1111111111111111,
              "#46039f"
             ],
             [
              0.2222222222222222,
              "#7201a8"
             ],
             [
              0.3333333333333333,
              "#9c179e"
             ],
             [
              0.4444444444444444,
              "#bd3786"
             ],
             [
              0.5555555555555556,
              "#d8576b"
             ],
             [
              0.6666666666666666,
              "#ed7953"
             ],
             [
              0.7777777777777778,
              "#fb9f3a"
             ],
             [
              0.8888888888888888,
              "#fdca26"
             ],
             [
              1,
              "#f0f921"
             ]
            ],
            "type": "histogram2dcontour"
           }
          ],
          "mesh3d": [
           {
            "colorbar": {
             "outlinewidth": 0,
             "ticks": ""
            },
            "type": "mesh3d"
           }
          ],
          "parcoords": [
           {
            "line": {
             "colorbar": {
              "outlinewidth": 0,
              "ticks": ""
             }
            },
            "type": "parcoords"
           }
          ],
          "pie": [
           {
            "automargin": true,
            "type": "pie"
           }
          ],
          "scatter": [
           {
            "marker": {
             "colorbar": {
              "outlinewidth": 0,
              "ticks": ""
             }
            },
            "type": "scatter"
           }
          ],
          "scatter3d": [
           {
            "line": {
             "colorbar": {
              "outlinewidth": 0,
              "ticks": ""
             }
            },
            "marker": {
             "colorbar": {
              "outlinewidth": 0,
              "ticks": ""
             }
            },
            "type": "scatter3d"
           }
          ],
          "scattercarpet": [
           {
            "marker": {
             "colorbar": {
              "outlinewidth": 0,
              "ticks": ""
             }
            },
            "type": "scattercarpet"
           }
          ],
          "scattergeo": [
           {
            "marker": {
             "colorbar": {
              "outlinewidth": 0,
              "ticks": ""
             }
            },
            "type": "scattergeo"
           }
          ],
          "scattergl": [
           {
            "marker": {
             "colorbar": {
              "outlinewidth": 0,
              "ticks": ""
             }
            },
            "type": "scattergl"
           }
          ],
          "scattermapbox": [
           {
            "marker": {
             "colorbar": {
              "outlinewidth": 0,
              "ticks": ""
             }
            },
            "type": "scattermapbox"
           }
          ],
          "scatterpolar": [
           {
            "marker": {
             "colorbar": {
              "outlinewidth": 0,
              "ticks": ""
             }
            },
            "type": "scatterpolar"
           }
          ],
          "scatterpolargl": [
           {
            "marker": {
             "colorbar": {
              "outlinewidth": 0,
              "ticks": ""
             }
            },
            "type": "scatterpolargl"
           }
          ],
          "scatterternary": [
           {
            "marker": {
             "colorbar": {
              "outlinewidth": 0,
              "ticks": ""
             }
            },
            "type": "scatterternary"
           }
          ],
          "surface": [
           {
            "colorbar": {
             "outlinewidth": 0,
             "ticks": ""
            },
            "colorscale": [
             [
              0,
              "#0d0887"
             ],
             [
              0.1111111111111111,
              "#46039f"
             ],
             [
              0.2222222222222222,
              "#7201a8"
             ],
             [
              0.3333333333333333,
              "#9c179e"
             ],
             [
              0.4444444444444444,
              "#bd3786"
             ],
             [
              0.5555555555555556,
              "#d8576b"
             ],
             [
              0.6666666666666666,
              "#ed7953"
             ],
             [
              0.7777777777777778,
              "#fb9f3a"
             ],
             [
              0.8888888888888888,
              "#fdca26"
             ],
             [
              1,
              "#f0f921"
             ]
            ],
            "type": "surface"
           }
          ],
          "table": [
           {
            "cells": {
             "fill": {
              "color": "#EBF0F8"
             },
             "line": {
              "color": "white"
             }
            },
            "header": {
             "fill": {
              "color": "#C8D4E3"
             },
             "line": {
              "color": "white"
             }
            },
            "type": "table"
           }
          ]
         },
         "layout": {
          "annotationdefaults": {
           "arrowcolor": "#2a3f5f",
           "arrowhead": 0,
           "arrowwidth": 1
          },
          "coloraxis": {
           "colorbar": {
            "outlinewidth": 0,
            "ticks": ""
           }
          },
          "colorscale": {
           "diverging": [
            [
             0,
             "#8e0152"
            ],
            [
             0.1,
             "#c51b7d"
            ],
            [
             0.2,
             "#de77ae"
            ],
            [
             0.3,
             "#f1b6da"
            ],
            [
             0.4,
             "#fde0ef"
            ],
            [
             0.5,
             "#f7f7f7"
            ],
            [
             0.6,
             "#e6f5d0"
            ],
            [
             0.7,
             "#b8e186"
            ],
            [
             0.8,
             "#7fbc41"
            ],
            [
             0.9,
             "#4d9221"
            ],
            [
             1,
             "#276419"
            ]
           ],
           "sequential": [
            [
             0,
             "#0d0887"
            ],
            [
             0.1111111111111111,
             "#46039f"
            ],
            [
             0.2222222222222222,
             "#7201a8"
            ],
            [
             0.3333333333333333,
             "#9c179e"
            ],
            [
             0.4444444444444444,
             "#bd3786"
            ],
            [
             0.5555555555555556,
             "#d8576b"
            ],
            [
             0.6666666666666666,
             "#ed7953"
            ],
            [
             0.7777777777777778,
             "#fb9f3a"
            ],
            [
             0.8888888888888888,
             "#fdca26"
            ],
            [
             1,
             "#f0f921"
            ]
           ],
           "sequentialminus": [
            [
             0,
             "#0d0887"
            ],
            [
             0.1111111111111111,
             "#46039f"
            ],
            [
             0.2222222222222222,
             "#7201a8"
            ],
            [
             0.3333333333333333,
             "#9c179e"
            ],
            [
             0.4444444444444444,
             "#bd3786"
            ],
            [
             0.5555555555555556,
             "#d8576b"
            ],
            [
             0.6666666666666666,
             "#ed7953"
            ],
            [
             0.7777777777777778,
             "#fb9f3a"
            ],
            [
             0.8888888888888888,
             "#fdca26"
            ],
            [
             1,
             "#f0f921"
            ]
           ]
          },
          "colorway": [
           "#636efa",
           "#EF553B",
           "#00cc96",
           "#ab63fa",
           "#FFA15A",
           "#19d3f3",
           "#FF6692",
           "#B6E880",
           "#FF97FF",
           "#FECB52"
          ],
          "font": {
           "color": "#2a3f5f"
          },
          "geo": {
           "bgcolor": "white",
           "lakecolor": "white",
           "landcolor": "#E5ECF6",
           "showlakes": true,
           "showland": true,
           "subunitcolor": "white"
          },
          "hoverlabel": {
           "align": "left"
          },
          "hovermode": "closest",
          "mapbox": {
           "style": "light"
          },
          "paper_bgcolor": "white",
          "plot_bgcolor": "#E5ECF6",
          "polar": {
           "angularaxis": {
            "gridcolor": "white",
            "linecolor": "white",
            "ticks": ""
           },
           "bgcolor": "#E5ECF6",
           "radialaxis": {
            "gridcolor": "white",
            "linecolor": "white",
            "ticks": ""
           }
          },
          "scene": {
           "xaxis": {
            "backgroundcolor": "#E5ECF6",
            "gridcolor": "white",
            "gridwidth": 2,
            "linecolor": "white",
            "showbackground": true,
            "ticks": "",
            "zerolinecolor": "white"
           },
           "yaxis": {
            "backgroundcolor": "#E5ECF6",
            "gridcolor": "white",
            "gridwidth": 2,
            "linecolor": "white",
            "showbackground": true,
            "ticks": "",
            "zerolinecolor": "white"
           },
           "zaxis": {
            "backgroundcolor": "#E5ECF6",
            "gridcolor": "white",
            "gridwidth": 2,
            "linecolor": "white",
            "showbackground": true,
            "ticks": "",
            "zerolinecolor": "white"
           }
          },
          "shapedefaults": {
           "line": {
            "color": "#2a3f5f"
           }
          },
          "ternary": {
           "aaxis": {
            "gridcolor": "white",
            "linecolor": "white",
            "ticks": ""
           },
           "baxis": {
            "gridcolor": "white",
            "linecolor": "white",
            "ticks": ""
           },
           "bgcolor": "#E5ECF6",
           "caxis": {
            "gridcolor": "white",
            "linecolor": "white",
            "ticks": ""
           }
          },
          "title": {
           "x": 0.05
          },
          "xaxis": {
           "automargin": true,
           "gridcolor": "white",
           "linecolor": "white",
           "ticks": "",
           "title": {
            "standoff": 15
           },
           "zerolinecolor": "white",
           "zerolinewidth": 2
          },
          "yaxis": {
           "automargin": true,
           "gridcolor": "white",
           "linecolor": "white",
           "ticks": "",
           "title": {
            "standoff": 15
           },
           "zerolinecolor": "white",
           "zerolinewidth": 2
          }
         }
        },
        "title": {
         "font": {
          "color": "#4D5663"
         }
        },
        "xaxis": {
         "gridcolor": "#E1E5ED",
         "showgrid": true,
         "tickfont": {
          "color": "#4D5663"
         },
         "title": {
          "font": {
           "color": "#4D5663"
          },
          "text": ""
         },
         "zerolinecolor": "#E1E5ED"
        },
        "yaxis": {
         "gridcolor": "#E1E5ED",
         "showgrid": true,
         "tickfont": {
          "color": "#4D5663"
         },
         "title": {
          "font": {
           "color": "#4D5663"
          },
          "text": ""
         },
         "zerolinecolor": "#E1E5ED"
        }
       }
      },
      "text/html": [
       "<div>\n",
       "        \n",
       "        \n",
       "            <div id=\"adc4bb7a-c8f5-4e42-9328-ed2844234e5b\" class=\"plotly-graph-div\" style=\"height:525px; width:100%;\"></div>\n",
       "            <script type=\"text/javascript\">\n",
       "                require([\"plotly\"], function(Plotly) {\n",
       "                    window.PLOTLYENV=window.PLOTLYENV || {};\n",
       "                    window.PLOTLYENV.BASE_URL='https://plot.ly';\n",
       "                    \n",
       "                if (document.getElementById(\"adc4bb7a-c8f5-4e42-9328-ed2844234e5b\")) {\n",
       "                    Plotly.newPlot(\n",
       "                        'adc4bb7a-c8f5-4e42-9328-ed2844234e5b',\n",
       "                        [{\"marker\": {\"color\": [\"rgb(255, 153, 51)\", \"rgb(55, 128, 191)\", \"rgb(50, 171, 96)\", \"rgb(128, 0, 128)\", \"rgb(219, 64, 82)\", \"rgb(0, 128, 128)\", \"rgb(255, 255, 51)\", \"rgb(128, 128, 0)\", \"rgb(251, 128, 114)\", \"rgb(128, 177, 211)\"], \"line\": {\"width\": 1.3}, \"size\": [80, 68, 67, 56, 40, 14, 23, 44, 60, 58, 101, 40, 32, 55, 75, 36, 56, 59, 14, 57, 40, 44, 85, 65, 75, 87, 64, 76, 39, 67, 54, 54, 42, 39, 37, 30, 81, 95, 56, 44, 46, 79, 85, 105, 81, 112, 12, 31, 44, 40, 61, 54, 43, 92, 70, 45, 40, 58, 68, 55, 52, 50, 68, 49, 68, 82, 62, 58, 40, 78, 50, 47, 95, 85, 78, 40, 41, 96, 69, 50, 49, 64, 67, 62, 21, 72, 55, 22, 84, 72, 57, 61, 19, 64, 47, 83, 64, 52, 55, 47], \"symbol\": \"circle\"}, \"mode\": \"markers\", \"text\": \"\", \"type\": \"scatter\", \"x\": [1.9758519900934104, -0.5143221233456489, -0.1582030966787379, -0.5114390014664738, 0.515811900694426, -0.3617127909781959, 0.8213800009504084, 0.9263759553965216, 0.8463773240249822, -1.550823625797956, -1.1196680523219449, -1.3720152085677328, 0.993215756870461, -0.2947213227426147, 0.3891428636616671, -0.6037512014034268, 0.2963029032682522, 1.2997150136493418, 0.5457748329459221, -1.1120549861777493, -1.3901568455907765, 0.5378903545113346, -0.021807045234015447, 1.523230437046832, -0.38997725066553474, 0.2543225692799485, 0.2795531219081177, -1.8873761705874288, -0.5358770884120846, -0.13041613392353707, -0.4846026362616904, 0.1968461287525519, -0.9359976466832249, 1.15241006171264, -0.28811501136423917, 0.22158451906649376, -1.792787390527634, -1.1151847185475674, 0.2999968484132656, -0.8410432469367217, 0.9870416043456087, -0.5881425626152607, -0.5703765600397165, -0.6803726993143193, 0.3216170210237273, 0.7556227727364897, 0.5360754027842475, 0.613389511563585, 0.22565749295090093, 0.08365976731257571, 0.1033919609885569, 1.2438889145118528, 0.8461128057749727, -0.23096828694979957, -0.12408711033791694, -1.1657940200430517, -0.2434783345014043, -1.199120831961396, 1.4715404125351348, 0.2803547207916868, -0.26987496653419035, -1.752600192059749, -0.11232400010667294, 1.6307595591341888, 0.7361119323933746, 1.0046027671180844, -1.1061416883584818, 0.5486042763497647, 1.0300528549918395, -1.1009445751792122, 1.0237198785638675, 2.3349677555956436, 0.7779690393786323, -1.123924959679506, 0.17460525043824449, 0.22201343894598982, -0.2906223833332785, 0.5558148800636564, -0.4697349000963517, 0.7246304134527143, -0.04523217356888744, -0.38848741703370726, 0.5468817495156351, -0.9168752710950892, 0.7994257334532495, 0.9192035844449936, -0.002662870365699749, 1.3981786261876747, -1.510668319049373, 0.40377071643147383, 0.1537412737152171, 0.32491684836283985, -2.027833581141001, 0.5312754157391999, -1.5124626744579268, 0.12768299722942447, -1.9988651993974935, 0.3620998287019383, 0.6454370926585403, 1.5131459553856328], \"y\": [0.5665382229248324, -0.5565063078433714, -0.8718681029275993, -1.398907936994333, 1.4219495489932097, 1.9610132506325109, 0.2518202894903014, -0.13417845181620516, -0.7622085723930692, 0.3919451171772081, 0.26630550068055336, 0.5892959076385756, -0.793505369555898, -0.11360818904203256, 0.04704884319419822, 0.711350622598875, -0.5045014847624979, 0.39897063453354453, 0.8350726088246634, -0.6067348615268908, 0.6018843560171192, -0.9750318086357168, -0.8111768417278923, 0.5865123052820451, -1.2682046206237232, 0.30538546233597064, 0.044060763848661415, 0.30091219086281756, 0.6356706795934935, -0.9290464938329864, 0.26665716907365966, 0.31376967389358773, 0.5230410509719929, -0.47564221228880077, -2.3544581053872924, 1.1631809227657774, 1.2446836192270323, 2.453657648153855, 2.0705079079433575, 1.1823046883956898, 0.1982523746639038, 0.022184968541608917, 0.5792157662111811, 1.6925589437987265, 1.6735491639361957, -0.6081796816698564, -0.654197528371815, 1.9948097814472088, 0.6452083653550553, -0.990864295108887, -1.3545582273408059, 0.5282668446491409, 0.740967616780742, -1.418069374141105, -0.5966689133434379, 0.23363166132097435, 0.8921390421200076, -0.7742498466221465, -0.31783128917578973, -0.04688838580674549, 0.26217113832692995, 0.1967788636582987, 0.08143712402768997, -0.8658789516841908, -0.08489955130735412, 1.6181102272592358, 1.2890470324485164, 0.7229560931164392, 0.46226052689936553, -0.8542194243135494, 0.5094739172634204, -0.5463175094424851, -1.0427681033876963, -1.5960614897359906, 1.2396016427276908, 2.3843745292528733, -0.6218403799730308, -1.7536232569773271, 1.4982683951615485, 1.541779113521374, -0.6370060447827084, -0.24446085397023756, -1.25169978102884, -1.601817214912354, -0.1842659662140935, -0.6653636755456144, 1.7050858145432017, -0.21035741890677045, -0.9178286109980154, -1.5767350284883654, 0.6049863670999431, 0.5707203254294333, -1.0937692620437585, 1.713111116881167, -0.5873802980984976, 0.44428845973412634, -0.05549793997215865, 1.5926275223590245, 0.8538677661840695, 0.21054373693698292]}],\n",
       "                        {\"legend\": {\"bgcolor\": \"#F5F6F9\", \"font\": {\"color\": \"#4D5663\"}}, \"paper_bgcolor\": \"#F5F6F9\", \"plot_bgcolor\": \"#F5F6F9\", \"template\": {\"data\": {\"bar\": [{\"error_x\": {\"color\": \"#2a3f5f\"}, \"error_y\": {\"color\": \"#2a3f5f\"}, \"marker\": {\"line\": {\"color\": \"#E5ECF6\", \"width\": 0.5}}, \"type\": \"bar\"}], \"barpolar\": [{\"marker\": {\"line\": {\"color\": \"#E5ECF6\", \"width\": 0.5}}, \"type\": \"barpolar\"}], \"carpet\": [{\"aaxis\": {\"endlinecolor\": \"#2a3f5f\", \"gridcolor\": \"white\", \"linecolor\": \"white\", \"minorgridcolor\": \"white\", \"startlinecolor\": \"#2a3f5f\"}, \"baxis\": {\"endlinecolor\": \"#2a3f5f\", \"gridcolor\": \"white\", \"linecolor\": \"white\", \"minorgridcolor\": \"white\", \"startlinecolor\": \"#2a3f5f\"}, \"type\": \"carpet\"}], \"choropleth\": [{\"colorbar\": {\"outlinewidth\": 0, \"ticks\": \"\"}, \"type\": \"choropleth\"}], \"contour\": [{\"colorbar\": {\"outlinewidth\": 0, \"ticks\": \"\"}, \"colorscale\": [[0.0, \"#0d0887\"], [0.1111111111111111, \"#46039f\"], [0.2222222222222222, \"#7201a8\"], [0.3333333333333333, \"#9c179e\"], [0.4444444444444444, \"#bd3786\"], [0.5555555555555556, \"#d8576b\"], [0.6666666666666666, \"#ed7953\"], [0.7777777777777778, \"#fb9f3a\"], [0.8888888888888888, \"#fdca26\"], [1.0, \"#f0f921\"]], \"type\": \"contour\"}], \"contourcarpet\": [{\"colorbar\": {\"outlinewidth\": 0, \"ticks\": \"\"}, \"type\": \"contourcarpet\"}], \"heatmap\": [{\"colorbar\": {\"outlinewidth\": 0, \"ticks\": \"\"}, \"colorscale\": [[0.0, \"#0d0887\"], [0.1111111111111111, \"#46039f\"], [0.2222222222222222, \"#7201a8\"], [0.3333333333333333, \"#9c179e\"], [0.4444444444444444, \"#bd3786\"], [0.5555555555555556, \"#d8576b\"], [0.6666666666666666, \"#ed7953\"], [0.7777777777777778, \"#fb9f3a\"], [0.8888888888888888, \"#fdca26\"], [1.0, \"#f0f921\"]], \"type\": \"heatmap\"}], \"heatmapgl\": [{\"colorbar\": {\"outlinewidth\": 0, \"ticks\": \"\"}, \"colorscale\": [[0.0, \"#0d0887\"], [0.1111111111111111, \"#46039f\"], [0.2222222222222222, \"#7201a8\"], [0.3333333333333333, \"#9c179e\"], [0.4444444444444444, \"#bd3786\"], [0.5555555555555556, \"#d8576b\"], [0.6666666666666666, \"#ed7953\"], [0.7777777777777778, \"#fb9f3a\"], [0.8888888888888888, \"#fdca26\"], [1.0, \"#f0f921\"]], \"type\": \"heatmapgl\"}], \"histogram\": [{\"marker\": {\"colorbar\": {\"outlinewidth\": 0, \"ticks\": \"\"}}, \"type\": \"histogram\"}], \"histogram2d\": [{\"colorbar\": {\"outlinewidth\": 0, \"ticks\": \"\"}, \"colorscale\": [[0.0, \"#0d0887\"], [0.1111111111111111, \"#46039f\"], [0.2222222222222222, \"#7201a8\"], [0.3333333333333333, \"#9c179e\"], [0.4444444444444444, \"#bd3786\"], [0.5555555555555556, \"#d8576b\"], [0.6666666666666666, \"#ed7953\"], [0.7777777777777778, \"#fb9f3a\"], [0.8888888888888888, \"#fdca26\"], [1.0, \"#f0f921\"]], \"type\": \"histogram2d\"}], \"histogram2dcontour\": [{\"colorbar\": {\"outlinewidth\": 0, \"ticks\": \"\"}, \"colorscale\": [[0.0, \"#0d0887\"], [0.1111111111111111, \"#46039f\"], [0.2222222222222222, \"#7201a8\"], [0.3333333333333333, \"#9c179e\"], [0.4444444444444444, \"#bd3786\"], [0.5555555555555556, \"#d8576b\"], [0.6666666666666666, \"#ed7953\"], [0.7777777777777778, \"#fb9f3a\"], [0.8888888888888888, \"#fdca26\"], [1.0, \"#f0f921\"]], \"type\": \"histogram2dcontour\"}], \"mesh3d\": [{\"colorbar\": {\"outlinewidth\": 0, \"ticks\": \"\"}, \"type\": \"mesh3d\"}], \"parcoords\": [{\"line\": {\"colorbar\": {\"outlinewidth\": 0, \"ticks\": \"\"}}, \"type\": \"parcoords\"}], \"pie\": [{\"automargin\": true, \"type\": \"pie\"}], \"scatter\": [{\"marker\": {\"colorbar\": {\"outlinewidth\": 0, \"ticks\": \"\"}}, \"type\": \"scatter\"}], \"scatter3d\": [{\"line\": {\"colorbar\": {\"outlinewidth\": 0, \"ticks\": \"\"}}, \"marker\": {\"colorbar\": {\"outlinewidth\": 0, \"ticks\": \"\"}}, \"type\": \"scatter3d\"}], \"scattercarpet\": [{\"marker\": {\"colorbar\": {\"outlinewidth\": 0, \"ticks\": \"\"}}, \"type\": \"scattercarpet\"}], \"scattergeo\": [{\"marker\": {\"colorbar\": {\"outlinewidth\": 0, \"ticks\": \"\"}}, \"type\": \"scattergeo\"}], \"scattergl\": [{\"marker\": {\"colorbar\": {\"outlinewidth\": 0, \"ticks\": \"\"}}, \"type\": \"scattergl\"}], \"scattermapbox\": [{\"marker\": {\"colorbar\": {\"outlinewidth\": 0, \"ticks\": \"\"}}, \"type\": \"scattermapbox\"}], \"scatterpolar\": [{\"marker\": {\"colorbar\": {\"outlinewidth\": 0, \"ticks\": \"\"}}, \"type\": \"scatterpolar\"}], \"scatterpolargl\": [{\"marker\": {\"colorbar\": {\"outlinewidth\": 0, \"ticks\": \"\"}}, \"type\": \"scatterpolargl\"}], \"scatterternary\": [{\"marker\": {\"colorbar\": {\"outlinewidth\": 0, \"ticks\": \"\"}}, \"type\": \"scatterternary\"}], \"surface\": [{\"colorbar\": {\"outlinewidth\": 0, \"ticks\": \"\"}, \"colorscale\": [[0.0, \"#0d0887\"], [0.1111111111111111, \"#46039f\"], [0.2222222222222222, \"#7201a8\"], [0.3333333333333333, \"#9c179e\"], [0.4444444444444444, \"#bd3786\"], [0.5555555555555556, \"#d8576b\"], [0.6666666666666666, \"#ed7953\"], [0.7777777777777778, \"#fb9f3a\"], [0.8888888888888888, \"#fdca26\"], [1.0, \"#f0f921\"]], \"type\": \"surface\"}], \"table\": [{\"cells\": {\"fill\": {\"color\": \"#EBF0F8\"}, \"line\": {\"color\": \"white\"}}, \"header\": {\"fill\": {\"color\": \"#C8D4E3\"}, \"line\": {\"color\": \"white\"}}, \"type\": \"table\"}]}, \"layout\": {\"annotationdefaults\": {\"arrowcolor\": \"#2a3f5f\", \"arrowhead\": 0, \"arrowwidth\": 1}, \"coloraxis\": {\"colorbar\": {\"outlinewidth\": 0, \"ticks\": \"\"}}, \"colorscale\": {\"diverging\": [[0, \"#8e0152\"], [0.1, \"#c51b7d\"], [0.2, \"#de77ae\"], [0.3, \"#f1b6da\"], [0.4, \"#fde0ef\"], [0.5, \"#f7f7f7\"], [0.6, \"#e6f5d0\"], [0.7, \"#b8e186\"], [0.8, \"#7fbc41\"], [0.9, \"#4d9221\"], [1, \"#276419\"]], \"sequential\": [[0.0, \"#0d0887\"], [0.1111111111111111, \"#46039f\"], [0.2222222222222222, \"#7201a8\"], [0.3333333333333333, \"#9c179e\"], [0.4444444444444444, \"#bd3786\"], [0.5555555555555556, \"#d8576b\"], [0.6666666666666666, \"#ed7953\"], [0.7777777777777778, \"#fb9f3a\"], [0.8888888888888888, \"#fdca26\"], [1.0, \"#f0f921\"]], \"sequentialminus\": [[0.0, \"#0d0887\"], [0.1111111111111111, \"#46039f\"], [0.2222222222222222, \"#7201a8\"], [0.3333333333333333, \"#9c179e\"], [0.4444444444444444, \"#bd3786\"], [0.5555555555555556, \"#d8576b\"], [0.6666666666666666, \"#ed7953\"], [0.7777777777777778, \"#fb9f3a\"], [0.8888888888888888, \"#fdca26\"], [1.0, \"#f0f921\"]]}, \"colorway\": [\"#636efa\", \"#EF553B\", \"#00cc96\", \"#ab63fa\", \"#FFA15A\", \"#19d3f3\", \"#FF6692\", \"#B6E880\", \"#FF97FF\", \"#FECB52\"], \"font\": {\"color\": \"#2a3f5f\"}, \"geo\": {\"bgcolor\": \"white\", \"lakecolor\": \"white\", \"landcolor\": \"#E5ECF6\", \"showlakes\": true, \"showland\": true, \"subunitcolor\": \"white\"}, \"hoverlabel\": {\"align\": \"left\"}, \"hovermode\": \"closest\", \"mapbox\": {\"style\": \"light\"}, \"paper_bgcolor\": \"white\", \"plot_bgcolor\": \"#E5ECF6\", \"polar\": {\"angularaxis\": {\"gridcolor\": \"white\", \"linecolor\": \"white\", \"ticks\": \"\"}, \"bgcolor\": \"#E5ECF6\", \"radialaxis\": {\"gridcolor\": \"white\", \"linecolor\": \"white\", \"ticks\": \"\"}}, \"scene\": {\"xaxis\": {\"backgroundcolor\": \"#E5ECF6\", \"gridcolor\": \"white\", \"gridwidth\": 2, \"linecolor\": \"white\", \"showbackground\": true, \"ticks\": \"\", \"zerolinecolor\": \"white\"}, \"yaxis\": {\"backgroundcolor\": \"#E5ECF6\", \"gridcolor\": \"white\", \"gridwidth\": 2, \"linecolor\": \"white\", \"showbackground\": true, \"ticks\": \"\", \"zerolinecolor\": \"white\"}, \"zaxis\": {\"backgroundcolor\": \"#E5ECF6\", \"gridcolor\": \"white\", \"gridwidth\": 2, \"linecolor\": \"white\", \"showbackground\": true, \"ticks\": \"\", \"zerolinecolor\": \"white\"}}, \"shapedefaults\": {\"line\": {\"color\": \"#2a3f5f\"}}, \"ternary\": {\"aaxis\": {\"gridcolor\": \"white\", \"linecolor\": \"white\", \"ticks\": \"\"}, \"baxis\": {\"gridcolor\": \"white\", \"linecolor\": \"white\", \"ticks\": \"\"}, \"bgcolor\": \"#E5ECF6\", \"caxis\": {\"gridcolor\": \"white\", \"linecolor\": \"white\", \"ticks\": \"\"}}, \"title\": {\"x\": 0.05}, \"xaxis\": {\"automargin\": true, \"gridcolor\": \"white\", \"linecolor\": \"white\", \"ticks\": \"\", \"title\": {\"standoff\": 15}, \"zerolinecolor\": \"white\", \"zerolinewidth\": 2}, \"yaxis\": {\"automargin\": true, \"gridcolor\": \"white\", \"linecolor\": \"white\", \"ticks\": \"\", \"title\": {\"standoff\": 15}, \"zerolinecolor\": \"white\", \"zerolinewidth\": 2}}}, \"title\": {\"font\": {\"color\": \"#4D5663\"}}, \"xaxis\": {\"gridcolor\": \"#E1E5ED\", \"showgrid\": true, \"tickfont\": {\"color\": \"#4D5663\"}, \"title\": {\"font\": {\"color\": \"#4D5663\"}, \"text\": \"\"}, \"zerolinecolor\": \"#E1E5ED\"}, \"yaxis\": {\"gridcolor\": \"#E1E5ED\", \"showgrid\": true, \"tickfont\": {\"color\": \"#4D5663\"}, \"title\": {\"font\": {\"color\": \"#4D5663\"}, \"text\": \"\"}, \"zerolinecolor\": \"#E1E5ED\"}},\n",
       "                        {\"showLink\": true, \"linkText\": \"Export to plot.ly\", \"plotlyServerURL\": \"https://plot.ly\", \"responsive\": true}\n",
       "                    ).then(function(){\n",
       "                            \n",
       "var gd = document.getElementById('adc4bb7a-c8f5-4e42-9328-ed2844234e5b');\n",
       "var x = new MutationObserver(function (mutations, observer) {{\n",
       "        var display = window.getComputedStyle(gd).display;\n",
       "        if (!display || display === 'none') {{\n",
       "            console.log([gd, 'removed!']);\n",
       "            Plotly.purge(gd);\n",
       "            observer.disconnect();\n",
       "        }}\n",
       "}});\n",
       "\n",
       "// Listen for the removal of the full notebook cells\n",
       "var notebookContainer = gd.closest('#notebook-container');\n",
       "if (notebookContainer) {{\n",
       "    x.observe(notebookContainer, {childList: true});\n",
       "}}\n",
       "\n",
       "// Listen for the clearing of the current output cell\n",
       "var outputEl = gd.closest('.output');\n",
       "if (outputEl) {{\n",
       "    x.observe(outputEl, {childList: true});\n",
       "}}\n",
       "\n",
       "                        })\n",
       "                };\n",
       "                });\n",
       "            </script>\n",
       "        </div>"
      ]
     },
     "metadata": {},
     "output_type": "display_data"
    }
   ],
   "source": [
    "df.iplot(kind='bubble',x='A',y='B',size='C')"
   ]
  },
  {
   "cell_type": "markdown",
   "metadata": {},
   "source": [
    "## scatter_matrix()\n",
    "\n",
    "Similar to sns.pairplot()"
   ]
  },
  {
   "cell_type": "code",
   "execution_count": 18,
   "metadata": {},
   "outputs": [
    {
     "data": {
      "application/vnd.plotly.v1+json": {
       "config": {
        "linkText": "Export to plot.ly",
        "plotlyServerURL": "https://plot.ly",
        "showLink": true
       },
       "data": [
        {
         "histfunc": "count",
         "histnorm": "",
         "marker": {
          "color": "rgba(255, 153, 51, 1.0)",
          "line": {
           "color": "#4D5663",
           "width": 1.3
          }
         },
         "name": "A",
         "nbinsx": 10,
         "opacity": 0.8,
         "orientation": "v",
         "type": "histogram",
         "x": [
          1.9758519900934104,
          -0.5143221233456489,
          -0.1582030966787379,
          -0.5114390014664738,
          0.515811900694426,
          -0.3617127909781959,
          0.8213800009504084,
          0.9263759553965216,
          0.8463773240249822,
          -1.550823625797956,
          -1.1196680523219449,
          -1.3720152085677328,
          0.993215756870461,
          -0.2947213227426147,
          0.3891428636616671,
          -0.6037512014034268,
          0.2963029032682522,
          1.2997150136493418,
          0.5457748329459221,
          -1.1120549861777493,
          -1.3901568455907765,
          0.5378903545113346,
          -0.021807045234015447,
          1.523230437046832,
          -0.38997725066553474,
          0.2543225692799485,
          0.2795531219081177,
          -1.8873761705874288,
          -0.5358770884120846,
          -0.13041613392353707,
          -0.4846026362616904,
          0.1968461287525519,
          -0.9359976466832249,
          1.15241006171264,
          -0.28811501136423917,
          0.22158451906649376,
          -1.792787390527634,
          -1.1151847185475674,
          0.2999968484132656,
          -0.8410432469367217,
          0.9870416043456087,
          -0.5881425626152607,
          -0.5703765600397165,
          -0.6803726993143193,
          0.3216170210237273,
          0.7556227727364897,
          0.5360754027842475,
          0.613389511563585,
          0.22565749295090093,
          0.08365976731257571,
          0.1033919609885569,
          1.2438889145118528,
          0.8461128057749727,
          -0.23096828694979957,
          -0.12408711033791694,
          -1.1657940200430517,
          -0.2434783345014043,
          -1.199120831961396,
          1.4715404125351348,
          0.2803547207916868,
          -0.26987496653419035,
          -1.752600192059749,
          -0.11232400010667294,
          1.6307595591341888,
          0.7361119323933746,
          1.0046027671180844,
          -1.1061416883584818,
          0.5486042763497647,
          1.0300528549918395,
          -1.1009445751792122,
          1.0237198785638675,
          2.3349677555956436,
          0.7779690393786323,
          -1.123924959679506,
          0.17460525043824449,
          0.22201343894598982,
          -0.2906223833332785,
          0.5558148800636564,
          -0.4697349000963517,
          0.7246304134527143,
          -0.04523217356888744,
          -0.38848741703370726,
          0.5468817495156351,
          -0.9168752710950892,
          0.7994257334532495,
          0.9192035844449936,
          -0.002662870365699749,
          1.3981786261876747,
          -1.510668319049373,
          0.40377071643147383,
          0.1537412737152171,
          0.32491684836283985,
          -2.027833581141001,
          0.5312754157391999,
          -1.5124626744579268,
          0.12768299722942447,
          -1.9988651993974935,
          0.3620998287019383,
          0.6454370926585403,
          1.5131459553856328
         ],
         "xaxis": "x",
         "yaxis": "y"
        },
        {
         "line": {
          "color": "rgba(128, 128, 128, 1.0)",
          "dash": "solid",
          "shape": "linear",
          "width": 1.3
         },
         "marker": {
          "size": 2,
          "symbol": "circle"
         },
         "mode": "markers",
         "name": "A",
         "text": "",
         "type": "scatter",
         "x": [
          0.5665382229248324,
          -0.5565063078433714,
          -0.8718681029275993,
          -1.398907936994333,
          1.4219495489932097,
          1.9610132506325109,
          0.2518202894903014,
          -0.13417845181620516,
          -0.7622085723930692,
          0.3919451171772081,
          0.26630550068055336,
          0.5892959076385756,
          -0.793505369555898,
          -0.11360818904203256,
          0.04704884319419822,
          0.711350622598875,
          -0.5045014847624979,
          0.39897063453354453,
          0.8350726088246634,
          -0.6067348615268908,
          0.6018843560171192,
          -0.9750318086357168,
          -0.8111768417278923,
          0.5865123052820451,
          -1.2682046206237232,
          0.30538546233597064,
          0.044060763848661415,
          0.30091219086281756,
          0.6356706795934935,
          -0.9290464938329864,
          0.26665716907365966,
          0.31376967389358773,
          0.5230410509719929,
          -0.47564221228880077,
          -2.3544581053872924,
          1.1631809227657774,
          1.2446836192270323,
          2.453657648153855,
          2.0705079079433575,
          1.1823046883956898,
          0.1982523746639038,
          0.022184968541608917,
          0.5792157662111811,
          1.6925589437987265,
          1.6735491639361957,
          -0.6081796816698564,
          -0.654197528371815,
          1.9948097814472088,
          0.6452083653550553,
          -0.990864295108887,
          -1.3545582273408059,
          0.5282668446491409,
          0.740967616780742,
          -1.418069374141105,
          -0.5966689133434379,
          0.23363166132097435,
          0.8921390421200076,
          -0.7742498466221465,
          -0.31783128917578973,
          -0.04688838580674549,
          0.26217113832692995,
          0.1967788636582987,
          0.08143712402768997,
          -0.8658789516841908,
          -0.08489955130735412,
          1.6181102272592358,
          1.2890470324485164,
          0.7229560931164392,
          0.46226052689936553,
          -0.8542194243135494,
          0.5094739172634204,
          -0.5463175094424851,
          -1.0427681033876963,
          -1.5960614897359906,
          1.2396016427276908,
          2.3843745292528733,
          -0.6218403799730308,
          -1.7536232569773271,
          1.4982683951615485,
          1.541779113521374,
          -0.6370060447827084,
          -0.24446085397023756,
          -1.25169978102884,
          -1.601817214912354,
          -0.1842659662140935,
          -0.6653636755456144,
          1.7050858145432017,
          -0.21035741890677045,
          -0.9178286109980154,
          -1.5767350284883654,
          0.6049863670999431,
          0.5707203254294333,
          -1.0937692620437585,
          1.713111116881167,
          -0.5873802980984976,
          0.44428845973412634,
          -0.05549793997215865,
          1.5926275223590245,
          0.8538677661840695,
          0.21054373693698292
         ],
         "xaxis": "x2",
         "y": [
          1.9758519900934104,
          -0.5143221233456489,
          -0.1582030966787379,
          -0.5114390014664738,
          0.515811900694426,
          -0.3617127909781959,
          0.8213800009504084,
          0.9263759553965216,
          0.8463773240249822,
          -1.550823625797956,
          -1.1196680523219449,
          -1.3720152085677328,
          0.993215756870461,
          -0.2947213227426147,
          0.3891428636616671,
          -0.6037512014034268,
          0.2963029032682522,
          1.2997150136493418,
          0.5457748329459221,
          -1.1120549861777493,
          -1.3901568455907765,
          0.5378903545113346,
          -0.021807045234015447,
          1.523230437046832,
          -0.38997725066553474,
          0.2543225692799485,
          0.2795531219081177,
          -1.8873761705874288,
          -0.5358770884120846,
          -0.13041613392353707,
          -0.4846026362616904,
          0.1968461287525519,
          -0.9359976466832249,
          1.15241006171264,
          -0.28811501136423917,
          0.22158451906649376,
          -1.792787390527634,
          -1.1151847185475674,
          0.2999968484132656,
          -0.8410432469367217,
          0.9870416043456087,
          -0.5881425626152607,
          -0.5703765600397165,
          -0.6803726993143193,
          0.3216170210237273,
          0.7556227727364897,
          0.5360754027842475,
          0.613389511563585,
          0.22565749295090093,
          0.08365976731257571,
          0.1033919609885569,
          1.2438889145118528,
          0.8461128057749727,
          -0.23096828694979957,
          -0.12408711033791694,
          -1.1657940200430517,
          -0.2434783345014043,
          -1.199120831961396,
          1.4715404125351348,
          0.2803547207916868,
          -0.26987496653419035,
          -1.752600192059749,
          -0.11232400010667294,
          1.6307595591341888,
          0.7361119323933746,
          1.0046027671180844,
          -1.1061416883584818,
          0.5486042763497647,
          1.0300528549918395,
          -1.1009445751792122,
          1.0237198785638675,
          2.3349677555956436,
          0.7779690393786323,
          -1.123924959679506,
          0.17460525043824449,
          0.22201343894598982,
          -0.2906223833332785,
          0.5558148800636564,
          -0.4697349000963517,
          0.7246304134527143,
          -0.04523217356888744,
          -0.38848741703370726,
          0.5468817495156351,
          -0.9168752710950892,
          0.7994257334532495,
          0.9192035844449936,
          -0.002662870365699749,
          1.3981786261876747,
          -1.510668319049373,
          0.40377071643147383,
          0.1537412737152171,
          0.32491684836283985,
          -2.027833581141001,
          0.5312754157391999,
          -1.5124626744579268,
          0.12768299722942447,
          -1.9988651993974935,
          0.3620998287019383,
          0.6454370926585403,
          1.5131459553856328
         ],
         "yaxis": "y2"
        },
        {
         "line": {
          "color": "rgba(128, 128, 128, 1.0)",
          "dash": "solid",
          "shape": "linear",
          "width": 1.3
         },
         "marker": {
          "size": 2,
          "symbol": "circle"
         },
         "mode": "markers",
         "name": "A",
         "text": "",
         "type": "scatter",
         "x": [
          0.9239475002560446,
          0.3751137231718408,
          0.3213921789877636,
          -0.2002731294404255,
          -0.9379523078809692,
          -2.1522008734306044,
          -1.7310940948390918,
          -0.7690761647133307,
          0.004234155681897507,
          -0.11260128869010097,
          1.9181462902658097,
          -0.9401663428780545,
          -1.3363608215513756,
          -0.22639256087185294,
          0.7155052908004416,
          -1.1338296413529032,
          -0.20841361761860744,
          -0.07286227172045914,
          -2.176211386756295,
          -0.1331872306911424,
          -0.9621866079529249,
          -0.7728293504234989,
          1.1385009996291466,
          0.2303239773391668,
          0.6862223372577602,
          1.2344283937191503,
          0.1827535990904871,
          0.7466936520861805,
          -1.0113861106730668,
          0.32537269389538903,
          -0.28578783920125933,
          -0.2771908139363303,
          -0.8426007184312503,
          -1.0136604444862443,
          -1.0926502428164986,
          -1.394012537051209,
          0.9562305045130977,
          1.6498602888552416,
          -0.19818376543622393,
          -0.773295121549228,
          -0.6767509387608813,
          0.8707980460326364,
          1.1639042320491528,
          2.0957413891452807,
          0.9916228249165744,
          2.400768134822709,
          -2.276667491178643,
          -1.362397745087905,
          -0.7391063426887257,
          -0.9492832291230988,
          0.019286027803951923,
          -0.28058552398171427,
          -0.7973643592189733,
          1.4716940291363256,
          0.4726451283358121,
          -0.7051955600320536,
          -0.9440260816754585,
          -0.10268855991288471,
          0.36328307262861687,
          -0.24816233188176445,
          -0.3914077639390221,
          -0.48032188714765445,
          0.34907300266111085,
          -0.5263309922419579,
          0.3451183917992562,
          1.0013016690120522,
          0.08437513595097418,
          -0.08473777899015635,
          -0.9323953122796237,
          0.8202701216036823,
          -0.4578073639707513,
          -0.6382506735827904,
          1.6413403887559652,
          1.1406964008874994,
          0.8281331373368289,
          -0.9501903284973356,
          -0.9043844858355756,
          1.6905305998964446,
          0.39251270554655227,
          -0.45842216078687764,
          -0.5287645291442242,
          0.16658554453340715,
          0.33028663295232485,
          0.0806777046955102,
          -1.8144761645876817,
          0.569150440390842,
          -0.25901109428391583,
          -1.7715535579309254,
          1.093822426256376,
          0.5404693935559389,
          -0.16210350511084323,
          0.01952070876786433,
          -1.9389851864227314,
          0.16068054996825953,
          -0.6290895779679284,
          1.049212658753759,
          0.18240196622299806,
          -0.38049619934715684,
          -0.24130247827164875,
          -0.5949027629607959
         ],
         "xaxis": "x3",
         "y": [
          1.9758519900934104,
          -0.5143221233456489,
          -0.1582030966787379,
          -0.5114390014664738,
          0.515811900694426,
          -0.3617127909781959,
          0.8213800009504084,
          0.9263759553965216,
          0.8463773240249822,
          -1.550823625797956,
          -1.1196680523219449,
          -1.3720152085677328,
          0.993215756870461,
          -0.2947213227426147,
          0.3891428636616671,
          -0.6037512014034268,
          0.2963029032682522,
          1.2997150136493418,
          0.5457748329459221,
          -1.1120549861777493,
          -1.3901568455907765,
          0.5378903545113346,
          -0.021807045234015447,
          1.523230437046832,
          -0.38997725066553474,
          0.2543225692799485,
          0.2795531219081177,
          -1.8873761705874288,
          -0.5358770884120846,
          -0.13041613392353707,
          -0.4846026362616904,
          0.1968461287525519,
          -0.9359976466832249,
          1.15241006171264,
          -0.28811501136423917,
          0.22158451906649376,
          -1.792787390527634,
          -1.1151847185475674,
          0.2999968484132656,
          -0.8410432469367217,
          0.9870416043456087,
          -0.5881425626152607,
          -0.5703765600397165,
          -0.6803726993143193,
          0.3216170210237273,
          0.7556227727364897,
          0.5360754027842475,
          0.613389511563585,
          0.22565749295090093,
          0.08365976731257571,
          0.1033919609885569,
          1.2438889145118528,
          0.8461128057749727,
          -0.23096828694979957,
          -0.12408711033791694,
          -1.1657940200430517,
          -0.2434783345014043,
          -1.199120831961396,
          1.4715404125351348,
          0.2803547207916868,
          -0.26987496653419035,
          -1.752600192059749,
          -0.11232400010667294,
          1.6307595591341888,
          0.7361119323933746,
          1.0046027671180844,
          -1.1061416883584818,
          0.5486042763497647,
          1.0300528549918395,
          -1.1009445751792122,
          1.0237198785638675,
          2.3349677555956436,
          0.7779690393786323,
          -1.123924959679506,
          0.17460525043824449,
          0.22201343894598982,
          -0.2906223833332785,
          0.5558148800636564,
          -0.4697349000963517,
          0.7246304134527143,
          -0.04523217356888744,
          -0.38848741703370726,
          0.5468817495156351,
          -0.9168752710950892,
          0.7994257334532495,
          0.9192035844449936,
          -0.002662870365699749,
          1.3981786261876747,
          -1.510668319049373,
          0.40377071643147383,
          0.1537412737152171,
          0.32491684836283985,
          -2.027833581141001,
          0.5312754157391999,
          -1.5124626744579268,
          0.12768299722942447,
          -1.9988651993974935,
          0.3620998287019383,
          0.6454370926585403,
          1.5131459553856328
         ],
         "yaxis": "y3"
        },
        {
         "line": {
          "color": "rgba(128, 128, 128, 1.0)",
          "dash": "solid",
          "shape": "linear",
          "width": 1.3
         },
         "marker": {
          "size": 2,
          "symbol": "circle"
         },
         "mode": "markers",
         "name": "A",
         "text": "",
         "type": "scatter",
         "x": [
          0.13983859548612287,
          0.468221344934841,
          -0.3655912385179084,
          0.0028426141639563965,
          -1.2866675810136463,
          1.8251802474502172,
          1.3537927735151978,
          0.030589539867225405,
          -0.41232369430866234,
          0.1970748195818725,
          0.25626148422482997,
          1.6549151625359948,
          -1.4690654383966493,
          1.0998415279033387,
          1.4356475730359877,
          2.089679085361465,
          1.6311950137708888,
          0.4907685997784432,
          1.4070566610133248,
          -2.182971526682894,
          -0.33824460128366046,
          0.6580983026884394,
          1.690988198782726,
          0.6804878081457141,
          1.2838188100511365,
          -0.13754087996797532,
          0.9029559561300816,
          -0.4314996403974591,
          -0.3684568099711757,
          0.9126970404174501,
          -0.1921020240627544,
          -0.9366340343699328,
          0.5430735446145215,
          -0.323485474841826,
          -0.45142608544148116,
          1.2924944145509039,
          1.154452495993761,
          -0.9932101913276365,
          -0.77926610057691,
          -0.2569662294035719,
          0.9846860672528351,
          -0.6485632595117224,
          1.7503239067403413,
          -0.45804018258783064,
          -0.3874030044656593,
          1.2284148597403435,
          -1.5366620373899695,
          0.07841497834603257,
          -1.1593881898153189,
          -0.609599549370757,
          0.36140948822313346,
          -0.20106341353153323,
          -0.34464711667442166,
          1.2041708208317796,
          0.6326372279158136,
          0.27129981128139,
          0.630360944198581,
          0.9110921582927479,
          -0.8250161327320401,
          1.252233116341933,
          0.47992952396365607,
          0.30779893856006946,
          -0.17493309848738572,
          2.2888471477419796,
          -2.3098292148873942,
          1.68115786182939,
          0.058481044581439906,
          -0.9000914909083304,
          -0.0917083416397356,
          1.695902946001967,
          0.4719227463212935,
          -2.1662694755736642,
          0.07719035068792048,
          -0.27267314815742016,
          -0.06497460244050092,
          -0.09462209022908295,
          0.9533127233372166,
          -1.077927505417031,
          -1.0273136240140048,
          -0.06497531551055151,
          -0.3652627094287969,
          -1.5025390382781547,
          -0.6511798689315315,
          -3.3300811422783063,
          -2.8148414055104287,
          0.44538472127828194,
          0.899733094460187,
          1.5990229930275224,
          -0.2755633420552873,
          0.4275679587812028,
          -1.8318752439950237,
          -0.27187603561335877,
          0.4892489515431244,
          1.4102618528205655,
          -1.0952051796329465,
          0.6730615943406543,
          0.2808828278013457,
          0.12804230788245968,
          1.0103653903498466,
          0.48592236490986457
         ],
         "xaxis": "x4",
         "y": [
          1.9758519900934104,
          -0.5143221233456489,
          -0.1582030966787379,
          -0.5114390014664738,
          0.515811900694426,
          -0.3617127909781959,
          0.8213800009504084,
          0.9263759553965216,
          0.8463773240249822,
          -1.550823625797956,
          -1.1196680523219449,
          -1.3720152085677328,
          0.993215756870461,
          -0.2947213227426147,
          0.3891428636616671,
          -0.6037512014034268,
          0.2963029032682522,
          1.2997150136493418,
          0.5457748329459221,
          -1.1120549861777493,
          -1.3901568455907765,
          0.5378903545113346,
          -0.021807045234015447,
          1.523230437046832,
          -0.38997725066553474,
          0.2543225692799485,
          0.2795531219081177,
          -1.8873761705874288,
          -0.5358770884120846,
          -0.13041613392353707,
          -0.4846026362616904,
          0.1968461287525519,
          -0.9359976466832249,
          1.15241006171264,
          -0.28811501136423917,
          0.22158451906649376,
          -1.792787390527634,
          -1.1151847185475674,
          0.2999968484132656,
          -0.8410432469367217,
          0.9870416043456087,
          -0.5881425626152607,
          -0.5703765600397165,
          -0.6803726993143193,
          0.3216170210237273,
          0.7556227727364897,
          0.5360754027842475,
          0.613389511563585,
          0.22565749295090093,
          0.08365976731257571,
          0.1033919609885569,
          1.2438889145118528,
          0.8461128057749727,
          -0.23096828694979957,
          -0.12408711033791694,
          -1.1657940200430517,
          -0.2434783345014043,
          -1.199120831961396,
          1.4715404125351348,
          0.2803547207916868,
          -0.26987496653419035,
          -1.752600192059749,
          -0.11232400010667294,
          1.6307595591341888,
          0.7361119323933746,
          1.0046027671180844,
          -1.1061416883584818,
          0.5486042763497647,
          1.0300528549918395,
          -1.1009445751792122,
          1.0237198785638675,
          2.3349677555956436,
          0.7779690393786323,
          -1.123924959679506,
          0.17460525043824449,
          0.22201343894598982,
          -0.2906223833332785,
          0.5558148800636564,
          -0.4697349000963517,
          0.7246304134527143,
          -0.04523217356888744,
          -0.38848741703370726,
          0.5468817495156351,
          -0.9168752710950892,
          0.7994257334532495,
          0.9192035844449936,
          -0.002662870365699749,
          1.3981786261876747,
          -1.510668319049373,
          0.40377071643147383,
          0.1537412737152171,
          0.32491684836283985,
          -2.027833581141001,
          0.5312754157391999,
          -1.5124626744579268,
          0.12768299722942447,
          -1.9988651993974935,
          0.3620998287019383,
          0.6454370926585403,
          1.5131459553856328
         ],
         "yaxis": "y4"
        },
        {
         "line": {
          "color": "rgba(128, 128, 128, 1.0)",
          "dash": "solid",
          "shape": "linear",
          "width": 1.3
         },
         "marker": {
          "size": 2,
          "symbol": "circle"
         },
         "mode": "markers",
         "name": "B",
         "text": "",
         "type": "scatter",
         "x": [
          1.9758519900934104,
          -0.5143221233456489,
          -0.1582030966787379,
          -0.5114390014664738,
          0.515811900694426,
          -0.3617127909781959,
          0.8213800009504084,
          0.9263759553965216,
          0.8463773240249822,
          -1.550823625797956,
          -1.1196680523219449,
          -1.3720152085677328,
          0.993215756870461,
          -0.2947213227426147,
          0.3891428636616671,
          -0.6037512014034268,
          0.2963029032682522,
          1.2997150136493418,
          0.5457748329459221,
          -1.1120549861777493,
          -1.3901568455907765,
          0.5378903545113346,
          -0.021807045234015447,
          1.523230437046832,
          -0.38997725066553474,
          0.2543225692799485,
          0.2795531219081177,
          -1.8873761705874288,
          -0.5358770884120846,
          -0.13041613392353707,
          -0.4846026362616904,
          0.1968461287525519,
          -0.9359976466832249,
          1.15241006171264,
          -0.28811501136423917,
          0.22158451906649376,
          -1.792787390527634,
          -1.1151847185475674,
          0.2999968484132656,
          -0.8410432469367217,
          0.9870416043456087,
          -0.5881425626152607,
          -0.5703765600397165,
          -0.6803726993143193,
          0.3216170210237273,
          0.7556227727364897,
          0.5360754027842475,
          0.613389511563585,
          0.22565749295090093,
          0.08365976731257571,
          0.1033919609885569,
          1.2438889145118528,
          0.8461128057749727,
          -0.23096828694979957,
          -0.12408711033791694,
          -1.1657940200430517,
          -0.2434783345014043,
          -1.199120831961396,
          1.4715404125351348,
          0.2803547207916868,
          -0.26987496653419035,
          -1.752600192059749,
          -0.11232400010667294,
          1.6307595591341888,
          0.7361119323933746,
          1.0046027671180844,
          -1.1061416883584818,
          0.5486042763497647,
          1.0300528549918395,
          -1.1009445751792122,
          1.0237198785638675,
          2.3349677555956436,
          0.7779690393786323,
          -1.123924959679506,
          0.17460525043824449,
          0.22201343894598982,
          -0.2906223833332785,
          0.5558148800636564,
          -0.4697349000963517,
          0.7246304134527143,
          -0.04523217356888744,
          -0.38848741703370726,
          0.5468817495156351,
          -0.9168752710950892,
          0.7994257334532495,
          0.9192035844449936,
          -0.002662870365699749,
          1.3981786261876747,
          -1.510668319049373,
          0.40377071643147383,
          0.1537412737152171,
          0.32491684836283985,
          -2.027833581141001,
          0.5312754157391999,
          -1.5124626744579268,
          0.12768299722942447,
          -1.9988651993974935,
          0.3620998287019383,
          0.6454370926585403,
          1.5131459553856328
         ],
         "xaxis": "x5",
         "y": [
          0.5665382229248324,
          -0.5565063078433714,
          -0.8718681029275993,
          -1.398907936994333,
          1.4219495489932097,
          1.9610132506325109,
          0.2518202894903014,
          -0.13417845181620516,
          -0.7622085723930692,
          0.3919451171772081,
          0.26630550068055336,
          0.5892959076385756,
          -0.793505369555898,
          -0.11360818904203256,
          0.04704884319419822,
          0.711350622598875,
          -0.5045014847624979,
          0.39897063453354453,
          0.8350726088246634,
          -0.6067348615268908,
          0.6018843560171192,
          -0.9750318086357168,
          -0.8111768417278923,
          0.5865123052820451,
          -1.2682046206237232,
          0.30538546233597064,
          0.044060763848661415,
          0.30091219086281756,
          0.6356706795934935,
          -0.9290464938329864,
          0.26665716907365966,
          0.31376967389358773,
          0.5230410509719929,
          -0.47564221228880077,
          -2.3544581053872924,
          1.1631809227657774,
          1.2446836192270323,
          2.453657648153855,
          2.0705079079433575,
          1.1823046883956898,
          0.1982523746639038,
          0.022184968541608917,
          0.5792157662111811,
          1.6925589437987265,
          1.6735491639361957,
          -0.6081796816698564,
          -0.654197528371815,
          1.9948097814472088,
          0.6452083653550553,
          -0.990864295108887,
          -1.3545582273408059,
          0.5282668446491409,
          0.740967616780742,
          -1.418069374141105,
          -0.5966689133434379,
          0.23363166132097435,
          0.8921390421200076,
          -0.7742498466221465,
          -0.31783128917578973,
          -0.04688838580674549,
          0.26217113832692995,
          0.1967788636582987,
          0.08143712402768997,
          -0.8658789516841908,
          -0.08489955130735412,
          1.6181102272592358,
          1.2890470324485164,
          0.7229560931164392,
          0.46226052689936553,
          -0.8542194243135494,
          0.5094739172634204,
          -0.5463175094424851,
          -1.0427681033876963,
          -1.5960614897359906,
          1.2396016427276908,
          2.3843745292528733,
          -0.6218403799730308,
          -1.7536232569773271,
          1.4982683951615485,
          1.541779113521374,
          -0.6370060447827084,
          -0.24446085397023756,
          -1.25169978102884,
          -1.601817214912354,
          -0.1842659662140935,
          -0.6653636755456144,
          1.7050858145432017,
          -0.21035741890677045,
          -0.9178286109980154,
          -1.5767350284883654,
          0.6049863670999431,
          0.5707203254294333,
          -1.0937692620437585,
          1.713111116881167,
          -0.5873802980984976,
          0.44428845973412634,
          -0.05549793997215865,
          1.5926275223590245,
          0.8538677661840695,
          0.21054373693698292
         ],
         "yaxis": "y5"
        },
        {
         "histfunc": "count",
         "histnorm": "",
         "marker": {
          "color": "rgba(55, 128, 191, 1.0)",
          "line": {
           "color": "#4D5663",
           "width": 1.3
          }
         },
         "name": "B",
         "nbinsx": 10,
         "opacity": 0.8,
         "orientation": "v",
         "type": "histogram",
         "x": [
          0.5665382229248324,
          -0.5565063078433714,
          -0.8718681029275993,
          -1.398907936994333,
          1.4219495489932097,
          1.9610132506325109,
          0.2518202894903014,
          -0.13417845181620516,
          -0.7622085723930692,
          0.3919451171772081,
          0.26630550068055336,
          0.5892959076385756,
          -0.793505369555898,
          -0.11360818904203256,
          0.04704884319419822,
          0.711350622598875,
          -0.5045014847624979,
          0.39897063453354453,
          0.8350726088246634,
          -0.6067348615268908,
          0.6018843560171192,
          -0.9750318086357168,
          -0.8111768417278923,
          0.5865123052820451,
          -1.2682046206237232,
          0.30538546233597064,
          0.044060763848661415,
          0.30091219086281756,
          0.6356706795934935,
          -0.9290464938329864,
          0.26665716907365966,
          0.31376967389358773,
          0.5230410509719929,
          -0.47564221228880077,
          -2.3544581053872924,
          1.1631809227657774,
          1.2446836192270323,
          2.453657648153855,
          2.0705079079433575,
          1.1823046883956898,
          0.1982523746639038,
          0.022184968541608917,
          0.5792157662111811,
          1.6925589437987265,
          1.6735491639361957,
          -0.6081796816698564,
          -0.654197528371815,
          1.9948097814472088,
          0.6452083653550553,
          -0.990864295108887,
          -1.3545582273408059,
          0.5282668446491409,
          0.740967616780742,
          -1.418069374141105,
          -0.5966689133434379,
          0.23363166132097435,
          0.8921390421200076,
          -0.7742498466221465,
          -0.31783128917578973,
          -0.04688838580674549,
          0.26217113832692995,
          0.1967788636582987,
          0.08143712402768997,
          -0.8658789516841908,
          -0.08489955130735412,
          1.6181102272592358,
          1.2890470324485164,
          0.7229560931164392,
          0.46226052689936553,
          -0.8542194243135494,
          0.5094739172634204,
          -0.5463175094424851,
          -1.0427681033876963,
          -1.5960614897359906,
          1.2396016427276908,
          2.3843745292528733,
          -0.6218403799730308,
          -1.7536232569773271,
          1.4982683951615485,
          1.541779113521374,
          -0.6370060447827084,
          -0.24446085397023756,
          -1.25169978102884,
          -1.601817214912354,
          -0.1842659662140935,
          -0.6653636755456144,
          1.7050858145432017,
          -0.21035741890677045,
          -0.9178286109980154,
          -1.5767350284883654,
          0.6049863670999431,
          0.5707203254294333,
          -1.0937692620437585,
          1.713111116881167,
          -0.5873802980984976,
          0.44428845973412634,
          -0.05549793997215865,
          1.5926275223590245,
          0.8538677661840695,
          0.21054373693698292
         ],
         "xaxis": "x6",
         "yaxis": "y6"
        },
        {
         "line": {
          "color": "rgba(128, 128, 128, 1.0)",
          "dash": "solid",
          "shape": "linear",
          "width": 1.3
         },
         "marker": {
          "size": 2,
          "symbol": "circle"
         },
         "mode": "markers",
         "name": "B",
         "text": "",
         "type": "scatter",
         "x": [
          0.9239475002560446,
          0.3751137231718408,
          0.3213921789877636,
          -0.2002731294404255,
          -0.9379523078809692,
          -2.1522008734306044,
          -1.7310940948390918,
          -0.7690761647133307,
          0.004234155681897507,
          -0.11260128869010097,
          1.9181462902658097,
          -0.9401663428780545,
          -1.3363608215513756,
          -0.22639256087185294,
          0.7155052908004416,
          -1.1338296413529032,
          -0.20841361761860744,
          -0.07286227172045914,
          -2.176211386756295,
          -0.1331872306911424,
          -0.9621866079529249,
          -0.7728293504234989,
          1.1385009996291466,
          0.2303239773391668,
          0.6862223372577602,
          1.2344283937191503,
          0.1827535990904871,
          0.7466936520861805,
          -1.0113861106730668,
          0.32537269389538903,
          -0.28578783920125933,
          -0.2771908139363303,
          -0.8426007184312503,
          -1.0136604444862443,
          -1.0926502428164986,
          -1.394012537051209,
          0.9562305045130977,
          1.6498602888552416,
          -0.19818376543622393,
          -0.773295121549228,
          -0.6767509387608813,
          0.8707980460326364,
          1.1639042320491528,
          2.0957413891452807,
          0.9916228249165744,
          2.400768134822709,
          -2.276667491178643,
          -1.362397745087905,
          -0.7391063426887257,
          -0.9492832291230988,
          0.019286027803951923,
          -0.28058552398171427,
          -0.7973643592189733,
          1.4716940291363256,
          0.4726451283358121,
          -0.7051955600320536,
          -0.9440260816754585,
          -0.10268855991288471,
          0.36328307262861687,
          -0.24816233188176445,
          -0.3914077639390221,
          -0.48032188714765445,
          0.34907300266111085,
          -0.5263309922419579,
          0.3451183917992562,
          1.0013016690120522,
          0.08437513595097418,
          -0.08473777899015635,
          -0.9323953122796237,
          0.8202701216036823,
          -0.4578073639707513,
          -0.6382506735827904,
          1.6413403887559652,
          1.1406964008874994,
          0.8281331373368289,
          -0.9501903284973356,
          -0.9043844858355756,
          1.6905305998964446,
          0.39251270554655227,
          -0.45842216078687764,
          -0.5287645291442242,
          0.16658554453340715,
          0.33028663295232485,
          0.0806777046955102,
          -1.8144761645876817,
          0.569150440390842,
          -0.25901109428391583,
          -1.7715535579309254,
          1.093822426256376,
          0.5404693935559389,
          -0.16210350511084323,
          0.01952070876786433,
          -1.9389851864227314,
          0.16068054996825953,
          -0.6290895779679284,
          1.049212658753759,
          0.18240196622299806,
          -0.38049619934715684,
          -0.24130247827164875,
          -0.5949027629607959
         ],
         "xaxis": "x7",
         "y": [
          0.5665382229248324,
          -0.5565063078433714,
          -0.8718681029275993,
          -1.398907936994333,
          1.4219495489932097,
          1.9610132506325109,
          0.2518202894903014,
          -0.13417845181620516,
          -0.7622085723930692,
          0.3919451171772081,
          0.26630550068055336,
          0.5892959076385756,
          -0.793505369555898,
          -0.11360818904203256,
          0.04704884319419822,
          0.711350622598875,
          -0.5045014847624979,
          0.39897063453354453,
          0.8350726088246634,
          -0.6067348615268908,
          0.6018843560171192,
          -0.9750318086357168,
          -0.8111768417278923,
          0.5865123052820451,
          -1.2682046206237232,
          0.30538546233597064,
          0.044060763848661415,
          0.30091219086281756,
          0.6356706795934935,
          -0.9290464938329864,
          0.26665716907365966,
          0.31376967389358773,
          0.5230410509719929,
          -0.47564221228880077,
          -2.3544581053872924,
          1.1631809227657774,
          1.2446836192270323,
          2.453657648153855,
          2.0705079079433575,
          1.1823046883956898,
          0.1982523746639038,
          0.022184968541608917,
          0.5792157662111811,
          1.6925589437987265,
          1.6735491639361957,
          -0.6081796816698564,
          -0.654197528371815,
          1.9948097814472088,
          0.6452083653550553,
          -0.990864295108887,
          -1.3545582273408059,
          0.5282668446491409,
          0.740967616780742,
          -1.418069374141105,
          -0.5966689133434379,
          0.23363166132097435,
          0.8921390421200076,
          -0.7742498466221465,
          -0.31783128917578973,
          -0.04688838580674549,
          0.26217113832692995,
          0.1967788636582987,
          0.08143712402768997,
          -0.8658789516841908,
          -0.08489955130735412,
          1.6181102272592358,
          1.2890470324485164,
          0.7229560931164392,
          0.46226052689936553,
          -0.8542194243135494,
          0.5094739172634204,
          -0.5463175094424851,
          -1.0427681033876963,
          -1.5960614897359906,
          1.2396016427276908,
          2.3843745292528733,
          -0.6218403799730308,
          -1.7536232569773271,
          1.4982683951615485,
          1.541779113521374,
          -0.6370060447827084,
          -0.24446085397023756,
          -1.25169978102884,
          -1.601817214912354,
          -0.1842659662140935,
          -0.6653636755456144,
          1.7050858145432017,
          -0.21035741890677045,
          -0.9178286109980154,
          -1.5767350284883654,
          0.6049863670999431,
          0.5707203254294333,
          -1.0937692620437585,
          1.713111116881167,
          -0.5873802980984976,
          0.44428845973412634,
          -0.05549793997215865,
          1.5926275223590245,
          0.8538677661840695,
          0.21054373693698292
         ],
         "yaxis": "y7"
        },
        {
         "line": {
          "color": "rgba(128, 128, 128, 1.0)",
          "dash": "solid",
          "shape": "linear",
          "width": 1.3
         },
         "marker": {
          "size": 2,
          "symbol": "circle"
         },
         "mode": "markers",
         "name": "B",
         "text": "",
         "type": "scatter",
         "x": [
          0.13983859548612287,
          0.468221344934841,
          -0.3655912385179084,
          0.0028426141639563965,
          -1.2866675810136463,
          1.8251802474502172,
          1.3537927735151978,
          0.030589539867225405,
          -0.41232369430866234,
          0.1970748195818725,
          0.25626148422482997,
          1.6549151625359948,
          -1.4690654383966493,
          1.0998415279033387,
          1.4356475730359877,
          2.089679085361465,
          1.6311950137708888,
          0.4907685997784432,
          1.4070566610133248,
          -2.182971526682894,
          -0.33824460128366046,
          0.6580983026884394,
          1.690988198782726,
          0.6804878081457141,
          1.2838188100511365,
          -0.13754087996797532,
          0.9029559561300816,
          -0.4314996403974591,
          -0.3684568099711757,
          0.9126970404174501,
          -0.1921020240627544,
          -0.9366340343699328,
          0.5430735446145215,
          -0.323485474841826,
          -0.45142608544148116,
          1.2924944145509039,
          1.154452495993761,
          -0.9932101913276365,
          -0.77926610057691,
          -0.2569662294035719,
          0.9846860672528351,
          -0.6485632595117224,
          1.7503239067403413,
          -0.45804018258783064,
          -0.3874030044656593,
          1.2284148597403435,
          -1.5366620373899695,
          0.07841497834603257,
          -1.1593881898153189,
          -0.609599549370757,
          0.36140948822313346,
          -0.20106341353153323,
          -0.34464711667442166,
          1.2041708208317796,
          0.6326372279158136,
          0.27129981128139,
          0.630360944198581,
          0.9110921582927479,
          -0.8250161327320401,
          1.252233116341933,
          0.47992952396365607,
          0.30779893856006946,
          -0.17493309848738572,
          2.2888471477419796,
          -2.3098292148873942,
          1.68115786182939,
          0.058481044581439906,
          -0.9000914909083304,
          -0.0917083416397356,
          1.695902946001967,
          0.4719227463212935,
          -2.1662694755736642,
          0.07719035068792048,
          -0.27267314815742016,
          -0.06497460244050092,
          -0.09462209022908295,
          0.9533127233372166,
          -1.077927505417031,
          -1.0273136240140048,
          -0.06497531551055151,
          -0.3652627094287969,
          -1.5025390382781547,
          -0.6511798689315315,
          -3.3300811422783063,
          -2.8148414055104287,
          0.44538472127828194,
          0.899733094460187,
          1.5990229930275224,
          -0.2755633420552873,
          0.4275679587812028,
          -1.8318752439950237,
          -0.27187603561335877,
          0.4892489515431244,
          1.4102618528205655,
          -1.0952051796329465,
          0.6730615943406543,
          0.2808828278013457,
          0.12804230788245968,
          1.0103653903498466,
          0.48592236490986457
         ],
         "xaxis": "x8",
         "y": [
          0.5665382229248324,
          -0.5565063078433714,
          -0.8718681029275993,
          -1.398907936994333,
          1.4219495489932097,
          1.9610132506325109,
          0.2518202894903014,
          -0.13417845181620516,
          -0.7622085723930692,
          0.3919451171772081,
          0.26630550068055336,
          0.5892959076385756,
          -0.793505369555898,
          -0.11360818904203256,
          0.04704884319419822,
          0.711350622598875,
          -0.5045014847624979,
          0.39897063453354453,
          0.8350726088246634,
          -0.6067348615268908,
          0.6018843560171192,
          -0.9750318086357168,
          -0.8111768417278923,
          0.5865123052820451,
          -1.2682046206237232,
          0.30538546233597064,
          0.044060763848661415,
          0.30091219086281756,
          0.6356706795934935,
          -0.9290464938329864,
          0.26665716907365966,
          0.31376967389358773,
          0.5230410509719929,
          -0.47564221228880077,
          -2.3544581053872924,
          1.1631809227657774,
          1.2446836192270323,
          2.453657648153855,
          2.0705079079433575,
          1.1823046883956898,
          0.1982523746639038,
          0.022184968541608917,
          0.5792157662111811,
          1.6925589437987265,
          1.6735491639361957,
          -0.6081796816698564,
          -0.654197528371815,
          1.9948097814472088,
          0.6452083653550553,
          -0.990864295108887,
          -1.3545582273408059,
          0.5282668446491409,
          0.740967616780742,
          -1.418069374141105,
          -0.5966689133434379,
          0.23363166132097435,
          0.8921390421200076,
          -0.7742498466221465,
          -0.31783128917578973,
          -0.04688838580674549,
          0.26217113832692995,
          0.1967788636582987,
          0.08143712402768997,
          -0.8658789516841908,
          -0.08489955130735412,
          1.6181102272592358,
          1.2890470324485164,
          0.7229560931164392,
          0.46226052689936553,
          -0.8542194243135494,
          0.5094739172634204,
          -0.5463175094424851,
          -1.0427681033876963,
          -1.5960614897359906,
          1.2396016427276908,
          2.3843745292528733,
          -0.6218403799730308,
          -1.7536232569773271,
          1.4982683951615485,
          1.541779113521374,
          -0.6370060447827084,
          -0.24446085397023756,
          -1.25169978102884,
          -1.601817214912354,
          -0.1842659662140935,
          -0.6653636755456144,
          1.7050858145432017,
          -0.21035741890677045,
          -0.9178286109980154,
          -1.5767350284883654,
          0.6049863670999431,
          0.5707203254294333,
          -1.0937692620437585,
          1.713111116881167,
          -0.5873802980984976,
          0.44428845973412634,
          -0.05549793997215865,
          1.5926275223590245,
          0.8538677661840695,
          0.21054373693698292
         ],
         "yaxis": "y8"
        },
        {
         "line": {
          "color": "rgba(128, 128, 128, 1.0)",
          "dash": "solid",
          "shape": "linear",
          "width": 1.3
         },
         "marker": {
          "size": 2,
          "symbol": "circle"
         },
         "mode": "markers",
         "name": "C",
         "text": "",
         "type": "scatter",
         "x": [
          1.9758519900934104,
          -0.5143221233456489,
          -0.1582030966787379,
          -0.5114390014664738,
          0.515811900694426,
          -0.3617127909781959,
          0.8213800009504084,
          0.9263759553965216,
          0.8463773240249822,
          -1.550823625797956,
          -1.1196680523219449,
          -1.3720152085677328,
          0.993215756870461,
          -0.2947213227426147,
          0.3891428636616671,
          -0.6037512014034268,
          0.2963029032682522,
          1.2997150136493418,
          0.5457748329459221,
          -1.1120549861777493,
          -1.3901568455907765,
          0.5378903545113346,
          -0.021807045234015447,
          1.523230437046832,
          -0.38997725066553474,
          0.2543225692799485,
          0.2795531219081177,
          -1.8873761705874288,
          -0.5358770884120846,
          -0.13041613392353707,
          -0.4846026362616904,
          0.1968461287525519,
          -0.9359976466832249,
          1.15241006171264,
          -0.28811501136423917,
          0.22158451906649376,
          -1.792787390527634,
          -1.1151847185475674,
          0.2999968484132656,
          -0.8410432469367217,
          0.9870416043456087,
          -0.5881425626152607,
          -0.5703765600397165,
          -0.6803726993143193,
          0.3216170210237273,
          0.7556227727364897,
          0.5360754027842475,
          0.613389511563585,
          0.22565749295090093,
          0.08365976731257571,
          0.1033919609885569,
          1.2438889145118528,
          0.8461128057749727,
          -0.23096828694979957,
          -0.12408711033791694,
          -1.1657940200430517,
          -0.2434783345014043,
          -1.199120831961396,
          1.4715404125351348,
          0.2803547207916868,
          -0.26987496653419035,
          -1.752600192059749,
          -0.11232400010667294,
          1.6307595591341888,
          0.7361119323933746,
          1.0046027671180844,
          -1.1061416883584818,
          0.5486042763497647,
          1.0300528549918395,
          -1.1009445751792122,
          1.0237198785638675,
          2.3349677555956436,
          0.7779690393786323,
          -1.123924959679506,
          0.17460525043824449,
          0.22201343894598982,
          -0.2906223833332785,
          0.5558148800636564,
          -0.4697349000963517,
          0.7246304134527143,
          -0.04523217356888744,
          -0.38848741703370726,
          0.5468817495156351,
          -0.9168752710950892,
          0.7994257334532495,
          0.9192035844449936,
          -0.002662870365699749,
          1.3981786261876747,
          -1.510668319049373,
          0.40377071643147383,
          0.1537412737152171,
          0.32491684836283985,
          -2.027833581141001,
          0.5312754157391999,
          -1.5124626744579268,
          0.12768299722942447,
          -1.9988651993974935,
          0.3620998287019383,
          0.6454370926585403,
          1.5131459553856328
         ],
         "xaxis": "x9",
         "y": [
          0.9239475002560446,
          0.3751137231718408,
          0.3213921789877636,
          -0.2002731294404255,
          -0.9379523078809692,
          -2.1522008734306044,
          -1.7310940948390918,
          -0.7690761647133307,
          0.004234155681897507,
          -0.11260128869010097,
          1.9181462902658097,
          -0.9401663428780545,
          -1.3363608215513756,
          -0.22639256087185294,
          0.7155052908004416,
          -1.1338296413529032,
          -0.20841361761860744,
          -0.07286227172045914,
          -2.176211386756295,
          -0.1331872306911424,
          -0.9621866079529249,
          -0.7728293504234989,
          1.1385009996291466,
          0.2303239773391668,
          0.6862223372577602,
          1.2344283937191503,
          0.1827535990904871,
          0.7466936520861805,
          -1.0113861106730668,
          0.32537269389538903,
          -0.28578783920125933,
          -0.2771908139363303,
          -0.8426007184312503,
          -1.0136604444862443,
          -1.0926502428164986,
          -1.394012537051209,
          0.9562305045130977,
          1.6498602888552416,
          -0.19818376543622393,
          -0.773295121549228,
          -0.6767509387608813,
          0.8707980460326364,
          1.1639042320491528,
          2.0957413891452807,
          0.9916228249165744,
          2.400768134822709,
          -2.276667491178643,
          -1.362397745087905,
          -0.7391063426887257,
          -0.9492832291230988,
          0.019286027803951923,
          -0.28058552398171427,
          -0.7973643592189733,
          1.4716940291363256,
          0.4726451283358121,
          -0.7051955600320536,
          -0.9440260816754585,
          -0.10268855991288471,
          0.36328307262861687,
          -0.24816233188176445,
          -0.3914077639390221,
          -0.48032188714765445,
          0.34907300266111085,
          -0.5263309922419579,
          0.3451183917992562,
          1.0013016690120522,
          0.08437513595097418,
          -0.08473777899015635,
          -0.9323953122796237,
          0.8202701216036823,
          -0.4578073639707513,
          -0.6382506735827904,
          1.6413403887559652,
          1.1406964008874994,
          0.8281331373368289,
          -0.9501903284973356,
          -0.9043844858355756,
          1.6905305998964446,
          0.39251270554655227,
          -0.45842216078687764,
          -0.5287645291442242,
          0.16658554453340715,
          0.33028663295232485,
          0.0806777046955102,
          -1.8144761645876817,
          0.569150440390842,
          -0.25901109428391583,
          -1.7715535579309254,
          1.093822426256376,
          0.5404693935559389,
          -0.16210350511084323,
          0.01952070876786433,
          -1.9389851864227314,
          0.16068054996825953,
          -0.6290895779679284,
          1.049212658753759,
          0.18240196622299806,
          -0.38049619934715684,
          -0.24130247827164875,
          -0.5949027629607959
         ],
         "yaxis": "y9"
        },
        {
         "line": {
          "color": "rgba(128, 128, 128, 1.0)",
          "dash": "solid",
          "shape": "linear",
          "width": 1.3
         },
         "marker": {
          "size": 2,
          "symbol": "circle"
         },
         "mode": "markers",
         "name": "C",
         "text": "",
         "type": "scatter",
         "x": [
          0.5665382229248324,
          -0.5565063078433714,
          -0.8718681029275993,
          -1.398907936994333,
          1.4219495489932097,
          1.9610132506325109,
          0.2518202894903014,
          -0.13417845181620516,
          -0.7622085723930692,
          0.3919451171772081,
          0.26630550068055336,
          0.5892959076385756,
          -0.793505369555898,
          -0.11360818904203256,
          0.04704884319419822,
          0.711350622598875,
          -0.5045014847624979,
          0.39897063453354453,
          0.8350726088246634,
          -0.6067348615268908,
          0.6018843560171192,
          -0.9750318086357168,
          -0.8111768417278923,
          0.5865123052820451,
          -1.2682046206237232,
          0.30538546233597064,
          0.044060763848661415,
          0.30091219086281756,
          0.6356706795934935,
          -0.9290464938329864,
          0.26665716907365966,
          0.31376967389358773,
          0.5230410509719929,
          -0.47564221228880077,
          -2.3544581053872924,
          1.1631809227657774,
          1.2446836192270323,
          2.453657648153855,
          2.0705079079433575,
          1.1823046883956898,
          0.1982523746639038,
          0.022184968541608917,
          0.5792157662111811,
          1.6925589437987265,
          1.6735491639361957,
          -0.6081796816698564,
          -0.654197528371815,
          1.9948097814472088,
          0.6452083653550553,
          -0.990864295108887,
          -1.3545582273408059,
          0.5282668446491409,
          0.740967616780742,
          -1.418069374141105,
          -0.5966689133434379,
          0.23363166132097435,
          0.8921390421200076,
          -0.7742498466221465,
          -0.31783128917578973,
          -0.04688838580674549,
          0.26217113832692995,
          0.1967788636582987,
          0.08143712402768997,
          -0.8658789516841908,
          -0.08489955130735412,
          1.6181102272592358,
          1.2890470324485164,
          0.7229560931164392,
          0.46226052689936553,
          -0.8542194243135494,
          0.5094739172634204,
          -0.5463175094424851,
          -1.0427681033876963,
          -1.5960614897359906,
          1.2396016427276908,
          2.3843745292528733,
          -0.6218403799730308,
          -1.7536232569773271,
          1.4982683951615485,
          1.541779113521374,
          -0.6370060447827084,
          -0.24446085397023756,
          -1.25169978102884,
          -1.601817214912354,
          -0.1842659662140935,
          -0.6653636755456144,
          1.7050858145432017,
          -0.21035741890677045,
          -0.9178286109980154,
          -1.5767350284883654,
          0.6049863670999431,
          0.5707203254294333,
          -1.0937692620437585,
          1.713111116881167,
          -0.5873802980984976,
          0.44428845973412634,
          -0.05549793997215865,
          1.5926275223590245,
          0.8538677661840695,
          0.21054373693698292
         ],
         "xaxis": "x10",
         "y": [
          0.9239475002560446,
          0.3751137231718408,
          0.3213921789877636,
          -0.2002731294404255,
          -0.9379523078809692,
          -2.1522008734306044,
          -1.7310940948390918,
          -0.7690761647133307,
          0.004234155681897507,
          -0.11260128869010097,
          1.9181462902658097,
          -0.9401663428780545,
          -1.3363608215513756,
          -0.22639256087185294,
          0.7155052908004416,
          -1.1338296413529032,
          -0.20841361761860744,
          -0.07286227172045914,
          -2.176211386756295,
          -0.1331872306911424,
          -0.9621866079529249,
          -0.7728293504234989,
          1.1385009996291466,
          0.2303239773391668,
          0.6862223372577602,
          1.2344283937191503,
          0.1827535990904871,
          0.7466936520861805,
          -1.0113861106730668,
          0.32537269389538903,
          -0.28578783920125933,
          -0.2771908139363303,
          -0.8426007184312503,
          -1.0136604444862443,
          -1.0926502428164986,
          -1.394012537051209,
          0.9562305045130977,
          1.6498602888552416,
          -0.19818376543622393,
          -0.773295121549228,
          -0.6767509387608813,
          0.8707980460326364,
          1.1639042320491528,
          2.0957413891452807,
          0.9916228249165744,
          2.400768134822709,
          -2.276667491178643,
          -1.362397745087905,
          -0.7391063426887257,
          -0.9492832291230988,
          0.019286027803951923,
          -0.28058552398171427,
          -0.7973643592189733,
          1.4716940291363256,
          0.4726451283358121,
          -0.7051955600320536,
          -0.9440260816754585,
          -0.10268855991288471,
          0.36328307262861687,
          -0.24816233188176445,
          -0.3914077639390221,
          -0.48032188714765445,
          0.34907300266111085,
          -0.5263309922419579,
          0.3451183917992562,
          1.0013016690120522,
          0.08437513595097418,
          -0.08473777899015635,
          -0.9323953122796237,
          0.8202701216036823,
          -0.4578073639707513,
          -0.6382506735827904,
          1.6413403887559652,
          1.1406964008874994,
          0.8281331373368289,
          -0.9501903284973356,
          -0.9043844858355756,
          1.6905305998964446,
          0.39251270554655227,
          -0.45842216078687764,
          -0.5287645291442242,
          0.16658554453340715,
          0.33028663295232485,
          0.0806777046955102,
          -1.8144761645876817,
          0.569150440390842,
          -0.25901109428391583,
          -1.7715535579309254,
          1.093822426256376,
          0.5404693935559389,
          -0.16210350511084323,
          0.01952070876786433,
          -1.9389851864227314,
          0.16068054996825953,
          -0.6290895779679284,
          1.049212658753759,
          0.18240196622299806,
          -0.38049619934715684,
          -0.24130247827164875,
          -0.5949027629607959
         ],
         "yaxis": "y10"
        },
        {
         "histfunc": "count",
         "histnorm": "",
         "marker": {
          "color": "rgba(50, 171, 96, 1.0)",
          "line": {
           "color": "#4D5663",
           "width": 1.3
          }
         },
         "name": "C",
         "nbinsx": 10,
         "opacity": 0.8,
         "orientation": "v",
         "type": "histogram",
         "x": [
          0.9239475002560446,
          0.3751137231718408,
          0.3213921789877636,
          -0.2002731294404255,
          -0.9379523078809692,
          -2.1522008734306044,
          -1.7310940948390918,
          -0.7690761647133307,
          0.004234155681897507,
          -0.11260128869010097,
          1.9181462902658097,
          -0.9401663428780545,
          -1.3363608215513756,
          -0.22639256087185294,
          0.7155052908004416,
          -1.1338296413529032,
          -0.20841361761860744,
          -0.07286227172045914,
          -2.176211386756295,
          -0.1331872306911424,
          -0.9621866079529249,
          -0.7728293504234989,
          1.1385009996291466,
          0.2303239773391668,
          0.6862223372577602,
          1.2344283937191503,
          0.1827535990904871,
          0.7466936520861805,
          -1.0113861106730668,
          0.32537269389538903,
          -0.28578783920125933,
          -0.2771908139363303,
          -0.8426007184312503,
          -1.0136604444862443,
          -1.0926502428164986,
          -1.394012537051209,
          0.9562305045130977,
          1.6498602888552416,
          -0.19818376543622393,
          -0.773295121549228,
          -0.6767509387608813,
          0.8707980460326364,
          1.1639042320491528,
          2.0957413891452807,
          0.9916228249165744,
          2.400768134822709,
          -2.276667491178643,
          -1.362397745087905,
          -0.7391063426887257,
          -0.9492832291230988,
          0.019286027803951923,
          -0.28058552398171427,
          -0.7973643592189733,
          1.4716940291363256,
          0.4726451283358121,
          -0.7051955600320536,
          -0.9440260816754585,
          -0.10268855991288471,
          0.36328307262861687,
          -0.24816233188176445,
          -0.3914077639390221,
          -0.48032188714765445,
          0.34907300266111085,
          -0.5263309922419579,
          0.3451183917992562,
          1.0013016690120522,
          0.08437513595097418,
          -0.08473777899015635,
          -0.9323953122796237,
          0.8202701216036823,
          -0.4578073639707513,
          -0.6382506735827904,
          1.6413403887559652,
          1.1406964008874994,
          0.8281331373368289,
          -0.9501903284973356,
          -0.9043844858355756,
          1.6905305998964446,
          0.39251270554655227,
          -0.45842216078687764,
          -0.5287645291442242,
          0.16658554453340715,
          0.33028663295232485,
          0.0806777046955102,
          -1.8144761645876817,
          0.569150440390842,
          -0.25901109428391583,
          -1.7715535579309254,
          1.093822426256376,
          0.5404693935559389,
          -0.16210350511084323,
          0.01952070876786433,
          -1.9389851864227314,
          0.16068054996825953,
          -0.6290895779679284,
          1.049212658753759,
          0.18240196622299806,
          -0.38049619934715684,
          -0.24130247827164875,
          -0.5949027629607959
         ],
         "xaxis": "x11",
         "yaxis": "y11"
        },
        {
         "line": {
          "color": "rgba(128, 128, 128, 1.0)",
          "dash": "solid",
          "shape": "linear",
          "width": 1.3
         },
         "marker": {
          "size": 2,
          "symbol": "circle"
         },
         "mode": "markers",
         "name": "C",
         "text": "",
         "type": "scatter",
         "x": [
          0.13983859548612287,
          0.468221344934841,
          -0.3655912385179084,
          0.0028426141639563965,
          -1.2866675810136463,
          1.8251802474502172,
          1.3537927735151978,
          0.030589539867225405,
          -0.41232369430866234,
          0.1970748195818725,
          0.25626148422482997,
          1.6549151625359948,
          -1.4690654383966493,
          1.0998415279033387,
          1.4356475730359877,
          2.089679085361465,
          1.6311950137708888,
          0.4907685997784432,
          1.4070566610133248,
          -2.182971526682894,
          -0.33824460128366046,
          0.6580983026884394,
          1.690988198782726,
          0.6804878081457141,
          1.2838188100511365,
          -0.13754087996797532,
          0.9029559561300816,
          -0.4314996403974591,
          -0.3684568099711757,
          0.9126970404174501,
          -0.1921020240627544,
          -0.9366340343699328,
          0.5430735446145215,
          -0.323485474841826,
          -0.45142608544148116,
          1.2924944145509039,
          1.154452495993761,
          -0.9932101913276365,
          -0.77926610057691,
          -0.2569662294035719,
          0.9846860672528351,
          -0.6485632595117224,
          1.7503239067403413,
          -0.45804018258783064,
          -0.3874030044656593,
          1.2284148597403435,
          -1.5366620373899695,
          0.07841497834603257,
          -1.1593881898153189,
          -0.609599549370757,
          0.36140948822313346,
          -0.20106341353153323,
          -0.34464711667442166,
          1.2041708208317796,
          0.6326372279158136,
          0.27129981128139,
          0.630360944198581,
          0.9110921582927479,
          -0.8250161327320401,
          1.252233116341933,
          0.47992952396365607,
          0.30779893856006946,
          -0.17493309848738572,
          2.2888471477419796,
          -2.3098292148873942,
          1.68115786182939,
          0.058481044581439906,
          -0.9000914909083304,
          -0.0917083416397356,
          1.695902946001967,
          0.4719227463212935,
          -2.1662694755736642,
          0.07719035068792048,
          -0.27267314815742016,
          -0.06497460244050092,
          -0.09462209022908295,
          0.9533127233372166,
          -1.077927505417031,
          -1.0273136240140048,
          -0.06497531551055151,
          -0.3652627094287969,
          -1.5025390382781547,
          -0.6511798689315315,
          -3.3300811422783063,
          -2.8148414055104287,
          0.44538472127828194,
          0.899733094460187,
          1.5990229930275224,
          -0.2755633420552873,
          0.4275679587812028,
          -1.8318752439950237,
          -0.27187603561335877,
          0.4892489515431244,
          1.4102618528205655,
          -1.0952051796329465,
          0.6730615943406543,
          0.2808828278013457,
          0.12804230788245968,
          1.0103653903498466,
          0.48592236490986457
         ],
         "xaxis": "x12",
         "y": [
          0.9239475002560446,
          0.3751137231718408,
          0.3213921789877636,
          -0.2002731294404255,
          -0.9379523078809692,
          -2.1522008734306044,
          -1.7310940948390918,
          -0.7690761647133307,
          0.004234155681897507,
          -0.11260128869010097,
          1.9181462902658097,
          -0.9401663428780545,
          -1.3363608215513756,
          -0.22639256087185294,
          0.7155052908004416,
          -1.1338296413529032,
          -0.20841361761860744,
          -0.07286227172045914,
          -2.176211386756295,
          -0.1331872306911424,
          -0.9621866079529249,
          -0.7728293504234989,
          1.1385009996291466,
          0.2303239773391668,
          0.6862223372577602,
          1.2344283937191503,
          0.1827535990904871,
          0.7466936520861805,
          -1.0113861106730668,
          0.32537269389538903,
          -0.28578783920125933,
          -0.2771908139363303,
          -0.8426007184312503,
          -1.0136604444862443,
          -1.0926502428164986,
          -1.394012537051209,
          0.9562305045130977,
          1.6498602888552416,
          -0.19818376543622393,
          -0.773295121549228,
          -0.6767509387608813,
          0.8707980460326364,
          1.1639042320491528,
          2.0957413891452807,
          0.9916228249165744,
          2.400768134822709,
          -2.276667491178643,
          -1.362397745087905,
          -0.7391063426887257,
          -0.9492832291230988,
          0.019286027803951923,
          -0.28058552398171427,
          -0.7973643592189733,
          1.4716940291363256,
          0.4726451283358121,
          -0.7051955600320536,
          -0.9440260816754585,
          -0.10268855991288471,
          0.36328307262861687,
          -0.24816233188176445,
          -0.3914077639390221,
          -0.48032188714765445,
          0.34907300266111085,
          -0.5263309922419579,
          0.3451183917992562,
          1.0013016690120522,
          0.08437513595097418,
          -0.08473777899015635,
          -0.9323953122796237,
          0.8202701216036823,
          -0.4578073639707513,
          -0.6382506735827904,
          1.6413403887559652,
          1.1406964008874994,
          0.8281331373368289,
          -0.9501903284973356,
          -0.9043844858355756,
          1.6905305998964446,
          0.39251270554655227,
          -0.45842216078687764,
          -0.5287645291442242,
          0.16658554453340715,
          0.33028663295232485,
          0.0806777046955102,
          -1.8144761645876817,
          0.569150440390842,
          -0.25901109428391583,
          -1.7715535579309254,
          1.093822426256376,
          0.5404693935559389,
          -0.16210350511084323,
          0.01952070876786433,
          -1.9389851864227314,
          0.16068054996825953,
          -0.6290895779679284,
          1.049212658753759,
          0.18240196622299806,
          -0.38049619934715684,
          -0.24130247827164875,
          -0.5949027629607959
         ],
         "yaxis": "y12"
        },
        {
         "line": {
          "color": "rgba(128, 128, 128, 1.0)",
          "dash": "solid",
          "shape": "linear",
          "width": 1.3
         },
         "marker": {
          "size": 2,
          "symbol": "circle"
         },
         "mode": "markers",
         "name": "D",
         "text": "",
         "type": "scatter",
         "x": [
          1.9758519900934104,
          -0.5143221233456489,
          -0.1582030966787379,
          -0.5114390014664738,
          0.515811900694426,
          -0.3617127909781959,
          0.8213800009504084,
          0.9263759553965216,
          0.8463773240249822,
          -1.550823625797956,
          -1.1196680523219449,
          -1.3720152085677328,
          0.993215756870461,
          -0.2947213227426147,
          0.3891428636616671,
          -0.6037512014034268,
          0.2963029032682522,
          1.2997150136493418,
          0.5457748329459221,
          -1.1120549861777493,
          -1.3901568455907765,
          0.5378903545113346,
          -0.021807045234015447,
          1.523230437046832,
          -0.38997725066553474,
          0.2543225692799485,
          0.2795531219081177,
          -1.8873761705874288,
          -0.5358770884120846,
          -0.13041613392353707,
          -0.4846026362616904,
          0.1968461287525519,
          -0.9359976466832249,
          1.15241006171264,
          -0.28811501136423917,
          0.22158451906649376,
          -1.792787390527634,
          -1.1151847185475674,
          0.2999968484132656,
          -0.8410432469367217,
          0.9870416043456087,
          -0.5881425626152607,
          -0.5703765600397165,
          -0.6803726993143193,
          0.3216170210237273,
          0.7556227727364897,
          0.5360754027842475,
          0.613389511563585,
          0.22565749295090093,
          0.08365976731257571,
          0.1033919609885569,
          1.2438889145118528,
          0.8461128057749727,
          -0.23096828694979957,
          -0.12408711033791694,
          -1.1657940200430517,
          -0.2434783345014043,
          -1.199120831961396,
          1.4715404125351348,
          0.2803547207916868,
          -0.26987496653419035,
          -1.752600192059749,
          -0.11232400010667294,
          1.6307595591341888,
          0.7361119323933746,
          1.0046027671180844,
          -1.1061416883584818,
          0.5486042763497647,
          1.0300528549918395,
          -1.1009445751792122,
          1.0237198785638675,
          2.3349677555956436,
          0.7779690393786323,
          -1.123924959679506,
          0.17460525043824449,
          0.22201343894598982,
          -0.2906223833332785,
          0.5558148800636564,
          -0.4697349000963517,
          0.7246304134527143,
          -0.04523217356888744,
          -0.38848741703370726,
          0.5468817495156351,
          -0.9168752710950892,
          0.7994257334532495,
          0.9192035844449936,
          -0.002662870365699749,
          1.3981786261876747,
          -1.510668319049373,
          0.40377071643147383,
          0.1537412737152171,
          0.32491684836283985,
          -2.027833581141001,
          0.5312754157391999,
          -1.5124626744579268,
          0.12768299722942447,
          -1.9988651993974935,
          0.3620998287019383,
          0.6454370926585403,
          1.5131459553856328
         ],
         "xaxis": "x13",
         "y": [
          0.13983859548612287,
          0.468221344934841,
          -0.3655912385179084,
          0.0028426141639563965,
          -1.2866675810136463,
          1.8251802474502172,
          1.3537927735151978,
          0.030589539867225405,
          -0.41232369430866234,
          0.1970748195818725,
          0.25626148422482997,
          1.6549151625359948,
          -1.4690654383966493,
          1.0998415279033387,
          1.4356475730359877,
          2.089679085361465,
          1.6311950137708888,
          0.4907685997784432,
          1.4070566610133248,
          -2.182971526682894,
          -0.33824460128366046,
          0.6580983026884394,
          1.690988198782726,
          0.6804878081457141,
          1.2838188100511365,
          -0.13754087996797532,
          0.9029559561300816,
          -0.4314996403974591,
          -0.3684568099711757,
          0.9126970404174501,
          -0.1921020240627544,
          -0.9366340343699328,
          0.5430735446145215,
          -0.323485474841826,
          -0.45142608544148116,
          1.2924944145509039,
          1.154452495993761,
          -0.9932101913276365,
          -0.77926610057691,
          -0.2569662294035719,
          0.9846860672528351,
          -0.6485632595117224,
          1.7503239067403413,
          -0.45804018258783064,
          -0.3874030044656593,
          1.2284148597403435,
          -1.5366620373899695,
          0.07841497834603257,
          -1.1593881898153189,
          -0.609599549370757,
          0.36140948822313346,
          -0.20106341353153323,
          -0.34464711667442166,
          1.2041708208317796,
          0.6326372279158136,
          0.27129981128139,
          0.630360944198581,
          0.9110921582927479,
          -0.8250161327320401,
          1.252233116341933,
          0.47992952396365607,
          0.30779893856006946,
          -0.17493309848738572,
          2.2888471477419796,
          -2.3098292148873942,
          1.68115786182939,
          0.058481044581439906,
          -0.9000914909083304,
          -0.0917083416397356,
          1.695902946001967,
          0.4719227463212935,
          -2.1662694755736642,
          0.07719035068792048,
          -0.27267314815742016,
          -0.06497460244050092,
          -0.09462209022908295,
          0.9533127233372166,
          -1.077927505417031,
          -1.0273136240140048,
          -0.06497531551055151,
          -0.3652627094287969,
          -1.5025390382781547,
          -0.6511798689315315,
          -3.3300811422783063,
          -2.8148414055104287,
          0.44538472127828194,
          0.899733094460187,
          1.5990229930275224,
          -0.2755633420552873,
          0.4275679587812028,
          -1.8318752439950237,
          -0.27187603561335877,
          0.4892489515431244,
          1.4102618528205655,
          -1.0952051796329465,
          0.6730615943406543,
          0.2808828278013457,
          0.12804230788245968,
          1.0103653903498466,
          0.48592236490986457
         ],
         "yaxis": "y13"
        },
        {
         "line": {
          "color": "rgba(128, 128, 128, 1.0)",
          "dash": "solid",
          "shape": "linear",
          "width": 1.3
         },
         "marker": {
          "size": 2,
          "symbol": "circle"
         },
         "mode": "markers",
         "name": "D",
         "text": "",
         "type": "scatter",
         "x": [
          0.5665382229248324,
          -0.5565063078433714,
          -0.8718681029275993,
          -1.398907936994333,
          1.4219495489932097,
          1.9610132506325109,
          0.2518202894903014,
          -0.13417845181620516,
          -0.7622085723930692,
          0.3919451171772081,
          0.26630550068055336,
          0.5892959076385756,
          -0.793505369555898,
          -0.11360818904203256,
          0.04704884319419822,
          0.711350622598875,
          -0.5045014847624979,
          0.39897063453354453,
          0.8350726088246634,
          -0.6067348615268908,
          0.6018843560171192,
          -0.9750318086357168,
          -0.8111768417278923,
          0.5865123052820451,
          -1.2682046206237232,
          0.30538546233597064,
          0.044060763848661415,
          0.30091219086281756,
          0.6356706795934935,
          -0.9290464938329864,
          0.26665716907365966,
          0.31376967389358773,
          0.5230410509719929,
          -0.47564221228880077,
          -2.3544581053872924,
          1.1631809227657774,
          1.2446836192270323,
          2.453657648153855,
          2.0705079079433575,
          1.1823046883956898,
          0.1982523746639038,
          0.022184968541608917,
          0.5792157662111811,
          1.6925589437987265,
          1.6735491639361957,
          -0.6081796816698564,
          -0.654197528371815,
          1.9948097814472088,
          0.6452083653550553,
          -0.990864295108887,
          -1.3545582273408059,
          0.5282668446491409,
          0.740967616780742,
          -1.418069374141105,
          -0.5966689133434379,
          0.23363166132097435,
          0.8921390421200076,
          -0.7742498466221465,
          -0.31783128917578973,
          -0.04688838580674549,
          0.26217113832692995,
          0.1967788636582987,
          0.08143712402768997,
          -0.8658789516841908,
          -0.08489955130735412,
          1.6181102272592358,
          1.2890470324485164,
          0.7229560931164392,
          0.46226052689936553,
          -0.8542194243135494,
          0.5094739172634204,
          -0.5463175094424851,
          -1.0427681033876963,
          -1.5960614897359906,
          1.2396016427276908,
          2.3843745292528733,
          -0.6218403799730308,
          -1.7536232569773271,
          1.4982683951615485,
          1.541779113521374,
          -0.6370060447827084,
          -0.24446085397023756,
          -1.25169978102884,
          -1.601817214912354,
          -0.1842659662140935,
          -0.6653636755456144,
          1.7050858145432017,
          -0.21035741890677045,
          -0.9178286109980154,
          -1.5767350284883654,
          0.6049863670999431,
          0.5707203254294333,
          -1.0937692620437585,
          1.713111116881167,
          -0.5873802980984976,
          0.44428845973412634,
          -0.05549793997215865,
          1.5926275223590245,
          0.8538677661840695,
          0.21054373693698292
         ],
         "xaxis": "x14",
         "y": [
          0.13983859548612287,
          0.468221344934841,
          -0.3655912385179084,
          0.0028426141639563965,
          -1.2866675810136463,
          1.8251802474502172,
          1.3537927735151978,
          0.030589539867225405,
          -0.41232369430866234,
          0.1970748195818725,
          0.25626148422482997,
          1.6549151625359948,
          -1.4690654383966493,
          1.0998415279033387,
          1.4356475730359877,
          2.089679085361465,
          1.6311950137708888,
          0.4907685997784432,
          1.4070566610133248,
          -2.182971526682894,
          -0.33824460128366046,
          0.6580983026884394,
          1.690988198782726,
          0.6804878081457141,
          1.2838188100511365,
          -0.13754087996797532,
          0.9029559561300816,
          -0.4314996403974591,
          -0.3684568099711757,
          0.9126970404174501,
          -0.1921020240627544,
          -0.9366340343699328,
          0.5430735446145215,
          -0.323485474841826,
          -0.45142608544148116,
          1.2924944145509039,
          1.154452495993761,
          -0.9932101913276365,
          -0.77926610057691,
          -0.2569662294035719,
          0.9846860672528351,
          -0.6485632595117224,
          1.7503239067403413,
          -0.45804018258783064,
          -0.3874030044656593,
          1.2284148597403435,
          -1.5366620373899695,
          0.07841497834603257,
          -1.1593881898153189,
          -0.609599549370757,
          0.36140948822313346,
          -0.20106341353153323,
          -0.34464711667442166,
          1.2041708208317796,
          0.6326372279158136,
          0.27129981128139,
          0.630360944198581,
          0.9110921582927479,
          -0.8250161327320401,
          1.252233116341933,
          0.47992952396365607,
          0.30779893856006946,
          -0.17493309848738572,
          2.2888471477419796,
          -2.3098292148873942,
          1.68115786182939,
          0.058481044581439906,
          -0.9000914909083304,
          -0.0917083416397356,
          1.695902946001967,
          0.4719227463212935,
          -2.1662694755736642,
          0.07719035068792048,
          -0.27267314815742016,
          -0.06497460244050092,
          -0.09462209022908295,
          0.9533127233372166,
          -1.077927505417031,
          -1.0273136240140048,
          -0.06497531551055151,
          -0.3652627094287969,
          -1.5025390382781547,
          -0.6511798689315315,
          -3.3300811422783063,
          -2.8148414055104287,
          0.44538472127828194,
          0.899733094460187,
          1.5990229930275224,
          -0.2755633420552873,
          0.4275679587812028,
          -1.8318752439950237,
          -0.27187603561335877,
          0.4892489515431244,
          1.4102618528205655,
          -1.0952051796329465,
          0.6730615943406543,
          0.2808828278013457,
          0.12804230788245968,
          1.0103653903498466,
          0.48592236490986457
         ],
         "yaxis": "y14"
        },
        {
         "line": {
          "color": "rgba(128, 128, 128, 1.0)",
          "dash": "solid",
          "shape": "linear",
          "width": 1.3
         },
         "marker": {
          "size": 2,
          "symbol": "circle"
         },
         "mode": "markers",
         "name": "D",
         "text": "",
         "type": "scatter",
         "x": [
          0.9239475002560446,
          0.3751137231718408,
          0.3213921789877636,
          -0.2002731294404255,
          -0.9379523078809692,
          -2.1522008734306044,
          -1.7310940948390918,
          -0.7690761647133307,
          0.004234155681897507,
          -0.11260128869010097,
          1.9181462902658097,
          -0.9401663428780545,
          -1.3363608215513756,
          -0.22639256087185294,
          0.7155052908004416,
          -1.1338296413529032,
          -0.20841361761860744,
          -0.07286227172045914,
          -2.176211386756295,
          -0.1331872306911424,
          -0.9621866079529249,
          -0.7728293504234989,
          1.1385009996291466,
          0.2303239773391668,
          0.6862223372577602,
          1.2344283937191503,
          0.1827535990904871,
          0.7466936520861805,
          -1.0113861106730668,
          0.32537269389538903,
          -0.28578783920125933,
          -0.2771908139363303,
          -0.8426007184312503,
          -1.0136604444862443,
          -1.0926502428164986,
          -1.394012537051209,
          0.9562305045130977,
          1.6498602888552416,
          -0.19818376543622393,
          -0.773295121549228,
          -0.6767509387608813,
          0.8707980460326364,
          1.1639042320491528,
          2.0957413891452807,
          0.9916228249165744,
          2.400768134822709,
          -2.276667491178643,
          -1.362397745087905,
          -0.7391063426887257,
          -0.9492832291230988,
          0.019286027803951923,
          -0.28058552398171427,
          -0.7973643592189733,
          1.4716940291363256,
          0.4726451283358121,
          -0.7051955600320536,
          -0.9440260816754585,
          -0.10268855991288471,
          0.36328307262861687,
          -0.24816233188176445,
          -0.3914077639390221,
          -0.48032188714765445,
          0.34907300266111085,
          -0.5263309922419579,
          0.3451183917992562,
          1.0013016690120522,
          0.08437513595097418,
          -0.08473777899015635,
          -0.9323953122796237,
          0.8202701216036823,
          -0.4578073639707513,
          -0.6382506735827904,
          1.6413403887559652,
          1.1406964008874994,
          0.8281331373368289,
          -0.9501903284973356,
          -0.9043844858355756,
          1.6905305998964446,
          0.39251270554655227,
          -0.45842216078687764,
          -0.5287645291442242,
          0.16658554453340715,
          0.33028663295232485,
          0.0806777046955102,
          -1.8144761645876817,
          0.569150440390842,
          -0.25901109428391583,
          -1.7715535579309254,
          1.093822426256376,
          0.5404693935559389,
          -0.16210350511084323,
          0.01952070876786433,
          -1.9389851864227314,
          0.16068054996825953,
          -0.6290895779679284,
          1.049212658753759,
          0.18240196622299806,
          -0.38049619934715684,
          -0.24130247827164875,
          -0.5949027629607959
         ],
         "xaxis": "x15",
         "y": [
          0.13983859548612287,
          0.468221344934841,
          -0.3655912385179084,
          0.0028426141639563965,
          -1.2866675810136463,
          1.8251802474502172,
          1.3537927735151978,
          0.030589539867225405,
          -0.41232369430866234,
          0.1970748195818725,
          0.25626148422482997,
          1.6549151625359948,
          -1.4690654383966493,
          1.0998415279033387,
          1.4356475730359877,
          2.089679085361465,
          1.6311950137708888,
          0.4907685997784432,
          1.4070566610133248,
          -2.182971526682894,
          -0.33824460128366046,
          0.6580983026884394,
          1.690988198782726,
          0.6804878081457141,
          1.2838188100511365,
          -0.13754087996797532,
          0.9029559561300816,
          -0.4314996403974591,
          -0.3684568099711757,
          0.9126970404174501,
          -0.1921020240627544,
          -0.9366340343699328,
          0.5430735446145215,
          -0.323485474841826,
          -0.45142608544148116,
          1.2924944145509039,
          1.154452495993761,
          -0.9932101913276365,
          -0.77926610057691,
          -0.2569662294035719,
          0.9846860672528351,
          -0.6485632595117224,
          1.7503239067403413,
          -0.45804018258783064,
          -0.3874030044656593,
          1.2284148597403435,
          -1.5366620373899695,
          0.07841497834603257,
          -1.1593881898153189,
          -0.609599549370757,
          0.36140948822313346,
          -0.20106341353153323,
          -0.34464711667442166,
          1.2041708208317796,
          0.6326372279158136,
          0.27129981128139,
          0.630360944198581,
          0.9110921582927479,
          -0.8250161327320401,
          1.252233116341933,
          0.47992952396365607,
          0.30779893856006946,
          -0.17493309848738572,
          2.2888471477419796,
          -2.3098292148873942,
          1.68115786182939,
          0.058481044581439906,
          -0.9000914909083304,
          -0.0917083416397356,
          1.695902946001967,
          0.4719227463212935,
          -2.1662694755736642,
          0.07719035068792048,
          -0.27267314815742016,
          -0.06497460244050092,
          -0.09462209022908295,
          0.9533127233372166,
          -1.077927505417031,
          -1.0273136240140048,
          -0.06497531551055151,
          -0.3652627094287969,
          -1.5025390382781547,
          -0.6511798689315315,
          -3.3300811422783063,
          -2.8148414055104287,
          0.44538472127828194,
          0.899733094460187,
          1.5990229930275224,
          -0.2755633420552873,
          0.4275679587812028,
          -1.8318752439950237,
          -0.27187603561335877,
          0.4892489515431244,
          1.4102618528205655,
          -1.0952051796329465,
          0.6730615943406543,
          0.2808828278013457,
          0.12804230788245968,
          1.0103653903498466,
          0.48592236490986457
         ],
         "yaxis": "y15"
        },
        {
         "histfunc": "count",
         "histnorm": "",
         "marker": {
          "color": "rgba(128, 0, 128, 1.0)",
          "line": {
           "color": "#4D5663",
           "width": 1.3
          }
         },
         "name": "D",
         "nbinsx": 10,
         "opacity": 0.8,
         "orientation": "v",
         "type": "histogram",
         "x": [
          0.13983859548612287,
          0.468221344934841,
          -0.3655912385179084,
          0.0028426141639563965,
          -1.2866675810136463,
          1.8251802474502172,
          1.3537927735151978,
          0.030589539867225405,
          -0.41232369430866234,
          0.1970748195818725,
          0.25626148422482997,
          1.6549151625359948,
          -1.4690654383966493,
          1.0998415279033387,
          1.4356475730359877,
          2.089679085361465,
          1.6311950137708888,
          0.4907685997784432,
          1.4070566610133248,
          -2.182971526682894,
          -0.33824460128366046,
          0.6580983026884394,
          1.690988198782726,
          0.6804878081457141,
          1.2838188100511365,
          -0.13754087996797532,
          0.9029559561300816,
          -0.4314996403974591,
          -0.3684568099711757,
          0.9126970404174501,
          -0.1921020240627544,
          -0.9366340343699328,
          0.5430735446145215,
          -0.323485474841826,
          -0.45142608544148116,
          1.2924944145509039,
          1.154452495993761,
          -0.9932101913276365,
          -0.77926610057691,
          -0.2569662294035719,
          0.9846860672528351,
          -0.6485632595117224,
          1.7503239067403413,
          -0.45804018258783064,
          -0.3874030044656593,
          1.2284148597403435,
          -1.5366620373899695,
          0.07841497834603257,
          -1.1593881898153189,
          -0.609599549370757,
          0.36140948822313346,
          -0.20106341353153323,
          -0.34464711667442166,
          1.2041708208317796,
          0.6326372279158136,
          0.27129981128139,
          0.630360944198581,
          0.9110921582927479,
          -0.8250161327320401,
          1.252233116341933,
          0.47992952396365607,
          0.30779893856006946,
          -0.17493309848738572,
          2.2888471477419796,
          -2.3098292148873942,
          1.68115786182939,
          0.058481044581439906,
          -0.9000914909083304,
          -0.0917083416397356,
          1.695902946001967,
          0.4719227463212935,
          -2.1662694755736642,
          0.07719035068792048,
          -0.27267314815742016,
          -0.06497460244050092,
          -0.09462209022908295,
          0.9533127233372166,
          -1.077927505417031,
          -1.0273136240140048,
          -0.06497531551055151,
          -0.3652627094287969,
          -1.5025390382781547,
          -0.6511798689315315,
          -3.3300811422783063,
          -2.8148414055104287,
          0.44538472127828194,
          0.899733094460187,
          1.5990229930275224,
          -0.2755633420552873,
          0.4275679587812028,
          -1.8318752439950237,
          -0.27187603561335877,
          0.4892489515431244,
          1.4102618528205655,
          -1.0952051796329465,
          0.6730615943406543,
          0.2808828278013457,
          0.12804230788245968,
          1.0103653903498466,
          0.48592236490986457
         ],
         "xaxis": "x16",
         "yaxis": "y16"
        }
       ],
       "layout": {
        "bargap": 0.02,
        "legend": {
         "bgcolor": "#F5F6F9",
         "font": {
          "color": "#4D5663"
         }
        },
        "paper_bgcolor": "#F5F6F9",
        "plot_bgcolor": "#F5F6F9",
        "showlegend": false,
        "template": {
         "data": {
          "bar": [
           {
            "error_x": {
             "color": "#2a3f5f"
            },
            "error_y": {
             "color": "#2a3f5f"
            },
            "marker": {
             "line": {
              "color": "#E5ECF6",
              "width": 0.5
             }
            },
            "type": "bar"
           }
          ],
          "barpolar": [
           {
            "marker": {
             "line": {
              "color": "#E5ECF6",
              "width": 0.5
             }
            },
            "type": "barpolar"
           }
          ],
          "carpet": [
           {
            "aaxis": {
             "endlinecolor": "#2a3f5f",
             "gridcolor": "white",
             "linecolor": "white",
             "minorgridcolor": "white",
             "startlinecolor": "#2a3f5f"
            },
            "baxis": {
             "endlinecolor": "#2a3f5f",
             "gridcolor": "white",
             "linecolor": "white",
             "minorgridcolor": "white",
             "startlinecolor": "#2a3f5f"
            },
            "type": "carpet"
           }
          ],
          "choropleth": [
           {
            "colorbar": {
             "outlinewidth": 0,
             "ticks": ""
            },
            "type": "choropleth"
           }
          ],
          "contour": [
           {
            "colorbar": {
             "outlinewidth": 0,
             "ticks": ""
            },
            "colorscale": [
             [
              0,
              "#0d0887"
             ],
             [
              0.1111111111111111,
              "#46039f"
             ],
             [
              0.2222222222222222,
              "#7201a8"
             ],
             [
              0.3333333333333333,
              "#9c179e"
             ],
             [
              0.4444444444444444,
              "#bd3786"
             ],
             [
              0.5555555555555556,
              "#d8576b"
             ],
             [
              0.6666666666666666,
              "#ed7953"
             ],
             [
              0.7777777777777778,
              "#fb9f3a"
             ],
             [
              0.8888888888888888,
              "#fdca26"
             ],
             [
              1,
              "#f0f921"
             ]
            ],
            "type": "contour"
           }
          ],
          "contourcarpet": [
           {
            "colorbar": {
             "outlinewidth": 0,
             "ticks": ""
            },
            "type": "contourcarpet"
           }
          ],
          "heatmap": [
           {
            "colorbar": {
             "outlinewidth": 0,
             "ticks": ""
            },
            "colorscale": [
             [
              0,
              "#0d0887"
             ],
             [
              0.1111111111111111,
              "#46039f"
             ],
             [
              0.2222222222222222,
              "#7201a8"
             ],
             [
              0.3333333333333333,
              "#9c179e"
             ],
             [
              0.4444444444444444,
              "#bd3786"
             ],
             [
              0.5555555555555556,
              "#d8576b"
             ],
             [
              0.6666666666666666,
              "#ed7953"
             ],
             [
              0.7777777777777778,
              "#fb9f3a"
             ],
             [
              0.8888888888888888,
              "#fdca26"
             ],
             [
              1,
              "#f0f921"
             ]
            ],
            "type": "heatmap"
           }
          ],
          "heatmapgl": [
           {
            "colorbar": {
             "outlinewidth": 0,
             "ticks": ""
            },
            "colorscale": [
             [
              0,
              "#0d0887"
             ],
             [
              0.1111111111111111,
              "#46039f"
             ],
             [
              0.2222222222222222,
              "#7201a8"
             ],
             [
              0.3333333333333333,
              "#9c179e"
             ],
             [
              0.4444444444444444,
              "#bd3786"
             ],
             [
              0.5555555555555556,
              "#d8576b"
             ],
             [
              0.6666666666666666,
              "#ed7953"
             ],
             [
              0.7777777777777778,
              "#fb9f3a"
             ],
             [
              0.8888888888888888,
              "#fdca26"
             ],
             [
              1,
              "#f0f921"
             ]
            ],
            "type": "heatmapgl"
           }
          ],
          "histogram": [
           {
            "marker": {
             "colorbar": {
              "outlinewidth": 0,
              "ticks": ""
             }
            },
            "type": "histogram"
           }
          ],
          "histogram2d": [
           {
            "colorbar": {
             "outlinewidth": 0,
             "ticks": ""
            },
            "colorscale": [
             [
              0,
              "#0d0887"
             ],
             [
              0.1111111111111111,
              "#46039f"
             ],
             [
              0.2222222222222222,
              "#7201a8"
             ],
             [
              0.3333333333333333,
              "#9c179e"
             ],
             [
              0.4444444444444444,
              "#bd3786"
             ],
             [
              0.5555555555555556,
              "#d8576b"
             ],
             [
              0.6666666666666666,
              "#ed7953"
             ],
             [
              0.7777777777777778,
              "#fb9f3a"
             ],
             [
              0.8888888888888888,
              "#fdca26"
             ],
             [
              1,
              "#f0f921"
             ]
            ],
            "type": "histogram2d"
           }
          ],
          "histogram2dcontour": [
           {
            "colorbar": {
             "outlinewidth": 0,
             "ticks": ""
            },
            "colorscale": [
             [
              0,
              "#0d0887"
             ],
             [
              0.1111111111111111,
              "#46039f"
             ],
             [
              0.2222222222222222,
              "#7201a8"
             ],
             [
              0.3333333333333333,
              "#9c179e"
             ],
             [
              0.4444444444444444,
              "#bd3786"
             ],
             [
              0.5555555555555556,
              "#d8576b"
             ],
             [
              0.6666666666666666,
              "#ed7953"
             ],
             [
              0.7777777777777778,
              "#fb9f3a"
             ],
             [
              0.8888888888888888,
              "#fdca26"
             ],
             [
              1,
              "#f0f921"
             ]
            ],
            "type": "histogram2dcontour"
           }
          ],
          "mesh3d": [
           {
            "colorbar": {
             "outlinewidth": 0,
             "ticks": ""
            },
            "type": "mesh3d"
           }
          ],
          "parcoords": [
           {
            "line": {
             "colorbar": {
              "outlinewidth": 0,
              "ticks": ""
             }
            },
            "type": "parcoords"
           }
          ],
          "pie": [
           {
            "automargin": true,
            "type": "pie"
           }
          ],
          "scatter": [
           {
            "marker": {
             "colorbar": {
              "outlinewidth": 0,
              "ticks": ""
             }
            },
            "type": "scatter"
           }
          ],
          "scatter3d": [
           {
            "line": {
             "colorbar": {
              "outlinewidth": 0,
              "ticks": ""
             }
            },
            "marker": {
             "colorbar": {
              "outlinewidth": 0,
              "ticks": ""
             }
            },
            "type": "scatter3d"
           }
          ],
          "scattercarpet": [
           {
            "marker": {
             "colorbar": {
              "outlinewidth": 0,
              "ticks": ""
             }
            },
            "type": "scattercarpet"
           }
          ],
          "scattergeo": [
           {
            "marker": {
             "colorbar": {
              "outlinewidth": 0,
              "ticks": ""
             }
            },
            "type": "scattergeo"
           }
          ],
          "scattergl": [
           {
            "marker": {
             "colorbar": {
              "outlinewidth": 0,
              "ticks": ""
             }
            },
            "type": "scattergl"
           }
          ],
          "scattermapbox": [
           {
            "marker": {
             "colorbar": {
              "outlinewidth": 0,
              "ticks": ""
             }
            },
            "type": "scattermapbox"
           }
          ],
          "scatterpolar": [
           {
            "marker": {
             "colorbar": {
              "outlinewidth": 0,
              "ticks": ""
             }
            },
            "type": "scatterpolar"
           }
          ],
          "scatterpolargl": [
           {
            "marker": {
             "colorbar": {
              "outlinewidth": 0,
              "ticks": ""
             }
            },
            "type": "scatterpolargl"
           }
          ],
          "scatterternary": [
           {
            "marker": {
             "colorbar": {
              "outlinewidth": 0,
              "ticks": ""
             }
            },
            "type": "scatterternary"
           }
          ],
          "surface": [
           {
            "colorbar": {
             "outlinewidth": 0,
             "ticks": ""
            },
            "colorscale": [
             [
              0,
              "#0d0887"
             ],
             [
              0.1111111111111111,
              "#46039f"
             ],
             [
              0.2222222222222222,
              "#7201a8"
             ],
             [
              0.3333333333333333,
              "#9c179e"
             ],
             [
              0.4444444444444444,
              "#bd3786"
             ],
             [
              0.5555555555555556,
              "#d8576b"
             ],
             [
              0.6666666666666666,
              "#ed7953"
             ],
             [
              0.7777777777777778,
              "#fb9f3a"
             ],
             [
              0.8888888888888888,
              "#fdca26"
             ],
             [
              1,
              "#f0f921"
             ]
            ],
            "type": "surface"
           }
          ],
          "table": [
           {
            "cells": {
             "fill": {
              "color": "#EBF0F8"
             },
             "line": {
              "color": "white"
             }
            },
            "header": {
             "fill": {
              "color": "#C8D4E3"
             },
             "line": {
              "color": "white"
             }
            },
            "type": "table"
           }
          ]
         },
         "layout": {
          "annotationdefaults": {
           "arrowcolor": "#2a3f5f",
           "arrowhead": 0,
           "arrowwidth": 1
          },
          "coloraxis": {
           "colorbar": {
            "outlinewidth": 0,
            "ticks": ""
           }
          },
          "colorscale": {
           "diverging": [
            [
             0,
             "#8e0152"
            ],
            [
             0.1,
             "#c51b7d"
            ],
            [
             0.2,
             "#de77ae"
            ],
            [
             0.3,
             "#f1b6da"
            ],
            [
             0.4,
             "#fde0ef"
            ],
            [
             0.5,
             "#f7f7f7"
            ],
            [
             0.6,
             "#e6f5d0"
            ],
            [
             0.7,
             "#b8e186"
            ],
            [
             0.8,
             "#7fbc41"
            ],
            [
             0.9,
             "#4d9221"
            ],
            [
             1,
             "#276419"
            ]
           ],
           "sequential": [
            [
             0,
             "#0d0887"
            ],
            [
             0.1111111111111111,
             "#46039f"
            ],
            [
             0.2222222222222222,
             "#7201a8"
            ],
            [
             0.3333333333333333,
             "#9c179e"
            ],
            [
             0.4444444444444444,
             "#bd3786"
            ],
            [
             0.5555555555555556,
             "#d8576b"
            ],
            [
             0.6666666666666666,
             "#ed7953"
            ],
            [
             0.7777777777777778,
             "#fb9f3a"
            ],
            [
             0.8888888888888888,
             "#fdca26"
            ],
            [
             1,
             "#f0f921"
            ]
           ],
           "sequentialminus": [
            [
             0,
             "#0d0887"
            ],
            [
             0.1111111111111111,
             "#46039f"
            ],
            [
             0.2222222222222222,
             "#7201a8"
            ],
            [
             0.3333333333333333,
             "#9c179e"
            ],
            [
             0.4444444444444444,
             "#bd3786"
            ],
            [
             0.5555555555555556,
             "#d8576b"
            ],
            [
             0.6666666666666666,
             "#ed7953"
            ],
            [
             0.7777777777777778,
             "#fb9f3a"
            ],
            [
             0.8888888888888888,
             "#fdca26"
            ],
            [
             1,
             "#f0f921"
            ]
           ]
          },
          "colorway": [
           "#636efa",
           "#EF553B",
           "#00cc96",
           "#ab63fa",
           "#FFA15A",
           "#19d3f3",
           "#FF6692",
           "#B6E880",
           "#FF97FF",
           "#FECB52"
          ],
          "font": {
           "color": "#2a3f5f"
          },
          "geo": {
           "bgcolor": "white",
           "lakecolor": "white",
           "landcolor": "#E5ECF6",
           "showlakes": true,
           "showland": true,
           "subunitcolor": "white"
          },
          "hoverlabel": {
           "align": "left"
          },
          "hovermode": "closest",
          "mapbox": {
           "style": "light"
          },
          "paper_bgcolor": "white",
          "plot_bgcolor": "#E5ECF6",
          "polar": {
           "angularaxis": {
            "gridcolor": "white",
            "linecolor": "white",
            "ticks": ""
           },
           "bgcolor": "#E5ECF6",
           "radialaxis": {
            "gridcolor": "white",
            "linecolor": "white",
            "ticks": ""
           }
          },
          "scene": {
           "xaxis": {
            "backgroundcolor": "#E5ECF6",
            "gridcolor": "white",
            "gridwidth": 2,
            "linecolor": "white",
            "showbackground": true,
            "ticks": "",
            "zerolinecolor": "white"
           },
           "yaxis": {
            "backgroundcolor": "#E5ECF6",
            "gridcolor": "white",
            "gridwidth": 2,
            "linecolor": "white",
            "showbackground": true,
            "ticks": "",
            "zerolinecolor": "white"
           },
           "zaxis": {
            "backgroundcolor": "#E5ECF6",
            "gridcolor": "white",
            "gridwidth": 2,
            "linecolor": "white",
            "showbackground": true,
            "ticks": "",
            "zerolinecolor": "white"
           }
          },
          "shapedefaults": {
           "line": {
            "color": "#2a3f5f"
           }
          },
          "ternary": {
           "aaxis": {
            "gridcolor": "white",
            "linecolor": "white",
            "ticks": ""
           },
           "baxis": {
            "gridcolor": "white",
            "linecolor": "white",
            "ticks": ""
           },
           "bgcolor": "#E5ECF6",
           "caxis": {
            "gridcolor": "white",
            "linecolor": "white",
            "ticks": ""
           }
          },
          "title": {
           "x": 0.05
          },
          "xaxis": {
           "automargin": true,
           "gridcolor": "white",
           "linecolor": "white",
           "ticks": "",
           "title": {
            "standoff": 15
           },
           "zerolinecolor": "white",
           "zerolinewidth": 2
          },
          "yaxis": {
           "automargin": true,
           "gridcolor": "white",
           "linecolor": "white",
           "ticks": "",
           "title": {
            "standoff": 15
           },
           "zerolinecolor": "white",
           "zerolinewidth": 2
          }
         }
        },
        "title": {
         "font": {
          "color": "#4D5663"
         }
        },
        "xaxis": {
         "anchor": "y",
         "domain": [
          0,
          0.2125
         ],
         "gridcolor": "#E1E5ED",
         "showgrid": false,
         "tickfont": {
          "color": "#4D5663"
         },
         "title": {
          "font": {
           "color": "#4D5663"
          },
          "text": ""
         },
         "zerolinecolor": "#E1E5ED"
        },
        "xaxis10": {
         "anchor": "y10",
         "domain": [
          0.2625,
          0.475
         ],
         "gridcolor": "#E1E5ED",
         "showgrid": false,
         "tickfont": {
          "color": "#4D5663"
         },
         "title": {
          "font": {
           "color": "#4D5663"
          },
          "text": ""
         },
         "zerolinecolor": "#E1E5ED"
        },
        "xaxis11": {
         "anchor": "y11",
         "domain": [
          0.525,
          0.7375
         ],
         "gridcolor": "#E1E5ED",
         "showgrid": false,
         "tickfont": {
          "color": "#4D5663"
         },
         "title": {
          "font": {
           "color": "#4D5663"
          },
          "text": ""
         },
         "zerolinecolor": "#E1E5ED"
        },
        "xaxis12": {
         "anchor": "y12",
         "domain": [
          0.7875,
          1
         ],
         "gridcolor": "#E1E5ED",
         "showgrid": false,
         "tickfont": {
          "color": "#4D5663"
         },
         "title": {
          "font": {
           "color": "#4D5663"
          },
          "text": ""
         },
         "zerolinecolor": "#E1E5ED"
        },
        "xaxis13": {
         "anchor": "y13",
         "domain": [
          0,
          0.2125
         ],
         "gridcolor": "#E1E5ED",
         "showgrid": false,
         "tickfont": {
          "color": "#4D5663"
         },
         "title": {
          "font": {
           "color": "#4D5663"
          },
          "text": ""
         },
         "zerolinecolor": "#E1E5ED"
        },
        "xaxis14": {
         "anchor": "y14",
         "domain": [
          0.2625,
          0.475
         ],
         "gridcolor": "#E1E5ED",
         "showgrid": false,
         "tickfont": {
          "color": "#4D5663"
         },
         "title": {
          "font": {
           "color": "#4D5663"
          },
          "text": ""
         },
         "zerolinecolor": "#E1E5ED"
        },
        "xaxis15": {
         "anchor": "y15",
         "domain": [
          0.525,
          0.7375
         ],
         "gridcolor": "#E1E5ED",
         "showgrid": false,
         "tickfont": {
          "color": "#4D5663"
         },
         "title": {
          "font": {
           "color": "#4D5663"
          },
          "text": ""
         },
         "zerolinecolor": "#E1E5ED"
        },
        "xaxis16": {
         "anchor": "y16",
         "domain": [
          0.7875,
          1
         ],
         "gridcolor": "#E1E5ED",
         "showgrid": false,
         "tickfont": {
          "color": "#4D5663"
         },
         "title": {
          "font": {
           "color": "#4D5663"
          },
          "text": ""
         },
         "zerolinecolor": "#E1E5ED"
        },
        "xaxis2": {
         "anchor": "y2",
         "domain": [
          0.2625,
          0.475
         ],
         "gridcolor": "#E1E5ED",
         "showgrid": false,
         "tickfont": {
          "color": "#4D5663"
         },
         "title": {
          "font": {
           "color": "#4D5663"
          },
          "text": ""
         },
         "zerolinecolor": "#E1E5ED"
        },
        "xaxis3": {
         "anchor": "y3",
         "domain": [
          0.525,
          0.7375
         ],
         "gridcolor": "#E1E5ED",
         "showgrid": false,
         "tickfont": {
          "color": "#4D5663"
         },
         "title": {
          "font": {
           "color": "#4D5663"
          },
          "text": ""
         },
         "zerolinecolor": "#E1E5ED"
        },
        "xaxis4": {
         "anchor": "y4",
         "domain": [
          0.7875,
          1
         ],
         "gridcolor": "#E1E5ED",
         "showgrid": false,
         "tickfont": {
          "color": "#4D5663"
         },
         "title": {
          "font": {
           "color": "#4D5663"
          },
          "text": ""
         },
         "zerolinecolor": "#E1E5ED"
        },
        "xaxis5": {
         "anchor": "y5",
         "domain": [
          0,
          0.2125
         ],
         "gridcolor": "#E1E5ED",
         "showgrid": false,
         "tickfont": {
          "color": "#4D5663"
         },
         "title": {
          "font": {
           "color": "#4D5663"
          },
          "text": ""
         },
         "zerolinecolor": "#E1E5ED"
        },
        "xaxis6": {
         "anchor": "y6",
         "domain": [
          0.2625,
          0.475
         ],
         "gridcolor": "#E1E5ED",
         "showgrid": false,
         "tickfont": {
          "color": "#4D5663"
         },
         "title": {
          "font": {
           "color": "#4D5663"
          },
          "text": ""
         },
         "zerolinecolor": "#E1E5ED"
        },
        "xaxis7": {
         "anchor": "y7",
         "domain": [
          0.525,
          0.7375
         ],
         "gridcolor": "#E1E5ED",
         "showgrid": false,
         "tickfont": {
          "color": "#4D5663"
         },
         "title": {
          "font": {
           "color": "#4D5663"
          },
          "text": ""
         },
         "zerolinecolor": "#E1E5ED"
        },
        "xaxis8": {
         "anchor": "y8",
         "domain": [
          0.7875,
          1
         ],
         "gridcolor": "#E1E5ED",
         "showgrid": false,
         "tickfont": {
          "color": "#4D5663"
         },
         "title": {
          "font": {
           "color": "#4D5663"
          },
          "text": ""
         },
         "zerolinecolor": "#E1E5ED"
        },
        "xaxis9": {
         "anchor": "y9",
         "domain": [
          0,
          0.2125
         ],
         "gridcolor": "#E1E5ED",
         "showgrid": false,
         "tickfont": {
          "color": "#4D5663"
         },
         "title": {
          "font": {
           "color": "#4D5663"
          },
          "text": ""
         },
         "zerolinecolor": "#E1E5ED"
        },
        "yaxis": {
         "anchor": "x",
         "domain": [
          0.8025,
          1
         ],
         "gridcolor": "#E1E5ED",
         "showgrid": false,
         "tickfont": {
          "color": "#4D5663"
         },
         "title": {
          "font": {
           "color": "#4D5663"
          },
          "text": ""
         },
         "zerolinecolor": "#E1E5ED"
        },
        "yaxis10": {
         "anchor": "x10",
         "domain": [
          0.2675,
          0.465
         ],
         "gridcolor": "#E1E5ED",
         "showgrid": false,
         "tickfont": {
          "color": "#4D5663"
         },
         "title": {
          "font": {
           "color": "#4D5663"
          },
          "text": ""
         },
         "zerolinecolor": "#E1E5ED"
        },
        "yaxis11": {
         "anchor": "x11",
         "domain": [
          0.2675,
          0.465
         ],
         "gridcolor": "#E1E5ED",
         "showgrid": false,
         "tickfont": {
          "color": "#4D5663"
         },
         "title": {
          "font": {
           "color": "#4D5663"
          },
          "text": ""
         },
         "zerolinecolor": "#E1E5ED"
        },
        "yaxis12": {
         "anchor": "x12",
         "domain": [
          0.2675,
          0.465
         ],
         "gridcolor": "#E1E5ED",
         "showgrid": false,
         "tickfont": {
          "color": "#4D5663"
         },
         "title": {
          "font": {
           "color": "#4D5663"
          },
          "text": ""
         },
         "zerolinecolor": "#E1E5ED"
        },
        "yaxis13": {
         "anchor": "x13",
         "domain": [
          0,
          0.1975
         ],
         "gridcolor": "#E1E5ED",
         "showgrid": false,
         "tickfont": {
          "color": "#4D5663"
         },
         "title": {
          "font": {
           "color": "#4D5663"
          },
          "text": ""
         },
         "zerolinecolor": "#E1E5ED"
        },
        "yaxis14": {
         "anchor": "x14",
         "domain": [
          0,
          0.1975
         ],
         "gridcolor": "#E1E5ED",
         "showgrid": false,
         "tickfont": {
          "color": "#4D5663"
         },
         "title": {
          "font": {
           "color": "#4D5663"
          },
          "text": ""
         },
         "zerolinecolor": "#E1E5ED"
        },
        "yaxis15": {
         "anchor": "x15",
         "domain": [
          0,
          0.1975
         ],
         "gridcolor": "#E1E5ED",
         "showgrid": false,
         "tickfont": {
          "color": "#4D5663"
         },
         "title": {
          "font": {
           "color": "#4D5663"
          },
          "text": ""
         },
         "zerolinecolor": "#E1E5ED"
        },
        "yaxis16": {
         "anchor": "x16",
         "domain": [
          0,
          0.1975
         ],
         "gridcolor": "#E1E5ED",
         "showgrid": false,
         "tickfont": {
          "color": "#4D5663"
         },
         "title": {
          "font": {
           "color": "#4D5663"
          },
          "text": ""
         },
         "zerolinecolor": "#E1E5ED"
        },
        "yaxis2": {
         "anchor": "x2",
         "domain": [
          0.8025,
          1
         ],
         "gridcolor": "#E1E5ED",
         "showgrid": false,
         "tickfont": {
          "color": "#4D5663"
         },
         "title": {
          "font": {
           "color": "#4D5663"
          },
          "text": ""
         },
         "zerolinecolor": "#E1E5ED"
        },
        "yaxis3": {
         "anchor": "x3",
         "domain": [
          0.8025,
          1
         ],
         "gridcolor": "#E1E5ED",
         "showgrid": false,
         "tickfont": {
          "color": "#4D5663"
         },
         "title": {
          "font": {
           "color": "#4D5663"
          },
          "text": ""
         },
         "zerolinecolor": "#E1E5ED"
        },
        "yaxis4": {
         "anchor": "x4",
         "domain": [
          0.8025,
          1
         ],
         "gridcolor": "#E1E5ED",
         "showgrid": false,
         "tickfont": {
          "color": "#4D5663"
         },
         "title": {
          "font": {
           "color": "#4D5663"
          },
          "text": ""
         },
         "zerolinecolor": "#E1E5ED"
        },
        "yaxis5": {
         "anchor": "x5",
         "domain": [
          0.535,
          0.7325
         ],
         "gridcolor": "#E1E5ED",
         "showgrid": false,
         "tickfont": {
          "color": "#4D5663"
         },
         "title": {
          "font": {
           "color": "#4D5663"
          },
          "text": ""
         },
         "zerolinecolor": "#E1E5ED"
        },
        "yaxis6": {
         "anchor": "x6",
         "domain": [
          0.535,
          0.7325
         ],
         "gridcolor": "#E1E5ED",
         "showgrid": false,
         "tickfont": {
          "color": "#4D5663"
         },
         "title": {
          "font": {
           "color": "#4D5663"
          },
          "text": ""
         },
         "zerolinecolor": "#E1E5ED"
        },
        "yaxis7": {
         "anchor": "x7",
         "domain": [
          0.535,
          0.7325
         ],
         "gridcolor": "#E1E5ED",
         "showgrid": false,
         "tickfont": {
          "color": "#4D5663"
         },
         "title": {
          "font": {
           "color": "#4D5663"
          },
          "text": ""
         },
         "zerolinecolor": "#E1E5ED"
        },
        "yaxis8": {
         "anchor": "x8",
         "domain": [
          0.535,
          0.7325
         ],
         "gridcolor": "#E1E5ED",
         "showgrid": false,
         "tickfont": {
          "color": "#4D5663"
         },
         "title": {
          "font": {
           "color": "#4D5663"
          },
          "text": ""
         },
         "zerolinecolor": "#E1E5ED"
        },
        "yaxis9": {
         "anchor": "x9",
         "domain": [
          0.2675,
          0.465
         ],
         "gridcolor": "#E1E5ED",
         "showgrid": false,
         "tickfont": {
          "color": "#4D5663"
         },
         "title": {
          "font": {
           "color": "#4D5663"
          },
          "text": ""
         },
         "zerolinecolor": "#E1E5ED"
        }
       }
      },
      "text/html": [
       "<div>\n",
       "        \n",
       "        \n",
       "            <div id=\"e694d3d3-cc84-487b-a43a-c8c3163d38e9\" class=\"plotly-graph-div\" style=\"height:525px; width:100%;\"></div>\n",
       "            <script type=\"text/javascript\">\n",
       "                require([\"plotly\"], function(Plotly) {\n",
       "                    window.PLOTLYENV=window.PLOTLYENV || {};\n",
       "                    window.PLOTLYENV.BASE_URL='https://plot.ly';\n",
       "                    \n",
       "                if (document.getElementById(\"e694d3d3-cc84-487b-a43a-c8c3163d38e9\")) {\n",
       "                    Plotly.newPlot(\n",
       "                        'e694d3d3-cc84-487b-a43a-c8c3163d38e9',\n",
       "                        [{\"histfunc\": \"count\", \"histnorm\": \"\", \"marker\": {\"color\": \"rgba(255, 153, 51, 1.0)\", \"line\": {\"color\": \"#4D5663\", \"width\": 1.3}}, \"name\": \"A\", \"nbinsx\": 10, \"opacity\": 0.8, \"orientation\": \"v\", \"type\": \"histogram\", \"x\": [1.9758519900934104, -0.5143221233456489, -0.1582030966787379, -0.5114390014664738, 0.515811900694426, -0.3617127909781959, 0.8213800009504084, 0.9263759553965216, 0.8463773240249822, -1.550823625797956, -1.1196680523219449, -1.3720152085677328, 0.993215756870461, -0.2947213227426147, 0.3891428636616671, -0.6037512014034268, 0.2963029032682522, 1.2997150136493418, 0.5457748329459221, -1.1120549861777493, -1.3901568455907765, 0.5378903545113346, -0.021807045234015447, 1.523230437046832, -0.38997725066553474, 0.2543225692799485, 0.2795531219081177, -1.8873761705874288, -0.5358770884120846, -0.13041613392353707, -0.4846026362616904, 0.1968461287525519, -0.9359976466832249, 1.15241006171264, -0.28811501136423917, 0.22158451906649376, -1.792787390527634, -1.1151847185475674, 0.2999968484132656, -0.8410432469367217, 0.9870416043456087, -0.5881425626152607, -0.5703765600397165, -0.6803726993143193, 0.3216170210237273, 0.7556227727364897, 0.5360754027842475, 0.613389511563585, 0.22565749295090093, 0.08365976731257571, 0.1033919609885569, 1.2438889145118528, 0.8461128057749727, -0.23096828694979957, -0.12408711033791694, -1.1657940200430517, -0.2434783345014043, -1.199120831961396, 1.4715404125351348, 0.2803547207916868, -0.26987496653419035, -1.752600192059749, -0.11232400010667294, 1.6307595591341888, 0.7361119323933746, 1.0046027671180844, -1.1061416883584818, 0.5486042763497647, 1.0300528549918395, -1.1009445751792122, 1.0237198785638675, 2.3349677555956436, 0.7779690393786323, -1.123924959679506, 0.17460525043824449, 0.22201343894598982, -0.2906223833332785, 0.5558148800636564, -0.4697349000963517, 0.7246304134527143, -0.04523217356888744, -0.38848741703370726, 0.5468817495156351, -0.9168752710950892, 0.7994257334532495, 0.9192035844449936, -0.002662870365699749, 1.3981786261876747, -1.510668319049373, 0.40377071643147383, 0.1537412737152171, 0.32491684836283985, -2.027833581141001, 0.5312754157391999, -1.5124626744579268, 0.12768299722942447, -1.9988651993974935, 0.3620998287019383, 0.6454370926585403, 1.5131459553856328], \"xaxis\": \"x\", \"yaxis\": \"y\"}, {\"line\": {\"color\": \"rgba(128, 128, 128, 1.0)\", \"dash\": \"solid\", \"shape\": \"linear\", \"width\": 1.3}, \"marker\": {\"size\": 2, \"symbol\": \"circle\"}, \"mode\": \"markers\", \"name\": \"A\", \"text\": \"\", \"type\": \"scatter\", \"x\": [0.5665382229248324, -0.5565063078433714, -0.8718681029275993, -1.398907936994333, 1.4219495489932097, 1.9610132506325109, 0.2518202894903014, -0.13417845181620516, -0.7622085723930692, 0.3919451171772081, 0.26630550068055336, 0.5892959076385756, -0.793505369555898, -0.11360818904203256, 0.04704884319419822, 0.711350622598875, -0.5045014847624979, 0.39897063453354453, 0.8350726088246634, -0.6067348615268908, 0.6018843560171192, -0.9750318086357168, -0.8111768417278923, 0.5865123052820451, -1.2682046206237232, 0.30538546233597064, 0.044060763848661415, 0.30091219086281756, 0.6356706795934935, -0.9290464938329864, 0.26665716907365966, 0.31376967389358773, 0.5230410509719929, -0.47564221228880077, -2.3544581053872924, 1.1631809227657774, 1.2446836192270323, 2.453657648153855, 2.0705079079433575, 1.1823046883956898, 0.1982523746639038, 0.022184968541608917, 0.5792157662111811, 1.6925589437987265, 1.6735491639361957, -0.6081796816698564, -0.654197528371815, 1.9948097814472088, 0.6452083653550553, -0.990864295108887, -1.3545582273408059, 0.5282668446491409, 0.740967616780742, -1.418069374141105, -0.5966689133434379, 0.23363166132097435, 0.8921390421200076, -0.7742498466221465, -0.31783128917578973, -0.04688838580674549, 0.26217113832692995, 0.1967788636582987, 0.08143712402768997, -0.8658789516841908, -0.08489955130735412, 1.6181102272592358, 1.2890470324485164, 0.7229560931164392, 0.46226052689936553, -0.8542194243135494, 0.5094739172634204, -0.5463175094424851, -1.0427681033876963, -1.5960614897359906, 1.2396016427276908, 2.3843745292528733, -0.6218403799730308, -1.7536232569773271, 1.4982683951615485, 1.541779113521374, -0.6370060447827084, -0.24446085397023756, -1.25169978102884, -1.601817214912354, -0.1842659662140935, -0.6653636755456144, 1.7050858145432017, -0.21035741890677045, -0.9178286109980154, -1.5767350284883654, 0.6049863670999431, 0.5707203254294333, -1.0937692620437585, 1.713111116881167, -0.5873802980984976, 0.44428845973412634, -0.05549793997215865, 1.5926275223590245, 0.8538677661840695, 0.21054373693698292], \"xaxis\": \"x2\", \"y\": [1.9758519900934104, -0.5143221233456489, -0.1582030966787379, -0.5114390014664738, 0.515811900694426, -0.3617127909781959, 0.8213800009504084, 0.9263759553965216, 0.8463773240249822, -1.550823625797956, -1.1196680523219449, -1.3720152085677328, 0.993215756870461, -0.2947213227426147, 0.3891428636616671, -0.6037512014034268, 0.2963029032682522, 1.2997150136493418, 0.5457748329459221, -1.1120549861777493, -1.3901568455907765, 0.5378903545113346, -0.021807045234015447, 1.523230437046832, -0.38997725066553474, 0.2543225692799485, 0.2795531219081177, -1.8873761705874288, -0.5358770884120846, -0.13041613392353707, -0.4846026362616904, 0.1968461287525519, -0.9359976466832249, 1.15241006171264, -0.28811501136423917, 0.22158451906649376, -1.792787390527634, -1.1151847185475674, 0.2999968484132656, -0.8410432469367217, 0.9870416043456087, -0.5881425626152607, -0.5703765600397165, -0.6803726993143193, 0.3216170210237273, 0.7556227727364897, 0.5360754027842475, 0.613389511563585, 0.22565749295090093, 0.08365976731257571, 0.1033919609885569, 1.2438889145118528, 0.8461128057749727, -0.23096828694979957, -0.12408711033791694, -1.1657940200430517, -0.2434783345014043, -1.199120831961396, 1.4715404125351348, 0.2803547207916868, -0.26987496653419035, -1.752600192059749, -0.11232400010667294, 1.6307595591341888, 0.7361119323933746, 1.0046027671180844, -1.1061416883584818, 0.5486042763497647, 1.0300528549918395, -1.1009445751792122, 1.0237198785638675, 2.3349677555956436, 0.7779690393786323, -1.123924959679506, 0.17460525043824449, 0.22201343894598982, -0.2906223833332785, 0.5558148800636564, -0.4697349000963517, 0.7246304134527143, -0.04523217356888744, -0.38848741703370726, 0.5468817495156351, -0.9168752710950892, 0.7994257334532495, 0.9192035844449936, -0.002662870365699749, 1.3981786261876747, -1.510668319049373, 0.40377071643147383, 0.1537412737152171, 0.32491684836283985, -2.027833581141001, 0.5312754157391999, -1.5124626744579268, 0.12768299722942447, -1.9988651993974935, 0.3620998287019383, 0.6454370926585403, 1.5131459553856328], \"yaxis\": \"y2\"}, {\"line\": {\"color\": \"rgba(128, 128, 128, 1.0)\", \"dash\": \"solid\", \"shape\": \"linear\", \"width\": 1.3}, \"marker\": {\"size\": 2, \"symbol\": \"circle\"}, \"mode\": \"markers\", \"name\": \"A\", \"text\": \"\", \"type\": \"scatter\", \"x\": [0.9239475002560446, 0.3751137231718408, 0.3213921789877636, -0.2002731294404255, -0.9379523078809692, -2.1522008734306044, -1.7310940948390918, -0.7690761647133307, 0.004234155681897507, -0.11260128869010097, 1.9181462902658097, -0.9401663428780545, -1.3363608215513756, -0.22639256087185294, 0.7155052908004416, -1.1338296413529032, -0.20841361761860744, -0.07286227172045914, -2.176211386756295, -0.1331872306911424, -0.9621866079529249, -0.7728293504234989, 1.1385009996291466, 0.2303239773391668, 0.6862223372577602, 1.2344283937191503, 0.1827535990904871, 0.7466936520861805, -1.0113861106730668, 0.32537269389538903, -0.28578783920125933, -0.2771908139363303, -0.8426007184312503, -1.0136604444862443, -1.0926502428164986, -1.394012537051209, 0.9562305045130977, 1.6498602888552416, -0.19818376543622393, -0.773295121549228, -0.6767509387608813, 0.8707980460326364, 1.1639042320491528, 2.0957413891452807, 0.9916228249165744, 2.400768134822709, -2.276667491178643, -1.362397745087905, -0.7391063426887257, -0.9492832291230988, 0.019286027803951923, -0.28058552398171427, -0.7973643592189733, 1.4716940291363256, 0.4726451283358121, -0.7051955600320536, -0.9440260816754585, -0.10268855991288471, 0.36328307262861687, -0.24816233188176445, -0.3914077639390221, -0.48032188714765445, 0.34907300266111085, -0.5263309922419579, 0.3451183917992562, 1.0013016690120522, 0.08437513595097418, -0.08473777899015635, -0.9323953122796237, 0.8202701216036823, -0.4578073639707513, -0.6382506735827904, 1.6413403887559652, 1.1406964008874994, 0.8281331373368289, -0.9501903284973356, -0.9043844858355756, 1.6905305998964446, 0.39251270554655227, -0.45842216078687764, -0.5287645291442242, 0.16658554453340715, 0.33028663295232485, 0.0806777046955102, -1.8144761645876817, 0.569150440390842, -0.25901109428391583, -1.7715535579309254, 1.093822426256376, 0.5404693935559389, -0.16210350511084323, 0.01952070876786433, -1.9389851864227314, 0.16068054996825953, -0.6290895779679284, 1.049212658753759, 0.18240196622299806, -0.38049619934715684, -0.24130247827164875, -0.5949027629607959], \"xaxis\": \"x3\", \"y\": [1.9758519900934104, -0.5143221233456489, -0.1582030966787379, -0.5114390014664738, 0.515811900694426, -0.3617127909781959, 0.8213800009504084, 0.9263759553965216, 0.8463773240249822, -1.550823625797956, -1.1196680523219449, -1.3720152085677328, 0.993215756870461, -0.2947213227426147, 0.3891428636616671, -0.6037512014034268, 0.2963029032682522, 1.2997150136493418, 0.5457748329459221, -1.1120549861777493, -1.3901568455907765, 0.5378903545113346, -0.021807045234015447, 1.523230437046832, -0.38997725066553474, 0.2543225692799485, 0.2795531219081177, -1.8873761705874288, -0.5358770884120846, -0.13041613392353707, -0.4846026362616904, 0.1968461287525519, -0.9359976466832249, 1.15241006171264, -0.28811501136423917, 0.22158451906649376, -1.792787390527634, -1.1151847185475674, 0.2999968484132656, -0.8410432469367217, 0.9870416043456087, -0.5881425626152607, -0.5703765600397165, -0.6803726993143193, 0.3216170210237273, 0.7556227727364897, 0.5360754027842475, 0.613389511563585, 0.22565749295090093, 0.08365976731257571, 0.1033919609885569, 1.2438889145118528, 0.8461128057749727, -0.23096828694979957, -0.12408711033791694, -1.1657940200430517, -0.2434783345014043, -1.199120831961396, 1.4715404125351348, 0.2803547207916868, -0.26987496653419035, -1.752600192059749, -0.11232400010667294, 1.6307595591341888, 0.7361119323933746, 1.0046027671180844, -1.1061416883584818, 0.5486042763497647, 1.0300528549918395, -1.1009445751792122, 1.0237198785638675, 2.3349677555956436, 0.7779690393786323, -1.123924959679506, 0.17460525043824449, 0.22201343894598982, -0.2906223833332785, 0.5558148800636564, -0.4697349000963517, 0.7246304134527143, -0.04523217356888744, -0.38848741703370726, 0.5468817495156351, -0.9168752710950892, 0.7994257334532495, 0.9192035844449936, -0.002662870365699749, 1.3981786261876747, -1.510668319049373, 0.40377071643147383, 0.1537412737152171, 0.32491684836283985, -2.027833581141001, 0.5312754157391999, -1.5124626744579268, 0.12768299722942447, -1.9988651993974935, 0.3620998287019383, 0.6454370926585403, 1.5131459553856328], \"yaxis\": \"y3\"}, {\"line\": {\"color\": \"rgba(128, 128, 128, 1.0)\", \"dash\": \"solid\", \"shape\": \"linear\", \"width\": 1.3}, \"marker\": {\"size\": 2, \"symbol\": \"circle\"}, \"mode\": \"markers\", \"name\": \"A\", \"text\": \"\", \"type\": \"scatter\", \"x\": [0.13983859548612287, 0.468221344934841, -0.3655912385179084, 0.0028426141639563965, -1.2866675810136463, 1.8251802474502172, 1.3537927735151978, 0.030589539867225405, -0.41232369430866234, 0.1970748195818725, 0.25626148422482997, 1.6549151625359948, -1.4690654383966493, 1.0998415279033387, 1.4356475730359877, 2.089679085361465, 1.6311950137708888, 0.4907685997784432, 1.4070566610133248, -2.182971526682894, -0.33824460128366046, 0.6580983026884394, 1.690988198782726, 0.6804878081457141, 1.2838188100511365, -0.13754087996797532, 0.9029559561300816, -0.4314996403974591, -0.3684568099711757, 0.9126970404174501, -0.1921020240627544, -0.9366340343699328, 0.5430735446145215, -0.323485474841826, -0.45142608544148116, 1.2924944145509039, 1.154452495993761, -0.9932101913276365, -0.77926610057691, -0.2569662294035719, 0.9846860672528351, -0.6485632595117224, 1.7503239067403413, -0.45804018258783064, -0.3874030044656593, 1.2284148597403435, -1.5366620373899695, 0.07841497834603257, -1.1593881898153189, -0.609599549370757, 0.36140948822313346, -0.20106341353153323, -0.34464711667442166, 1.2041708208317796, 0.6326372279158136, 0.27129981128139, 0.630360944198581, 0.9110921582927479, -0.8250161327320401, 1.252233116341933, 0.47992952396365607, 0.30779893856006946, -0.17493309848738572, 2.2888471477419796, -2.3098292148873942, 1.68115786182939, 0.058481044581439906, -0.9000914909083304, -0.0917083416397356, 1.695902946001967, 0.4719227463212935, -2.1662694755736642, 0.07719035068792048, -0.27267314815742016, -0.06497460244050092, -0.09462209022908295, 0.9533127233372166, -1.077927505417031, -1.0273136240140048, -0.06497531551055151, -0.3652627094287969, -1.5025390382781547, -0.6511798689315315, -3.3300811422783063, -2.8148414055104287, 0.44538472127828194, 0.899733094460187, 1.5990229930275224, -0.2755633420552873, 0.4275679587812028, -1.8318752439950237, -0.27187603561335877, 0.4892489515431244, 1.4102618528205655, -1.0952051796329465, 0.6730615943406543, 0.2808828278013457, 0.12804230788245968, 1.0103653903498466, 0.48592236490986457], \"xaxis\": \"x4\", \"y\": [1.9758519900934104, -0.5143221233456489, -0.1582030966787379, -0.5114390014664738, 0.515811900694426, -0.3617127909781959, 0.8213800009504084, 0.9263759553965216, 0.8463773240249822, -1.550823625797956, -1.1196680523219449, -1.3720152085677328, 0.993215756870461, -0.2947213227426147, 0.3891428636616671, -0.6037512014034268, 0.2963029032682522, 1.2997150136493418, 0.5457748329459221, -1.1120549861777493, -1.3901568455907765, 0.5378903545113346, -0.021807045234015447, 1.523230437046832, -0.38997725066553474, 0.2543225692799485, 0.2795531219081177, -1.8873761705874288, -0.5358770884120846, -0.13041613392353707, -0.4846026362616904, 0.1968461287525519, -0.9359976466832249, 1.15241006171264, -0.28811501136423917, 0.22158451906649376, -1.792787390527634, -1.1151847185475674, 0.2999968484132656, -0.8410432469367217, 0.9870416043456087, -0.5881425626152607, -0.5703765600397165, -0.6803726993143193, 0.3216170210237273, 0.7556227727364897, 0.5360754027842475, 0.613389511563585, 0.22565749295090093, 0.08365976731257571, 0.1033919609885569, 1.2438889145118528, 0.8461128057749727, -0.23096828694979957, -0.12408711033791694, -1.1657940200430517, -0.2434783345014043, -1.199120831961396, 1.4715404125351348, 0.2803547207916868, -0.26987496653419035, -1.752600192059749, -0.11232400010667294, 1.6307595591341888, 0.7361119323933746, 1.0046027671180844, -1.1061416883584818, 0.5486042763497647, 1.0300528549918395, -1.1009445751792122, 1.0237198785638675, 2.3349677555956436, 0.7779690393786323, -1.123924959679506, 0.17460525043824449, 0.22201343894598982, -0.2906223833332785, 0.5558148800636564, -0.4697349000963517, 0.7246304134527143, -0.04523217356888744, -0.38848741703370726, 0.5468817495156351, -0.9168752710950892, 0.7994257334532495, 0.9192035844449936, -0.002662870365699749, 1.3981786261876747, -1.510668319049373, 0.40377071643147383, 0.1537412737152171, 0.32491684836283985, -2.027833581141001, 0.5312754157391999, -1.5124626744579268, 0.12768299722942447, -1.9988651993974935, 0.3620998287019383, 0.6454370926585403, 1.5131459553856328], \"yaxis\": \"y4\"}, {\"line\": {\"color\": \"rgba(128, 128, 128, 1.0)\", \"dash\": \"solid\", \"shape\": \"linear\", \"width\": 1.3}, \"marker\": {\"size\": 2, \"symbol\": \"circle\"}, \"mode\": \"markers\", \"name\": \"B\", \"text\": \"\", \"type\": \"scatter\", \"x\": [1.9758519900934104, -0.5143221233456489, -0.1582030966787379, -0.5114390014664738, 0.515811900694426, -0.3617127909781959, 0.8213800009504084, 0.9263759553965216, 0.8463773240249822, -1.550823625797956, -1.1196680523219449, -1.3720152085677328, 0.993215756870461, -0.2947213227426147, 0.3891428636616671, -0.6037512014034268, 0.2963029032682522, 1.2997150136493418, 0.5457748329459221, -1.1120549861777493, -1.3901568455907765, 0.5378903545113346, -0.021807045234015447, 1.523230437046832, -0.38997725066553474, 0.2543225692799485, 0.2795531219081177, -1.8873761705874288, -0.5358770884120846, -0.13041613392353707, -0.4846026362616904, 0.1968461287525519, -0.9359976466832249, 1.15241006171264, -0.28811501136423917, 0.22158451906649376, -1.792787390527634, -1.1151847185475674, 0.2999968484132656, -0.8410432469367217, 0.9870416043456087, -0.5881425626152607, -0.5703765600397165, -0.6803726993143193, 0.3216170210237273, 0.7556227727364897, 0.5360754027842475, 0.613389511563585, 0.22565749295090093, 0.08365976731257571, 0.1033919609885569, 1.2438889145118528, 0.8461128057749727, -0.23096828694979957, -0.12408711033791694, -1.1657940200430517, -0.2434783345014043, -1.199120831961396, 1.4715404125351348, 0.2803547207916868, -0.26987496653419035, -1.752600192059749, -0.11232400010667294, 1.6307595591341888, 0.7361119323933746, 1.0046027671180844, -1.1061416883584818, 0.5486042763497647, 1.0300528549918395, -1.1009445751792122, 1.0237198785638675, 2.3349677555956436, 0.7779690393786323, -1.123924959679506, 0.17460525043824449, 0.22201343894598982, -0.2906223833332785, 0.5558148800636564, -0.4697349000963517, 0.7246304134527143, -0.04523217356888744, -0.38848741703370726, 0.5468817495156351, -0.9168752710950892, 0.7994257334532495, 0.9192035844449936, -0.002662870365699749, 1.3981786261876747, -1.510668319049373, 0.40377071643147383, 0.1537412737152171, 0.32491684836283985, -2.027833581141001, 0.5312754157391999, -1.5124626744579268, 0.12768299722942447, -1.9988651993974935, 0.3620998287019383, 0.6454370926585403, 1.5131459553856328], \"xaxis\": \"x5\", \"y\": [0.5665382229248324, -0.5565063078433714, -0.8718681029275993, -1.398907936994333, 1.4219495489932097, 1.9610132506325109, 0.2518202894903014, -0.13417845181620516, -0.7622085723930692, 0.3919451171772081, 0.26630550068055336, 0.5892959076385756, -0.793505369555898, -0.11360818904203256, 0.04704884319419822, 0.711350622598875, -0.5045014847624979, 0.39897063453354453, 0.8350726088246634, -0.6067348615268908, 0.6018843560171192, -0.9750318086357168, -0.8111768417278923, 0.5865123052820451, -1.2682046206237232, 0.30538546233597064, 0.044060763848661415, 0.30091219086281756, 0.6356706795934935, -0.9290464938329864, 0.26665716907365966, 0.31376967389358773, 0.5230410509719929, -0.47564221228880077, -2.3544581053872924, 1.1631809227657774, 1.2446836192270323, 2.453657648153855, 2.0705079079433575, 1.1823046883956898, 0.1982523746639038, 0.022184968541608917, 0.5792157662111811, 1.6925589437987265, 1.6735491639361957, -0.6081796816698564, -0.654197528371815, 1.9948097814472088, 0.6452083653550553, -0.990864295108887, -1.3545582273408059, 0.5282668446491409, 0.740967616780742, -1.418069374141105, -0.5966689133434379, 0.23363166132097435, 0.8921390421200076, -0.7742498466221465, -0.31783128917578973, -0.04688838580674549, 0.26217113832692995, 0.1967788636582987, 0.08143712402768997, -0.8658789516841908, -0.08489955130735412, 1.6181102272592358, 1.2890470324485164, 0.7229560931164392, 0.46226052689936553, -0.8542194243135494, 0.5094739172634204, -0.5463175094424851, -1.0427681033876963, -1.5960614897359906, 1.2396016427276908, 2.3843745292528733, -0.6218403799730308, -1.7536232569773271, 1.4982683951615485, 1.541779113521374, -0.6370060447827084, -0.24446085397023756, -1.25169978102884, -1.601817214912354, -0.1842659662140935, -0.6653636755456144, 1.7050858145432017, -0.21035741890677045, -0.9178286109980154, -1.5767350284883654, 0.6049863670999431, 0.5707203254294333, -1.0937692620437585, 1.713111116881167, -0.5873802980984976, 0.44428845973412634, -0.05549793997215865, 1.5926275223590245, 0.8538677661840695, 0.21054373693698292], \"yaxis\": \"y5\"}, {\"histfunc\": \"count\", \"histnorm\": \"\", \"marker\": {\"color\": \"rgba(55, 128, 191, 1.0)\", \"line\": {\"color\": \"#4D5663\", \"width\": 1.3}}, \"name\": \"B\", \"nbinsx\": 10, \"opacity\": 0.8, \"orientation\": \"v\", \"type\": \"histogram\", \"x\": [0.5665382229248324, -0.5565063078433714, -0.8718681029275993, -1.398907936994333, 1.4219495489932097, 1.9610132506325109, 0.2518202894903014, -0.13417845181620516, -0.7622085723930692, 0.3919451171772081, 0.26630550068055336, 0.5892959076385756, -0.793505369555898, -0.11360818904203256, 0.04704884319419822, 0.711350622598875, -0.5045014847624979, 0.39897063453354453, 0.8350726088246634, -0.6067348615268908, 0.6018843560171192, -0.9750318086357168, -0.8111768417278923, 0.5865123052820451, -1.2682046206237232, 0.30538546233597064, 0.044060763848661415, 0.30091219086281756, 0.6356706795934935, -0.9290464938329864, 0.26665716907365966, 0.31376967389358773, 0.5230410509719929, -0.47564221228880077, -2.3544581053872924, 1.1631809227657774, 1.2446836192270323, 2.453657648153855, 2.0705079079433575, 1.1823046883956898, 0.1982523746639038, 0.022184968541608917, 0.5792157662111811, 1.6925589437987265, 1.6735491639361957, -0.6081796816698564, -0.654197528371815, 1.9948097814472088, 0.6452083653550553, -0.990864295108887, -1.3545582273408059, 0.5282668446491409, 0.740967616780742, -1.418069374141105, -0.5966689133434379, 0.23363166132097435, 0.8921390421200076, -0.7742498466221465, -0.31783128917578973, -0.04688838580674549, 0.26217113832692995, 0.1967788636582987, 0.08143712402768997, -0.8658789516841908, -0.08489955130735412, 1.6181102272592358, 1.2890470324485164, 0.7229560931164392, 0.46226052689936553, -0.8542194243135494, 0.5094739172634204, -0.5463175094424851, -1.0427681033876963, -1.5960614897359906, 1.2396016427276908, 2.3843745292528733, -0.6218403799730308, -1.7536232569773271, 1.4982683951615485, 1.541779113521374, -0.6370060447827084, -0.24446085397023756, -1.25169978102884, -1.601817214912354, -0.1842659662140935, -0.6653636755456144, 1.7050858145432017, -0.21035741890677045, -0.9178286109980154, -1.5767350284883654, 0.6049863670999431, 0.5707203254294333, -1.0937692620437585, 1.713111116881167, -0.5873802980984976, 0.44428845973412634, -0.05549793997215865, 1.5926275223590245, 0.8538677661840695, 0.21054373693698292], \"xaxis\": \"x6\", \"yaxis\": \"y6\"}, {\"line\": {\"color\": \"rgba(128, 128, 128, 1.0)\", \"dash\": \"solid\", \"shape\": \"linear\", \"width\": 1.3}, \"marker\": {\"size\": 2, \"symbol\": \"circle\"}, \"mode\": \"markers\", \"name\": \"B\", \"text\": \"\", \"type\": \"scatter\", \"x\": [0.9239475002560446, 0.3751137231718408, 0.3213921789877636, -0.2002731294404255, -0.9379523078809692, -2.1522008734306044, -1.7310940948390918, -0.7690761647133307, 0.004234155681897507, -0.11260128869010097, 1.9181462902658097, -0.9401663428780545, -1.3363608215513756, -0.22639256087185294, 0.7155052908004416, -1.1338296413529032, -0.20841361761860744, -0.07286227172045914, -2.176211386756295, -0.1331872306911424, -0.9621866079529249, -0.7728293504234989, 1.1385009996291466, 0.2303239773391668, 0.6862223372577602, 1.2344283937191503, 0.1827535990904871, 0.7466936520861805, -1.0113861106730668, 0.32537269389538903, -0.28578783920125933, -0.2771908139363303, -0.8426007184312503, -1.0136604444862443, -1.0926502428164986, -1.394012537051209, 0.9562305045130977, 1.6498602888552416, -0.19818376543622393, -0.773295121549228, -0.6767509387608813, 0.8707980460326364, 1.1639042320491528, 2.0957413891452807, 0.9916228249165744, 2.400768134822709, -2.276667491178643, -1.362397745087905, -0.7391063426887257, -0.9492832291230988, 0.019286027803951923, -0.28058552398171427, -0.7973643592189733, 1.4716940291363256, 0.4726451283358121, -0.7051955600320536, -0.9440260816754585, -0.10268855991288471, 0.36328307262861687, -0.24816233188176445, -0.3914077639390221, -0.48032188714765445, 0.34907300266111085, -0.5263309922419579, 0.3451183917992562, 1.0013016690120522, 0.08437513595097418, -0.08473777899015635, -0.9323953122796237, 0.8202701216036823, -0.4578073639707513, -0.6382506735827904, 1.6413403887559652, 1.1406964008874994, 0.8281331373368289, -0.9501903284973356, -0.9043844858355756, 1.6905305998964446, 0.39251270554655227, -0.45842216078687764, -0.5287645291442242, 0.16658554453340715, 0.33028663295232485, 0.0806777046955102, -1.8144761645876817, 0.569150440390842, -0.25901109428391583, -1.7715535579309254, 1.093822426256376, 0.5404693935559389, -0.16210350511084323, 0.01952070876786433, -1.9389851864227314, 0.16068054996825953, -0.6290895779679284, 1.049212658753759, 0.18240196622299806, -0.38049619934715684, -0.24130247827164875, -0.5949027629607959], \"xaxis\": \"x7\", \"y\": [0.5665382229248324, -0.5565063078433714, -0.8718681029275993, -1.398907936994333, 1.4219495489932097, 1.9610132506325109, 0.2518202894903014, -0.13417845181620516, -0.7622085723930692, 0.3919451171772081, 0.26630550068055336, 0.5892959076385756, -0.793505369555898, -0.11360818904203256, 0.04704884319419822, 0.711350622598875, -0.5045014847624979, 0.39897063453354453, 0.8350726088246634, -0.6067348615268908, 0.6018843560171192, -0.9750318086357168, -0.8111768417278923, 0.5865123052820451, -1.2682046206237232, 0.30538546233597064, 0.044060763848661415, 0.30091219086281756, 0.6356706795934935, -0.9290464938329864, 0.26665716907365966, 0.31376967389358773, 0.5230410509719929, -0.47564221228880077, -2.3544581053872924, 1.1631809227657774, 1.2446836192270323, 2.453657648153855, 2.0705079079433575, 1.1823046883956898, 0.1982523746639038, 0.022184968541608917, 0.5792157662111811, 1.6925589437987265, 1.6735491639361957, -0.6081796816698564, -0.654197528371815, 1.9948097814472088, 0.6452083653550553, -0.990864295108887, -1.3545582273408059, 0.5282668446491409, 0.740967616780742, -1.418069374141105, -0.5966689133434379, 0.23363166132097435, 0.8921390421200076, -0.7742498466221465, -0.31783128917578973, -0.04688838580674549, 0.26217113832692995, 0.1967788636582987, 0.08143712402768997, -0.8658789516841908, -0.08489955130735412, 1.6181102272592358, 1.2890470324485164, 0.7229560931164392, 0.46226052689936553, -0.8542194243135494, 0.5094739172634204, -0.5463175094424851, -1.0427681033876963, -1.5960614897359906, 1.2396016427276908, 2.3843745292528733, -0.6218403799730308, -1.7536232569773271, 1.4982683951615485, 1.541779113521374, -0.6370060447827084, -0.24446085397023756, -1.25169978102884, -1.601817214912354, -0.1842659662140935, -0.6653636755456144, 1.7050858145432017, -0.21035741890677045, -0.9178286109980154, -1.5767350284883654, 0.6049863670999431, 0.5707203254294333, -1.0937692620437585, 1.713111116881167, -0.5873802980984976, 0.44428845973412634, -0.05549793997215865, 1.5926275223590245, 0.8538677661840695, 0.21054373693698292], \"yaxis\": \"y7\"}, {\"line\": {\"color\": \"rgba(128, 128, 128, 1.0)\", \"dash\": \"solid\", \"shape\": \"linear\", \"width\": 1.3}, \"marker\": {\"size\": 2, \"symbol\": \"circle\"}, \"mode\": \"markers\", \"name\": \"B\", \"text\": \"\", \"type\": \"scatter\", \"x\": [0.13983859548612287, 0.468221344934841, -0.3655912385179084, 0.0028426141639563965, -1.2866675810136463, 1.8251802474502172, 1.3537927735151978, 0.030589539867225405, -0.41232369430866234, 0.1970748195818725, 0.25626148422482997, 1.6549151625359948, -1.4690654383966493, 1.0998415279033387, 1.4356475730359877, 2.089679085361465, 1.6311950137708888, 0.4907685997784432, 1.4070566610133248, -2.182971526682894, -0.33824460128366046, 0.6580983026884394, 1.690988198782726, 0.6804878081457141, 1.2838188100511365, -0.13754087996797532, 0.9029559561300816, -0.4314996403974591, -0.3684568099711757, 0.9126970404174501, -0.1921020240627544, -0.9366340343699328, 0.5430735446145215, -0.323485474841826, -0.45142608544148116, 1.2924944145509039, 1.154452495993761, -0.9932101913276365, -0.77926610057691, -0.2569662294035719, 0.9846860672528351, -0.6485632595117224, 1.7503239067403413, -0.45804018258783064, -0.3874030044656593, 1.2284148597403435, -1.5366620373899695, 0.07841497834603257, -1.1593881898153189, -0.609599549370757, 0.36140948822313346, -0.20106341353153323, -0.34464711667442166, 1.2041708208317796, 0.6326372279158136, 0.27129981128139, 0.630360944198581, 0.9110921582927479, -0.8250161327320401, 1.252233116341933, 0.47992952396365607, 0.30779893856006946, -0.17493309848738572, 2.2888471477419796, -2.3098292148873942, 1.68115786182939, 0.058481044581439906, -0.9000914909083304, -0.0917083416397356, 1.695902946001967, 0.4719227463212935, -2.1662694755736642, 0.07719035068792048, -0.27267314815742016, -0.06497460244050092, -0.09462209022908295, 0.9533127233372166, -1.077927505417031, -1.0273136240140048, -0.06497531551055151, -0.3652627094287969, -1.5025390382781547, -0.6511798689315315, -3.3300811422783063, -2.8148414055104287, 0.44538472127828194, 0.899733094460187, 1.5990229930275224, -0.2755633420552873, 0.4275679587812028, -1.8318752439950237, -0.27187603561335877, 0.4892489515431244, 1.4102618528205655, -1.0952051796329465, 0.6730615943406543, 0.2808828278013457, 0.12804230788245968, 1.0103653903498466, 0.48592236490986457], \"xaxis\": \"x8\", \"y\": [0.5665382229248324, -0.5565063078433714, -0.8718681029275993, -1.398907936994333, 1.4219495489932097, 1.9610132506325109, 0.2518202894903014, -0.13417845181620516, -0.7622085723930692, 0.3919451171772081, 0.26630550068055336, 0.5892959076385756, -0.793505369555898, -0.11360818904203256, 0.04704884319419822, 0.711350622598875, -0.5045014847624979, 0.39897063453354453, 0.8350726088246634, -0.6067348615268908, 0.6018843560171192, -0.9750318086357168, -0.8111768417278923, 0.5865123052820451, -1.2682046206237232, 0.30538546233597064, 0.044060763848661415, 0.30091219086281756, 0.6356706795934935, -0.9290464938329864, 0.26665716907365966, 0.31376967389358773, 0.5230410509719929, -0.47564221228880077, -2.3544581053872924, 1.1631809227657774, 1.2446836192270323, 2.453657648153855, 2.0705079079433575, 1.1823046883956898, 0.1982523746639038, 0.022184968541608917, 0.5792157662111811, 1.6925589437987265, 1.6735491639361957, -0.6081796816698564, -0.654197528371815, 1.9948097814472088, 0.6452083653550553, -0.990864295108887, -1.3545582273408059, 0.5282668446491409, 0.740967616780742, -1.418069374141105, -0.5966689133434379, 0.23363166132097435, 0.8921390421200076, -0.7742498466221465, -0.31783128917578973, -0.04688838580674549, 0.26217113832692995, 0.1967788636582987, 0.08143712402768997, -0.8658789516841908, -0.08489955130735412, 1.6181102272592358, 1.2890470324485164, 0.7229560931164392, 0.46226052689936553, -0.8542194243135494, 0.5094739172634204, -0.5463175094424851, -1.0427681033876963, -1.5960614897359906, 1.2396016427276908, 2.3843745292528733, -0.6218403799730308, -1.7536232569773271, 1.4982683951615485, 1.541779113521374, -0.6370060447827084, -0.24446085397023756, -1.25169978102884, -1.601817214912354, -0.1842659662140935, -0.6653636755456144, 1.7050858145432017, -0.21035741890677045, -0.9178286109980154, -1.5767350284883654, 0.6049863670999431, 0.5707203254294333, -1.0937692620437585, 1.713111116881167, -0.5873802980984976, 0.44428845973412634, -0.05549793997215865, 1.5926275223590245, 0.8538677661840695, 0.21054373693698292], \"yaxis\": \"y8\"}, {\"line\": {\"color\": \"rgba(128, 128, 128, 1.0)\", \"dash\": \"solid\", \"shape\": \"linear\", \"width\": 1.3}, \"marker\": {\"size\": 2, \"symbol\": \"circle\"}, \"mode\": \"markers\", \"name\": \"C\", \"text\": \"\", \"type\": \"scatter\", \"x\": [1.9758519900934104, -0.5143221233456489, -0.1582030966787379, -0.5114390014664738, 0.515811900694426, -0.3617127909781959, 0.8213800009504084, 0.9263759553965216, 0.8463773240249822, -1.550823625797956, -1.1196680523219449, -1.3720152085677328, 0.993215756870461, -0.2947213227426147, 0.3891428636616671, -0.6037512014034268, 0.2963029032682522, 1.2997150136493418, 0.5457748329459221, -1.1120549861777493, -1.3901568455907765, 0.5378903545113346, -0.021807045234015447, 1.523230437046832, -0.38997725066553474, 0.2543225692799485, 0.2795531219081177, -1.8873761705874288, -0.5358770884120846, -0.13041613392353707, -0.4846026362616904, 0.1968461287525519, -0.9359976466832249, 1.15241006171264, -0.28811501136423917, 0.22158451906649376, -1.792787390527634, -1.1151847185475674, 0.2999968484132656, -0.8410432469367217, 0.9870416043456087, -0.5881425626152607, -0.5703765600397165, -0.6803726993143193, 0.3216170210237273, 0.7556227727364897, 0.5360754027842475, 0.613389511563585, 0.22565749295090093, 0.08365976731257571, 0.1033919609885569, 1.2438889145118528, 0.8461128057749727, -0.23096828694979957, -0.12408711033791694, -1.1657940200430517, -0.2434783345014043, -1.199120831961396, 1.4715404125351348, 0.2803547207916868, -0.26987496653419035, -1.752600192059749, -0.11232400010667294, 1.6307595591341888, 0.7361119323933746, 1.0046027671180844, -1.1061416883584818, 0.5486042763497647, 1.0300528549918395, -1.1009445751792122, 1.0237198785638675, 2.3349677555956436, 0.7779690393786323, -1.123924959679506, 0.17460525043824449, 0.22201343894598982, -0.2906223833332785, 0.5558148800636564, -0.4697349000963517, 0.7246304134527143, -0.04523217356888744, -0.38848741703370726, 0.5468817495156351, -0.9168752710950892, 0.7994257334532495, 0.9192035844449936, -0.002662870365699749, 1.3981786261876747, -1.510668319049373, 0.40377071643147383, 0.1537412737152171, 0.32491684836283985, -2.027833581141001, 0.5312754157391999, -1.5124626744579268, 0.12768299722942447, -1.9988651993974935, 0.3620998287019383, 0.6454370926585403, 1.5131459553856328], \"xaxis\": \"x9\", \"y\": [0.9239475002560446, 0.3751137231718408, 0.3213921789877636, -0.2002731294404255, -0.9379523078809692, -2.1522008734306044, -1.7310940948390918, -0.7690761647133307, 0.004234155681897507, -0.11260128869010097, 1.9181462902658097, -0.9401663428780545, -1.3363608215513756, -0.22639256087185294, 0.7155052908004416, -1.1338296413529032, -0.20841361761860744, -0.07286227172045914, -2.176211386756295, -0.1331872306911424, -0.9621866079529249, -0.7728293504234989, 1.1385009996291466, 0.2303239773391668, 0.6862223372577602, 1.2344283937191503, 0.1827535990904871, 0.7466936520861805, -1.0113861106730668, 0.32537269389538903, -0.28578783920125933, -0.2771908139363303, -0.8426007184312503, -1.0136604444862443, -1.0926502428164986, -1.394012537051209, 0.9562305045130977, 1.6498602888552416, -0.19818376543622393, -0.773295121549228, -0.6767509387608813, 0.8707980460326364, 1.1639042320491528, 2.0957413891452807, 0.9916228249165744, 2.400768134822709, -2.276667491178643, -1.362397745087905, -0.7391063426887257, -0.9492832291230988, 0.019286027803951923, -0.28058552398171427, -0.7973643592189733, 1.4716940291363256, 0.4726451283358121, -0.7051955600320536, -0.9440260816754585, -0.10268855991288471, 0.36328307262861687, -0.24816233188176445, -0.3914077639390221, -0.48032188714765445, 0.34907300266111085, -0.5263309922419579, 0.3451183917992562, 1.0013016690120522, 0.08437513595097418, -0.08473777899015635, -0.9323953122796237, 0.8202701216036823, -0.4578073639707513, -0.6382506735827904, 1.6413403887559652, 1.1406964008874994, 0.8281331373368289, -0.9501903284973356, -0.9043844858355756, 1.6905305998964446, 0.39251270554655227, -0.45842216078687764, -0.5287645291442242, 0.16658554453340715, 0.33028663295232485, 0.0806777046955102, -1.8144761645876817, 0.569150440390842, -0.25901109428391583, -1.7715535579309254, 1.093822426256376, 0.5404693935559389, -0.16210350511084323, 0.01952070876786433, -1.9389851864227314, 0.16068054996825953, -0.6290895779679284, 1.049212658753759, 0.18240196622299806, -0.38049619934715684, -0.24130247827164875, -0.5949027629607959], \"yaxis\": \"y9\"}, {\"line\": {\"color\": \"rgba(128, 128, 128, 1.0)\", \"dash\": \"solid\", \"shape\": \"linear\", \"width\": 1.3}, \"marker\": {\"size\": 2, \"symbol\": \"circle\"}, \"mode\": \"markers\", \"name\": \"C\", \"text\": \"\", \"type\": \"scatter\", \"x\": [0.5665382229248324, -0.5565063078433714, -0.8718681029275993, -1.398907936994333, 1.4219495489932097, 1.9610132506325109, 0.2518202894903014, -0.13417845181620516, -0.7622085723930692, 0.3919451171772081, 0.26630550068055336, 0.5892959076385756, -0.793505369555898, -0.11360818904203256, 0.04704884319419822, 0.711350622598875, -0.5045014847624979, 0.39897063453354453, 0.8350726088246634, -0.6067348615268908, 0.6018843560171192, -0.9750318086357168, -0.8111768417278923, 0.5865123052820451, -1.2682046206237232, 0.30538546233597064, 0.044060763848661415, 0.30091219086281756, 0.6356706795934935, -0.9290464938329864, 0.26665716907365966, 0.31376967389358773, 0.5230410509719929, -0.47564221228880077, -2.3544581053872924, 1.1631809227657774, 1.2446836192270323, 2.453657648153855, 2.0705079079433575, 1.1823046883956898, 0.1982523746639038, 0.022184968541608917, 0.5792157662111811, 1.6925589437987265, 1.6735491639361957, -0.6081796816698564, -0.654197528371815, 1.9948097814472088, 0.6452083653550553, -0.990864295108887, -1.3545582273408059, 0.5282668446491409, 0.740967616780742, -1.418069374141105, -0.5966689133434379, 0.23363166132097435, 0.8921390421200076, -0.7742498466221465, -0.31783128917578973, -0.04688838580674549, 0.26217113832692995, 0.1967788636582987, 0.08143712402768997, -0.8658789516841908, -0.08489955130735412, 1.6181102272592358, 1.2890470324485164, 0.7229560931164392, 0.46226052689936553, -0.8542194243135494, 0.5094739172634204, -0.5463175094424851, -1.0427681033876963, -1.5960614897359906, 1.2396016427276908, 2.3843745292528733, -0.6218403799730308, -1.7536232569773271, 1.4982683951615485, 1.541779113521374, -0.6370060447827084, -0.24446085397023756, -1.25169978102884, -1.601817214912354, -0.1842659662140935, -0.6653636755456144, 1.7050858145432017, -0.21035741890677045, -0.9178286109980154, -1.5767350284883654, 0.6049863670999431, 0.5707203254294333, -1.0937692620437585, 1.713111116881167, -0.5873802980984976, 0.44428845973412634, -0.05549793997215865, 1.5926275223590245, 0.8538677661840695, 0.21054373693698292], \"xaxis\": \"x10\", \"y\": [0.9239475002560446, 0.3751137231718408, 0.3213921789877636, -0.2002731294404255, -0.9379523078809692, -2.1522008734306044, -1.7310940948390918, -0.7690761647133307, 0.004234155681897507, -0.11260128869010097, 1.9181462902658097, -0.9401663428780545, -1.3363608215513756, -0.22639256087185294, 0.7155052908004416, -1.1338296413529032, -0.20841361761860744, -0.07286227172045914, -2.176211386756295, -0.1331872306911424, -0.9621866079529249, -0.7728293504234989, 1.1385009996291466, 0.2303239773391668, 0.6862223372577602, 1.2344283937191503, 0.1827535990904871, 0.7466936520861805, -1.0113861106730668, 0.32537269389538903, -0.28578783920125933, -0.2771908139363303, -0.8426007184312503, -1.0136604444862443, -1.0926502428164986, -1.394012537051209, 0.9562305045130977, 1.6498602888552416, -0.19818376543622393, -0.773295121549228, -0.6767509387608813, 0.8707980460326364, 1.1639042320491528, 2.0957413891452807, 0.9916228249165744, 2.400768134822709, -2.276667491178643, -1.362397745087905, -0.7391063426887257, -0.9492832291230988, 0.019286027803951923, -0.28058552398171427, -0.7973643592189733, 1.4716940291363256, 0.4726451283358121, -0.7051955600320536, -0.9440260816754585, -0.10268855991288471, 0.36328307262861687, -0.24816233188176445, -0.3914077639390221, -0.48032188714765445, 0.34907300266111085, -0.5263309922419579, 0.3451183917992562, 1.0013016690120522, 0.08437513595097418, -0.08473777899015635, -0.9323953122796237, 0.8202701216036823, -0.4578073639707513, -0.6382506735827904, 1.6413403887559652, 1.1406964008874994, 0.8281331373368289, -0.9501903284973356, -0.9043844858355756, 1.6905305998964446, 0.39251270554655227, -0.45842216078687764, -0.5287645291442242, 0.16658554453340715, 0.33028663295232485, 0.0806777046955102, -1.8144761645876817, 0.569150440390842, -0.25901109428391583, -1.7715535579309254, 1.093822426256376, 0.5404693935559389, -0.16210350511084323, 0.01952070876786433, -1.9389851864227314, 0.16068054996825953, -0.6290895779679284, 1.049212658753759, 0.18240196622299806, -0.38049619934715684, -0.24130247827164875, -0.5949027629607959], \"yaxis\": \"y10\"}, {\"histfunc\": \"count\", \"histnorm\": \"\", \"marker\": {\"color\": \"rgba(50, 171, 96, 1.0)\", \"line\": {\"color\": \"#4D5663\", \"width\": 1.3}}, \"name\": \"C\", \"nbinsx\": 10, \"opacity\": 0.8, \"orientation\": \"v\", \"type\": \"histogram\", \"x\": [0.9239475002560446, 0.3751137231718408, 0.3213921789877636, -0.2002731294404255, -0.9379523078809692, -2.1522008734306044, -1.7310940948390918, -0.7690761647133307, 0.004234155681897507, -0.11260128869010097, 1.9181462902658097, -0.9401663428780545, -1.3363608215513756, -0.22639256087185294, 0.7155052908004416, -1.1338296413529032, -0.20841361761860744, -0.07286227172045914, -2.176211386756295, -0.1331872306911424, -0.9621866079529249, -0.7728293504234989, 1.1385009996291466, 0.2303239773391668, 0.6862223372577602, 1.2344283937191503, 0.1827535990904871, 0.7466936520861805, -1.0113861106730668, 0.32537269389538903, -0.28578783920125933, -0.2771908139363303, -0.8426007184312503, -1.0136604444862443, -1.0926502428164986, -1.394012537051209, 0.9562305045130977, 1.6498602888552416, -0.19818376543622393, -0.773295121549228, -0.6767509387608813, 0.8707980460326364, 1.1639042320491528, 2.0957413891452807, 0.9916228249165744, 2.400768134822709, -2.276667491178643, -1.362397745087905, -0.7391063426887257, -0.9492832291230988, 0.019286027803951923, -0.28058552398171427, -0.7973643592189733, 1.4716940291363256, 0.4726451283358121, -0.7051955600320536, -0.9440260816754585, -0.10268855991288471, 0.36328307262861687, -0.24816233188176445, -0.3914077639390221, -0.48032188714765445, 0.34907300266111085, -0.5263309922419579, 0.3451183917992562, 1.0013016690120522, 0.08437513595097418, -0.08473777899015635, -0.9323953122796237, 0.8202701216036823, -0.4578073639707513, -0.6382506735827904, 1.6413403887559652, 1.1406964008874994, 0.8281331373368289, -0.9501903284973356, -0.9043844858355756, 1.6905305998964446, 0.39251270554655227, -0.45842216078687764, -0.5287645291442242, 0.16658554453340715, 0.33028663295232485, 0.0806777046955102, -1.8144761645876817, 0.569150440390842, -0.25901109428391583, -1.7715535579309254, 1.093822426256376, 0.5404693935559389, -0.16210350511084323, 0.01952070876786433, -1.9389851864227314, 0.16068054996825953, -0.6290895779679284, 1.049212658753759, 0.18240196622299806, -0.38049619934715684, -0.24130247827164875, -0.5949027629607959], \"xaxis\": \"x11\", \"yaxis\": \"y11\"}, {\"line\": {\"color\": \"rgba(128, 128, 128, 1.0)\", \"dash\": \"solid\", \"shape\": \"linear\", \"width\": 1.3}, \"marker\": {\"size\": 2, \"symbol\": \"circle\"}, \"mode\": \"markers\", \"name\": \"C\", \"text\": \"\", \"type\": \"scatter\", \"x\": [0.13983859548612287, 0.468221344934841, -0.3655912385179084, 0.0028426141639563965, -1.2866675810136463, 1.8251802474502172, 1.3537927735151978, 0.030589539867225405, -0.41232369430866234, 0.1970748195818725, 0.25626148422482997, 1.6549151625359948, -1.4690654383966493, 1.0998415279033387, 1.4356475730359877, 2.089679085361465, 1.6311950137708888, 0.4907685997784432, 1.4070566610133248, -2.182971526682894, -0.33824460128366046, 0.6580983026884394, 1.690988198782726, 0.6804878081457141, 1.2838188100511365, -0.13754087996797532, 0.9029559561300816, -0.4314996403974591, -0.3684568099711757, 0.9126970404174501, -0.1921020240627544, -0.9366340343699328, 0.5430735446145215, -0.323485474841826, -0.45142608544148116, 1.2924944145509039, 1.154452495993761, -0.9932101913276365, -0.77926610057691, -0.2569662294035719, 0.9846860672528351, -0.6485632595117224, 1.7503239067403413, -0.45804018258783064, -0.3874030044656593, 1.2284148597403435, -1.5366620373899695, 0.07841497834603257, -1.1593881898153189, -0.609599549370757, 0.36140948822313346, -0.20106341353153323, -0.34464711667442166, 1.2041708208317796, 0.6326372279158136, 0.27129981128139, 0.630360944198581, 0.9110921582927479, -0.8250161327320401, 1.252233116341933, 0.47992952396365607, 0.30779893856006946, -0.17493309848738572, 2.2888471477419796, -2.3098292148873942, 1.68115786182939, 0.058481044581439906, -0.9000914909083304, -0.0917083416397356, 1.695902946001967, 0.4719227463212935, -2.1662694755736642, 0.07719035068792048, -0.27267314815742016, -0.06497460244050092, -0.09462209022908295, 0.9533127233372166, -1.077927505417031, -1.0273136240140048, -0.06497531551055151, -0.3652627094287969, -1.5025390382781547, -0.6511798689315315, -3.3300811422783063, -2.8148414055104287, 0.44538472127828194, 0.899733094460187, 1.5990229930275224, -0.2755633420552873, 0.4275679587812028, -1.8318752439950237, -0.27187603561335877, 0.4892489515431244, 1.4102618528205655, -1.0952051796329465, 0.6730615943406543, 0.2808828278013457, 0.12804230788245968, 1.0103653903498466, 0.48592236490986457], \"xaxis\": \"x12\", \"y\": [0.9239475002560446, 0.3751137231718408, 0.3213921789877636, -0.2002731294404255, -0.9379523078809692, -2.1522008734306044, -1.7310940948390918, -0.7690761647133307, 0.004234155681897507, -0.11260128869010097, 1.9181462902658097, -0.9401663428780545, -1.3363608215513756, -0.22639256087185294, 0.7155052908004416, -1.1338296413529032, -0.20841361761860744, -0.07286227172045914, -2.176211386756295, -0.1331872306911424, -0.9621866079529249, -0.7728293504234989, 1.1385009996291466, 0.2303239773391668, 0.6862223372577602, 1.2344283937191503, 0.1827535990904871, 0.7466936520861805, -1.0113861106730668, 0.32537269389538903, -0.28578783920125933, -0.2771908139363303, -0.8426007184312503, -1.0136604444862443, -1.0926502428164986, -1.394012537051209, 0.9562305045130977, 1.6498602888552416, -0.19818376543622393, -0.773295121549228, -0.6767509387608813, 0.8707980460326364, 1.1639042320491528, 2.0957413891452807, 0.9916228249165744, 2.400768134822709, -2.276667491178643, -1.362397745087905, -0.7391063426887257, -0.9492832291230988, 0.019286027803951923, -0.28058552398171427, -0.7973643592189733, 1.4716940291363256, 0.4726451283358121, -0.7051955600320536, -0.9440260816754585, -0.10268855991288471, 0.36328307262861687, -0.24816233188176445, -0.3914077639390221, -0.48032188714765445, 0.34907300266111085, -0.5263309922419579, 0.3451183917992562, 1.0013016690120522, 0.08437513595097418, -0.08473777899015635, -0.9323953122796237, 0.8202701216036823, -0.4578073639707513, -0.6382506735827904, 1.6413403887559652, 1.1406964008874994, 0.8281331373368289, -0.9501903284973356, -0.9043844858355756, 1.6905305998964446, 0.39251270554655227, -0.45842216078687764, -0.5287645291442242, 0.16658554453340715, 0.33028663295232485, 0.0806777046955102, -1.8144761645876817, 0.569150440390842, -0.25901109428391583, -1.7715535579309254, 1.093822426256376, 0.5404693935559389, -0.16210350511084323, 0.01952070876786433, -1.9389851864227314, 0.16068054996825953, -0.6290895779679284, 1.049212658753759, 0.18240196622299806, -0.38049619934715684, -0.24130247827164875, -0.5949027629607959], \"yaxis\": \"y12\"}, {\"line\": {\"color\": \"rgba(128, 128, 128, 1.0)\", \"dash\": \"solid\", \"shape\": \"linear\", \"width\": 1.3}, \"marker\": {\"size\": 2, \"symbol\": \"circle\"}, \"mode\": \"markers\", \"name\": \"D\", \"text\": \"\", \"type\": \"scatter\", \"x\": [1.9758519900934104, -0.5143221233456489, -0.1582030966787379, -0.5114390014664738, 0.515811900694426, -0.3617127909781959, 0.8213800009504084, 0.9263759553965216, 0.8463773240249822, -1.550823625797956, -1.1196680523219449, -1.3720152085677328, 0.993215756870461, -0.2947213227426147, 0.3891428636616671, -0.6037512014034268, 0.2963029032682522, 1.2997150136493418, 0.5457748329459221, -1.1120549861777493, -1.3901568455907765, 0.5378903545113346, -0.021807045234015447, 1.523230437046832, -0.38997725066553474, 0.2543225692799485, 0.2795531219081177, -1.8873761705874288, -0.5358770884120846, -0.13041613392353707, -0.4846026362616904, 0.1968461287525519, -0.9359976466832249, 1.15241006171264, -0.28811501136423917, 0.22158451906649376, -1.792787390527634, -1.1151847185475674, 0.2999968484132656, -0.8410432469367217, 0.9870416043456087, -0.5881425626152607, -0.5703765600397165, -0.6803726993143193, 0.3216170210237273, 0.7556227727364897, 0.5360754027842475, 0.613389511563585, 0.22565749295090093, 0.08365976731257571, 0.1033919609885569, 1.2438889145118528, 0.8461128057749727, -0.23096828694979957, -0.12408711033791694, -1.1657940200430517, -0.2434783345014043, -1.199120831961396, 1.4715404125351348, 0.2803547207916868, -0.26987496653419035, -1.752600192059749, -0.11232400010667294, 1.6307595591341888, 0.7361119323933746, 1.0046027671180844, -1.1061416883584818, 0.5486042763497647, 1.0300528549918395, -1.1009445751792122, 1.0237198785638675, 2.3349677555956436, 0.7779690393786323, -1.123924959679506, 0.17460525043824449, 0.22201343894598982, -0.2906223833332785, 0.5558148800636564, -0.4697349000963517, 0.7246304134527143, -0.04523217356888744, -0.38848741703370726, 0.5468817495156351, -0.9168752710950892, 0.7994257334532495, 0.9192035844449936, -0.002662870365699749, 1.3981786261876747, -1.510668319049373, 0.40377071643147383, 0.1537412737152171, 0.32491684836283985, -2.027833581141001, 0.5312754157391999, -1.5124626744579268, 0.12768299722942447, -1.9988651993974935, 0.3620998287019383, 0.6454370926585403, 1.5131459553856328], \"xaxis\": \"x13\", \"y\": [0.13983859548612287, 0.468221344934841, -0.3655912385179084, 0.0028426141639563965, -1.2866675810136463, 1.8251802474502172, 1.3537927735151978, 0.030589539867225405, -0.41232369430866234, 0.1970748195818725, 0.25626148422482997, 1.6549151625359948, -1.4690654383966493, 1.0998415279033387, 1.4356475730359877, 2.089679085361465, 1.6311950137708888, 0.4907685997784432, 1.4070566610133248, -2.182971526682894, -0.33824460128366046, 0.6580983026884394, 1.690988198782726, 0.6804878081457141, 1.2838188100511365, -0.13754087996797532, 0.9029559561300816, -0.4314996403974591, -0.3684568099711757, 0.9126970404174501, -0.1921020240627544, -0.9366340343699328, 0.5430735446145215, -0.323485474841826, -0.45142608544148116, 1.2924944145509039, 1.154452495993761, -0.9932101913276365, -0.77926610057691, -0.2569662294035719, 0.9846860672528351, -0.6485632595117224, 1.7503239067403413, -0.45804018258783064, -0.3874030044656593, 1.2284148597403435, -1.5366620373899695, 0.07841497834603257, -1.1593881898153189, -0.609599549370757, 0.36140948822313346, -0.20106341353153323, -0.34464711667442166, 1.2041708208317796, 0.6326372279158136, 0.27129981128139, 0.630360944198581, 0.9110921582927479, -0.8250161327320401, 1.252233116341933, 0.47992952396365607, 0.30779893856006946, -0.17493309848738572, 2.2888471477419796, -2.3098292148873942, 1.68115786182939, 0.058481044581439906, -0.9000914909083304, -0.0917083416397356, 1.695902946001967, 0.4719227463212935, -2.1662694755736642, 0.07719035068792048, -0.27267314815742016, -0.06497460244050092, -0.09462209022908295, 0.9533127233372166, -1.077927505417031, -1.0273136240140048, -0.06497531551055151, -0.3652627094287969, -1.5025390382781547, -0.6511798689315315, -3.3300811422783063, -2.8148414055104287, 0.44538472127828194, 0.899733094460187, 1.5990229930275224, -0.2755633420552873, 0.4275679587812028, -1.8318752439950237, -0.27187603561335877, 0.4892489515431244, 1.4102618528205655, -1.0952051796329465, 0.6730615943406543, 0.2808828278013457, 0.12804230788245968, 1.0103653903498466, 0.48592236490986457], \"yaxis\": \"y13\"}, {\"line\": {\"color\": \"rgba(128, 128, 128, 1.0)\", \"dash\": \"solid\", \"shape\": \"linear\", \"width\": 1.3}, \"marker\": {\"size\": 2, \"symbol\": \"circle\"}, \"mode\": \"markers\", \"name\": \"D\", \"text\": \"\", \"type\": \"scatter\", \"x\": [0.5665382229248324, -0.5565063078433714, -0.8718681029275993, -1.398907936994333, 1.4219495489932097, 1.9610132506325109, 0.2518202894903014, -0.13417845181620516, -0.7622085723930692, 0.3919451171772081, 0.26630550068055336, 0.5892959076385756, -0.793505369555898, -0.11360818904203256, 0.04704884319419822, 0.711350622598875, -0.5045014847624979, 0.39897063453354453, 0.8350726088246634, -0.6067348615268908, 0.6018843560171192, -0.9750318086357168, -0.8111768417278923, 0.5865123052820451, -1.2682046206237232, 0.30538546233597064, 0.044060763848661415, 0.30091219086281756, 0.6356706795934935, -0.9290464938329864, 0.26665716907365966, 0.31376967389358773, 0.5230410509719929, -0.47564221228880077, -2.3544581053872924, 1.1631809227657774, 1.2446836192270323, 2.453657648153855, 2.0705079079433575, 1.1823046883956898, 0.1982523746639038, 0.022184968541608917, 0.5792157662111811, 1.6925589437987265, 1.6735491639361957, -0.6081796816698564, -0.654197528371815, 1.9948097814472088, 0.6452083653550553, -0.990864295108887, -1.3545582273408059, 0.5282668446491409, 0.740967616780742, -1.418069374141105, -0.5966689133434379, 0.23363166132097435, 0.8921390421200076, -0.7742498466221465, -0.31783128917578973, -0.04688838580674549, 0.26217113832692995, 0.1967788636582987, 0.08143712402768997, -0.8658789516841908, -0.08489955130735412, 1.6181102272592358, 1.2890470324485164, 0.7229560931164392, 0.46226052689936553, -0.8542194243135494, 0.5094739172634204, -0.5463175094424851, -1.0427681033876963, -1.5960614897359906, 1.2396016427276908, 2.3843745292528733, -0.6218403799730308, -1.7536232569773271, 1.4982683951615485, 1.541779113521374, -0.6370060447827084, -0.24446085397023756, -1.25169978102884, -1.601817214912354, -0.1842659662140935, -0.6653636755456144, 1.7050858145432017, -0.21035741890677045, -0.9178286109980154, -1.5767350284883654, 0.6049863670999431, 0.5707203254294333, -1.0937692620437585, 1.713111116881167, -0.5873802980984976, 0.44428845973412634, -0.05549793997215865, 1.5926275223590245, 0.8538677661840695, 0.21054373693698292], \"xaxis\": \"x14\", \"y\": [0.13983859548612287, 0.468221344934841, -0.3655912385179084, 0.0028426141639563965, -1.2866675810136463, 1.8251802474502172, 1.3537927735151978, 0.030589539867225405, -0.41232369430866234, 0.1970748195818725, 0.25626148422482997, 1.6549151625359948, -1.4690654383966493, 1.0998415279033387, 1.4356475730359877, 2.089679085361465, 1.6311950137708888, 0.4907685997784432, 1.4070566610133248, -2.182971526682894, -0.33824460128366046, 0.6580983026884394, 1.690988198782726, 0.6804878081457141, 1.2838188100511365, -0.13754087996797532, 0.9029559561300816, -0.4314996403974591, -0.3684568099711757, 0.9126970404174501, -0.1921020240627544, -0.9366340343699328, 0.5430735446145215, -0.323485474841826, -0.45142608544148116, 1.2924944145509039, 1.154452495993761, -0.9932101913276365, -0.77926610057691, -0.2569662294035719, 0.9846860672528351, -0.6485632595117224, 1.7503239067403413, -0.45804018258783064, -0.3874030044656593, 1.2284148597403435, -1.5366620373899695, 0.07841497834603257, -1.1593881898153189, -0.609599549370757, 0.36140948822313346, -0.20106341353153323, -0.34464711667442166, 1.2041708208317796, 0.6326372279158136, 0.27129981128139, 0.630360944198581, 0.9110921582927479, -0.8250161327320401, 1.252233116341933, 0.47992952396365607, 0.30779893856006946, -0.17493309848738572, 2.2888471477419796, -2.3098292148873942, 1.68115786182939, 0.058481044581439906, -0.9000914909083304, -0.0917083416397356, 1.695902946001967, 0.4719227463212935, -2.1662694755736642, 0.07719035068792048, -0.27267314815742016, -0.06497460244050092, -0.09462209022908295, 0.9533127233372166, -1.077927505417031, -1.0273136240140048, -0.06497531551055151, -0.3652627094287969, -1.5025390382781547, -0.6511798689315315, -3.3300811422783063, -2.8148414055104287, 0.44538472127828194, 0.899733094460187, 1.5990229930275224, -0.2755633420552873, 0.4275679587812028, -1.8318752439950237, -0.27187603561335877, 0.4892489515431244, 1.4102618528205655, -1.0952051796329465, 0.6730615943406543, 0.2808828278013457, 0.12804230788245968, 1.0103653903498466, 0.48592236490986457], \"yaxis\": \"y14\"}, {\"line\": {\"color\": \"rgba(128, 128, 128, 1.0)\", \"dash\": \"solid\", \"shape\": \"linear\", \"width\": 1.3}, \"marker\": {\"size\": 2, \"symbol\": \"circle\"}, \"mode\": \"markers\", \"name\": \"D\", \"text\": \"\", \"type\": \"scatter\", \"x\": [0.9239475002560446, 0.3751137231718408, 0.3213921789877636, -0.2002731294404255, -0.9379523078809692, -2.1522008734306044, -1.7310940948390918, -0.7690761647133307, 0.004234155681897507, -0.11260128869010097, 1.9181462902658097, -0.9401663428780545, -1.3363608215513756, -0.22639256087185294, 0.7155052908004416, -1.1338296413529032, -0.20841361761860744, -0.07286227172045914, -2.176211386756295, -0.1331872306911424, -0.9621866079529249, -0.7728293504234989, 1.1385009996291466, 0.2303239773391668, 0.6862223372577602, 1.2344283937191503, 0.1827535990904871, 0.7466936520861805, -1.0113861106730668, 0.32537269389538903, -0.28578783920125933, -0.2771908139363303, -0.8426007184312503, -1.0136604444862443, -1.0926502428164986, -1.394012537051209, 0.9562305045130977, 1.6498602888552416, -0.19818376543622393, -0.773295121549228, -0.6767509387608813, 0.8707980460326364, 1.1639042320491528, 2.0957413891452807, 0.9916228249165744, 2.400768134822709, -2.276667491178643, -1.362397745087905, -0.7391063426887257, -0.9492832291230988, 0.019286027803951923, -0.28058552398171427, -0.7973643592189733, 1.4716940291363256, 0.4726451283358121, -0.7051955600320536, -0.9440260816754585, -0.10268855991288471, 0.36328307262861687, -0.24816233188176445, -0.3914077639390221, -0.48032188714765445, 0.34907300266111085, -0.5263309922419579, 0.3451183917992562, 1.0013016690120522, 0.08437513595097418, -0.08473777899015635, -0.9323953122796237, 0.8202701216036823, -0.4578073639707513, -0.6382506735827904, 1.6413403887559652, 1.1406964008874994, 0.8281331373368289, -0.9501903284973356, -0.9043844858355756, 1.6905305998964446, 0.39251270554655227, -0.45842216078687764, -0.5287645291442242, 0.16658554453340715, 0.33028663295232485, 0.0806777046955102, -1.8144761645876817, 0.569150440390842, -0.25901109428391583, -1.7715535579309254, 1.093822426256376, 0.5404693935559389, -0.16210350511084323, 0.01952070876786433, -1.9389851864227314, 0.16068054996825953, -0.6290895779679284, 1.049212658753759, 0.18240196622299806, -0.38049619934715684, -0.24130247827164875, -0.5949027629607959], \"xaxis\": \"x15\", \"y\": [0.13983859548612287, 0.468221344934841, -0.3655912385179084, 0.0028426141639563965, -1.2866675810136463, 1.8251802474502172, 1.3537927735151978, 0.030589539867225405, -0.41232369430866234, 0.1970748195818725, 0.25626148422482997, 1.6549151625359948, -1.4690654383966493, 1.0998415279033387, 1.4356475730359877, 2.089679085361465, 1.6311950137708888, 0.4907685997784432, 1.4070566610133248, -2.182971526682894, -0.33824460128366046, 0.6580983026884394, 1.690988198782726, 0.6804878081457141, 1.2838188100511365, -0.13754087996797532, 0.9029559561300816, -0.4314996403974591, -0.3684568099711757, 0.9126970404174501, -0.1921020240627544, -0.9366340343699328, 0.5430735446145215, -0.323485474841826, -0.45142608544148116, 1.2924944145509039, 1.154452495993761, -0.9932101913276365, -0.77926610057691, -0.2569662294035719, 0.9846860672528351, -0.6485632595117224, 1.7503239067403413, -0.45804018258783064, -0.3874030044656593, 1.2284148597403435, -1.5366620373899695, 0.07841497834603257, -1.1593881898153189, -0.609599549370757, 0.36140948822313346, -0.20106341353153323, -0.34464711667442166, 1.2041708208317796, 0.6326372279158136, 0.27129981128139, 0.630360944198581, 0.9110921582927479, -0.8250161327320401, 1.252233116341933, 0.47992952396365607, 0.30779893856006946, -0.17493309848738572, 2.2888471477419796, -2.3098292148873942, 1.68115786182939, 0.058481044581439906, -0.9000914909083304, -0.0917083416397356, 1.695902946001967, 0.4719227463212935, -2.1662694755736642, 0.07719035068792048, -0.27267314815742016, -0.06497460244050092, -0.09462209022908295, 0.9533127233372166, -1.077927505417031, -1.0273136240140048, -0.06497531551055151, -0.3652627094287969, -1.5025390382781547, -0.6511798689315315, -3.3300811422783063, -2.8148414055104287, 0.44538472127828194, 0.899733094460187, 1.5990229930275224, -0.2755633420552873, 0.4275679587812028, -1.8318752439950237, -0.27187603561335877, 0.4892489515431244, 1.4102618528205655, -1.0952051796329465, 0.6730615943406543, 0.2808828278013457, 0.12804230788245968, 1.0103653903498466, 0.48592236490986457], \"yaxis\": \"y15\"}, {\"histfunc\": \"count\", \"histnorm\": \"\", \"marker\": {\"color\": \"rgba(128, 0, 128, 1.0)\", \"line\": {\"color\": \"#4D5663\", \"width\": 1.3}}, \"name\": \"D\", \"nbinsx\": 10, \"opacity\": 0.8, \"orientation\": \"v\", \"type\": \"histogram\", \"x\": [0.13983859548612287, 0.468221344934841, -0.3655912385179084, 0.0028426141639563965, -1.2866675810136463, 1.8251802474502172, 1.3537927735151978, 0.030589539867225405, -0.41232369430866234, 0.1970748195818725, 0.25626148422482997, 1.6549151625359948, -1.4690654383966493, 1.0998415279033387, 1.4356475730359877, 2.089679085361465, 1.6311950137708888, 0.4907685997784432, 1.4070566610133248, -2.182971526682894, -0.33824460128366046, 0.6580983026884394, 1.690988198782726, 0.6804878081457141, 1.2838188100511365, -0.13754087996797532, 0.9029559561300816, -0.4314996403974591, -0.3684568099711757, 0.9126970404174501, -0.1921020240627544, -0.9366340343699328, 0.5430735446145215, -0.323485474841826, -0.45142608544148116, 1.2924944145509039, 1.154452495993761, -0.9932101913276365, -0.77926610057691, -0.2569662294035719, 0.9846860672528351, -0.6485632595117224, 1.7503239067403413, -0.45804018258783064, -0.3874030044656593, 1.2284148597403435, -1.5366620373899695, 0.07841497834603257, -1.1593881898153189, -0.609599549370757, 0.36140948822313346, -0.20106341353153323, -0.34464711667442166, 1.2041708208317796, 0.6326372279158136, 0.27129981128139, 0.630360944198581, 0.9110921582927479, -0.8250161327320401, 1.252233116341933, 0.47992952396365607, 0.30779893856006946, -0.17493309848738572, 2.2888471477419796, -2.3098292148873942, 1.68115786182939, 0.058481044581439906, -0.9000914909083304, -0.0917083416397356, 1.695902946001967, 0.4719227463212935, -2.1662694755736642, 0.07719035068792048, -0.27267314815742016, -0.06497460244050092, -0.09462209022908295, 0.9533127233372166, -1.077927505417031, -1.0273136240140048, -0.06497531551055151, -0.3652627094287969, -1.5025390382781547, -0.6511798689315315, -3.3300811422783063, -2.8148414055104287, 0.44538472127828194, 0.899733094460187, 1.5990229930275224, -0.2755633420552873, 0.4275679587812028, -1.8318752439950237, -0.27187603561335877, 0.4892489515431244, 1.4102618528205655, -1.0952051796329465, 0.6730615943406543, 0.2808828278013457, 0.12804230788245968, 1.0103653903498466, 0.48592236490986457], \"xaxis\": \"x16\", \"yaxis\": \"y16\"}],\n",
       "                        {\"bargap\": 0.02, \"legend\": {\"bgcolor\": \"#F5F6F9\", \"font\": {\"color\": \"#4D5663\"}}, \"paper_bgcolor\": \"#F5F6F9\", \"plot_bgcolor\": \"#F5F6F9\", \"showlegend\": false, \"template\": {\"data\": {\"bar\": [{\"error_x\": {\"color\": \"#2a3f5f\"}, \"error_y\": {\"color\": \"#2a3f5f\"}, \"marker\": {\"line\": {\"color\": \"#E5ECF6\", \"width\": 0.5}}, \"type\": \"bar\"}], \"barpolar\": [{\"marker\": {\"line\": {\"color\": \"#E5ECF6\", \"width\": 0.5}}, \"type\": \"barpolar\"}], \"carpet\": [{\"aaxis\": {\"endlinecolor\": \"#2a3f5f\", \"gridcolor\": \"white\", \"linecolor\": \"white\", \"minorgridcolor\": \"white\", \"startlinecolor\": \"#2a3f5f\"}, \"baxis\": {\"endlinecolor\": \"#2a3f5f\", \"gridcolor\": \"white\", \"linecolor\": \"white\", \"minorgridcolor\": \"white\", \"startlinecolor\": \"#2a3f5f\"}, \"type\": \"carpet\"}], \"choropleth\": [{\"colorbar\": {\"outlinewidth\": 0, \"ticks\": \"\"}, \"type\": \"choropleth\"}], \"contour\": [{\"colorbar\": {\"outlinewidth\": 0, \"ticks\": \"\"}, \"colorscale\": [[0.0, \"#0d0887\"], [0.1111111111111111, \"#46039f\"], [0.2222222222222222, \"#7201a8\"], [0.3333333333333333, \"#9c179e\"], [0.4444444444444444, \"#bd3786\"], [0.5555555555555556, \"#d8576b\"], [0.6666666666666666, \"#ed7953\"], [0.7777777777777778, \"#fb9f3a\"], [0.8888888888888888, \"#fdca26\"], [1.0, \"#f0f921\"]], \"type\": \"contour\"}], \"contourcarpet\": [{\"colorbar\": {\"outlinewidth\": 0, \"ticks\": \"\"}, \"type\": \"contourcarpet\"}], \"heatmap\": [{\"colorbar\": {\"outlinewidth\": 0, \"ticks\": \"\"}, \"colorscale\": [[0.0, \"#0d0887\"], [0.1111111111111111, \"#46039f\"], [0.2222222222222222, \"#7201a8\"], [0.3333333333333333, \"#9c179e\"], [0.4444444444444444, \"#bd3786\"], [0.5555555555555556, \"#d8576b\"], [0.6666666666666666, \"#ed7953\"], [0.7777777777777778, \"#fb9f3a\"], [0.8888888888888888, \"#fdca26\"], [1.0, \"#f0f921\"]], \"type\": \"heatmap\"}], \"heatmapgl\": [{\"colorbar\": {\"outlinewidth\": 0, \"ticks\": \"\"}, \"colorscale\": [[0.0, \"#0d0887\"], [0.1111111111111111, \"#46039f\"], [0.2222222222222222, \"#7201a8\"], [0.3333333333333333, \"#9c179e\"], [0.4444444444444444, \"#bd3786\"], [0.5555555555555556, \"#d8576b\"], [0.6666666666666666, \"#ed7953\"], [0.7777777777777778, \"#fb9f3a\"], [0.8888888888888888, \"#fdca26\"], [1.0, \"#f0f921\"]], \"type\": \"heatmapgl\"}], \"histogram\": [{\"marker\": {\"colorbar\": {\"outlinewidth\": 0, \"ticks\": \"\"}}, \"type\": \"histogram\"}], \"histogram2d\": [{\"colorbar\": {\"outlinewidth\": 0, \"ticks\": \"\"}, \"colorscale\": [[0.0, \"#0d0887\"], [0.1111111111111111, \"#46039f\"], [0.2222222222222222, \"#7201a8\"], [0.3333333333333333, \"#9c179e\"], [0.4444444444444444, \"#bd3786\"], [0.5555555555555556, \"#d8576b\"], [0.6666666666666666, \"#ed7953\"], [0.7777777777777778, \"#fb9f3a\"], [0.8888888888888888, \"#fdca26\"], [1.0, \"#f0f921\"]], \"type\": \"histogram2d\"}], \"histogram2dcontour\": [{\"colorbar\": {\"outlinewidth\": 0, \"ticks\": \"\"}, \"colorscale\": [[0.0, \"#0d0887\"], [0.1111111111111111, \"#46039f\"], [0.2222222222222222, \"#7201a8\"], [0.3333333333333333, \"#9c179e\"], [0.4444444444444444, \"#bd3786\"], [0.5555555555555556, \"#d8576b\"], [0.6666666666666666, \"#ed7953\"], [0.7777777777777778, \"#fb9f3a\"], [0.8888888888888888, \"#fdca26\"], [1.0, \"#f0f921\"]], \"type\": \"histogram2dcontour\"}], \"mesh3d\": [{\"colorbar\": {\"outlinewidth\": 0, \"ticks\": \"\"}, \"type\": \"mesh3d\"}], \"parcoords\": [{\"line\": {\"colorbar\": {\"outlinewidth\": 0, \"ticks\": \"\"}}, \"type\": \"parcoords\"}], \"pie\": [{\"automargin\": true, \"type\": \"pie\"}], \"scatter\": [{\"marker\": {\"colorbar\": {\"outlinewidth\": 0, \"ticks\": \"\"}}, \"type\": \"scatter\"}], \"scatter3d\": [{\"line\": {\"colorbar\": {\"outlinewidth\": 0, \"ticks\": \"\"}}, \"marker\": {\"colorbar\": {\"outlinewidth\": 0, \"ticks\": \"\"}}, \"type\": \"scatter3d\"}], \"scattercarpet\": [{\"marker\": {\"colorbar\": {\"outlinewidth\": 0, \"ticks\": \"\"}}, \"type\": \"scattercarpet\"}], \"scattergeo\": [{\"marker\": {\"colorbar\": {\"outlinewidth\": 0, \"ticks\": \"\"}}, \"type\": \"scattergeo\"}], \"scattergl\": [{\"marker\": {\"colorbar\": {\"outlinewidth\": 0, \"ticks\": \"\"}}, \"type\": \"scattergl\"}], \"scattermapbox\": [{\"marker\": {\"colorbar\": {\"outlinewidth\": 0, \"ticks\": \"\"}}, \"type\": \"scattermapbox\"}], \"scatterpolar\": [{\"marker\": {\"colorbar\": {\"outlinewidth\": 0, \"ticks\": \"\"}}, \"type\": \"scatterpolar\"}], \"scatterpolargl\": [{\"marker\": {\"colorbar\": {\"outlinewidth\": 0, \"ticks\": \"\"}}, \"type\": \"scatterpolargl\"}], \"scatterternary\": [{\"marker\": {\"colorbar\": {\"outlinewidth\": 0, \"ticks\": \"\"}}, \"type\": \"scatterternary\"}], \"surface\": [{\"colorbar\": {\"outlinewidth\": 0, \"ticks\": \"\"}, \"colorscale\": [[0.0, \"#0d0887\"], [0.1111111111111111, \"#46039f\"], [0.2222222222222222, \"#7201a8\"], [0.3333333333333333, \"#9c179e\"], [0.4444444444444444, \"#bd3786\"], [0.5555555555555556, \"#d8576b\"], [0.6666666666666666, \"#ed7953\"], [0.7777777777777778, \"#fb9f3a\"], [0.8888888888888888, \"#fdca26\"], [1.0, \"#f0f921\"]], \"type\": \"surface\"}], \"table\": [{\"cells\": {\"fill\": {\"color\": \"#EBF0F8\"}, \"line\": {\"color\": \"white\"}}, \"header\": {\"fill\": {\"color\": \"#C8D4E3\"}, \"line\": {\"color\": \"white\"}}, \"type\": \"table\"}]}, \"layout\": {\"annotationdefaults\": {\"arrowcolor\": \"#2a3f5f\", \"arrowhead\": 0, \"arrowwidth\": 1}, \"coloraxis\": {\"colorbar\": {\"outlinewidth\": 0, \"ticks\": \"\"}}, \"colorscale\": {\"diverging\": [[0, \"#8e0152\"], [0.1, \"#c51b7d\"], [0.2, \"#de77ae\"], [0.3, \"#f1b6da\"], [0.4, \"#fde0ef\"], [0.5, \"#f7f7f7\"], [0.6, \"#e6f5d0\"], [0.7, \"#b8e186\"], [0.8, \"#7fbc41\"], [0.9, \"#4d9221\"], [1, \"#276419\"]], \"sequential\": [[0.0, \"#0d0887\"], [0.1111111111111111, \"#46039f\"], [0.2222222222222222, \"#7201a8\"], [0.3333333333333333, \"#9c179e\"], [0.4444444444444444, \"#bd3786\"], [0.5555555555555556, \"#d8576b\"], [0.6666666666666666, \"#ed7953\"], [0.7777777777777778, \"#fb9f3a\"], [0.8888888888888888, \"#fdca26\"], [1.0, \"#f0f921\"]], \"sequentialminus\": [[0.0, \"#0d0887\"], [0.1111111111111111, \"#46039f\"], [0.2222222222222222, \"#7201a8\"], [0.3333333333333333, \"#9c179e\"], [0.4444444444444444, \"#bd3786\"], [0.5555555555555556, \"#d8576b\"], [0.6666666666666666, \"#ed7953\"], [0.7777777777777778, \"#fb9f3a\"], [0.8888888888888888, \"#fdca26\"], [1.0, \"#f0f921\"]]}, \"colorway\": [\"#636efa\", \"#EF553B\", \"#00cc96\", \"#ab63fa\", \"#FFA15A\", \"#19d3f3\", \"#FF6692\", \"#B6E880\", \"#FF97FF\", \"#FECB52\"], \"font\": {\"color\": \"#2a3f5f\"}, \"geo\": {\"bgcolor\": \"white\", \"lakecolor\": \"white\", \"landcolor\": \"#E5ECF6\", \"showlakes\": true, \"showland\": true, \"subunitcolor\": \"white\"}, \"hoverlabel\": {\"align\": \"left\"}, \"hovermode\": \"closest\", \"mapbox\": {\"style\": \"light\"}, \"paper_bgcolor\": \"white\", \"plot_bgcolor\": \"#E5ECF6\", \"polar\": {\"angularaxis\": {\"gridcolor\": \"white\", \"linecolor\": \"white\", \"ticks\": \"\"}, \"bgcolor\": \"#E5ECF6\", \"radialaxis\": {\"gridcolor\": \"white\", \"linecolor\": \"white\", \"ticks\": \"\"}}, \"scene\": {\"xaxis\": {\"backgroundcolor\": \"#E5ECF6\", \"gridcolor\": \"white\", \"gridwidth\": 2, \"linecolor\": \"white\", \"showbackground\": true, \"ticks\": \"\", \"zerolinecolor\": \"white\"}, \"yaxis\": {\"backgroundcolor\": \"#E5ECF6\", \"gridcolor\": \"white\", \"gridwidth\": 2, \"linecolor\": \"white\", \"showbackground\": true, \"ticks\": \"\", \"zerolinecolor\": \"white\"}, \"zaxis\": {\"backgroundcolor\": \"#E5ECF6\", \"gridcolor\": \"white\", \"gridwidth\": 2, \"linecolor\": \"white\", \"showbackground\": true, \"ticks\": \"\", \"zerolinecolor\": \"white\"}}, \"shapedefaults\": {\"line\": {\"color\": \"#2a3f5f\"}}, \"ternary\": {\"aaxis\": {\"gridcolor\": \"white\", \"linecolor\": \"white\", \"ticks\": \"\"}, \"baxis\": {\"gridcolor\": \"white\", \"linecolor\": \"white\", \"ticks\": \"\"}, \"bgcolor\": \"#E5ECF6\", \"caxis\": {\"gridcolor\": \"white\", \"linecolor\": \"white\", \"ticks\": \"\"}}, \"title\": {\"x\": 0.05}, \"xaxis\": {\"automargin\": true, \"gridcolor\": \"white\", \"linecolor\": \"white\", \"ticks\": \"\", \"title\": {\"standoff\": 15}, \"zerolinecolor\": \"white\", \"zerolinewidth\": 2}, \"yaxis\": {\"automargin\": true, \"gridcolor\": \"white\", \"linecolor\": \"white\", \"ticks\": \"\", \"title\": {\"standoff\": 15}, \"zerolinecolor\": \"white\", \"zerolinewidth\": 2}}}, \"title\": {\"font\": {\"color\": \"#4D5663\"}}, \"xaxis\": {\"anchor\": \"y\", \"domain\": [0.0, 0.2125], \"gridcolor\": \"#E1E5ED\", \"showgrid\": false, \"tickfont\": {\"color\": \"#4D5663\"}, \"title\": {\"font\": {\"color\": \"#4D5663\"}, \"text\": \"\"}, \"zerolinecolor\": \"#E1E5ED\"}, \"xaxis10\": {\"anchor\": \"y10\", \"domain\": [0.2625, 0.475], \"gridcolor\": \"#E1E5ED\", \"showgrid\": false, \"tickfont\": {\"color\": \"#4D5663\"}, \"title\": {\"font\": {\"color\": \"#4D5663\"}, \"text\": \"\"}, \"zerolinecolor\": \"#E1E5ED\"}, \"xaxis11\": {\"anchor\": \"y11\", \"domain\": [0.525, 0.7375], \"gridcolor\": \"#E1E5ED\", \"showgrid\": false, \"tickfont\": {\"color\": \"#4D5663\"}, \"title\": {\"font\": {\"color\": \"#4D5663\"}, \"text\": \"\"}, \"zerolinecolor\": \"#E1E5ED\"}, \"xaxis12\": {\"anchor\": \"y12\", \"domain\": [0.7875, 1.0], \"gridcolor\": \"#E1E5ED\", \"showgrid\": false, \"tickfont\": {\"color\": \"#4D5663\"}, \"title\": {\"font\": {\"color\": \"#4D5663\"}, \"text\": \"\"}, \"zerolinecolor\": \"#E1E5ED\"}, \"xaxis13\": {\"anchor\": \"y13\", \"domain\": [0.0, 0.2125], \"gridcolor\": \"#E1E5ED\", \"showgrid\": false, \"tickfont\": {\"color\": \"#4D5663\"}, \"title\": {\"font\": {\"color\": \"#4D5663\"}, \"text\": \"\"}, \"zerolinecolor\": \"#E1E5ED\"}, \"xaxis14\": {\"anchor\": \"y14\", \"domain\": [0.2625, 0.475], \"gridcolor\": \"#E1E5ED\", \"showgrid\": false, \"tickfont\": {\"color\": \"#4D5663\"}, \"title\": {\"font\": {\"color\": \"#4D5663\"}, \"text\": \"\"}, \"zerolinecolor\": \"#E1E5ED\"}, \"xaxis15\": {\"anchor\": \"y15\", \"domain\": [0.525, 0.7375], \"gridcolor\": \"#E1E5ED\", \"showgrid\": false, \"tickfont\": {\"color\": \"#4D5663\"}, \"title\": {\"font\": {\"color\": \"#4D5663\"}, \"text\": \"\"}, \"zerolinecolor\": \"#E1E5ED\"}, \"xaxis16\": {\"anchor\": \"y16\", \"domain\": [0.7875, 1.0], \"gridcolor\": \"#E1E5ED\", \"showgrid\": false, \"tickfont\": {\"color\": \"#4D5663\"}, \"title\": {\"font\": {\"color\": \"#4D5663\"}, \"text\": \"\"}, \"zerolinecolor\": \"#E1E5ED\"}, \"xaxis2\": {\"anchor\": \"y2\", \"domain\": [0.2625, 0.475], \"gridcolor\": \"#E1E5ED\", \"showgrid\": false, \"tickfont\": {\"color\": \"#4D5663\"}, \"title\": {\"font\": {\"color\": \"#4D5663\"}, \"text\": \"\"}, \"zerolinecolor\": \"#E1E5ED\"}, \"xaxis3\": {\"anchor\": \"y3\", \"domain\": [0.525, 0.7375], \"gridcolor\": \"#E1E5ED\", \"showgrid\": false, \"tickfont\": {\"color\": \"#4D5663\"}, \"title\": {\"font\": {\"color\": \"#4D5663\"}, \"text\": \"\"}, \"zerolinecolor\": \"#E1E5ED\"}, \"xaxis4\": {\"anchor\": \"y4\", \"domain\": [0.7875, 1.0], \"gridcolor\": \"#E1E5ED\", \"showgrid\": false, \"tickfont\": {\"color\": \"#4D5663\"}, \"title\": {\"font\": {\"color\": \"#4D5663\"}, \"text\": \"\"}, \"zerolinecolor\": \"#E1E5ED\"}, \"xaxis5\": {\"anchor\": \"y5\", \"domain\": [0.0, 0.2125], \"gridcolor\": \"#E1E5ED\", \"showgrid\": false, \"tickfont\": {\"color\": \"#4D5663\"}, \"title\": {\"font\": {\"color\": \"#4D5663\"}, \"text\": \"\"}, \"zerolinecolor\": \"#E1E5ED\"}, \"xaxis6\": {\"anchor\": \"y6\", \"domain\": [0.2625, 0.475], \"gridcolor\": \"#E1E5ED\", \"showgrid\": false, \"tickfont\": {\"color\": \"#4D5663\"}, \"title\": {\"font\": {\"color\": \"#4D5663\"}, \"text\": \"\"}, \"zerolinecolor\": \"#E1E5ED\"}, \"xaxis7\": {\"anchor\": \"y7\", \"domain\": [0.525, 0.7375], \"gridcolor\": \"#E1E5ED\", \"showgrid\": false, \"tickfont\": {\"color\": \"#4D5663\"}, \"title\": {\"font\": {\"color\": \"#4D5663\"}, \"text\": \"\"}, \"zerolinecolor\": \"#E1E5ED\"}, \"xaxis8\": {\"anchor\": \"y8\", \"domain\": [0.7875, 1.0], \"gridcolor\": \"#E1E5ED\", \"showgrid\": false, \"tickfont\": {\"color\": \"#4D5663\"}, \"title\": {\"font\": {\"color\": \"#4D5663\"}, \"text\": \"\"}, \"zerolinecolor\": \"#E1E5ED\"}, \"xaxis9\": {\"anchor\": \"y9\", \"domain\": [0.0, 0.2125], \"gridcolor\": \"#E1E5ED\", \"showgrid\": false, \"tickfont\": {\"color\": \"#4D5663\"}, \"title\": {\"font\": {\"color\": \"#4D5663\"}, \"text\": \"\"}, \"zerolinecolor\": \"#E1E5ED\"}, \"yaxis\": {\"anchor\": \"x\", \"domain\": [0.8025, 1.0], \"gridcolor\": \"#E1E5ED\", \"showgrid\": false, \"tickfont\": {\"color\": \"#4D5663\"}, \"title\": {\"font\": {\"color\": \"#4D5663\"}, \"text\": \"\"}, \"zerolinecolor\": \"#E1E5ED\"}, \"yaxis10\": {\"anchor\": \"x10\", \"domain\": [0.2675, 0.465], \"gridcolor\": \"#E1E5ED\", \"showgrid\": false, \"tickfont\": {\"color\": \"#4D5663\"}, \"title\": {\"font\": {\"color\": \"#4D5663\"}, \"text\": \"\"}, \"zerolinecolor\": \"#E1E5ED\"}, \"yaxis11\": {\"anchor\": \"x11\", \"domain\": [0.2675, 0.465], \"gridcolor\": \"#E1E5ED\", \"showgrid\": false, \"tickfont\": {\"color\": \"#4D5663\"}, \"title\": {\"font\": {\"color\": \"#4D5663\"}, \"text\": \"\"}, \"zerolinecolor\": \"#E1E5ED\"}, \"yaxis12\": {\"anchor\": \"x12\", \"domain\": [0.2675, 0.465], \"gridcolor\": \"#E1E5ED\", \"showgrid\": false, \"tickfont\": {\"color\": \"#4D5663\"}, \"title\": {\"font\": {\"color\": \"#4D5663\"}, \"text\": \"\"}, \"zerolinecolor\": \"#E1E5ED\"}, \"yaxis13\": {\"anchor\": \"x13\", \"domain\": [0.0, 0.1975], \"gridcolor\": \"#E1E5ED\", \"showgrid\": false, \"tickfont\": {\"color\": \"#4D5663\"}, \"title\": {\"font\": {\"color\": \"#4D5663\"}, \"text\": \"\"}, \"zerolinecolor\": \"#E1E5ED\"}, \"yaxis14\": {\"anchor\": \"x14\", \"domain\": [0.0, 0.1975], \"gridcolor\": \"#E1E5ED\", \"showgrid\": false, \"tickfont\": {\"color\": \"#4D5663\"}, \"title\": {\"font\": {\"color\": \"#4D5663\"}, \"text\": \"\"}, \"zerolinecolor\": \"#E1E5ED\"}, \"yaxis15\": {\"anchor\": \"x15\", \"domain\": [0.0, 0.1975], \"gridcolor\": \"#E1E5ED\", \"showgrid\": false, \"tickfont\": {\"color\": \"#4D5663\"}, \"title\": {\"font\": {\"color\": \"#4D5663\"}, \"text\": \"\"}, \"zerolinecolor\": \"#E1E5ED\"}, \"yaxis16\": {\"anchor\": \"x16\", \"domain\": [0.0, 0.1975], \"gridcolor\": \"#E1E5ED\", \"showgrid\": false, \"tickfont\": {\"color\": \"#4D5663\"}, \"title\": {\"font\": {\"color\": \"#4D5663\"}, \"text\": \"\"}, \"zerolinecolor\": \"#E1E5ED\"}, \"yaxis2\": {\"anchor\": \"x2\", \"domain\": [0.8025, 1.0], \"gridcolor\": \"#E1E5ED\", \"showgrid\": false, \"tickfont\": {\"color\": \"#4D5663\"}, \"title\": {\"font\": {\"color\": \"#4D5663\"}, \"text\": \"\"}, \"zerolinecolor\": \"#E1E5ED\"}, \"yaxis3\": {\"anchor\": \"x3\", \"domain\": [0.8025, 1.0], \"gridcolor\": \"#E1E5ED\", \"showgrid\": false, \"tickfont\": {\"color\": \"#4D5663\"}, \"title\": {\"font\": {\"color\": \"#4D5663\"}, \"text\": \"\"}, \"zerolinecolor\": \"#E1E5ED\"}, \"yaxis4\": {\"anchor\": \"x4\", \"domain\": [0.8025, 1.0], \"gridcolor\": \"#E1E5ED\", \"showgrid\": false, \"tickfont\": {\"color\": \"#4D5663\"}, \"title\": {\"font\": {\"color\": \"#4D5663\"}, \"text\": \"\"}, \"zerolinecolor\": \"#E1E5ED\"}, \"yaxis5\": {\"anchor\": \"x5\", \"domain\": [0.535, 0.7325], \"gridcolor\": \"#E1E5ED\", \"showgrid\": false, \"tickfont\": {\"color\": \"#4D5663\"}, \"title\": {\"font\": {\"color\": \"#4D5663\"}, \"text\": \"\"}, \"zerolinecolor\": \"#E1E5ED\"}, \"yaxis6\": {\"anchor\": \"x6\", \"domain\": [0.535, 0.7325], \"gridcolor\": \"#E1E5ED\", \"showgrid\": false, \"tickfont\": {\"color\": \"#4D5663\"}, \"title\": {\"font\": {\"color\": \"#4D5663\"}, \"text\": \"\"}, \"zerolinecolor\": \"#E1E5ED\"}, \"yaxis7\": {\"anchor\": \"x7\", \"domain\": [0.535, 0.7325], \"gridcolor\": \"#E1E5ED\", \"showgrid\": false, \"tickfont\": {\"color\": \"#4D5663\"}, \"title\": {\"font\": {\"color\": \"#4D5663\"}, \"text\": \"\"}, \"zerolinecolor\": \"#E1E5ED\"}, \"yaxis8\": {\"anchor\": \"x8\", \"domain\": [0.535, 0.7325], \"gridcolor\": \"#E1E5ED\", \"showgrid\": false, \"tickfont\": {\"color\": \"#4D5663\"}, \"title\": {\"font\": {\"color\": \"#4D5663\"}, \"text\": \"\"}, \"zerolinecolor\": \"#E1E5ED\"}, \"yaxis9\": {\"anchor\": \"x9\", \"domain\": [0.2675, 0.465], \"gridcolor\": \"#E1E5ED\", \"showgrid\": false, \"tickfont\": {\"color\": \"#4D5663\"}, \"title\": {\"font\": {\"color\": \"#4D5663\"}, \"text\": \"\"}, \"zerolinecolor\": \"#E1E5ED\"}},\n",
       "                        {\"showLink\": true, \"linkText\": \"Export to plot.ly\", \"plotlyServerURL\": \"https://plot.ly\", \"responsive\": true}\n",
       "                    ).then(function(){\n",
       "                            \n",
       "var gd = document.getElementById('e694d3d3-cc84-487b-a43a-c8c3163d38e9');\n",
       "var x = new MutationObserver(function (mutations, observer) {{\n",
       "        var display = window.getComputedStyle(gd).display;\n",
       "        if (!display || display === 'none') {{\n",
       "            console.log([gd, 'removed!']);\n",
       "            Plotly.purge(gd);\n",
       "            observer.disconnect();\n",
       "        }}\n",
       "}});\n",
       "\n",
       "// Listen for the removal of the full notebook cells\n",
       "var notebookContainer = gd.closest('#notebook-container');\n",
       "if (notebookContainer) {{\n",
       "    x.observe(notebookContainer, {childList: true});\n",
       "}}\n",
       "\n",
       "// Listen for the clearing of the current output cell\n",
       "var outputEl = gd.closest('.output');\n",
       "if (outputEl) {{\n",
       "    x.observe(outputEl, {childList: true});\n",
       "}}\n",
       "\n",
       "                        })\n",
       "                };\n",
       "                });\n",
       "            </script>\n",
       "        </div>"
      ]
     },
     "metadata": {},
     "output_type": "display_data"
    }
   ],
   "source": [
    "df.scatter_matrix()"
   ]
  },
  {
   "cell_type": "markdown",
   "metadata": {
    "collapsed": true
   },
   "source": [
    "# Great Job!"
   ]
  }
 ],
 "metadata": {
  "kernelspec": {
   "display_name": "Python 3",
   "language": "python",
   "name": "python3"
  },
  "language_info": {
   "codemirror_mode": {
    "name": "ipython",
    "version": 3
   },
   "file_extension": ".py",
   "mimetype": "text/x-python",
   "name": "python",
   "nbconvert_exporter": "python",
   "pygments_lexer": "ipython3",
   "version": "3.7.4"
  }
 },
 "nbformat": 4,
 "nbformat_minor": 1
}
